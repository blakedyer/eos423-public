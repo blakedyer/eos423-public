{
 "cells": [
  {
   "cell_type": "markdown",
   "metadata": {},
   "source": [
    "## Imports"
   ]
  },
  {
   "cell_type": "code",
   "execution_count": 915,
   "metadata": {},
   "outputs": [],
   "source": [
    "from scipy.linalg import solve_banded\n",
    "from scipy.interpolate import interp1d\n",
    "import numpy as np\n",
    "from tqdm.notebook import tqdm #if you dont have tqdm type in your terminal: conda install -c conda-forge tqdm\n",
    "import matplotlib\n",
    "from matplotlib import pyplot as plt\n",
    "import seaborn as sns\n",
    "import matplotlib.cm as cm\n",
    "import time\n",
    "from scipy import signal\n",
    "from scipy.special import comb\n",
    "\n",
    "%matplotlib inline"
   ]
  },
  {
   "cell_type": "markdown",
   "metadata": {},
   "source": [
    "## Diffusion model and helper functions"
   ]
  },
  {
   "cell_type": "code",
   "execution_count": 535,
   "metadata": {},
   "outputs": [],
   "source": [
    "class Diffuse1D:\n",
    "    def __init__(self, length, spacing, tstep, left, right, K, sed_Q, no_flux_boundary=False):\n",
    "        self.x = np.arange(0, length, spacing)\n",
    "        self.u = (\n",
    "            left - self.x * (left - right) / length\n",
    "        )  # sets initial to steady state solution\n",
    "        N = self.x.size\n",
    "        self.K = K\n",
    "        self.dt = tstep\n",
    "        self.dx = spacing\n",
    "        self.time = 0\n",
    "        self.base_level_fun = interp1d([0, 1], [0, 0], bounds_error=False, fill_value=0)\n",
    "        self.base_level = self.base_level_fun(self.time)\n",
    "        self.sed_Q = sed_Q \n",
    "        self.left = left\n",
    "        self.right = right\n",
    "        self.r = self.K * (self.dt / (2 * self.dx ** 2))\n",
    "        self.no_flux_boundary = no_flux_boundary\n",
    "        \n",
    "        # initialize matrices A, B and b array\n",
    "        self.b = np.zeros((N))\n",
    "        self.b[0] = self.left * 2 * self.r\n",
    "        self.b[-1] = self.right * 2 * self.r\n",
    "        self.A = np.zeros((N, N))\n",
    "        self.B = np.zeros((N, N))\n",
    "\n",
    "        self.make_B(self.B, self.r)\n",
    "        self.A, self.A_inv = self.make_A(self.A, self.r)\n",
    "\n",
    "        self.coastline = 0\n",
    "        self.Q = np.zeros((N))\n",
    "        self.update_coastline()\n",
    "\n",
    "\n",
    "    def make_A(self, A, r):\n",
    "        l = [-r for i in range(1, A.shape[0] - 2)]\n",
    "        c = [1 + 2 * r for i in range(A.shape[0] - 2)]\n",
    "        u = [-r for i in range(A.shape[0] - 3)]\n",
    "        np.fill_diagonal(A[1:], u)\n",
    "        np.fill_diagonal(A[:, 1:], l)\n",
    "        np.fill_diagonal(A, c)\n",
    "        A_inv = np.linalg.inv(A)\n",
    "        return A, A_inv\n",
    "\n",
    "    def make_B(self, B, r):\n",
    "        l = [r for i in range(1, B.shape[0] - 2)]\n",
    "        c = [1 - 2 * r for i in range(B.shape[0] - 2)]\n",
    "        u = [r for i in range(B.shape[0] - 3)]\n",
    "        np.fill_diagonal(B[1:], u)\n",
    "        np.fill_diagonal(B[:, 1:], l)\n",
    "        np.fill_diagonal(B, c)\n",
    "        return B\n",
    "\n",
    "    def set_baselevel(self, time, rsl):\n",
    "        # can pass a set of paired time/rsl and model will interpolate for each dt\n",
    "        self.base_level_fun = interp1d(time, rsl)\n",
    "\n",
    "    def run_step(self):\n",
    "        if self.no_flux_boundary:\n",
    "            self.b[0] = self.u[0] * 2 * self.r\n",
    "            self.b[-1] = self.u[-1] * 2 * self.r\n",
    "        #         self.update_K()  # can disable if K is not changing with each t_step (ie as a function of elevation)\n",
    "        self.Q *= 0  # clearing any old sed flux terms\n",
    "        self.base_level = self.base_level_fun(self.time)  # update base level\n",
    "        if self.base_level>np.min(self.u):\n",
    "            self.update_coastline()  # select coastline point for sed flux\n",
    "            self.Q[self.coastline] += self.sed_Q/self.dx  # add sediment to the coastline\n",
    "        self.bb = (\n",
    "            self.B.dot(self.u) + self.b + self.dt * self.Q\n",
    "        )  # matrix addition\n",
    "        self.u = self.A_inv.dot(self.bb)\n",
    "        self.time += self.dt  # increment timestep        \n",
    "\n",
    "    def update_coastline(self):\n",
    "        # finds the first grid point below base level starting on the left hand side\n",
    "        try:\n",
    "            self.coastline = np.where(self.u < (self.base_level))[0][0]\n",
    "        except:\n",
    "            self.coastline = 1\n",
    "\n",
    "\n",
    "def sawtooth_wave(n, x):\n",
    "    y = np.zeros_like(x)\n",
    "    for k in range(1, n + 1):\n",
    "        y += (comb(2*n, n-k) / comb(2*n, n)) * ( np.sin(k*x) / k )\n",
    "    return y\n",
    "\n",
    "\n",
    "def get_strat_column(beds, age, rsl, loc, skip=1):\n",
    "    facies_limits = [0.5, -0.05, -.5, -1, -2, -2000]\n",
    "    facies_w = [a for a in [0.8, 0.6, 0.5, 0.4, 0.3, 0.2]]\n",
    "    facies_c = [\n",
    "        \"#ffb142\",  # \n",
    "        \"#33d9b2\",  # \n",
    "        \"#34ace0\",  # \n",
    "        \"#706fd3\",  # \n",
    "        \"#2c2c54\",  # \n",
    "        \"#84817a\",  #\n",
    "    ]   \n",
    "\n",
    "    strat = np.array(beds.copy())[::skip][:, loc]\n",
    "    time_strat = np.array(age.copy())[::skip]\n",
    "    rsl_strat = np.array(rsl.copy())[::skip]\n",
    "\n",
    "    for i in range(0, strat.size):\n",
    "        older = strat[:-i]\n",
    "        older_rsl = rsl_strat[:-i]\n",
    "        older[older > strat[-i]] = strat[-i]\n",
    "        older_rsl[older > strat[-i]] = strat[-i]\n",
    "        strat[:-i] = older\n",
    "        rsl_strat[:-i] = older_rsl\n",
    "        rsl_strat = np.array(rsl.copy())[::skip]\n",
    "\n",
    "    thicknesses = np.zeros(strat.shape[0])\n",
    "    heights = np.zeros(strat.shape[0])\n",
    "    \n",
    "    water_depths = rsl_strat-strat\n",
    "    facies = np.zeros(water_depths.size)\n",
    "    colors = np.zeros(water_depths.size).astype(str)\n",
    "    water_depths = -1 * water_depths\n",
    "\n",
    "    for j in range(len(facies_limits) - 1, -1, -1):\n",
    "        facies[water_depths > facies_limits[j]] = facies_w[j]\n",
    "        colors[water_depths > facies_limits[j]] = facies_c[j]\n",
    "\n",
    "        bed_facies = []\n",
    "        bed_top = []\n",
    "        bed_colors = []\n",
    "\n",
    "        changes = np.where(np.diff(facies) != 0)[0]\n",
    "        for c in [*changes, len(facies) - 1]:\n",
    "            bed_facies += [facies[c]]\n",
    "            bed_top += [strat[c]]\n",
    "            bed_colors += [colors[c]]\n",
    "\n",
    "        h = np.diff([np.min(strat), *bed_top])\n",
    "        bed_bottom=bed_top-h\n",
    "        \n",
    "    return (np.array(bed_facies).ravel(), \n",
    "            np.array(bed_bottom).ravel(), \n",
    "            np.array(h).ravel(), \n",
    "            np.array(bed_colors).ravel())\n",
    "\n",
    "def plot_column(bed_facies,bed_bottom,h,bed_colors,left=0):\n",
    "    plt.figure(figsize=(3,12))\n",
    "    plt.barh(\n",
    "        bed_bottom,\n",
    "        bed_facies,\n",
    "        height=h,\n",
    "        left=left,\n",
    "        color=bed_colors,\n",
    "        align=\"edge\",\n",
    "        lw=1,\n",
    "        edgecolor=(0.2, 0.2, 0.2),zorder=4\n",
    "    )"
   ]
  },
  {
   "cell_type": "markdown",
   "metadata": {},
   "source": [
    "## Initial conditions"
   ]
  },
  {
   "cell_type": "code",
   "execution_count": 906,
   "metadata": {},
   "outputs": [],
   "source": [
    "dt = 1  # timestep\n",
    "base_level_rise = 100  # long term subsidence in meters\n",
    "dx = 10  # x grid spacing\n",
    "total_time = 3e6  # duration of simulation in years\n",
    "initial_baselevel = 1  # in meters\n",
    "sed_Q = 0.1  # sedimentation flux in m/2 (dx is handled inside the model)\n",
    "\n",
    "#create an instance of Diffuse1D (defined above)\n",
    "model = Diffuse1D(\n",
    "    length=1000,\n",
    "    spacing=dx,\n",
    "    tstep=dt,\n",
    "    left=0,\n",
    "    right=0,\n",
    "    K=2e-2,\n",
    "    sed_Q=sed_Q,\n",
    "    no_flux_boundary=True,\n",
    ")\n",
    "\n",
    "xt = np.linspace(0, total_time, 10000)  # creating uniform timegrid\n",
    "RSL1 = -1.5 * np.sin(xt * 2 * np.pi * (1 / 20000))  # cyclic sea level component 1\n",
    "RSL2 = 1 * sawtooth_wave(5, xt * 2 * np.pi * (1 / 100000))  # cyclic sea level component 2\n",
    "RSL = (RSL1 + RSL2 + base_level_rise / (total_time) * xt + initial_baselevel)  # cyclic sea level + subsidence\n",
    "# creates a function in the Diffuse1D model mapping your sea level boundary condition to time\n",
    "model.set_baselevel(xt, RSL)"
   ]
  },
  {
   "cell_type": "markdown",
   "metadata": {},
   "source": [
    "Plotting your model sea level boundary condition"
   ]
  },
  {
   "cell_type": "code",
   "execution_count": null,
   "metadata": {},
   "outputs": [],
   "source": [
    "#to plot your model sea level boundary condition\n",
    "plt.plot(xt/1000,model.base_level_fun(xt))\n",
    "plt.gca().set_xlabel('Time (kilo-years)')\n",
    "plt.gca().set_ylabel('Base level')"
   ]
  },
  {
   "cell_type": "markdown",
   "metadata": {},
   "source": [
    "Running your model"
   ]
  },
  {
   "cell_type": "code",
   "execution_count": null,
   "metadata": {},
   "outputs": [],
   "source": [
    "# initial lists to store model outputs throughout the simulation\n",
    "beds = [] #model topography\n",
    "age = [] #model time\n",
    "rsl = [] #relative (local) sea level\n",
    "progress_bar = tqdm(range(int(total_time / dt / 1))) #run the model for the full duration, the tqdm wrapper provides a progress bar\n",
    "for i in progress_bar:\n",
    "    model.run_step() #run 1 timestep dt\n",
    "    if i%50==0: #save every 50 steps to our lists\n",
    "        beds.append(model.u)\n",
    "        age.append(model.time)\n",
    "        rsl.append(model.base_level)"
   ]
  },
  {
   "cell_type": "markdown",
   "metadata": {},
   "source": [
    "Extracting stratigraphic columns from your model"
   ]
  },
  {
   "cell_type": "code",
   "execution_count": null,
   "metadata": {},
   "outputs": [],
   "source": [
    "#this cell shows how to use functions get_strat_column to extract and plot a stratigraphic column from your model output\n",
    "column_number = 10\n",
    "bed_facies, bed_bottom, bed_thickness, bed_colors = get_strat_column(beds, age, rsl, column_number, skip=10)\n",
    "plot_column(bed_facies, bed_bottom, bed_thickness, bed_colors, left=column_number)\n",
    "plt.gca().set_aspect(.05)"
   ]
  },
  {
   "cell_type": "markdown",
   "metadata": {},
   "source": [
    "Creating a time series of parasequence thicknesses from your stratigraphic column"
   ]
  },
  {
   "cell_type": "code",
   "execution_count": null,
   "metadata": {},
   "outputs": [],
   "source": [
    "#this cell shows how to extract and plot a time series of parasequence thicknesses from your stratigraphic column\n",
    "bed_tops = bed_bottom + bed_thickness\n",
    "para_tops = np.insert(bed_tops[np.where(np.diff(bed_facies) < 0)], 0, 0)\n",
    "para_thickness = np.diff(para_tops)\n",
    "para_thickness = para_thickness[para_thickness > 0.1]  # only preserve greater than 10 cm\n",
    "plt.plot(para_thickness)\n",
    "plt.gca().set_xlim(0, 100)"
   ]
  },
  {
   "cell_type": "markdown",
   "metadata": {},
   "source": [
    "The cell below shows how to plot the model beds, after accounting for erosion"
   ]
  },
  {
   "cell_type": "code",
   "execution_count": null,
   "metadata": {},
   "outputs": [],
   "source": [
    "skip = 100 #calculate/plot every 100 beds to save time, a little less accurate\n",
    "beds_eroded = np.copy(np.array(beds)[::skip,:])\n",
    "for i in range(0,np.array(beds_eroded).shape[0]-1):\n",
    "    beds_eroded[i,:] = np.min(beds_eroded[i+1:,:],axis=0)\n",
    "    \n",
    "for i in range(beds_eroded.shape[0]):\n",
    "    plt.plot(beds_eroded[i,:],color='k',alpha=.1,lw=1)"
   ]
  }
 ],
 "metadata": {
  "celltoolbar": "Slideshow",
  "kernelspec": {
   "display_name": "jupyterbase",
   "language": "python",
   "name": "jupyterbase"
  },
  "language_info": {
   "codemirror_mode": {
    "name": "ipython",
    "version": 3
   },
   "file_extension": ".py",
   "mimetype": "text/x-python",
   "name": "python",
   "nbconvert_exporter": "python",
   "pygments_lexer": "ipython3",
   "version": "3.7.8"
  },
  "toc": {
   "base_numbering": 1,
   "nav_menu": {},
   "number_sections": false,
   "sideBar": true,
   "skip_h1_title": false,
   "title_cell": "Table of Contents",
   "title_sidebar": "Contents",
   "toc_cell": false,
   "toc_position": {
    "height": "calc(100% - 180px)",
    "left": "10px",
    "top": "150px",
    "width": "384px"
   },
   "toc_section_display": true,
   "toc_window_display": false
  }
 },
 "nbformat": 4,
 "nbformat_minor": 2
}
