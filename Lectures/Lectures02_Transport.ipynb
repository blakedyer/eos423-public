{
 "cells": [
  {
   "cell_type": "markdown",
   "metadata": {
    "slideshow": {
     "slide_type": "skip"
    }
   },
   "source": [
    "<div data-id=\"columns\" style=\"display:flex;height:60vh\">\n",
    "<div class=\"clearpanel_start\" style=\"visibility: visible;\">\n",
    " \n",
    "</div>\n",
    "<div class=\"clearpanel\" style=\"visibility: visible;\">\n",
    "    \n",
    "</div>\n",
    "</div>"
   ]
  },
  {
   "cell_type": "markdown",
   "metadata": {
    "slideshow": {
     "slide_type": "skip"
    }
   },
   "source": [
    "Lecture 2: Simplifying Surface Transport"
   ]
  },
  {
   "cell_type": "code",
   "execution_count": 1,
   "metadata": {
    "slideshow": {
     "slide_type": "skip"
    }
   },
   "outputs": [],
   "source": [
    "import numpy as np\n",
    "from IPython.core.display import HTML\n",
    "from matplotlib import pyplot as plt"
   ]
  },
  {
   "cell_type": "code",
   "execution_count": 1,
   "metadata": {
    "slideshow": {
     "slide_type": "skip"
    }
   },
   "outputs": [
    {
     "name": "stdout",
     "output_type": "stream",
     "text": [
      "Loading page http://localhost:8888/notebooks/Lectures02_Transport.ipynb?token=5937d7ea442aade7dc27bf992142d25f4863f0a71809c743 ...\n",
      "\u001b[38;2;255;165;0mactions\u001b[39m \u001b[38;2;255;165;0mjupyter-notebook:find-and-replace\u001b[39m \u001b[38;2;255;165;0mdoes not exist, still binding it in case it will be defined later...\u001b[39m\n",
      "\u001b[90mload_extensions\u001b[39m \u001b[90m{\u001b[39m\n",
      "\u001b[90m  '0': 'nbextensions_configurator/config_menu/main',\u001b[39m\n",
      "\u001b[90m  '1': 'contrib_nbextensions_help_item/main',\u001b[39m\n",
      "\u001b[90m  '2': 'rise/main',\u001b[39m\n",
      "\u001b[90m  '3': 'jupyter-js-widgets/extension',\u001b[39m\n",
      "\u001b[90m  '4': 'jupyter-black-master/jupyter-black',\u001b[39m\n",
      "\u001b[90m  '5': 'toc2/main',\u001b[39m\n",
      "\u001b[90m  '6': 'hide_code/hide_code',\u001b[39m\n",
      "\u001b[90m  '7': 'hide_input/main',\u001b[39m\n",
      "\u001b[90m  '8': 'codefolding/main',\u001b[39m\n",
      "\u001b[90m  '9': 'splitcell/splitcell'\u001b[39m\n",
      "\u001b[90m}\u001b[39m\n",
      "\u001b[90mLoaded moment locale\u001b[39m \u001b[90men-gb\u001b[39m\n",
      "\u001b[31mFailed to load resource: the server responded with a status of 404 (Not Found)\u001b[39m\n",
      "\u001b[90mHTML Sanitizer\u001b[39m \u001b[90mdiv.style changed\u001b[39m \u001b[90m{\u001b[39m\n",
      "\u001b[90m  change: 'changed',\u001b[39m\n",
      "\u001b[90m  tagName: 'div',\u001b[39m\n",
      "\u001b[90m  attribName: 'style',\u001b[39m\n",
      "\u001b[90m  oldValue: 'display:flex;height:60vh',\u001b[39m\n",
      "\u001b[90m  newValue: 'display: flex ; height: 60vh'\u001b[39m\n",
      "\u001b[90m}\u001b[39m\n",
      "\u001b[90mHTML Sanitizer\u001b[39m \u001b[90mdiv.style changed\u001b[39m \u001b[90m{\u001b[39m\n",
      "\u001b[90m  change: 'changed',\u001b[39m\n",
      "\u001b[90m  tagName: 'div',\u001b[39m\n",
      "\u001b[90m  attribName: 'style',\u001b[39m\n",
      "\u001b[90m  oldValue: 'visibility: visible;',\u001b[39m\n",
      "\u001b[90m  newValue: 'visibility: visible'\u001b[39m\n",
      "\u001b[90m}\u001b[39m\n",
      "\u001b[90mHTML Sanitizer\u001b[39m \u001b[90mdiv.style changed\u001b[39m \u001b[90m{\u001b[39m\n",
      "\u001b[90m  change: 'changed',\u001b[39m\n",
      "\u001b[90m  tagName: 'div',\u001b[39m\n",
      "\u001b[90m  attribName: 'style',\u001b[39m\n",
      "\u001b[90m  oldValue: 'visibility: visible;',\u001b[39m\n",
      "\u001b[90m  newValue: 'visibility: visible'\u001b[39m\n",
      "\u001b[90m}\u001b[39m\n",
      "\u001b[90mHTML Sanitizer\u001b[39m \u001b[90mdiv.style changed\u001b[39m \u001b[90m{\u001b[39m\n",
      "\u001b[90m  change: 'changed',\u001b[39m\n",
      "\u001b[90m  tagName: 'div',\u001b[39m\n",
      "\u001b[90m  attribName: 'style',\u001b[39m\n",
      "\u001b[90m  oldValue: 'display:flex;height:60vh',\u001b[39m\n",
      "\u001b[90m  newValue: 'display: flex ; height: 60vh'\u001b[39m\n",
      "\u001b[90m}\u001b[39m\n",
      "\u001b[90mHTML Sanitizer\u001b[39m \u001b[90mdiv.style changed\u001b[39m \u001b[90m{\u001b[39m\n",
      "\u001b[90m  change: 'changed',\u001b[39m\n",
      "\u001b[90m  tagName: 'div',\u001b[39m\n",
      "\u001b[90m  attribName: 'style',\u001b[39m\n",
      "\u001b[90m  oldValue: 'visibility: visible;font-size:.9em',\u001b[39m\n",
      "\u001b[90m  newValue: 'visibility: visible ; font-size: 0.9em'\u001b[39m\n",
      "\u001b[90m}\u001b[39m\n",
      "\u001b[90mHTML Sanitizer\u001b[39m \u001b[90mdiv.style changed\u001b[39m \u001b[90m{\u001b[39m\n",
      "\u001b[90m  change: 'changed',\u001b[39m\n",
      "\u001b[90m  tagName: 'div',\u001b[39m\n",
      "\u001b[90m  attribName: 'style',\u001b[39m\n",
      "\u001b[90m  oldValue: 'visibility: visible;',\u001b[39m\n",
      "\u001b[90m  newValue: 'visibility: visible'\u001b[39m\n",
      "\u001b[90m}\u001b[39m\n",
      "\u001b[90mHTML Sanitizer\u001b[39m \u001b[90mimg.style changed\u001b[39m \u001b[90m{\u001b[39m\n",
      "\u001b[90m  change: 'changed',\u001b[39m\n",
      "\u001b[90m  tagName: 'img',\u001b[39m\n",
      "\u001b[90m  attribName: 'style',\u001b[39m\n",
      "\u001b[90m  oldValue: 'height:55vh;display:block; margin:auto',\u001b[39m\n",
      "\u001b[90m  newValue: 'height: 55vh ; display: block ; margin: auto'\u001b[39m\n",
      "\u001b[90m}\u001b[39m\n",
      "\u001b[90mHTML Sanitizer\u001b[39m \u001b[90mdiv.style changed\u001b[39m \u001b[90m{\u001b[39m\n",
      "\u001b[90m  change: 'changed',\u001b[39m\n",
      "\u001b[90m  tagName: 'div',\u001b[39m\n",
      "\u001b[90m  attribName: 'style',\u001b[39m\n",
      "\u001b[90m  oldValue: 'font-size:25px',\u001b[39m\n",
      "\u001b[90m  newValue: 'font-size: 25px'\u001b[39m\n",
      "\u001b[90m}\u001b[39m\n",
      "\u001b[90mHTML Sanitizer\u001b[39m \u001b[90mdiv.style changed\u001b[39m \u001b[90m{\u001b[39m\n",
      "\u001b[90m  change: 'changed',\u001b[39m\n",
      "\u001b[90m  tagName: 'div',\u001b[39m\n",
      "\u001b[90m  attribName: 'style',\u001b[39m\n",
      "\u001b[90m  oldValue: 'height:50vh',\u001b[39m\n",
      "\u001b[90m  newValue: 'height: 50vh'\u001b[39m\n",
      "\u001b[90m}\u001b[39m\n",
      "\u001b[90mHTML Sanitizer\u001b[39m \u001b[90mimg.style changed\u001b[39m \u001b[90m{\u001b[39m\n",
      "\u001b[90m  change: 'changed',\u001b[39m\n",
      "\u001b[90m  tagName: 'img',\u001b[39m\n",
      "\u001b[90m  attribName: 'style',\u001b[39m\n",
      "\u001b[90m  oldValue: 'height:50vh',\u001b[39m\n",
      "\u001b[90m  newValue: 'height: 50vh'\u001b[39m\n",
      "\u001b[90m}\u001b[39m\n",
      "\u001b[90mHTML Sanitizer\u001b[39m \u001b[90mspan.style changed\u001b[39m \u001b[90m{\u001b[39m\n",
      "\u001b[90m  change: 'changed',\u001b[39m\n",
      "\u001b[90m  tagName: 'span',\u001b[39m\n",
      "\u001b[90m  attribName: 'style',\u001b[39m\n",
      "\u001b[90m  oldValue: 'color:dodgerblue',\u001b[39m\n",
      "\u001b[90m  newValue: 'color: dodgerblue'\u001b[39m\n",
      "\u001b[90m}\u001b[39m\n",
      "\u001b[90mHTML Sanitizer\u001b[39m \u001b[90mdiv.style changed\u001b[39m \u001b[90m{\u001b[39m\n",
      "\u001b[90m  change: 'changed',\u001b[39m\n",
      "\u001b[90m  tagName: 'div',\u001b[39m\n",
      "\u001b[90m  attribName: 'style',\u001b[39m\n",
      "\u001b[90m  oldValue: 'display:flex;height:70vh',\u001b[39m\n",
      "\u001b[90m  newValue: 'display: flex ; height: 70vh'\u001b[39m\n",
      "\u001b[90m}\u001b[39m\n",
      "\u001b[90mHTML Sanitizer\u001b[39m \u001b[90mdiv.style changed\u001b[39m \u001b[90m{\u001b[39m\n",
      "\u001b[90m  change: 'changed',\u001b[39m\n",
      "\u001b[90m  tagName: 'div',\u001b[39m\n",
      "\u001b[90m  attribName: 'style',\u001b[39m\n",
      "\u001b[90m  oldValue: 'visibility: visible;',\u001b[39m\n",
      "\u001b[90m  newValue: 'visibility: visible'\u001b[39m\n",
      "\u001b[90m}\u001b[39m\n",
      "\u001b[90mHTML Sanitizer\u001b[39m \u001b[90mdiv.style changed\u001b[39m \u001b[90m{\u001b[39m\n",
      "\u001b[90m  change: 'changed',\u001b[39m\n",
      "\u001b[90m  tagName: 'div',\u001b[39m\n",
      "\u001b[90m  attribName: 'style',\u001b[39m\n",
      "\u001b[90m  oldValue: 'visibility: visible;',\u001b[39m\n",
      "\u001b[90m  newValue: 'visibility: visible'\u001b[39m\n",
      "\u001b[90m}\u001b[39m\n",
      "\u001b[90mHTML Sanitizer\u001b[39m \u001b[90mdiv.style changed\u001b[39m \u001b[90m{\u001b[39m\n",
      "\u001b[90m  change: 'changed',\u001b[39m\n",
      "\u001b[90m  tagName: 'div',\u001b[39m\n",
      "\u001b[90m  attribName: 'style',\u001b[39m\n",
      "\u001b[90m  oldValue: 'height:70vh',\u001b[39m\n",
      "\u001b[90m  newValue: 'height: 70vh'\u001b[39m\n",
      "\u001b[90m}\u001b[39m\n",
      "\u001b[90mHTML Sanitizer\u001b[39m \u001b[90mimg.style changed\u001b[39m \u001b[90m{\u001b[39m\n",
      "\u001b[90m  change: 'changed',\u001b[39m\n",
      "\u001b[90m  tagName: 'img',\u001b[39m\n",
      "\u001b[90m  attribName: 'style',\u001b[39m\n",
      "\u001b[90m  oldValue: 'height:20vh',\u001b[39m\n",
      "\u001b[90m  newValue: 'height: 20vh'\u001b[39m\n",
      "\u001b[90m}\u001b[39m\n",
      "\u001b[90mHTML Sanitizer\u001b[39m \u001b[90mspan.style changed\u001b[39m \u001b[90m{\u001b[39m\n",
      "\u001b[90m  change: 'changed',\u001b[39m\n",
      "\u001b[90m  tagName: 'span',\u001b[39m\n",
      "\u001b[90m  attribName: 'style',\u001b[39m\n",
      "\u001b[90m  oldValue: 'color:DodgerBlue;font-weight:800',\u001b[39m\n",
      "\u001b[90m  newValue: 'color: dodgerblue ; font-weight: 800'\u001b[39m\n",
      "\u001b[90m}\u001b[39m\n",
      "\u001b[90mHTML Sanitizer\u001b[39m \u001b[90mdiv.style changed\u001b[39m \u001b[90m{\u001b[39m\n",
      "\u001b[90m  change: 'changed',\u001b[39m\n",
      "\u001b[90m  tagName: 'div',\u001b[39m\n",
      "\u001b[90m  attribName: 'style',\u001b[39m\n",
      "\u001b[90m  oldValue: 'height:40vh;',\u001b[39m\n",
      "\u001b[90m  newValue: 'height: 40vh'\u001b[39m\n",
      "\u001b[90m}\u001b[39m\n",
      "\u001b[90mHTML Sanitizer\u001b[39m \u001b[90mimg.style changed\u001b[39m \u001b[90m{\u001b[39m\n",
      "\u001b[90m  change: 'changed',\u001b[39m\n",
      "\u001b[90m  tagName: 'img',\u001b[39m\n",
      "\u001b[90m  attribName: 'style',\u001b[39m\n",
      "\u001b[90m  oldValue: 'height:40vh',\u001b[39m\n",
      "\u001b[90m  newValue: 'height: 40vh'\u001b[39m\n",
      "\u001b[90m}\u001b[39m\n",
      "\u001b[90mHTML Sanitizer\u001b[39m \u001b[90mspan.style changed\u001b[39m \u001b[90m{\u001b[39m\n",
      "\u001b[90m  change: 'changed',\u001b[39m\n",
      "\u001b[90m  tagName: 'span',\u001b[39m\n",
      "\u001b[90m  attribName: 'style',\u001b[39m\n",
      "\u001b[90m  oldValue: 'font-weight:bold;color:dodgerblue',\u001b[39m\n",
      "\u001b[90m  newValue: 'font-weight: bold ; color: dodgerblue'\u001b[39m\n",
      "\u001b[90m}\u001b[39m\n",
      "\u001b[90mHTML Sanitizer\u001b[39m \u001b[90mspan.style changed\u001b[39m \u001b[90m{\u001b[39m\n",
      "\u001b[90m  change: 'changed',\u001b[39m\n",
      "\u001b[90m  tagName: 'span',\u001b[39m\n",
      "\u001b[90m  attribName: 'style',\u001b[39m\n",
      "\u001b[90m  oldValue: 'color:green;font-weight: bold',\u001b[39m\n",
      "\u001b[90m  newValue: 'color: green ; font-weight: bold'\u001b[39m\n",
      "\u001b[90m}\u001b[39m\n",
      "\u001b[90mHTML Sanitizer\u001b[39m \u001b[90mspan.style changed\u001b[39m \u001b[90m{\u001b[39m\n",
      "\u001b[90m  change: 'changed',\u001b[39m\n",
      "\u001b[90m  tagName: 'span',\u001b[39m\n",
      "\u001b[90m  attribName: 'style',\u001b[39m\n",
      "\u001b[90m  oldValue: 'color:blue',\u001b[39m\n",
      "\u001b[90m  newValue: 'color: blue'\u001b[39m\n",
      "\u001b[90m}\u001b[39m\n",
      "\u001b[90mHTML Sanitizer\u001b[39m \u001b[90mspan.style changed\u001b[39m \u001b[90m{\u001b[39m\n",
      "\u001b[90m  change: 'changed',\u001b[39m\n",
      "\u001b[90m  tagName: 'span',\u001b[39m\n",
      "\u001b[90m  attribName: 'style',\u001b[39m\n",
      "\u001b[90m  oldValue: 'color:red',\u001b[39m\n",
      "\u001b[90m  newValue: 'color: red'\u001b[39m\n",
      "\u001b[90m}\u001b[39m\n",
      "\u001b[90mHTML Sanitizer\u001b[39m \u001b[90mspan.style changed\u001b[39m \u001b[90m{\u001b[39m\n",
      "\u001b[90m  change: 'changed',\u001b[39m\n",
      "\u001b[90m  tagName: 'span',\u001b[39m\n",
      "\u001b[90m  attribName: 'style',\u001b[39m\n",
      "\u001b[90m  oldValue: 'color:blue',\u001b[39m\n",
      "\u001b[90m  newValue: 'color: blue'\u001b[39m\n",
      "\u001b[90m}\u001b[39m\n",
      "\u001b[90mHTML Sanitizer\u001b[39m \u001b[90mspan.style changed\u001b[39m \u001b[90m{\u001b[39m\n",
      "\u001b[90m  change: 'changed',\u001b[39m\n",
      "\u001b[90m  tagName: 'span',\u001b[39m\n",
      "\u001b[90m  attribName: 'style',\u001b[39m\n",
      "\u001b[90m  oldValue: 'color:red',\u001b[39m\n",
      "\u001b[90m  newValue: 'color: red'\u001b[39m\n",
      "\u001b[90m}\u001b[39m\n",
      "\u001b[90mHTML Sanitizer\u001b[39m \u001b[90mspan.style changed\u001b[39m \u001b[90m{\u001b[39m\n",
      "\u001b[90m  change: 'changed',\u001b[39m\n",
      "\u001b[90m  tagName: 'span',\u001b[39m\n",
      "\u001b[90m  attribName: 'style',\u001b[39m\n",
      "\u001b[90m  oldValue: 'color:blue',\u001b[39m\n",
      "\u001b[90m  newValue: 'color: blue'\u001b[39m\n",
      "\u001b[90m}\u001b[39m\n",
      "\u001b[90mHTML Sanitizer\u001b[39m \u001b[90mspan.style changed\u001b[39m \u001b[90m{\u001b[39m\n",
      "\u001b[90m  change: 'changed',\u001b[39m\n",
      "\u001b[90m  tagName: 'span',\u001b[39m\n",
      "\u001b[90m  attribName: 'style',\u001b[39m\n",
      "\u001b[90m  oldValue: 'color:red',\u001b[39m\n",
      "\u001b[90m  newValue: 'color: red'\u001b[39m\n",
      "\u001b[90m}\u001b[39m\n",
      "\u001b[90mHTML Sanitizer\u001b[39m \u001b[90mspan.style changed\u001b[39m \u001b[90m{\u001b[39m\n",
      "\u001b[90m  change: 'changed',\u001b[39m\n",
      "\u001b[90m  tagName: 'span',\u001b[39m\n",
      "\u001b[90m  attribName: 'style',\u001b[39m\n",
      "\u001b[90m  oldValue: 'color:blue',\u001b[39m\n",
      "\u001b[90m  newValue: 'color: blue'\u001b[39m\n",
      "\u001b[90m}\u001b[39m\n",
      "\u001b[90mHTML Sanitizer\u001b[39m \u001b[90mspan.style changed\u001b[39m \u001b[90m{\u001b[39m\n",
      "\u001b[90m  change: 'changed',\u001b[39m\n",
      "\u001b[90m  tagName: 'span',\u001b[39m\n",
      "\u001b[90m  attribName: 'style',\u001b[39m\n",
      "\u001b[90m  oldValue: 'color:red',\u001b[39m\n",
      "\u001b[90m  newValue: 'color: red'\u001b[39m\n",
      "\u001b[90m}\u001b[39m\n",
      "\u001b[90mHTML Sanitizer\u001b[39m \u001b[90mdiv.style changed\u001b[39m \u001b[90m{\u001b[39m\n",
      "\u001b[90m  change: 'changed',\u001b[39m\n",
      "\u001b[90m  tagName: 'div',\u001b[39m\n",
      "\u001b[90m  attribName: 'style',\u001b[39m\n",
      "\u001b[90m  oldValue: 'height:12vh;',\u001b[39m\n",
      "\u001b[90m  newValue: 'height: 12vh'\u001b[39m\n",
      "\u001b[90m}\u001b[39m\n",
      "\u001b[90mHTML Sanitizer\u001b[39m \u001b[90mspan.style changed\u001b[39m \u001b[90m{\u001b[39m\n",
      "\u001b[90m  change: 'changed',\u001b[39m\n",
      "\u001b[90m  tagName: 'span',\u001b[39m\n",
      "\u001b[90m  attribName: 'style',\u001b[39m\n",
      "\u001b[90m  oldValue: 'color:green;font-weight: bold',\u001b[39m\n",
      "\u001b[90m  newValue: 'color: green ; font-weight: bold'\u001b[39m\n",
      "\u001b[90m}\u001b[39m\n",
      "\u001b[90mHTML Sanitizer\u001b[39m \u001b[90mspan.style changed\u001b[39m \u001b[90m{\u001b[39m\n",
      "\u001b[90m  change: 'changed',\u001b[39m\n",
      "\u001b[90m  tagName: 'span',\u001b[39m\n",
      "\u001b[90m  attribName: 'style',\u001b[39m\n",
      "\u001b[90m  oldValue: 'color:blue',\u001b[39m\n",
      "\u001b[90m  newValue: 'color: blue'\u001b[39m\n",
      "\u001b[90m}\u001b[39m\n",
      "\u001b[90mHTML Sanitizer\u001b[39m \u001b[90mspan.style changed\u001b[39m \u001b[90m{\u001b[39m\n",
      "\u001b[90m  change: 'changed',\u001b[39m\n",
      "\u001b[90m  tagName: 'span',\u001b[39m\n",
      "\u001b[90m  attribName: 'style',\u001b[39m\n",
      "\u001b[90m  oldValue: 'color:red',\u001b[39m\n",
      "\u001b[90m  newValue: 'color: red'\u001b[39m\n",
      "\u001b[90m}\u001b[39m\n",
      "\u001b[90mHTML Sanitizer\u001b[39m \u001b[90mspan.style changed\u001b[39m \u001b[90m{\u001b[39m\n",
      "\u001b[90m  change: 'changed',\u001b[39m\n",
      "\u001b[90m  tagName: 'span',\u001b[39m\n",
      "\u001b[90m  attribName: 'style',\u001b[39m\n",
      "\u001b[90m  oldValue: 'color:blue',\u001b[39m\n",
      "\u001b[90m  newValue: 'color: blue'\u001b[39m\n",
      "\u001b[90m}\u001b[39m\n",
      "\u001b[90mHTML Sanitizer\u001b[39m \u001b[90mspan.style changed\u001b[39m \u001b[90m{\u001b[39m\n",
      "\u001b[90m  change: 'changed',\u001b[39m\n",
      "\u001b[90m  tagName: 'span',\u001b[39m\n",
      "\u001b[90m  attribName: 'style',\u001b[39m\n",
      "\u001b[90m  oldValue: 'color:red',\u001b[39m\n",
      "\u001b[90m  newValue: 'color: red'\u001b[39m\n",
      "\u001b[90m}\u001b[39m\n",
      "\u001b[90mHTML Sanitizer\u001b[39m \u001b[90mspan.style changed\u001b[39m \u001b[90m{\u001b[39m\n",
      "\u001b[90m  change: 'changed',\u001b[39m\n",
      "\u001b[90m  tagName: 'span',\u001b[39m\n",
      "\u001b[90m  attribName: 'style',\u001b[39m\n",
      "\u001b[90m  oldValue: 'color:blue',\u001b[39m\n",
      "\u001b[90m  newValue: 'color: blue'\u001b[39m\n",
      "\u001b[90m}\u001b[39m\n",
      "\u001b[90mHTML Sanitizer\u001b[39m \u001b[90mspan.style changed\u001b[39m \u001b[90m{\u001b[39m\n",
      "\u001b[90m  change: 'changed',\u001b[39m\n",
      "\u001b[90m  tagName: 'span',\u001b[39m\n",
      "\u001b[90m  attribName: 'style',\u001b[39m\n",
      "\u001b[90m  oldValue: 'color:red',\u001b[39m\n",
      "\u001b[90m  newValue: 'color: red'\u001b[39m\n",
      "\u001b[90m}\u001b[39m\n",
      "\u001b[90mHTML Sanitizer\u001b[39m \u001b[90mdiv.style changed\u001b[39m \u001b[90m{\u001b[39m\n",
      "\u001b[90m  change: 'changed',\u001b[39m\n",
      "\u001b[90m  tagName: 'div',\u001b[39m\n",
      "\u001b[90m  attribName: 'style',\u001b[39m\n",
      "\u001b[90m  oldValue: 'height:40vh;',\u001b[39m\n",
      "\u001b[90m  newValue: 'height: 40vh'\u001b[39m\n",
      "\u001b[90m}\u001b[39m\n",
      "\u001b[90mHTML Sanitizer\u001b[39m \u001b[90mspan.style changed\u001b[39m \u001b[90m{\u001b[39m\n",
      "\u001b[90m  change: 'changed',\u001b[39m\n",
      "\u001b[90m  tagName: 'span',\u001b[39m\n",
      "\u001b[90m  attribName: 'style',\u001b[39m\n",
      "\u001b[90m  oldValue: 'color:green;font-weight: bold',\u001b[39m\n",
      "\u001b[90m  newValue: 'color: green ; font-weight: bold'\u001b[39m\n",
      "\u001b[90m}\u001b[39m\n",
      "\u001b[90mHTML Sanitizer\u001b[39m \u001b[90mdiv.style changed\u001b[39m \u001b[90m{\u001b[39m\n",
      "\u001b[90m  change: 'changed',\u001b[39m\n",
      "\u001b[90m  tagName: 'div',\u001b[39m\n",
      "\u001b[90m  attribName: 'style',\u001b[39m\n",
      "\u001b[90m  oldValue: 'height:30vh;',\u001b[39m\n",
      "\u001b[90m  newValue: 'height: 30vh'\u001b[39m\n",
      "\u001b[90m}\u001b[39m\n",
      "\u001b[90mHTML Sanitizer\u001b[39m \u001b[90mdiv.style changed\u001b[39m \u001b[90m{\u001b[39m\n",
      "\u001b[90m  change: 'changed',\u001b[39m\n",
      "\u001b[90m  tagName: 'div',\u001b[39m\n",
      "\u001b[90m  attribName: 'style',\u001b[39m\n",
      "\u001b[90m  oldValue: 'height:40vh;',\u001b[39m\n",
      "\u001b[90m  newValue: 'height: 40vh'\u001b[39m\n",
      "\u001b[90m}\u001b[39m\n",
      "\u001b[90mHTML Sanitizer\u001b[39m \u001b[90mspan.style changed\u001b[39m \u001b[90m{\u001b[39m\n",
      "\u001b[90m  change: 'changed',\u001b[39m\n",
      "\u001b[90m  tagName: 'span',\u001b[39m\n",
      "\u001b[90m  attribName: 'style',\u001b[39m\n",
      "\u001b[90m  oldValue: 'color:Gray',\u001b[39m\n",
      "\u001b[90m  newValue: 'color: gray'\u001b[39m\n",
      "\u001b[90m}\u001b[39m\n",
      "\u001b[90mHTML Sanitizer\u001b[39m \u001b[90mspan.style changed\u001b[39m \u001b[90m{\u001b[39m\n",
      "\u001b[90m  change: 'changed',\u001b[39m\n",
      "\u001b[90m  tagName: 'span',\u001b[39m\n",
      "\u001b[90m  attribName: 'style',\u001b[39m\n",
      "\u001b[90m  oldValue: 'color:DodgerBlue',\u001b[39m\n",
      "\u001b[90m  newValue: 'color: dodgerblue'\u001b[39m\n",
      "\u001b[90m}\u001b[39m\n",
      "\u001b[90mHTML Sanitizer\u001b[39m \u001b[90mdiv.style changed\u001b[39m \u001b[90m{\u001b[39m\n",
      "\u001b[90m  change: 'changed',\u001b[39m\n",
      "\u001b[90m  tagName: 'div',\u001b[39m\n",
      "\u001b[90m  attribName: 'style',\u001b[39m\n",
      "\u001b[90m  oldValue: 'height:40vh;',\u001b[39m\n",
      "\u001b[90m  newValue: 'height: 40vh'\u001b[39m\n",
      "\u001b[90m}\u001b[39m\n",
      "\u001b[90mHTML Sanitizer\u001b[39m \u001b[90mspan.style changed\u001b[39m \u001b[90m{\u001b[39m\n",
      "\u001b[90m  change: 'changed',\u001b[39m\n",
      "\u001b[90m  tagName: 'span',\u001b[39m\n",
      "\u001b[90m  attribName: 'style',\u001b[39m\n",
      "\u001b[90m  oldValue: 'color:DodgerBlue',\u001b[39m\n",
      "\u001b[90m  newValue: 'color: dodgerblue'\u001b[39m\n",
      "\u001b[90m}\u001b[39m\n",
      "\u001b[90mHTML Sanitizer\u001b[39m \u001b[90mdiv.style changed\u001b[39m \u001b[90m{\u001b[39m\n",
      "\u001b[90m  change: 'changed',\u001b[39m\n",
      "\u001b[90m  tagName: 'div',\u001b[39m\n",
      "\u001b[90m  attribName: 'style',\u001b[39m\n",
      "\u001b[90m  oldValue: 'height:40vh;',\u001b[39m\n",
      "\u001b[90m  newValue: 'height: 40vh'\u001b[39m\n",
      "\u001b[90m}\u001b[39m\n",
      "\u001b[90mHTML Sanitizer\u001b[39m \u001b[90mspan.style changed\u001b[39m \u001b[90m{\u001b[39m\n",
      "\u001b[90m  change: 'changed',\u001b[39m\n",
      "\u001b[90m  tagName: 'span',\u001b[39m\n",
      "\u001b[90m  attribName: 'style',\u001b[39m\n",
      "\u001b[90m  oldValue: 'color:DodgerBlue',\u001b[39m\n",
      "\u001b[90m  newValue: 'color: dodgerblue'\u001b[39m\n",
      "\u001b[90m}\u001b[39m\n",
      "\u001b[90mHTML Sanitizer\u001b[39m \u001b[90mspan.style changed\u001b[39m \u001b[90m{\u001b[39m\n",
      "\u001b[90m  change: 'changed',\u001b[39m\n",
      "\u001b[90m  tagName: 'span',\u001b[39m\n",
      "\u001b[90m  attribName: 'style',\u001b[39m\n",
      "\u001b[90m  oldValue: 'color:DodgerBlue',\u001b[39m\n",
      "\u001b[90m  newValue: 'color: dodgerblue'\u001b[39m\n",
      "\u001b[90m}\u001b[39m\n",
      "\u001b[90mHTML Sanitizer\u001b[39m \u001b[90mspan.style changed\u001b[39m \u001b[90m{\u001b[39m\n",
      "\u001b[90m  change: 'changed',\u001b[39m\n",
      "\u001b[90m  tagName: 'span',\u001b[39m\n",
      "\u001b[90m  attribName: 'style',\u001b[39m\n",
      "\u001b[90m  oldValue: 'color:DodgerBlue',\u001b[39m\n",
      "\u001b[90m  newValue: 'color: dodgerblue'\u001b[39m\n",
      "\u001b[90m}\u001b[39m\n"
     ]
    },
    {
     "name": "stdout",
     "output_type": "stream",
     "text": [
      "\u001b[90mSession: kernel_created (c41d2718-9840-4f1e-8ae3-aebd46a83da3)\u001b[39m\n",
      "\u001b[90mStarting WebSockets:\u001b[39m \u001b[90mws://localhost:8888/api/kernels/5badff06-ff17-4bfb-8c51-3f0528815b6d\u001b[39m\n",
      "\u001b[31mFailed to load extension:\u001b[39m \u001b[31m[ 'nbextensions/hide_code/hide_code' ]\u001b[39m \u001b[31m{\u001b[39m\n",
      "\u001b[31m  requireType: 'scripterror',\u001b[39m\n",
      "\u001b[31m  requireModules: [ 'nbextensions/hide_code/hide_code' ],\u001b[39m\n",
      "\u001b[31m  originalError: { isTrusted: true }\u001b[39m\n",
      "\u001b[31m}\u001b[39m\n",
      "\u001b[90mLoading extension: nbextensions_configurator/config_menu/main\u001b[39m\n",
      "\u001b[90mLoading extension: contrib_nbextensions_help_item/main\u001b[39m\n",
      "\u001b[90mLoading extension: rise/main\u001b[39m\n",
      "\u001b[90mLoading extension: splitcell/splitcell\u001b[39m\n",
      "\u001b[90mcenter\u001b[39m\n",
      "\u001b[90mcenter\u001b[39m\n",
      "\u001b[90mLoading extension: hide_input/main\u001b[39m\n",
      "\u001b[90mKernel: kernel_connected (5badff06-ff17-4bfb-8c51-3f0528815b6d)\u001b[39m\n",
      "\u001b[90mLoading extension: jupyter-js-widgets/extension\u001b[39m\n",
      "\u001b[31mFailed to load resource: the server responded with a status of 404 (Not Found)\u001b[39m\n",
      "\u001b[38;2;255;165;0mWidgets are not available.  Please install widgetsnbextension or ipywidgets 4.0\u001b[39m\n",
      "\u001b[90mLoading extension: jupyter-black-master/jupyter-black\u001b[39m\n",
      "\u001b[90mLoading extension: toc2/main\u001b[39m\n",
      "\u001b[90m[toc2] Notebook fully loaded -- toc2 initialized \u001b[39m\n",
      "\u001b[90mLoading extension: codefolding/main\u001b[39m\n",
      "\u001b[31mAccess to font at 'about:blank' from origin 'http://localhost:8888' has been blocked by CORS policy: Cross origin requests are only supported for protocol schemes: http, data, chrome, chrome-untrusted, https.\u001b[39m\n",
      "\n",
      "\u001b[38;2;255;165;0mUnable to load resource from URL: about:blank\u001b[39m\n",
      "\u001b[31mFailed to load resource: net::ERR_FAILED\u001b[39m\n",
      "\u001b[90mCodefolding: Wait for\u001b[39m \u001b[90m1000\u001b[39m \u001b[90mms\u001b[39m\n",
      "Loading page finished with status: \u001b[33m200\u001b[39m\n",
      "\u001b[36m\u001b[1mRISE\u001b[22m\u001b[39m\u001b[36m plugin activated\u001b[39m\n",
      "\u001b[31mRefused to apply style from 'http://localhost:8888/notebooks/Lectures02_Transport.css' because its MIME type ('text/html') is not a supported stylesheet MIME type, and strict MIME checking is enabled.\u001b[39m\n",
      "\u001b[31mFailed to load resource: the server responded with a status of 404 (Not Found)\u001b[39m\n",
      "\u001b[38;2;255;165;0mFailed to get file Lecture1.json. ReadyState: 4, Status: 404\u001b[39m\n",
      "Printing slide #/slide-19-0 (40/23) ...\u001b[32m\u001b[39m\n",
      "\u001b[32mPrinted \u001b[39m\u001b[32m\u001b[1m40\u001b[22m\u001b[39m\u001b[32m slides\u001b[39m\n"
     ]
    }
   ],
   "source": [
    "nb_list = !jupyter notebook list\n",
    "server = [l for l in nb_list if 'eos423' in l][0].split(' :: ')[0]\n",
    "prefix = server.split('?')[0]\n",
    "token = server.split('?')[1]\n",
    "notebook = 'Lectures02_Transport.ipynb'\n",
    "url = prefix+'notebooks/'+notebook+'?'+token\n",
    "!decktape -s '1920x1080' rise $url pdf_slides/Lectures02_Transport.pdf"
   ]
  },
  {
   "cell_type": "markdown",
   "metadata": {
    "cell_style": "center",
    "slideshow": {
     "slide_type": "slide"
    }
   },
   "source": [
    "# Lecture 2: Simplifying Surface Transport  "
   ]
  },
  {
   "cell_type": "markdown",
   "metadata": {
    "slideshow": {
     "slide_type": "-"
    }
   },
   "source": [
    "<div data-id=\"columns\" style=\"display:flex;height:60vh\">\n",
    "<div class=\"clearpanel_start\" style=\"visibility: visible;font-size:.9em\">\n",
    "<ol>\n",
    "<li>Motivation: the stratigraphic record<ul>\n",
    "<li>An example</li>\n",
    "<li>Modeling basin fill</li>\n",
    "</ul>\n",
    "</li>\n",
    "<li>What is diffusion?<ul>\n",
    "<li>Numerical example</li>\n",
    "<li>Diffusive flux: what is it in <em>words</em> and <em>math</em></li>\n",
    "<li>Continuity equation: what is it in <em>words</em> and <em>math</em></li>\n",
    "<li>Diffusion as a transport mechanism</li>\n",
    "</ul>\n",
    "</li>\n",
    "<li>Assignment 1: diffusive transport</li>\n",
    "</ol>\n",
    "</div>\n",
    "<div class=\"clearpanel\" style=\"visibility: visible;\">\n",
    "<center><img src='images/wus2.jpg'style='height:55vh;display:block; margin:auto'/></center><br>\n",
    "</div>\n",
    "</div>"
   ]
  },
  {
   "cell_type": "markdown",
   "metadata": {
    "cell_style": "center"
   },
   "source": [
    "<div style='font-size:25px'> <i>We acknowledge and respect the lək̓ʷəŋən peoples on whose traditional territory the university stands and the Songhees, Esquimalt and W̱SÁNE&#262; peoples whose historical relationships with the land continue to this day.</i></div>"
   ]
  },
  {
   "cell_type": "markdown",
   "metadata": {
    "slideshow": {
     "slide_type": "slide"
    }
   },
   "source": [
    "Po River (Italy)"
   ]
  },
  {
   "cell_type": "markdown",
   "metadata": {
    "slideshow": {
     "slide_type": "-"
    }
   },
   "source": [
    "<div style='height:50vh'><center>\n",
    "<img src=\"images/po_river_delta2.png\" style=\"height:50vh\">\n",
    "</center></div>"
   ]
  },
  {
   "cell_type": "markdown",
   "metadata": {
    "slideshow": {
     "slide_type": "fragment"
    }
   },
   "source": [
    "<center><span style='color:dodgerblue'>What do you see? Are there any patterns or features that stand out?</span></center>"
   ]
  },
  {
   "cell_type": "markdown",
   "metadata": {
    "slideshow": {
     "slide_type": "slide"
    }
   },
   "source": [
    "Po River (Italy)"
   ]
  },
  {
   "cell_type": "markdown",
   "metadata": {
    "slideshow": {
     "slide_type": "-"
    }
   },
   "source": [
    "<div data-id=\"columns\" style=\"display:flex;height:70vh\">\n",
    "<div class=\"clearpanel_start\" style=\"visibility: visible;\">\n",
    "<p>Class observations/interpretations</p>\n",
    "<ul>\n",
    "<li>topsets (flat lying reflectors behind foresets) seem to indicate local sea level rise</li>\n",
    "<li>foresets prograde (move into the basin) and maybe increase a little bit in elevation</li>\n",
    "</ul>\n",
    "</div>\n",
    "<div class=\"clearpanel\" style=\"visibility: visible;\">\n",
    "<div style='height:70vh'><center>\n",
    "<img src=\"images/po_river_delta2.png\" style=\"height:20vh\">\n",
    "</center></div>\n",
    "</div>\n",
    "</div>"
   ]
  },
  {
   "cell_type": "markdown",
   "metadata": {
    "slideshow": {
     "slide_type": "slide"
    }
   },
   "source": [
    "## Simulating basin fill\n",
    "*Forward* models can be used to explore some of these complex interactions. Generally there are two types of numerical models:  \n",
    "- complex fluid-flow models [(think about the complexity of coastal dynamics)](https://earthengine.google.com/timelapse#v=23.47002,-75.69627,11.322,latLng&t=0.45&ps=50&bt=19840101&et=20181231&startDwell=0&endDwell=0)\n",
    "   - use very real physical equations to simulate movement in 3-D of each grain\n",
    "   - need accurate and high resolution data\n",
    "   - computationally expensive\n",
    "   - challenging to learn from or compare to stratigraphic data"
   ]
  },
  {
   "cell_type": "markdown",
   "metadata": {
    "slideshow": {
     "slide_type": "fragment"
    }
   },
   "source": [
    "- empirical transport models \n",
    "    - approximate transport laws combined with conservation equations (**diffusion**)\n",
    "    - does not mimic in detail each geologic process\n",
    "    - computationally inexpensive\n",
    "    - model outputs can be easily compared to real data"
   ]
  },
  {
   "cell_type": "markdown",
   "metadata": {
    "slideshow": {
     "slide_type": "slide"
    }
   },
   "source": [
    "# What is diffusion?\n",
    "Lets take a look at some examples of diffusion.."
   ]
  },
  {
   "cell_type": "markdown",
   "metadata": {
    "slideshow": {
     "slide_type": "slide"
    }
   },
   "source": [
    "A working definition of diffusion: <span style='color:DodgerBlue;font-weight:800'>*is the net movement of anything (for example, atom, sediments, energy) from a region of higher concentration to a region of lower concentration*.</span>"
   ]
  },
  {
   "cell_type": "markdown",
   "metadata": {
    "slideshow": {
     "slide_type": "-"
    }
   },
   "source": [
    "<center>\n",
    "    <div style='height:40vh;'>\n",
    "\t    <img src=\"images/particle.gif\" style='height:40vh'>\n",
    "    </div>\n",
    "</center>"
   ]
  },
  {
   "cell_type": "markdown",
   "metadata": {
    "slideshow": {
     "slide_type": "fragment"
    }
   },
   "source": [
    "Note that it is the complex interaction of particles above that causes diffusion, not some inherent desire to randomly move."
   ]
  },
  {
   "cell_type": "markdown",
   "metadata": {
    "slideshow": {
     "slide_type": "slide"
    }
   },
   "source": [
    "In Chemistry, Diffusion describes the process where **entropy** is increased as concentration gradients (chemical potential) are erased. <span style='font-weight:bold;color:dodgerblue'>How might diffusion be useful to describing sedimentary transport?</span>"
   ]
  },
  {
   "cell_type": "markdown",
   "metadata": {
    "slideshow": {
     "slide_type": "fragment"
    }
   },
   "source": [
    "Diffusion is a good predictor of the **net effect** many transport related processes such as tidal currents, storms, bioturbation, the growth and death of reefs, etc. \n",
    "- acts to decrease topographic gradients (gravitational potential energy)\n",
    "- useful for building intuition about the stratigraphic record"
   ]
  },
  {
   "cell_type": "markdown",
   "metadata": {
    "slideshow": {
     "slide_type": "-"
    }
   },
   "source": [
    "The key here is that we can estimate the net change without understanding the details of every interaction."
   ]
  },
  {
   "cell_type": "markdown",
   "metadata": {
    "slideshow": {
     "slide_type": "slide"
    }
   },
   "source": [
    "## Numerical example\n",
    "If diffusion is the result of complex interactions, we can simulate those processes with random motion, and explore the system with a simple script. First, let's create a 2D world of 0's and 1's and introduce random motion."
   ]
  },
  {
   "cell_type": "markdown",
   "metadata": {
    "slideshow": {
     "slide_type": "slide"
    }
   },
   "source": [
    "Import some tools"
   ]
  },
  {
   "cell_type": "code",
   "execution_count": 1,
   "metadata": {
    "slideshow": {
     "slide_type": "-"
    }
   },
   "outputs": [],
   "source": [
    "import numpy as np\n",
    "from matplotlib import pyplot as plt\n",
    "from tqdm.notebook import tqdm\n",
    "import seaborn as sns\n",
    "sns.set_context('talk')\n",
    "%matplotlib inline"
   ]
  },
  {
   "cell_type": "code",
   "execution_count": 2,
   "metadata": {
    "slideshow": {
     "slide_type": "slide"
    }
   },
   "outputs": [
    {
     "name": "stdout",
     "output_type": "stream",
     "text": [
      "[[ True  True  True ... False False False]\n",
      " [ True  True  True ... False False False]\n",
      " [ True  True  True ... False False False]\n",
      " ...\n",
      " [ True  True  True ... False False False]\n",
      " [ True  True  True ... False False False]\n",
      " [ True  True  True ... False False False]]\n"
     ]
    }
   ],
   "source": [
    "row=[True]*10+[False]*10\n",
    "row=[row]*1000\n",
    "row=np.array(row)\n",
    "print(row)\n",
    "new_row = np.copy(row)\n"
   ]
  },
  {
   "cell_type": "code",
   "execution_count": 3,
   "metadata": {
    "slideshow": {
     "slide_type": "slide"
    }
   },
   "outputs": [
    {
     "data": {
      "image/png": "[encoded data removed]",
      "text/plain": [
       "<Figure size 864x432 with 2 Axes>"
      ]
     },
     "metadata": {
      "needs_background": "light"
     },
     "output_type": "display_data"
    }
   ],
   "source": [
    "fig=plt.figure(figsize=(12,6))\n",
    "plt.subplot(2,1,1)\n",
    "plt.imshow(row,interpolation='nearest')\n",
    "plt.gca().set_aspect(1/250)\n",
    "plt.gca().set_xticks([])\n",
    "plt.gca().set_yticks([])\n",
    "plt.subplot(2,1,2)\n",
    "plt.plot(np.arange(20),np.sum(row,axis=0))\n",
    "plt.gca().set_xticks(np.arange(20))\n",
    "plt.gca().set_title('number of yellows: %2.0f' % (np.sum(row)))\n",
    "plt.gca().set_aspect(1/250)\n"
   ]
  },
  {
   "cell_type": "markdown",
   "metadata": {
    "hide_input": false,
    "slideshow": {
     "slide_type": "slide"
    }
   },
   "source": [
    "Introduce *random* motion"
   ]
  },
  {
   "cell_type": "code",
   "execution_count": 6,
   "metadata": {
    "slideshow": {
     "slide_type": "-"
    }
   },
   "outputs": [],
   "source": [
    "for n in range(10):\n",
    "    row=np.copy(new_row)\n",
    "    for i in range(1,1000-1): \n",
    "        for j in range(1,20-1):\n",
    "            change_x = np.random.choice([-1,0,1])\n",
    "            change_y = np.random.choice([-1,0,1])\n",
    "            new_row[i,j] = row[i+change_x,j+change_y]\n",
    "            "
   ]
  },
  {
   "cell_type": "code",
   "execution_count": 7,
   "metadata": {
    "slideshow": {
     "slide_type": "slide"
    }
   },
   "outputs": [
    {
     "data": {
      "image/png": "[encoded data removed]",
      "text/plain": [
       "<Figure size 864x432 with 2 Axes>"
      ]
     },
     "metadata": {
      "needs_background": "light"
     },
     "output_type": "display_data"
    }
   ],
   "source": [
    "def make_fig(row,show_grad=False):\n",
    "    fig=plt.figure(figsize=(12,6))\n",
    "    plt.subplot(2,1,1)\n",
    "    plt.imshow(row,interpolation='nearest')\n",
    "    plt.gca().set_aspect(1/250)\n",
    "    plt.gca().set_xticks([])\n",
    "    plt.gca().set_yticks([])\n",
    "    plt.subplot(2,1,2)\n",
    "    plt.plot(np.arange(20),np.sum(row,axis=0)) \n",
    "    plt.gca().set_xticks(np.arange(20))\n",
    "    plt.gca().set_title('%% change in yellows: %2.2f' % (100*np.sum(row)/10000-100))\n",
    "    plt.gca().set_aspect(1/250)\n",
    "    if show_grad:\n",
    "        plt.gca().twinx().plot(np.arange(1,21),np.gradient(np.sum(row,axis=0)),color='r',label='gradient')\n",
    "        plt.gca().legend(loc='best')\n",
    "\n",
    "make_fig(row)"
   ]
  },
  {
   "cell_type": "code",
   "execution_count": 5,
   "metadata": {
    "slideshow": {
     "slide_type": "skip"
    }
   },
   "outputs": [
    {
     "data": {
      "application/vnd.jupyter.widget-view+json": {
       "model_id": "8d0e3ff53ebc4bfcb5eb8b49e0beb5f3",
       "version_major": 2,
       "version_minor": 0
      },
      "text/plain": [
       "HBox(children=(FloatProgress(value=0.0, max=200001.0), HTML(value='')))"
      ]
     },
     "metadata": {},
     "output_type": "display_data"
    },
    {
     "name": "stdout",
     "output_type": "stream",
     "text": [
      "\n"
     ]
    }
   ],
   "source": [
    "dt = .01\n",
    "total_time = 2000\n",
    "base_level_rise=5\n",
    "\n",
    "model = Diffuse1D(length=10000, spacing=10, tstep=dt, left=10, right=-200, K=1e2)\n",
    "xt = np.linspace(0, 10000, 10000)\n",
    "\n",
    "model.set_baselevel(xt, -10 * np.sin(xt * 3e-2) + base_level_rise / (total_time) * xt - 25)\n",
    "\n",
    "beds = []\n",
    "otime = []\n",
    "rsl = []\n",
    "# plt.plot(model.u)\n",
    "\n",
    "beds.append(model.u)\n",
    "otime.append(model.time)\n",
    "rsl.append(model.base_level)\n",
    "\n",
    "\n",
    "pbar = tqdm(range(int(total_time / dt)+1))\n",
    "for k in pbar:\n",
    "    model.run_step()\n",
    "    #     model.set_left(model.base_level+10)\n",
    "    if k % 2000 == 0:\n",
    "        pbar.set_description(\"Processing year %s\" % np.round(model.time, 1))\n",
    "        beds.append(model.u)\n",
    "        otime.append(model.time)\n",
    "        rsl.append(model.base_level)"
   ]
  },
  {
   "cell_type": "markdown",
   "metadata": {
    "slideshow": {
     "slide_type": "slide"
    }
   },
   "source": [
    "So how do we describe the change in the amount of yellow?"
   ]
  },
  {
   "cell_type": "markdown",
   "metadata": {
    "slideshow": {
     "slide_type": "notes"
    }
   },
   "source": [
    "flux of material to the right"
   ]
  },
  {
   "cell_type": "code",
   "execution_count": 8,
   "metadata": {
    "hide_input": false,
    "slideshow": {
     "slide_type": "-"
    }
   },
   "outputs": [
    {
     "data": {
      "image/png": "[encoded data removed]",
      "text/plain": [
       "<Figure size 864x432 with 3 Axes>"
      ]
     },
     "metadata": {
      "needs_background": "light"
     },
     "output_type": "display_data"
    }
   ],
   "source": [
    "make_fig(row,show_grad=True)"
   ]
  },
  {
   "cell_type": "markdown",
   "metadata": {
    "slideshow": {
     "slide_type": "fragment"
    }
   },
   "source": [
    "<span style=\"color:green;font-weight: bold\">where is the diffusive flux largest?</span>"
   ]
  },
  {
   "cell_type": "markdown",
   "metadata": {
    "slideshow": {
     "slide_type": "fragment"
    }
   },
   "source": [
    "- Flux is largest where the gradient is largest (they are proportional)"
   ]
  },
  {
   "cell_type": "markdown",
   "metadata": {
    "slideshow": {
     "slide_type": "slide"
    }
   },
   "source": [
    "## Diffusive flux: what is it in *words*\n",
    "Lets consider a property, $u$, that is distributed over some spatial grid, $x$. We are interested in what happens to $u$ when we introduce random transport (**diffusion**).\n",
    "- Diffusion occurs when a (1) conservative property ($u$, like mass, energy, momentum) moves through space (2) <span style=\"color:blue\"> at a rate </span>  <span style=\"color:red\"> proportional to a gradient </span>"
   ]
  },
  {
   "cell_type": "markdown",
   "metadata": {
    "slideshow": {
     "slide_type": "fragment"
    }
   },
   "source": [
    "Let's go through **number 2** first:"
   ]
  },
  {
   "cell_type": "markdown",
   "metadata": {
    "slideshow": {
     "slide_type": "fragment"
    }
   },
   "source": [
    "- <span style=\"color:blue\"> [tranportation rate of $u$] </span> is proportional to [<span style=\"color:red\"> change in amount of $u$ over some distance </span>]"
   ]
  },
  {
   "cell_type": "markdown",
   "metadata": {
    "slideshow": {
     "slide_type": "fragment"
    }
   },
   "source": [
    "- <span style=\"color:blue\"> [the flux $Q_u$] </span> is proportional to [<span style=\"color:red\"> the spatial gradient of $u$</span>]"
   ]
  },
  {
   "cell_type": "markdown",
   "metadata": {
    "slideshow": {
     "slide_type": "subslide"
    }
   },
   "source": [
    "## Diffusive flux: what it is in *math*\n",
    "The diffusive flux, <span style=\"color:blue\"> $Q_u$ </span> is proportional to the <span style=\"color:red\"> spatial gradient of $u$ </span>: \n",
    "\n",
    "$$\\begin{equation}\n",
    "\\color{blue}{ Q_u}\t\\propto \\color{red}{- \\dfrac{\\Delta u}{\\Delta x}}\n",
    "\\end{equation}$$"
   ]
  },
  {
   "cell_type": "markdown",
   "metadata": {
    "slideshow": {
     "slide_type": "fragment"
    }
   },
   "source": [
    "or introduce a *proportionality constant*, $K$, and now talk about *infinitisimal changes* ($\\partial$ vs. $\\Delta$):\n",
    "\n",
    "$$\\begin{equation}\n",
    "\\color{blue}{Q_u}\t= \\color{red}{- K \\dfrac{\\partial u}{\\partial x}}\n",
    "\\end{equation}$$"
   ]
  },
  {
   "cell_type": "markdown",
   "metadata": {
    "slideshow": {
     "slide_type": "fragment"
    }
   },
   "source": [
    "<center>\n",
    "    <div style='height:12vh;'>\n",
    "\t    <p>\n",
    "    </div>\n",
    "</center>\n",
    "<span style=\"color:green;font-weight: bold\">why is there a negative sign?</span>"
   ]
  },
  {
   "cell_type": "markdown",
   "metadata": {
    "slideshow": {
     "slide_type": "fragment"
    }
   },
   "source": [
    "- the flux constant is negative to indicate a transfer from regions of higher $u$ values to lower"
   ]
  },
  {
   "cell_type": "markdown",
   "metadata": {
    "slideshow": {
     "slide_type": "slide"
    }
   },
   "source": [
    "## Continuity equation: what is it in *words*\n",
    "- Diffusion occurs when a (1)  <span style=\"color:blue\"> conservative property </span> ($u \\rightarrow$ like mass, energy, momentum) <span style=\"color:red\"> moves through space </span> (2) at a rate  proportional to a gradient\n"
   ]
  },
  {
   "cell_type": "markdown",
   "metadata": {
    "slideshow": {
     "slide_type": "fragment"
    }
   },
   "source": [
    "- Now, let's tackle **point number one** (mass balance):  \n",
    "   - <span style=\"color:blue\"> [change in $u$ with time] </span> is equal to [<span style=\"color:red\"> change in transport rate of $u$ with distance </span>]\n",
    "   - <span style=\"color:blue\"> [rate of change in $u$] </span> is equal to [<span style=\"color:red\"> the flux gradient of $u$</span>]\n",
    "<center>\n",
    "    <div style='height:40vh;'>\n",
    "\t    <p>\n",
    "    </div>\n",
    "</center>"
   ]
  },
  {
   "cell_type": "markdown",
   "metadata": {
    "slideshow": {
     "slide_type": "subslide"
    }
   },
   "source": [
    "## Continuity equation: what is it in *math*\n",
    "This equality is known as the **continuity equation** (conservation of mass/energy/momentum):<br><br>\n",
    "$$\\begin{equation}\n",
    "\\color{blue}{ \\dfrac{\\Delta u}{\\Delta t}} =  \\color{red}{- \\dfrac{\\Delta Q_u}{\\Delta x}} = \\color{red}{- \\dfrac{Q_2 - Q_1}{x_2 - x_1}}\n",
    "\\end{equation}$$"
   ]
  },
  {
   "cell_type": "markdown",
   "metadata": {
    "slideshow": {
     "slide_type": "fragment"
    }
   },
   "source": [
    "Or in proper mathematical terms:<br>\n",
    "$$\\begin{equation}\n",
    "\\color{blue}{\\dfrac{\\partial u}{\\partial t}}\n",
    "\\color{black}{= }\n",
    "\\color{red}{- \\dfrac{\\partial Q_u}{\\partial x}}\n",
    "\\end{equation}$$\n",
    "<br>\n",
    "if Q2 > Q1, then u will:<br>\n",
    "if Q2 < Q1, then u will:<br>\n",
    "if Q2 = Q1, then u will:<br>"
   ]
  },
  {
   "cell_type": "markdown",
   "metadata": {
    "slideshow": {
     "slide_type": "fragment"
    }
   },
   "source": [
    "<span style=\"color:green;font-weight: bold\">How is this equation a conservation of mass?</span>\n"
   ]
  },
  {
   "cell_type": "markdown",
   "metadata": {
    "slideshow": {
     "slide_type": "notes"
    }
   },
   "source": [
    "Lets consider a discrete box model with the following properties, how would we determine the concentration of $u$ in our box at time, $T=1$?   \n",
    "`Qu=[1,1.5]\n",
    "X=[0,1]\n",
    "T=[0,1]\n",
    "U_0=[1]`  \n"
   ]
  },
  {
   "cell_type": "markdown",
   "metadata": {
    "slideshow": {
     "slide_type": "subslide"
    }
   },
   "source": [
    "By combining these two equations, we can show $u$ will change over time as a function of the second spatial derivative of $u$ (*the curvature*):  \n",
    "\n",
    "| Diffusive flux &nbsp; &nbsp;&nbsp;&nbsp; &nbsp; &nbsp; | Continuity equation |\n",
    "|:---|---:|\n",
    "|$Q_u= -K\\dfrac{\\partial u}{\\partial x}$|$\\color{blue}{\\dfrac{\\partial u}{\\partial t}} \\color{black}{= } \\color{red}{- \\dfrac{\\partial Q_u}{\\partial x}}$|\n",
    "\n"
   ]
  },
  {
   "cell_type": "markdown",
   "metadata": {
    "slideshow": {
     "slide_type": "fragment"
    }
   },
   "source": [
    "<center></center>\n",
    "$$\\begin{equation}\n",
    "\\color{blue}{\\dfrac{\\partial u}{\\partial t}}\n",
    "\\color{black}{= }\n",
    "K\\color{red}{\\dfrac{\\partial\\left(\\color{black}{\\dfrac{\\partial u}{\\partial x}}\\right)}{\\partial x}}\n",
    "\\color{black}{= }\n",
    "K \\dfrac{\\partial^2 u}{\\partial x^2}\\tag{Diffusion equation}\n",
    "\\end{equation}$$\n",
    "\n"
   ]
  },
  {
   "cell_type": "markdown",
   "metadata": {
    "slideshow": {
     "slide_type": "fragment"
    }
   },
   "source": [
    "Applying the diffusion equation to a physical system has two general requirements:\n",
    "1. transport / transfer is proportional to a gradient\n",
    "2. conservation of mass or energy\n",
    "<center>\n",
    "    <div style='height:30vh;'>\n",
    "\t    <p>\n",
    "    </div>\n",
    "</center>"
   ]
  },
  {
   "cell_type": "markdown",
   "metadata": {
    "slideshow": {
     "slide_type": "slide"
    }
   },
   "source": [
    "## Diffusion as a transport mechanism\n",
    "When we assume that **diffusive transport** exerts an important control on landscape dynamics we generally accept that particles on the surface of the planet are in constant complex motion, and there is some **downslope bias introduced by gravity** to those motions. Over time, **diffusion** can be assumed to smooth topography (by the transport of material downslope).\n",
    "<center></center>\n",
    "$$\\begin{equation}\n",
    "\\dfrac{\\partial h}{\\partial t}\n",
    "= \n",
    "K \\dfrac{\\partial^2 h}{\\partial x^2}\\tag{hillslope application}\n",
    "\\end{equation}$$\n",
    "\n",
    "\n",
    "\n",
    "\n",
    "\n",
    "\n",
    "\n",
    "<center>\n",
    "    <div style='height:40vh;'>\n",
    "\t    <p>\n",
    "    </div>\n",
    "</center>"
   ]
  },
  {
   "cell_type": "markdown",
   "metadata": {
    "slideshow": {
     "slide_type": "notes"
    }
   },
   "source": [
    "<span style='color:Gray'>    **Note: we wouldn't want to use this model to explain transport in rivers, why not?**</span>"
   ]
  },
  {
   "cell_type": "markdown",
   "metadata": {
    "slideshow": {
     "slide_type": "slide"
    }
   },
   "source": [
    "# A look ahead\n",
    "Over the next few weeks in your assignments you will be building a 1-D diffusive transport model to explore how variations in the following properties change the stratigraphic **architecture** of a basin:\n",
    "1. transport\n",
    "2. sediment supply\n",
    "3. accomodation space"
   ]
  },
  {
   "cell_type": "markdown",
   "metadata": {
    "slideshow": {
     "slide_type": "slide"
    }
   },
   "source": [
    "# An example: varying accomodation space"
   ]
  },
  {
   "cell_type": "code",
   "execution_count": 15,
   "metadata": {
    "slideshow": {
     "slide_type": "-"
    }
   },
   "outputs": [
    {
     "data": {
      "image/png": "[encoded data removed]",
      "text/plain": [
       "<Figure size 1296x864 with 1 Axes>"
      ]
     },
     "metadata": {
      "needs_background": "light"
     },
     "output_type": "display_data"
    }
   ],
   "source": [
    "animate_beds(beds=beds,otime=otime,rsl=rsl,aspect=5, ymin=-100)\n"
   ]
  },
  {
   "cell_type": "markdown",
   "metadata": {
    "slideshow": {
     "slide_type": "slide"
    }
   },
   "source": [
    "## For next Monday, please come prepared to discuss and work our way through the posted reading (Kenyon and Turcotte, 1985)"
   ]
  },
  {
   "cell_type": "markdown",
   "metadata": {
    "slideshow": {
     "slide_type": "skip"
    }
   },
   "source": [
    "## Solving the diffusion equation numerically\n",
    "We can use the diffusion equation to simulate more complicated transport than the specific case from *Kenyon and Turcott 1985*. Generally, after defining a few properties of the system <span style='color:DodgerBlue'>**(What properties?)**</span> we can solve how that system will change over time. However, there is no exact, or **analytical** form to this solution -- we must solve the equation by numerical approximation.\n",
    "<center></center>\n",
    "$$\\begin{equation}\n",
    "\\dfrac{\\partial h}{\\partial t}\n",
    "= \n",
    "K \\dfrac{\\partial^2 h}{\\partial x^2}\n",
    "\\end{equation}$$\n",
    "\n",
    "<center>\n",
    "    <div style='height:40vh;'>\n",
    "\t    <p>\n",
    "    </div>\n",
    "</center>"
   ]
  },
  {
   "cell_type": "markdown",
   "metadata": {
    "slideshow": {
     "slide_type": "skip"
    }
   },
   "source": [
    "<span style='color:DodgerBlue'>**(initial topography, boundary conditions at the edges)**</span>"
   ]
  },
  {
   "cell_type": "markdown",
   "metadata": {
    "slideshow": {
     "slide_type": "skip"
    }
   },
   "source": [
    "### The Derivative Function\n",
    "Recall: what is the definition of the derivative function $f'(x)$?"
   ]
  },
  {
   "cell_type": "markdown",
   "metadata": {
    "slideshow": {
     "slide_type": "skip"
    }
   },
   "source": [
    "$$\n",
    "\\begin{equation}\n",
    "f'(x)\n",
    "=\n",
    "\\lim_{\\Delta x\\to0}\n",
    "\\dfrac{f(x+\\Delta x)-f(x)}{\\Delta x}\n",
    "\\end{equation}\n",
    "=\n",
    "\\dfrac{\\Delta f}{\\Delta x}\n",
    "$$\n",
    "\n",
    "\n",
    "<center>\n",
    "    <div style='height:40vh;'>\n",
    "\t    <p>\n",
    "    </div>\n",
    "</center>"
   ]
  },
  {
   "cell_type": "markdown",
   "metadata": {
    "slideshow": {
     "slide_type": "skip"
    }
   },
   "source": [
    "<span style='color:DodgerBlue'>**While we can't calculate $\\Delta x$ and $\\Delta f$ for $\\lim{(\\Delta x\\to0)}$ CPUs have no trouble calculating $\\dfrac{\\Delta f}{\\Delta x}$ for a sufficiently small value of $\\Delta x$**</span>"
   ]
  },
  {
   "cell_type": "markdown",
   "metadata": {
    "slideshow": {
     "slide_type": "skip"
    }
   },
   "source": [
    "### Finite difference methods\n",
    "In fact, we have many possible approaches to estimating derivatives using *sufficiently small* values of $\\Delta x$, and these methods are collectively known as **finite difference methods**. These methods make use of <span style='color:DodgerBlue'>**Taylor's theorem**</span>:"
   ]
  },
  {
   "cell_type": "markdown",
   "metadata": {
    "slideshow": {
     "slide_type": "skip"
    }
   },
   "source": [
    "$\\begin{equation} f(x + \\Delta x) = f(x) + \\dfrac{f'(x)}{1!}(\\Delta x) + \\dfrac{f''(x)}{2!}(\\Delta x)^2 + ... \\end{equation} \\label{eq:taylor}\\tag{Taylor series} $  "
   ]
  },
  {
   "cell_type": "markdown",
   "metadata": {
    "slideshow": {
     "slide_type": "skip"
    }
   },
   "source": [
    "<span style='color:DodgerBlue'>**What happens to the size of each higher order term in the series?**</span>"
   ]
  },
  {
   "cell_type": "code",
   "execution_count": null,
   "metadata": {
    "slideshow": {
     "slide_type": "skip"
    }
   },
   "outputs": [],
   "source": []
  },
  {
   "cell_type": "code",
   "execution_count": 11,
   "metadata": {
    "slideshow": {
     "slide_type": "skip"
    }
   },
   "outputs": [],
   "source": [
    "from scipy.linalg import solve_banded\n",
    "from scipy.interpolate import interp1d\n",
    "import numpy as np\n",
    "from tqdm.notebook import tqdm\n",
    "import matplotlib\n",
    "from matplotlib import pyplot as plt\n",
    "from IPython.display import clear_output\n",
    "import seaborn as sns\n",
    "import matplotlib.cm as cm\n",
    "import time\n",
    "\n",
    "\n",
    "%matplotlib inline\n",
    "\n",
    "class Diffuse1D:\n",
    "    def __init__(self, length, spacing, tstep, left, right, K):\n",
    "        self.x = np.arange(0, length, spacing)\n",
    "        self.u = (\n",
    "            left - self.x * (left - right) / length\n",
    "        )  # sets initial to steady state solution\n",
    "        \n",
    "        self.u = (\n",
    "            left - self.x * (left - right) / length\n",
    "        )  # sets initial to steady state solution\n",
    "        #         self.u = np.zeros(self.x.shape)+right\n",
    "        N = self.x.size\n",
    "        self.tstep = tstep\n",
    "        self.spacing = spacing\n",
    "        self.K = K\n",
    "        k_arr = K * np.ones((N))  # m^2/yr\n",
    "        self.r = k_arr * (self.tstep / (2 * spacing ** 2))  ##Fourier number\n",
    "        self.time = 0\n",
    "        self.base_level_fun = interp1d([0, 1], [0, 0], bounds_error=False, fill_value=0)\n",
    "        self.base_level = self.base_level_fun(self.time)\n",
    "        self.sed_Q = 100 / spacing  # not sure if spacing is correct here\n",
    "        self.subsidence_r = 0.025 * 1e-3 * 1e1  # not in use yet\n",
    "        self.left = left\n",
    "        self.right = right\n",
    "\n",
    "        # initialize matrices A, B and b array\n",
    "        self.A = np.zeros((N, N))\n",
    "        self.B = np.zeros((N, N))\n",
    "        self.b = np.zeros((N))\n",
    "        # define matrices A, B and b array  ##THIS STEP IS SLOW -- but only called once\n",
    "        # see method update_K() for fast version\n",
    "        for i in range(N):\n",
    "            if i == 0:  # first\n",
    "                self.A[i, :] = [\n",
    "                    1 + 2 * self.r[j] if j == 0 else (-self.r[j]) if j == 1 else 0\n",
    "                    for j in range(N)\n",
    "                ]\n",
    "                self.B[i, :] = [\n",
    "                    1 - 2 * self.r[j] if j == 0 else self.r[j] if j == 1 else 0\n",
    "                    for j in range(N)\n",
    "                ]\n",
    "                self.b[i] = left  # boundary condition at i=1\n",
    "            elif i == N - 1:  # last\n",
    "                self.A[i, :] = [\n",
    "                    -self.r[j] if j == N - 2 else 1 + 2 * self.r[j] if j == N - 1 else 0\n",
    "                    for j in range(N)\n",
    "                ]\n",
    "                self.B[i, :] = [\n",
    "                    self.r[j] if j == N - 2 else 1 - 2 * self.r[j] if j == N - 1 else 0\n",
    "                    for j in range(N)\n",
    "                ]\n",
    "                self.b[i] =  right  # boundary condition at i=N\n",
    "            else:  # middles\n",
    "                self.A[i, :] = [\n",
    "                    -self.r[j]\n",
    "                    if j == i - 1 or j == i + 1\n",
    "                    else 1 + 2 * self.r[j]\n",
    "                    if j == i\n",
    "                    else 0\n",
    "                    for j in range(N)\n",
    "                ]\n",
    "                self.B[i, :] = [\n",
    "                    self.r[j]\n",
    "                    if j == i - 1 or j == i + 1\n",
    "                    else 1 - 2 * self.r[j]\n",
    "                    if j == i\n",
    "                    else 0\n",
    "                    for j in range(N)\n",
    "                ]\n",
    "\n",
    "        #von nuemann bottom\n",
    "#         self.A[-1,-1] = 1+self.r[-1]\n",
    "#         self.B[-1,-1] = 1-self.r[-1]\n",
    "#         self.b[-1]=0\n",
    "        \n",
    "        self.Ab = np.zeros((3, N))\n",
    "        self.Ab[0, 1:] = np.diag(self.A, -1)\n",
    "        self.Ab[1, :] = np.diag(self.A)\n",
    "        self.Ab[2, :-1] = np.diag(self.A, 1)\n",
    "        self.Q = np.zeros((N))\n",
    "        self.bb = self.B.dot(self.u) + 2 * self.r*self.b + self.tstep*self.Q\n",
    "\n",
    "        self.update_coastline()\n",
    "\n",
    "    def set_baselevel(self, time, rsl):\n",
    "        # can pass a set of paired time/rsl and model will interpolate for each dt\n",
    "        self.base_level_fun = interp1d(time, rsl)\n",
    "\n",
    "    def run_step(self):\n",
    "        #self.update_K()  # can disable if K is not changing with each t_step (ie as a function of elevation)\n",
    "        self.Q *= 0  # clearing any old sed flux terms\n",
    "        self.base_level = self.base_level_fun(self.time)  # update base level\n",
    "        self.update_coastline()  # select coastline point for sed flux\n",
    "        self.Q[self.coastline] += self.sed_Q  # add sediment to the coastline\n",
    "        self.bb = self.B.dot(self.u) + 2 * self.r*self.b + self.tstep*self.Q  # quick matrix addition\n",
    "        self.u = solve_banded(\n",
    "            (1, 1), self.Ab, self.bb\n",
    "        )  # this step solves the Crank-Nicholson matrix for next timestep\n",
    "        self.time += self.tstep  # increment timestep\n",
    "\n",
    "    def set_left(self, left):\n",
    "        # function to change boundary condition\n",
    "        self.b[0] = left\n",
    "\n",
    "    def set_u(self, u):\n",
    "        self.u = u\n",
    "\n",
    "    def set_right(self, right):\n",
    "        # function to change boundary condition\n",
    "        self.b[-1] = right\n",
    "\n",
    "    def update_coastline(self):\n",
    "        # finds the first grid point below base level starting on the left hand side\n",
    "        try:\n",
    "            self.coastline = np.where(self.u < (self.base_level))[0][0]\n",
    "        except:\n",
    "            self.coastline = 0\n",
    "\n",
    "    def update_K(self):\n",
    "        # updates K if you need it to change with each timestep\n",
    "        # the tridiagonal matrix forms below dont need to be inverted, so this is\n",
    "        # a much faster form of setting up the Crank-Nicolson solution\n",
    "        k_arr = self.K * np.ones((self.x.size))\n",
    "        k_arr[: self.coastline] = 1e-2\n",
    "#         swb = np.where(self.u < (self.base_level - 25))[0][0] #lower K below SWB?\n",
    "#         k_arr[swb:] = 1e-2\n",
    "        self.r = k_arr * (self.tstep / (2 * self.spacing ** 2))  ##Fourier number\n",
    "        np.fill_diagonal(self.B, 1 - 2 * self.r)\n",
    "        np.fill_diagonal(self.B[1:], self.r[1:])\n",
    "        np.fill_diagonal(self.B[:, 1:], self.r[:-1])\n",
    "        self.Ab[0, 1:] = -1 * self.r[:-1]\n",
    "        self.Ab[1, :] = 1 + 2 * self.r\n",
    "        self.Ab[2, :-1] = -1 * self.r[1:]\n",
    "        \n",
    "        #should the R_i match??  go back a few steps and check the full form\n",
    "        \n",
    "        #von nuemann bottom\n",
    "#         self.Ab[1, -1] = 1+self.r[-1]\n",
    "#         self.B[-1,-1] = 1-self.r[-1]\n",
    "#         self.b[-1]=0\n",
    "#         self.b[0] = self.left\n",
    "#         self.b[-1] = self.right\n",
    "\n",
    "def animate_beds(beds,otime,rsl, color=True, aspect=10, ymin=-55):\n",
    "    N = int(len(beds) / 2) + 1\n",
    "    cs_reg = sns.color_palette(\"viridis\", n_colors=np.sum(np.gradient(rsl) <= 0))\n",
    "    cs_trans = sns.color_palette(\"Greys\", n_colors=np.sum(np.gradient(rsl) > 0))\n",
    "    rsl_down = np.gradient(rsl) <= 0\n",
    "    if color==False:\n",
    "        cs_reg = sns.color_palette(\"Greys\", n_colors=100*np.sum(np.gradient(rsl) <= 0))\n",
    "        cs_trans = sns.color_palette(\"Greys\", n_colors=100*np.sum(np.gradient(rsl) > 0))\n",
    "\n",
    "    sns.set_palette(\"tab20\", n_colors=40)\n",
    "    \n",
    "    minima = min(np.gradient(rsl))\n",
    "    maxima = max(np.gradient(rsl))\n",
    "    max_max = max([minima,maxima])\n",
    "\n",
    "    norm = matplotlib.colors.Normalize(vmin=-1*max_max, vmax=max_max, clip=True)\n",
    "    mapper = cm.ScalarMappable(norm=norm, cmap=cm.RdBu)\n",
    "\n",
    "    # for k in range(len(beds)):\n",
    "    #         beds[k]-=otime[k]*model.subsidence_r\n",
    "\n",
    "    beds = np.array(beds)\n",
    "    for i, bed in enumerate(beds):\n",
    "\n",
    "        beds_eroded = []\n",
    "\n",
    "        for k, layer in enumerate(beds[:i]):\n",
    "            future_min = np.min(beds[k : i + 1], axis=0)\n",
    "            beds_eroded.append(future_min)\n",
    "        #         beds_eroded.append(layer)\n",
    "\n",
    "        beds_eroded.append(beds[i])\n",
    "        beds_eroded = np.array(beds_eroded)\n",
    "\n",
    "        fig = plt.figure(figsize=(18, 12))\n",
    "        clear_output(wait=True)\n",
    "        c = [0, 0]\n",
    "        z = N + 1\n",
    "        last_layer = beds_eroded[0]\n",
    "        for layer, down in zip(beds_eroded[: i + 1], np.gradient(rsl)):\n",
    "            if down:\n",
    "                plt.fill_between(\n",
    "                    np.arange(layer.size),\n",
    "                    last_layer,\n",
    "                    layer,\n",
    "                    facecolor=mapper.to_rgba(down),\n",
    "                    lw=0.5,\n",
    "                    edgecolor=(0, 0, 0),\n",
    "                )\n",
    "                c[0] += 1\n",
    "            else:\n",
    "                plt.fill_between(\n",
    "                    np.arange(layer.size),\n",
    "                    last_layer,\n",
    "                    layer,\n",
    "                    facecolor=cs_trans[c[1]],\n",
    "                    lw=0.1,\n",
    "                    edgecolor=(0, 0, 0),\n",
    "                )\n",
    "                c[1] += 1\n",
    "            z -= 1\n",
    "            last_layer = np.copy(layer)\n",
    "\n",
    "        plt.plot(bed, color=\"r\", zorder=N * 2 + 1)\n",
    "        plt.plot([0, 1000], [rsl[i], rsl[i]], \"--\", color=\"k\")\n",
    "\n",
    "        plt.gca().set_xlim([0, layer.size])\n",
    "        plt.gca().set_ylim([ymin, 0])\n",
    "        plt.gca().set_aspect(aspect)\n",
    "        #     plt.gca().set_title('Regression (color) and Transgression (greyscale)\\n with Constant Sed Flux (vertical exaggeration: 100)')\n",
    "        plt.gca().set_title(\"time=\" + str(np.round(otime[i], 2)) + \" years\")\n",
    "        plt.gca().set_ylabel(\"height (m)\")\n",
    "        plt.gca().set_xlabel(\"distance (10x meters)\")\n",
    "        plt.show()\n",
    "        time.sleep(0.01)"
   ]
  },
  {
   "cell_type": "code",
   "execution_count": 12,
   "metadata": {
    "slideshow": {
     "slide_type": "skip"
    }
   },
   "outputs": [
    {
     "data": {
      "application/vnd.jupyter.widget-view+json": {
       "model_id": "a3b667439d0b4128a35ff4a9ad43fed7",
       "version_major": 2,
       "version_minor": 0
      },
      "text/plain": [
       "  0%|          | 0/200001 [00:00<?, ?it/s]"
      ]
     },
     "metadata": {},
     "output_type": "display_data"
    }
   ],
   "source": [
    "dt = .01\n",
    "total_time = 2000\n",
    "base_level_rise=5\n",
    "\n",
    "model = Diffuse1D(length=10000, spacing=10, tstep=dt, left=10, right=-200, K=1e2)\n",
    "xt = np.linspace(0, 10000, 10000)\n",
    "\n",
    "model.set_baselevel(xt, -10 * np.sin(xt * 3e-2) + base_level_rise / (total_time) * xt - 25)\n",
    "\n",
    "beds = []\n",
    "otime = []\n",
    "rsl = []\n",
    "# plt.plot(model.u)\n",
    "\n",
    "beds.append(model.u)\n",
    "otime.append(model.time)\n",
    "rsl.append(model.base_level)\n",
    "\n",
    "\n",
    "pbar = tqdm(range(int(total_time / dt)+1))\n",
    "for k in pbar:\n",
    "    model.run_step()\n",
    "    #     model.set_left(model.base_level+10)\n",
    "    if k % 2000 == 0:\n",
    "        pbar.set_description(\"Processing year %s\" % np.round(model.time, 1))\n",
    "        beds.append(model.u)\n",
    "        otime.append(model.time)\n",
    "        rsl.append(model.base_level)"
   ]
  },
  {
   "cell_type": "code",
   "execution_count": null,
   "metadata": {
    "slideshow": {
     "slide_type": "skip"
    }
   },
   "outputs": [],
   "source": [
    "x_ran = np.linspace(0,total_time,len(pbar))\n",
    "plt.plot(x_ran,model.base_level_fun(x_ran))\n",
    "plt.gca().set_xlabel('Time (years)')\n",
    "plt.gca().set_ylabel('Base level')"
   ]
  },
  {
   "cell_type": "code",
   "execution_count": null,
   "metadata": {
    "slideshow": {
     "slide_type": "skip"
    }
   },
   "outputs": [],
   "source": [
    "animate_beds(beds=beds,otime=otime,rsl=rsl,aspect=5, ymin=-100)"
   ]
  },
  {
   "cell_type": "code",
   "execution_count": null,
   "metadata": {
    "slideshow": {
     "slide_type": "skip"
    }
   },
   "outputs": [],
   "source": []
  }
 ],
 "metadata": {
  "celltoolbar": "Slideshow",
  "kernelspec": {
   "display_name": "Python 3",
   "language": "python",
   "name": "python3"
  },
  "language_info": {
   "codemirror_mode": {
    "name": "ipython",
    "version": 3
   },
   "file_extension": ".py",
   "mimetype": "text/x-python",
   "name": "python",
   "nbconvert_exporter": "python",
   "pygments_lexer": "ipython3",
   "version": "3.9.1"
  },
  "rise": {
   "chalkboard": {
    "chalkEffect": 1,
    "chalkWidth": 7,
    "color": [
     "rgb(200,47,62)",
     "rgb(200,47,62)"
    ],
    "readOnly": false,
    "src": "Lecture1.json",
    "theme": "whiteboard"
   },
   "enable_chalkboard": true,
   "transition": "fade"
  },
  "toc": {
   "base_numbering": 1,
   "nav_menu": {
    "height": "229px",
    "width": "213px"
   },
   "number_sections": false,
   "sideBar": true,
   "skip_h1_title": false,
   "title_cell": "Table of Contents",
   "title_sidebar": "Contents",
   "toc_cell": false,
   "toc_position": {
    "height": "calc(100% - 180px)",
    "left": "10px",
    "top": "150px",
    "width": "426.667px"
   },
   "toc_section_display": true,
   "toc_window_display": false
  },
  "toc-autonumbering": true,
  "toc-showcode": false,
  "toc-showmarkdowntxt": false,
  "toc-showtags": false
 },
 "nbformat": 4,
 "nbformat_minor": 4
}
