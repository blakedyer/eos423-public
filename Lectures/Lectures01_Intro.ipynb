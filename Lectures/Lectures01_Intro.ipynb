{
 "cells": [
  {
   "cell_type": "code",
   "execution_count": null,
   "metadata": {
    "slideshow": {
     "slide_type": "skip"
    }
   },
   "outputs": [],
   "source": [
    "Lecture 1: Course introduction"
   ]
  },
  {
   "cell_type": "markdown",
   "metadata": {
    "slideshow": {
     "slide_type": "skip"
    }
   },
   "source": [
    "<div data-id=\"columns\" style=\"display:flex;height:60vh\">\n",
    "<div class=\"clearpanel_start\" style=\"visibility: visible;\">\n",
    " \n",
    "</div>\n",
    "<div class=\"clearpanel\" style=\"visibility: visible;\">\n",
    "    \n",
    "</div>\n",
    "</div>"
   ]
  },
  {
   "cell_type": "code",
   "execution_count": 1,
   "metadata": {
    "slideshow": {
     "slide_type": "skip"
    }
   },
   "outputs": [],
   "source": [
    "import numpy as np\n",
    "from IPython.core.display import HTML\n",
    "from matplotlib import pyplot as plt"
   ]
  },
  {
   "cell_type": "code",
   "execution_count": 3,
   "metadata": {
    "slideshow": {
     "slide_type": "skip"
    }
   },
   "outputs": [
    {
     "name": "stdout",
     "output_type": "stream",
     "text": [
      "Loading page http://localhost:8888/notebooks/Lectures01_Intro.ipynb?token=5937d7ea442aade7dc27bf992142d25f4863f0a71809c743 ...\n",
      "\u001b[38;2;255;165;0mactions\u001b[39m \u001b[38;2;255;165;0mjupyter-notebook:find-and-replace\u001b[39m \u001b[38;2;255;165;0mdoes not exist, still binding it in case it will be defined later...\u001b[39m\n",
      "\u001b[90mload_extensions\u001b[39m \u001b[90m{\u001b[39m\n",
      "\u001b[90m  '0': 'nbextensions_configurator/config_menu/main',\u001b[39m\n",
      "\u001b[90m  '1': 'contrib_nbextensions_help_item/main',\u001b[39m\n",
      "\u001b[90m  '2': 'rise/main',\u001b[39m\n",
      "\u001b[90m  '3': 'jupyter-js-widgets/extension',\u001b[39m\n",
      "\u001b[90m  '4': 'jupyter-black-master/jupyter-black',\u001b[39m\n",
      "\u001b[90m  '5': 'toc2/main',\u001b[39m\n",
      "\u001b[90m  '6': 'hide_code/hide_code',\u001b[39m\n",
      "\u001b[90m  '7': 'hide_input/main',\u001b[39m\n",
      "\u001b[90m  '8': 'codefolding/main',\u001b[39m\n",
      "\u001b[90m  '9': 'splitcell/splitcell'\u001b[39m\n",
      "\u001b[90m}\u001b[39m\n",
      "\u001b[90mLoaded moment locale\u001b[39m \u001b[90men-gb\u001b[39m\n",
      "\u001b[31mFailed to load resource: the server responded with a status of 404 (Not Found)\u001b[39m\n",
      "\u001b[90mHTML Sanitizer\u001b[39m \u001b[90mdiv.style changed\u001b[39m \u001b[90m{\u001b[39m\n",
      "\u001b[90m  change: 'changed',\u001b[39m\n",
      "\u001b[90m  tagName: 'div',\u001b[39m\n",
      "\u001b[90m  attribName: 'style',\u001b[39m\n",
      "\u001b[90m  oldValue: 'display:flex;height:60vh',\u001b[39m\n",
      "\u001b[90m  newValue: 'display: flex ; height: 60vh'\u001b[39m\n",
      "\u001b[90m}\u001b[39m\n",
      "\u001b[90mHTML Sanitizer\u001b[39m \u001b[90mdiv.style changed\u001b[39m \u001b[90m{\u001b[39m\n",
      "\u001b[90m  change: 'changed',\u001b[39m\n",
      "\u001b[90m  tagName: 'div',\u001b[39m\n",
      "\u001b[90m  attribName: 'style',\u001b[39m\n",
      "\u001b[90m  oldValue: 'visibility: visible;',\u001b[39m\n",
      "\u001b[90m  newValue: 'visibility: visible'\u001b[39m\n",
      "\u001b[90m}\u001b[39m\n",
      "\u001b[90mHTML Sanitizer\u001b[39m \u001b[90mdiv.style changed\u001b[39m \u001b[90m{\u001b[39m\n",
      "\u001b[90m  change: 'changed',\u001b[39m\n",
      "\u001b[90m  tagName: 'div',\u001b[39m\n",
      "\u001b[90m  attribName: 'style',\u001b[39m\n",
      "\u001b[90m  oldValue: 'visibility: visible;',\u001b[39m\n",
      "\u001b[90m  newValue: 'visibility: visible'\u001b[39m\n",
      "\u001b[90m}\u001b[39m\n",
      "\u001b[90mHTML Sanitizer\u001b[39m \u001b[90mimg.style changed\u001b[39m \u001b[90m{\u001b[39m\n",
      "\u001b[90m  change: 'changed',\u001b[39m\n",
      "\u001b[90m  tagName: 'img',\u001b[39m\n",
      "\u001b[90m  attribName: 'style',\u001b[39m\n",
      "\u001b[90m  oldValue: 'height:25vh',\u001b[39m\n",
      "\u001b[90m  newValue: 'height: 25vh'\u001b[39m\n",
      "\u001b[90m}\u001b[39m\n",
      "\u001b[90mHTML Sanitizer\u001b[39m \u001b[90mol.style changed\u001b[39m \u001b[90m{\u001b[39m\n",
      "\u001b[90m  change: 'changed',\u001b[39m\n",
      "\u001b[90m  tagName: 'ol',\u001b[39m\n",
      "\u001b[90m  attribName: 'style',\u001b[39m\n",
      "\u001b[90m  oldValue: 'font-size:.8em',\u001b[39m\n",
      "\u001b[90m  newValue: 'font-size: 0.8em'\u001b[39m\n",
      "\u001b[90m}\u001b[39m\n",
      "\u001b[90mHTML Sanitizer\u001b[39m \u001b[90mdiv.style changed\u001b[39m \u001b[90m{\u001b[39m\n",
      "\u001b[90m  change: 'changed',\u001b[39m\n",
      "\u001b[90m  tagName: 'div',\u001b[39m\n",
      "\u001b[90m  attribName: 'style',\u001b[39m\n",
      "\u001b[90m  oldValue: 'font-size:25px',\u001b[39m\n",
      "\u001b[90m  newValue: 'font-size: 25px'\u001b[39m\n",
      "\u001b[90m}\u001b[39m\n",
      "\u001b[90mHTML Sanitizer\u001b[39m \u001b[90mdiv.style changed\u001b[39m \u001b[90m{\u001b[39m\n",
      "\u001b[90m  change: 'changed',\u001b[39m\n",
      "\u001b[90m  tagName: 'div',\u001b[39m\n",
      "\u001b[90m  attribName: 'style',\u001b[39m\n",
      "\u001b[90m  oldValue: 'float:left',\u001b[39m\n",
      "\u001b[90m  newValue: 'float: left'\u001b[39m\n",
      "\u001b[90m}\u001b[39m\n",
      "\u001b[90mHTML Sanitizer\u001b[39m \u001b[90mdiv.width removed\u001b[39m \u001b[90m{\u001b[39m\n",
      "\u001b[90m  change: 'removed',\u001b[39m\n",
      "\u001b[90m  tagName: 'div',\u001b[39m\n",
      "\u001b[90m  attribName: 'width',\u001b[39m\n",
      "\u001b[90m  oldValue: '50%',\u001b[39m\n",
      "\u001b[90m  newValue: null\u001b[39m\n",
      "\u001b[90m}\u001b[39m\n",
      "\u001b[90mHTML Sanitizer\u001b[39m \u001b[90mol.style changed\u001b[39m \u001b[90m{\u001b[39m\n",
      "\u001b[90m  change: 'changed',\u001b[39m\n",
      "\u001b[90m  tagName: 'ol',\u001b[39m\n",
      "\u001b[90m  attribName: 'style',\u001b[39m\n",
      "\u001b[90m  oldValue: 'font-size:.7em',\u001b[39m\n",
      "\u001b[90m  newValue: 'font-size: 0.7em'\u001b[39m\n",
      "\u001b[90m}\u001b[39m\n",
      "\u001b[90mHTML Sanitizer\u001b[39m \u001b[90mdiv.width removed\u001b[39m \u001b[90m{\u001b[39m\n",
      "\u001b[90m  change: 'removed',\u001b[39m\n",
      "\u001b[90m  tagName: 'div',\u001b[39m\n",
      "\u001b[90m  attribName: 'width',\u001b[39m\n",
      "\u001b[90m  oldValue: '50%',\u001b[39m\n",
      "\u001b[90m  newValue: null\u001b[39m\n",
      "\u001b[90m}\u001b[39m\n",
      "\u001b[90mHTML Sanitizer\u001b[39m \u001b[90mdiv.style changed\u001b[39m \u001b[90m{\u001b[39m\n",
      "\u001b[90m  change: 'changed',\u001b[39m\n",
      "\u001b[90m  tagName: 'div',\u001b[39m\n",
      "\u001b[90m  attribName: 'style',\u001b[39m\n",
      "\u001b[90m  oldValue: 'font-size:.7em',\u001b[39m\n",
      "\u001b[90m  newValue: 'font-size: 0.7em'\u001b[39m\n",
      "\u001b[90m}\u001b[39m\n",
      "\u001b[90mHTML Sanitizer\u001b[39m \u001b[90mimg.vh changed\u001b[39m \u001b[90m{\u001b[39m\n",
      "\u001b[90m  change: 'changed',\u001b[39m\n",
      "\u001b[90m  tagName: 'img',\u001b[39m\n",
      "\u001b[90m  attribName: 'vh',\u001b[39m\n",
      "\u001b[90m  oldValue: '',\u001b[39m\n",
      "\u001b[90m  newValue: null\u001b[39m\n",
      "\u001b[90m}\u001b[39m\n",
      "\u001b[90mHTML Sanitizer\u001b[39m \u001b[90mimg.style changed\u001b[39m \u001b[90m{\u001b[39m\n",
      "\u001b[90m  change: 'changed',\u001b[39m\n",
      "\u001b[90m  tagName: 'img',\u001b[39m\n",
      "\u001b[90m  attribName: 'style',\u001b[39m\n",
      "\u001b[90m  oldValue: 'height:30vh',\u001b[39m\n",
      "\u001b[90m  newValue: 'height: 30vh'\u001b[39m\n",
      "\u001b[90m}\u001b[39m\n",
      "\u001b[90mHTML Sanitizer\u001b[39m \u001b[90mp.style changed\u001b[39m \u001b[90m{\u001b[39m\n",
      "\u001b[90m  change: 'changed',\u001b[39m\n",
      "\u001b[90m  tagName: 'p',\u001b[39m\n",
      "\u001b[90m  attribName: 'style',\u001b[39m\n",
      "\u001b[90m  oldValue: 'font-size:.7em',\u001b[39m\n",
      "\u001b[90m  newValue: 'font-size: 0.7em'\u001b[39m\n",
      "\u001b[90m}\u001b[39m\n",
      "\u001b[90mHTML Sanitizer\u001b[39m \u001b[90mdiv.style changed\u001b[39m \u001b[90m{\u001b[39m\n",
      "\u001b[90m  change: 'changed',\u001b[39m\n",
      "\u001b[90m  tagName: 'div',\u001b[39m\n",
      "\u001b[90m  attribName: 'style',\u001b[39m\n",
      "\u001b[90m  oldValue: 'background-image:url(\"images/paradox_slide.jpg\");background-repeat: no-repeat;\\n' +\u001b[39m\n",
      "\u001b[90m    '  background-size: contain;\\n' +\u001b[39m\n",
      "\u001b[90m    '  height: 800px;\\n' +\u001b[39m\n",
      "\u001b[90m    '  width: 100%;\\n' +\u001b[39m\n",
      "\u001b[90m    '  background-position: center;\\n',\u001b[39m\n",
      "\u001b[90m  newValue: 'background-image: url(\"images/paradox_slide.jpg\") ; background-repeat: no-repeat ; background-size: contain ; height: 800px ; width: 100% ; background-position: center'\u001b[39m\n",
      "\u001b[90m}\u001b[39m\n",
      "\u001b[90mHTML Sanitizer\u001b[39m \u001b[90mdiv.style changed\u001b[39m \u001b[90m{\u001b[39m\n",
      "\u001b[90m  change: 'changed',\u001b[39m\n",
      "\u001b[90m  tagName: 'div',\u001b[39m\n",
      "\u001b[90m  attribName: 'style',\u001b[39m\n",
      "\u001b[90m  oldValue: 'background-image:url(\"images/SandyHook_0.jpg\");background-repeat: no-repeat;\\n' +\u001b[39m\n",
      "\u001b[90m    '  background-size: contain;\\n' +\u001b[39m\n",
      "\u001b[90m    '  height: 800px;\\n' +\u001b[39m\n",
      "\u001b[90m    '  width: 100%;\\n' +\u001b[39m\n",
      "\u001b[90m    '  background-position: center;\\n',\u001b[39m\n",
      "\u001b[90m  newValue: 'background-image: url(\"images/SandyHook_0.jpg\") ; background-repeat: no-repeat ; background-size: contain ; height: 800px ; width: 100% ; background-position: center'\u001b[39m\n",
      "\u001b[90m}\u001b[39m\n",
      "\u001b[90mHTML Sanitizer\u001b[39m \u001b[90mdiv.style changed\u001b[39m \u001b[90m{\u001b[39m\n",
      "\u001b[90m  change: 'changed',\u001b[39m\n",
      "\u001b[90m  tagName: 'div',\u001b[39m\n",
      "\u001b[90m  attribName: 'style',\u001b[39m\n",
      "\u001b[90m  oldValue: 'background-image:url(\"images/SandyHook_1.jpg\");background-repeat: no-repeat;\\n' +\u001b[39m\n",
      "\u001b[90m    '  background-size: contain;\\n' +\u001b[39m\n",
      "\u001b[90m    '  height: 800px;\\n' +\u001b[39m\n",
      "\u001b[90m    '  width: 100%;\\n' +\u001b[39m\n",
      "\u001b[90m    '  background-position: center;\\n',\u001b[39m\n",
      "\u001b[90m  newValue: 'background-image: url(\"images/SandyHook_1.jpg\") ; background-repeat: no-repeat ; background-size: contain ; height: 800px ; width: 100% ; background-position: center'\u001b[39m\n",
      "\u001b[90m}\u001b[39m\n",
      "\u001b[38;2;255;165;0mError with Permissions-Policy header: Unrecognized feature: 'ch-ua-full-version-list'.\u001b[39m\n",
      "\u001b[38;2;255;165;0mError with Permissions-Policy header: Unrecognized feature: 'ch-ua-wow64'.\u001b[39m\n",
      "\u001b[38;2;255;165;0mError with Permissions-Policy header: Unrecognized feature: 'ch-ua-form-factors'.\u001b[39m\n",
      "\u001b[90mHTML Sanitizer\u001b[39m \u001b[90mdiv.style changed\u001b[39m \u001b[90m{\u001b[39m\n",
      "\u001b[90m  change: 'changed',\u001b[39m\n",
      "\u001b[90m  tagName: 'div',\u001b[39m\n",
      "\u001b[90m  attribName: 'style',\u001b[39m\n",
      "\u001b[90m  oldValue: 'background-image:url(\"images/SandyHook_2.jpg\");background-repeat: no-repeat;\\n' +\u001b[39m\n",
      "\u001b[90m    '  background-size: contain;\\n' +\u001b[39m\n",
      "\u001b[90m    '  height: 800px;\\n' +\u001b[39m\n",
      "\u001b[90m    '  width: 100%;\\n' +\u001b[39m\n",
      "\u001b[90m    '  background-position: center;\\n',\u001b[39m\n",
      "\u001b[90m  newValue: 'background-image: url(\"images/SandyHook_2.jpg\") ; background-repeat: no-repeat ; background-size: contain ; height: 800px ; width: 100% ; background-position: center'\u001b[39m\n",
      "\u001b[90m}\u001b[39m\n",
      "\u001b[90mHTML Sanitizer\u001b[39m \u001b[90mdiv.style changed\u001b[39m \u001b[90m{\u001b[39m\n",
      "\u001b[90m  change: 'changed',\u001b[39m\n",
      "\u001b[90m  tagName: 'div',\u001b[39m\n",
      "\u001b[90m  attribName: 'style',\u001b[39m\n",
      "\u001b[90m  oldValue: 'background-image:url(\"images/SandyHook_3.jpg\");background-repeat: no-repeat;\\n' +\u001b[39m\n",
      "\u001b[90m    '  background-size: contain;\\n' +\u001b[39m\n",
      "\u001b[90m    '  height: 800px;\\n' +\u001b[39m\n",
      "\u001b[90m    '  width: 100%;\\n' +\u001b[39m\n",
      "\u001b[90m    '  background-position: center;\\n',\u001b[39m\n",
      "\u001b[90m  newValue: 'background-image: url(\"images/SandyHook_3.jpg\") ; background-repeat: no-repeat ; background-size: contain ; height: 800px ; width: 100% ; background-position: center'\u001b[39m\n",
      "\u001b[90m}\u001b[39m\n",
      "\u001b[90mHTML Sanitizer\u001b[39m \u001b[90mdiv.style changed\u001b[39m \u001b[90m{\u001b[39m\n",
      "\u001b[90m  change: 'changed',\u001b[39m\n",
      "\u001b[90m  tagName: 'div',\u001b[39m\n",
      "\u001b[90m  attribName: 'style',\u001b[39m\n",
      "\u001b[90m  oldValue: 'background-image:url(\"images/SandyHook_4.jpg\");background-repeat: no-repeat;\\n' +\u001b[39m\n",
      "\u001b[90m    '  background-size: contain;\\n' +\u001b[39m\n",
      "\u001b[90m    '  height: 800px;\\n' +\u001b[39m\n",
      "\u001b[90m    '  width: 100%;\\n' +\u001b[39m\n",
      "\u001b[90m    '  background-position: center;\\n',\u001b[39m\n",
      "\u001b[90m  newValue: 'background-image: url(\"images/SandyHook_4.jpg\") ; background-repeat: no-repeat ; background-size: contain ; height: 800px ; width: 100% ; background-position: center'\u001b[39m\n",
      "\u001b[90m}\u001b[39m\n",
      "\u001b[90mHTML Sanitizer\u001b[39m \u001b[90mdiv.style changed\u001b[39m \u001b[90m{\u001b[39m\n",
      "\u001b[90m  change: 'changed',\u001b[39m\n",
      "\u001b[90m  tagName: 'div',\u001b[39m\n",
      "\u001b[90m  attribName: 'style',\u001b[39m\n",
      "\u001b[90m  oldValue: 'background-image:url(\"images/SandyHook_5.jpg\");background-repeat: no-repeat;\\n' +\u001b[39m\n",
      "\u001b[90m    '  background-size: contain;\\n' +\u001b[39m\n",
      "\u001b[90m    '  height: 800px;\\n' +\u001b[39m\n",
      "\u001b[90m    '  width: 100%;\\n' +\u001b[39m\n",
      "\u001b[90m    '  background-position: center;\\n',\u001b[39m\n",
      "\u001b[90m  newValue: 'background-image: url(\"images/SandyHook_5.jpg\") ; background-repeat: no-repeat ; background-size: contain ; height: 800px ; width: 100% ; background-position: center'\u001b[39m\n",
      "\u001b[90m}\u001b[39m\n",
      "\u001b[90mHTML Sanitizer\u001b[39m \u001b[90mdiv.style changed\u001b[39m \u001b[90m{\u001b[39m\n",
      "\u001b[90m  change: 'changed',\u001b[39m\n",
      "\u001b[90m  tagName: 'div',\u001b[39m\n",
      "\u001b[90m  attribName: 'style',\u001b[39m\n",
      "\u001b[90m  oldValue: 'background-image:url(\"images/SandyHook_6.jpg\");background-repeat: no-repeat;\\n' +\u001b[39m\n",
      "\u001b[90m    '  background-size: contain;\\n' +\u001b[39m\n",
      "\u001b[90m    '  height: 800px;\\n' +\u001b[39m\n",
      "\u001b[90m    '  width: 100%;\\n' +\u001b[39m\n",
      "\u001b[90m    '  background-position: center;\\n',\u001b[39m\n",
      "\u001b[90m  newValue: 'background-image: url(\"images/SandyHook_6.jpg\") ; background-repeat: no-repeat ; background-size: contain ; height: 800px ; width: 100% ; background-position: center'\u001b[39m\n",
      "\u001b[90m}\u001b[39m\n",
      "\u001b[90mHTML Sanitizer\u001b[39m \u001b[90mdiv.style changed\u001b[39m \u001b[90m{\u001b[39m\n",
      "\u001b[90m  change: 'changed',\u001b[39m\n",
      "\u001b[90m  tagName: 'div',\u001b[39m\n",
      "\u001b[90m  attribName: 'style',\u001b[39m\n",
      "\u001b[90m  oldValue: 'background-image:url(\"images/SandyHook_7.jpg\");background-repeat: no-repeat;\\n' +\u001b[39m\n",
      "\u001b[90m    '  background-size: contain;\\n' +\u001b[39m\n",
      "\u001b[90m    '  height: 800px;\\n' +\u001b[39m\n",
      "\u001b[90m    '  width: 100%;\\n' +\u001b[39m\n",
      "\u001b[90m    '  background-position: center;\\n',\u001b[39m\n",
      "\u001b[90m  newValue: 'background-image: url(\"images/SandyHook_7.jpg\") ; background-repeat: no-repeat ; background-size: contain ; height: 800px ; width: 100% ; background-position: center'\u001b[39m\n",
      "\u001b[90m}\u001b[39m\n",
      "\u001b[90mHTML Sanitizer\u001b[39m \u001b[90mdiv.style changed\u001b[39m \u001b[90m{\u001b[39m\n",
      "\u001b[90m  change: 'changed',\u001b[39m\n",
      "\u001b[90m  tagName: 'div',\u001b[39m\n",
      "\u001b[90m  attribName: 'style',\u001b[39m\n",
      "\u001b[90m  oldValue: 'background-image:url(\"images/dunes.jpg\");background-repeat: no-repeat;\\n' +\u001b[39m\n",
      "\u001b[90m    '  background-size: cover;\\n' +\u001b[39m\n",
      "\u001b[90m    '  background-position: 50% 50%;\\n' +\u001b[39m\n",
      "\u001b[90m    '  height: 800px;\\n' +\u001b[39m\n",
      "\u001b[90m    '  width: 100%;\\n' +\u001b[39m\n",
      "\u001b[90m    '  display: table;\\n' +\u001b[39m\n",
      "\u001b[90m    '  overflow: hidden;',\u001b[39m\n",
      "\u001b[90m  newValue: 'background-image: url(\"images/dunes.jpg\") ; background-repeat: no-repeat ; background-size: cover ; background-position: 50% 50% ; height: 800px ; width: 100% ; display: table ; overflow: hidden'\u001b[39m\n",
      "\u001b[90m}\u001b[39m\n",
      "\u001b[90mHTML Sanitizer\u001b[39m \u001b[90mdiv.style changed\u001b[39m \u001b[90m{\u001b[39m\n",
      "\u001b[90m  change: 'changed',\u001b[39m\n",
      "\u001b[90m  tagName: 'div',\u001b[39m\n",
      "\u001b[90m  attribName: 'style',\u001b[39m\n",
      "\u001b[90m  oldValue: 'background-image:url(\"images/dunes.jpg\");background-repeat: no-repeat;\\n' +\u001b[39m\n",
      "\u001b[90m    '  background-size: cover;\\n' +\u001b[39m\n",
      "\u001b[90m    '  background-position: 50% 50%;\\n' +\u001b[39m\n",
      "\u001b[90m    '  height: 800px;\\n' +\u001b[39m\n",
      "\u001b[90m    '  width: 100%;\\n' +\u001b[39m\n",
      "\u001b[90m    '  display: table;\\n' +\u001b[39m\n",
      "\u001b[90m    '  overflow: hidden;',\u001b[39m\n",
      "\u001b[90m  newValue: 'background-image: url(\"images/dunes.jpg\") ; background-repeat: no-repeat ; background-size: cover ; background-position: 50% 50% ; height: 800px ; width: 100% ; display: table ; overflow: hidden'\u001b[39m\n",
      "\u001b[90m}\u001b[39m\n",
      "\u001b[90mHTML Sanitizer\u001b[39m \u001b[90mp.style changed\u001b[39m \u001b[90m{\u001b[39m\n",
      "\u001b[90m  change: 'changed',\u001b[39m\n",
      "\u001b[90m  tagName: 'p',\u001b[39m\n",
      "\u001b[90m  attribName: 'style',\u001b[39m\n",
      "\u001b[90m  oldValue: 'color:white;font-weight: 900;margin-left:2em;margin-top:2em',\u001b[39m\n",
      "\u001b[90m  newValue: 'color: white ; font-weight: 900 ; margin-left: 2em ; margin-top: 2em'\u001b[39m\n",
      "\u001b[90m}\u001b[39m\n",
      "\u001b[90mHTML Sanitizer\u001b[39m \u001b[90mdiv.style changed\u001b[39m \u001b[90m{\u001b[39m\n",
      "\u001b[90m  change: 'changed',\u001b[39m\n",
      "\u001b[90m  tagName: 'div',\u001b[39m\n",
      "\u001b[90m  attribName: 'style',\u001b[39m\n",
      "\u001b[90m  oldValue: 'background-image:url(\"images/mars_valley.jpg\");background-repeat: no-repeat;\\n' +\u001b[39m\n",
      "\u001b[90m    '  background-size: cover;\\n' +\u001b[39m\n",
      "\u001b[90m    '  background-position: 50% 50%;\\n' +\u001b[39m\n",
      "\u001b[90m    '  height: 800px;\\n' +\u001b[39m\n",
      "\u001b[90m    '  width: 100%;\\n' +\u001b[39m\n",
      "\u001b[90m    '  display: table;\\n' +\u001b[39m\n",
      "\u001b[90m    '  overflow: hidden;',\u001b[39m\n",
      "\u001b[90m  newValue: 'background-image: url(\"images/mars_valley.jpg\") ; background-repeat: no-repeat ; background-size: cover ; background-position: 50% 50% ; height: 800px ; width: 100% ; display: table ; overflow: hidden'\u001b[39m\n",
      "\u001b[90m}\u001b[39m\n",
      "\u001b[90mHTML Sanitizer\u001b[39m \u001b[90mdiv.style changed\u001b[39m \u001b[90m{\u001b[39m\n",
      "\u001b[90m  change: 'changed',\u001b[39m\n",
      "\u001b[90m  tagName: 'div',\u001b[39m\n",
      "\u001b[90m  attribName: 'style',\u001b[39m\n",
      "\u001b[90m  oldValue: 'background-image:url(\"images/tidal_channels.jpg\");background-repeat: no-repeat;\\n' +\u001b[39m\n",
      "\u001b[90m    '  background-size: cover;\\n' +\u001b[39m\n",
      "\u001b[90m    '  background-position: 50% 50%;\\n' +\u001b[39m\n",
      "\u001b[90m    '  height: 800px;\\n' +\u001b[39m\n",
      "\u001b[90m    '  width: 100%;\\n' +\u001b[39m\n",
      "\u001b[90m    '  display: table;\\n' +\u001b[39m\n",
      "\u001b[90m    '  overflow: hidden;',\u001b[39m\n",
      "\u001b[90m  newValue: 'background-image: url(\"images/tidal_channels.jpg\") ; background-repeat: no-repeat ; background-size: cover ; background-position: 50% 50% ; height: 800px ; width: 100% ; display: table ; overflow: hidden'\u001b[39m\n",
      "\u001b[90m}\u001b[39m\n",
      "\u001b[90mHTML Sanitizer\u001b[39m \u001b[90mdiv.style changed\u001b[39m \u001b[90m{\u001b[39m\n",
      "\u001b[90m  change: 'changed',\u001b[39m\n",
      "\u001b[90m  tagName: 'div',\u001b[39m\n",
      "\u001b[90m  attribName: 'style',\u001b[39m\n",
      "\u001b[90m  oldValue: 'background-image:url(\"images/carbon_cycle_0.jpg\");background-repeat: no-repeat;\\n' +\u001b[39m\n",
      "\u001b[90m    '  background-size: contain;\\n' +\u001b[39m\n",
      "\u001b[90m    '  background-position: 50% 50%;\\n' +\u001b[39m\n",
      "\u001b[90m    '  height: 800px;\\n' +\u001b[39m\n",
      "\u001b[90m    '  width: 100%;\\n' +\u001b[39m\n",
      "\u001b[90m    '  display: table;\\n' +\u001b[39m\n",
      "\u001b[90m    '  overflow: hidden;',\u001b[39m\n",
      "\u001b[90m  newValue: 'background-image: url(\"images/carbon_cycle_0.jpg\") ; background-repeat: no-repeat ; background-size: contain ; background-position: 50% 50% ; height: 800px ; width: 100% ; display: table ; overflow: hidden'\u001b[39m\n",
      "\u001b[90m}\u001b[39m\n",
      "\u001b[90mHTML Sanitizer\u001b[39m \u001b[90mdiv.style changed\u001b[39m \u001b[90m{\u001b[39m\n",
      "\u001b[90m  change: 'changed',\u001b[39m\n",
      "\u001b[90m  tagName: 'div',\u001b[39m\n",
      "\u001b[90m  attribName: 'style',\u001b[39m\n",
      "\u001b[90m  oldValue: 'background-image:url(\"images/carbon_cycle_1.jpg\");background-repeat: no-repeat;\\n' +\u001b[39m\n",
      "\u001b[90m    '  background-size: contain;\\n' +\u001b[39m\n",
      "\u001b[90m    '  background-position: 50% 50%;\\n' +\u001b[39m\n",
      "\u001b[90m    '  height: 800px;\\n' +\u001b[39m\n",
      "\u001b[90m    '  width: 100%;\\n' +\u001b[39m\n",
      "\u001b[90m    '  display: table;\\n' +\u001b[39m\n",
      "\u001b[90m    '  overflow: hidden;',\u001b[39m\n",
      "\u001b[90m  newValue: 'background-image: url(\"images/carbon_cycle_1.jpg\") ; background-repeat: no-repeat ; background-size: contain ; background-position: 50% 50% ; height: 800px ; width: 100% ; display: table ; overflow: hidden'\u001b[39m\n",
      "\u001b[90m}\u001b[39m\n",
      "\u001b[90mHTML Sanitizer\u001b[39m \u001b[90mdiv.style changed\u001b[39m \u001b[90m{\u001b[39m\n",
      "\u001b[90m  change: 'changed',\u001b[39m\n",
      "\u001b[90m  tagName: 'div',\u001b[39m\n",
      "\u001b[90m  attribName: 'style',\u001b[39m\n",
      "\u001b[90m  oldValue: 'background-image:url(\"images/carbon_cycle_2.jpg\");background-repeat: no-repeat;\\n' +\u001b[39m\n",
      "\u001b[90m    '  background-size: contain;\\n' +\u001b[39m\n",
      "\u001b[90m    '  background-position: 50% 50%;\\n' +\u001b[39m\n",
      "\u001b[90m    '  height: 800px;\\n' +\u001b[39m\n",
      "\u001b[90m    '  width: 100%;\\n' +\u001b[39m\n",
      "\u001b[90m    '  display: table;\\n' +\u001b[39m\n",
      "\u001b[90m    '  overflow: hidden;',\u001b[39m\n",
      "\u001b[90m  newValue: 'background-image: url(\"images/carbon_cycle_2.jpg\") ; background-repeat: no-repeat ; background-size: contain ; background-position: 50% 50% ; height: 800px ; width: 100% ; display: table ; overflow: hidden'\u001b[39m\n",
      "\u001b[90m}\u001b[39m\n",
      "\u001b[90mHTML Sanitizer\u001b[39m \u001b[90mdiv.style changed\u001b[39m \u001b[90m{\u001b[39m\n",
      "\u001b[90m  change: 'changed',\u001b[39m\n",
      "\u001b[90m  tagName: 'div',\u001b[39m\n",
      "\u001b[90m  attribName: 'style',\u001b[39m\n",
      "\u001b[90m  oldValue: 'background-image:url(\"images/reef.jpg\");background-repeat: no-repeat;\\n' +\u001b[39m\n",
      "\u001b[90m    '  background-size: contain;\\n' +\u001b[39m\n",
      "\u001b[90m    '  background-position: 50% 50%;\\n' +\u001b[39m\n",
      "\u001b[90m    '  height: 800px;\\n' +\u001b[39m\n",
      "\u001b[90m    '  width: 100%;\\n' +\u001b[39m\n",
      "\u001b[90m    '  display: table;\\n' +\u001b[39m\n",
      "\u001b[90m    '  overflow: hidden;',\u001b[39m\n",
      "\u001b[90m  newValue: 'background-image: url(\"images/reef.jpg\") ; background-repeat: no-repeat ; background-size: contain ; background-position: 50% 50% ; height: 800px ; width: 100% ; display: table ; overflow: hidden'\u001b[39m\n",
      "\u001b[90m}\u001b[39m\n",
      "\u001b[90mHTML Sanitizer\u001b[39m \u001b[90mdiv.style changed\u001b[39m \u001b[90m{\u001b[39m\n",
      "\u001b[90m  change: 'changed',\u001b[39m\n",
      "\u001b[90m  tagName: 'div',\u001b[39m\n",
      "\u001b[90m  attribName: 'style',\u001b[39m\n",
      "\u001b[90m  oldValue: 'background-image:url(\"images/shallow.jpg\");background-repeat: no-repeat;\\n' +\u001b[39m\n",
      "\u001b[90m    '  background-size: contain;\\n' +\u001b[39m\n",
      "\u001b[90m    '  background-position: 50% 50%;\\n' +\u001b[39m\n",
      "\u001b[90m    '  height: 800px;\\n' +\u001b[39m\n",
      "\u001b[90m    '  width: 100%;\\n' +\u001b[39m\n",
      "\u001b[90m    '  display: table;\\n' +\u001b[39m\n",
      "\u001b[90m    '  overflow: hidden;',\u001b[39m\n",
      "\u001b[90m  newValue: 'background-image: url(\"images/shallow.jpg\") ; background-repeat: no-repeat ; background-size: contain ; background-position: 50% 50% ; height: 800px ; width: 100% ; display: table ; overflow: hidden'\u001b[39m\n",
      "\u001b[90m}\u001b[39m\n",
      "\u001b[90mHTML Sanitizer\u001b[39m \u001b[90mdiv.style changed\u001b[39m \u001b[90m{\u001b[39m\n",
      "\u001b[90m  change: 'changed',\u001b[39m\n",
      "\u001b[90m  tagName: 'div',\u001b[39m\n",
      "\u001b[90m  attribName: 'style',\u001b[39m\n",
      "\u001b[90m  oldValue: 'background-image:url(\"images/d_model_0.jpg\");background-repeat: no-repeat;\\n' +\u001b[39m\n",
      "\u001b[90m    '  background-size: contain;\\n' +\u001b[39m\n",
      "\u001b[90m    '  height: 800px;\\n' +\u001b[39m\n",
      "\u001b[90m    '  width: 100%;\\n' +\u001b[39m\n",
      "\u001b[90m    '  background-position: center;\\n',\u001b[39m\n",
      "\u001b[90m  newValue: 'background-image: url(\"images/d_model_0.jpg\") ; background-repeat: no-repeat ; background-size: contain ; height: 800px ; width: 100% ; background-position: center'\u001b[39m\n",
      "\u001b[90m}\u001b[39m\n",
      "\u001b[90mHTML Sanitizer\u001b[39m \u001b[90mdiv.style changed\u001b[39m \u001b[90m{\u001b[39m\n",
      "\u001b[90m  change: 'changed',\u001b[39m\n",
      "\u001b[90m  tagName: 'div',\u001b[39m\n",
      "\u001b[90m  attribName: 'style',\u001b[39m\n",
      "\u001b[90m  oldValue: 'background-image:url(\"images/d_model_1.jpg\");background-repeat: no-repeat;\\n' +\u001b[39m\n",
      "\u001b[90m    '  background-size: contain;\\n' +\u001b[39m\n",
      "\u001b[90m    '  height: 800px;\\n' +\u001b[39m\n",
      "\u001b[90m    '  width: 100%;\\n' +\u001b[39m\n",
      "\u001b[90m    '  background-position: center;\\n',\u001b[39m\n",
      "\u001b[90m  newValue: 'background-image: url(\"images/d_model_1.jpg\") ; background-repeat: no-repeat ; background-size: contain ; height: 800px ; width: 100% ; background-position: center'\u001b[39m\n",
      "\u001b[90m}\u001b[39m\n",
      "\u001b[90mHTML Sanitizer\u001b[39m \u001b[90mdiv.style changed\u001b[39m \u001b[90m{\u001b[39m\n",
      "\u001b[90m  change: 'changed',\u001b[39m\n",
      "\u001b[90m  tagName: 'div',\u001b[39m\n",
      "\u001b[90m  attribName: 'style',\u001b[39m\n",
      "\u001b[90m  oldValue: 'background-image:url(\"images/d_model_2.jpg\");background-repeat: no-repeat;\\n' +\u001b[39m\n",
      "\u001b[90m    '  background-size: contain;\\n' +\u001b[39m\n",
      "\u001b[90m    '  height: 800px;\\n' +\u001b[39m\n",
      "\u001b[90m    '  width: 100%;\\n' +\u001b[39m\n",
      "\u001b[90m    '  background-position: center;\\n',\u001b[39m\n",
      "\u001b[90m  newValue: 'background-image: url(\"images/d_model_2.jpg\") ; background-repeat: no-repeat ; background-size: contain ; height: 800px ; width: 100% ; background-position: center'\u001b[39m\n",
      "\u001b[90m}\u001b[39m\n",
      "\u001b[90mHTML Sanitizer\u001b[39m \u001b[90mdiv.style changed\u001b[39m \u001b[90m{\u001b[39m\n",
      "\u001b[90m  change: 'changed',\u001b[39m\n",
      "\u001b[90m  tagName: 'div',\u001b[39m\n",
      "\u001b[90m  attribName: 'style',\u001b[39m\n",
      "\u001b[90m  oldValue: 'background-image:url(\"images/d_model_3.jpg\");background-repeat: no-repeat;\\n' +\u001b[39m\n",
      "\u001b[90m    '  background-size: contain;\\n' +\u001b[39m\n",
      "\u001b[90m    '  height: 800px;\\n' +\u001b[39m\n",
      "\u001b[90m    '  width: 100%;\\n' +\u001b[39m\n",
      "\u001b[90m    '  background-position: center;\\n',\u001b[39m\n",
      "\u001b[90m  newValue: 'background-image: url(\"images/d_model_3.jpg\") ; background-repeat: no-repeat ; background-size: contain ; height: 800px ; width: 100% ; background-position: center'\u001b[39m\n",
      "\u001b[90m}\u001b[39m\n",
      "\u001b[90mHTML Sanitizer\u001b[39m \u001b[90mdiv.style changed\u001b[39m \u001b[90m{\u001b[39m\n",
      "\u001b[90m  change: 'changed',\u001b[39m\n",
      "\u001b[90m  tagName: 'div',\u001b[39m\n",
      "\u001b[90m  attribName: 'style',\u001b[39m\n",
      "\u001b[90m  oldValue: 'background-image:url(\"images/lens_0.jpg\");background-repeat: no-repeat;\\n' +\u001b[39m\n",
      "\u001b[90m    '  background-size: contain;\\n' +\u001b[39m\n",
      "\u001b[90m    '  background-position: 50% 50%;\\n' +\u001b[39m\n",
      "\u001b[90m    '  height: 800px;\\n' +\u001b[39m\n",
      "\u001b[90m    '  width: 100%;\\n' +\u001b[39m\n",
      "\u001b[90m    '  display: table;\\n' +\u001b[39m\n",
      "\u001b[90m    '  overflow: hidden;',\u001b[39m\n",
      "\u001b[90m  newValue: 'background-image: url(\"images/lens_0.jpg\") ; background-repeat: no-repeat ; background-size: contain ; background-position: 50% 50% ; height: 800px ; width: 100% ; display: table ; overflow: hidden'\u001b[39m\n",
      "\u001b[90m}\u001b[39m\n",
      "\u001b[90mHTML Sanitizer\u001b[39m \u001b[90mdiv.style changed\u001b[39m \u001b[90m{\u001b[39m\n",
      "\u001b[90m  change: 'changed',\u001b[39m\n",
      "\u001b[90m  tagName: 'div',\u001b[39m\n",
      "\u001b[90m  attribName: 'style',\u001b[39m\n",
      "\u001b[90m  oldValue: 'background-image:url(\"images/lens_1.jpg\");background-repeat: no-repeat;\\n' +\u001b[39m\n",
      "\u001b[90m    '  background-size: contain;\\n' +\u001b[39m\n",
      "\u001b[90m    '  background-position: 50% 50%;\\n' +\u001b[39m\n",
      "\u001b[90m    '  height: 800px;\\n' +\u001b[39m\n",
      "\u001b[90m    '  width: 100%;\\n' +\u001b[39m\n",
      "\u001b[90m    '  display: table;\\n' +\u001b[39m\n",
      "\u001b[90m    '  overflow: hidden;',\u001b[39m\n",
      "\u001b[90m  newValue: 'background-image: url(\"images/lens_1.jpg\") ; background-repeat: no-repeat ; background-size: contain ; background-position: 50% 50% ; height: 800px ; width: 100% ; display: table ; overflow: hidden'\u001b[39m\n",
      "\u001b[90m}\u001b[39m\n",
      "\u001b[90mHTML Sanitizer\u001b[39m \u001b[90mdiv.style changed\u001b[39m \u001b[90m{\u001b[39m\n",
      "\u001b[90m  change: 'changed',\u001b[39m\n",
      "\u001b[90m  tagName: 'div',\u001b[39m\n",
      "\u001b[90m  attribName: 'style',\u001b[39m\n",
      "\u001b[90m  oldValue: 'background-image:url(\"images/lens_2.jpg\");background-repeat: no-repeat;\\n' +\u001b[39m\n",
      "\u001b[90m    '  background-size: contain;\\n' +\u001b[39m\n",
      "\u001b[90m    '  background-position: 50% 50%;\\n' +\u001b[39m\n",
      "\u001b[90m    '  height: 800px;\\n' +\u001b[39m\n",
      "\u001b[90m    '  width: 100%;\\n' +\u001b[39m\n",
      "\u001b[90m    '  display: table;\\n' +\u001b[39m\n",
      "\u001b[90m    '  overflow: hidden;',\u001b[39m\n",
      "\u001b[90m  newValue: 'background-image: url(\"images/lens_2.jpg\") ; background-repeat: no-repeat ; background-size: contain ; background-position: 50% 50% ; height: 800px ; width: 100% ; display: table ; overflow: hidden'\u001b[39m\n",
      "\u001b[90m}\u001b[39m\n",
      "\u001b[90mHTML Sanitizer\u001b[39m \u001b[90mdiv.style changed\u001b[39m \u001b[90m{\u001b[39m\n",
      "\u001b[90m  change: 'changed',\u001b[39m\n",
      "\u001b[90m  tagName: 'div',\u001b[39m\n",
      "\u001b[90m  attribName: 'style',\u001b[39m\n",
      "\u001b[90m  oldValue: 'background-image:url(\"images/lens_3.jpg\");background-repeat: no-repeat;\\n' +\u001b[39m\n",
      "\u001b[90m    '  background-size: contain;\\n' +\u001b[39m\n",
      "\u001b[90m    '  background-position: 50% 50%;\\n' +\u001b[39m\n",
      "\u001b[90m    '  height: 800px;\\n' +\u001b[39m\n",
      "\u001b[90m    '  width: 100%;\\n' +\u001b[39m\n",
      "\u001b[90m    '  display: table;\\n' +\u001b[39m\n",
      "\u001b[90m    '  overflow: hidden;',\u001b[39m\n",
      "\u001b[90m  newValue: 'background-image: url(\"images/lens_3.jpg\") ; background-repeat: no-repeat ; background-size: contain ; background-position: 50% 50% ; height: 800px ; width: 100% ; display: table ; overflow: hidden'\u001b[39m\n",
      "\u001b[90m}\u001b[39m\n",
      "\u001b[90mHTML Sanitizer\u001b[39m \u001b[90mdiv.style changed\u001b[39m \u001b[90m{\u001b[39m\n",
      "\u001b[90m  change: 'changed',\u001b[39m\n",
      "\u001b[90m  tagName: 'div',\u001b[39m\n",
      "\u001b[90m  attribName: 'style',\u001b[39m\n",
      "\u001b[90m  oldValue: 'background-image:url(\"images/correlation-1.png\");background-repeat: no-repeat;\\n' +\u001b[39m\n",
      "\u001b[90m    '  background-size: contain;\\n' +\u001b[39m\n",
      "\u001b[90m    '  height: 800px;\\n' +\u001b[39m\n",
      "\u001b[90m    '  width: 100%;\\n',\u001b[39m\n",
      "\u001b[90m  newValue: 'background-image: url(\"images/correlation-1.png\") ; background-repeat: no-repeat ; background-size: contain ; height: 800px ; width: 100%'\u001b[39m\n",
      "\u001b[90m}\u001b[39m\n",
      "\u001b[90mHTML Sanitizer\u001b[39m \u001b[90mdiv.style changed\u001b[39m \u001b[90m{\u001b[39m\n",
      "\u001b[90m  change: 'changed',\u001b[39m\n",
      "\u001b[90m  tagName: 'div',\u001b[39m\n",
      "\u001b[90m  attribName: 'style',\u001b[39m\n",
      "\u001b[90m  oldValue: 'background-image:url(\"images/correlation-2.png\");background-repeat: no-repeat;\\n' +\u001b[39m\n",
      "\u001b[90m    '  background-size: contain;\\n' +\u001b[39m\n",
      "\u001b[90m    '  height: 800px;\\n' +\u001b[39m\n",
      "\u001b[90m    '  width: 100%;\\n',\u001b[39m\n",
      "\u001b[90m  newValue: 'background-image: url(\"images/correlation-2.png\") ; background-repeat: no-repeat ; background-size: contain ; height: 800px ; width: 100%'\u001b[39m\n",
      "\u001b[90m}\u001b[39m\n",
      "\u001b[90mHTML Sanitizer\u001b[39m \u001b[90mdiv.style changed\u001b[39m \u001b[90m{\u001b[39m\n",
      "\u001b[90m  change: 'changed',\u001b[39m\n",
      "\u001b[90m  tagName: 'div',\u001b[39m\n",
      "\u001b[90m  attribName: 'style',\u001b[39m\n",
      "\u001b[90m  oldValue: 'background-image:url(\"images/correlation-3.jpg\");background-repeat: no-repeat;\\n' +\u001b[39m\n",
      "\u001b[90m    '  background-size: contain;\\n' +\u001b[39m\n",
      "\u001b[90m    '  height: 800px;\\n' +\u001b[39m\n",
      "\u001b[90m    '  width: 100%;\\n',\u001b[39m\n",
      "\u001b[90m  newValue: 'background-image: url(\"images/correlation-3.jpg\") ; background-repeat: no-repeat ; background-size: contain ; height: 800px ; width: 100%'\u001b[39m\n",
      "\u001b[90m}\u001b[39m\n",
      "\u001b[90mHTML Sanitizer\u001b[39m \u001b[90mdiv.style changed\u001b[39m \u001b[90m{\u001b[39m\n",
      "\u001b[90m  change: 'changed',\u001b[39m\n",
      "\u001b[90m  tagName: 'div',\u001b[39m\n",
      "\u001b[90m  attribName: 'style',\u001b[39m\n",
      "\u001b[90m  oldValue: 'background-image:url(\"images/darwin-1.jpg\");background-repeat: no-repeat;\\n' +\u001b[39m\n",
      "\u001b[90m    '  background-size: contain;\\n' +\u001b[39m\n",
      "\u001b[90m    '  height: 800px;\\n' +\u001b[39m\n",
      "\u001b[90m    '  width: 100%;\\n',\u001b[39m\n",
      "\u001b[90m  newValue: 'background-image: url(\"images/darwin-1.jpg\") ; background-repeat: no-repeat ; background-size: contain ; height: 800px ; width: 100%'\u001b[39m\n",
      "\u001b[90m}\u001b[39m\n",
      "\u001b[90mHTML Sanitizer\u001b[39m \u001b[90mdiv.style changed\u001b[39m \u001b[90m{\u001b[39m\n",
      "\u001b[90m  change: 'changed',\u001b[39m\n",
      "\u001b[90m  tagName: 'div',\u001b[39m\n",
      "\u001b[90m  attribName: 'style',\u001b[39m\n",
      "\u001b[90m  oldValue: 'background-image:url(\"images/darwin-2.jpg\");background-repeat: no-repeat;\\n' +\u001b[39m\n",
      "\u001b[90m    '  background-size: contain;\\n' +\u001b[39m\n",
      "\u001b[90m    '  height: 800px;\\n' +\u001b[39m\n",
      "\u001b[90m    '  width: 100%;\\n',\u001b[39m\n",
      "\u001b[90m  newValue: 'background-image: url(\"images/darwin-2.jpg\") ; background-repeat: no-repeat ; background-size: contain ; height: 800px ; width: 100%'\u001b[39m\n",
      "\u001b[90m}\u001b[39m\n",
      "\u001b[90mHTML Sanitizer\u001b[39m \u001b[90mdiv.style changed\u001b[39m \u001b[90m{\u001b[39m\n",
      "\u001b[90m  change: 'changed',\u001b[39m\n",
      "\u001b[90m  tagName: 'div',\u001b[39m\n",
      "\u001b[90m  attribName: 'style',\u001b[39m\n",
      "\u001b[90m  oldValue: 'background-image:url(\"images/macrostrat.gif\");background-repeat: no-repeat;\\n' +\u001b[39m\n",
      "\u001b[90m    '  background-size: contain;\\n' +\u001b[39m\n",
      "\u001b[90m    '  height: 800px;\\n' +\u001b[39m\n",
      "\u001b[90m    '  width: 100%;\\n',\u001b[39m\n",
      "\u001b[90m  newValue: 'background-image: url(\"images/macrostrat.gif\") ; background-repeat: no-repeat ; background-size: contain ; height: 800px ; width: 100%'\u001b[39m\n",
      "\u001b[90m}\u001b[39m\n",
      "\u001b[90mHTML Sanitizer\u001b[39m \u001b[90mspan.style changed\u001b[39m \u001b[90m{\u001b[39m\n",
      "\u001b[90m  change: 'changed',\u001b[39m\n",
      "\u001b[90m  tagName: 'span',\u001b[39m\n",
      "\u001b[90m  attribName: 'style',\u001b[39m\n",
      "\u001b[90m  oldValue: 'font-size:.8em',\u001b[39m\n",
      "\u001b[90m  newValue: 'font-size: 0.8em'\u001b[39m\n",
      "\u001b[90m}\u001b[39m\n",
      "\u001b[90mHTML Sanitizer\u001b[39m \u001b[90mdiv.style changed\u001b[39m \u001b[90m{\u001b[39m\n",
      "\u001b[90m  change: 'changed',\u001b[39m\n",
      "\u001b[90m  tagName: 'div',\u001b[39m\n",
      "\u001b[90m  attribName: 'style',\u001b[39m\n",
      "\u001b[90m  oldValue: 'height:60vh;',\u001b[39m\n",
      "\u001b[90m  newValue: 'height: 60vh'\u001b[39m\n",
      "\u001b[90m}\u001b[39m\n",
      "\u001b[90mHTML Sanitizer\u001b[39m \u001b[90mimg.style changed\u001b[39m \u001b[90m{\u001b[39m\n",
      "\u001b[90m  change: 'changed',\u001b[39m\n",
      "\u001b[90m  tagName: 'img',\u001b[39m\n",
      "\u001b[90m  attribName: 'style',\u001b[39m\n",
      "\u001b[90m  oldValue: 'height:60vh',\u001b[39m\n",
      "\u001b[90m  newValue: 'height: 60vh'\u001b[39m\n",
      "\u001b[90m}\u001b[39m\n",
      "\u001b[90mHTML Sanitizer\u001b[39m \u001b[90mdiv.style changed\u001b[39m \u001b[90m{\u001b[39m\n",
      "\u001b[90m  change: 'changed',\u001b[39m\n",
      "\u001b[90m  tagName: 'div',\u001b[39m\n",
      "\u001b[90m  attribName: 'style',\u001b[39m\n",
      "\u001b[90m  oldValue: 'height:60vh;',\u001b[39m\n",
      "\u001b[90m  newValue: 'height: 60vh'\u001b[39m\n",
      "\u001b[90m}\u001b[39m\n",
      "\u001b[90mHTML Sanitizer\u001b[39m \u001b[90mimg.style changed\u001b[39m \u001b[90m{\u001b[39m\n",
      "\u001b[90m  change: 'changed',\u001b[39m\n",
      "\u001b[90m  tagName: 'img',\u001b[39m\n",
      "\u001b[90m  attribName: 'style',\u001b[39m\n",
      "\u001b[90m  oldValue: 'height:60vh',\u001b[39m\n",
      "\u001b[90m  newValue: 'height: 60vh'\u001b[39m\n",
      "\u001b[90m}\u001b[39m\n",
      "\u001b[90mHTML Sanitizer\u001b[39m \u001b[90mdiv.style changed\u001b[39m \u001b[90m{\u001b[39m\n",
      "\u001b[90m  change: 'changed',\u001b[39m\n",
      "\u001b[90m  tagName: 'div',\u001b[39m\n",
      "\u001b[90m  attribName: 'style',\u001b[39m\n",
      "\u001b[90m  oldValue: 'height:80vh;',\u001b[39m\n",
      "\u001b[90m  newValue: 'height: 80vh'\u001b[39m\n",
      "\u001b[90m}\u001b[39m\n",
      "\u001b[90mHTML Sanitizer\u001b[39m \u001b[90mimg.style changed\u001b[39m \u001b[90m{\u001b[39m\n",
      "\u001b[90m  change: 'changed',\u001b[39m\n",
      "\u001b[90m  tagName: 'img',\u001b[39m\n",
      "\u001b[90m  attribName: 'style',\u001b[39m\n",
      "\u001b[90m  oldValue: 'height:80vh',\u001b[39m\n",
      "\u001b[90m  newValue: 'height: 80vh'\u001b[39m\n",
      "\u001b[90m}\u001b[39m\n"
     ]
    },
    {
     "name": "stdout",
     "output_type": "stream",
     "text": [
      "\u001b[90mSession: kernel_created (a092d5a1-49de-4e02-8956-1f8f304b1b87)\u001b[39m\n",
      "\u001b[90mStarting WebSockets:\u001b[39m \u001b[90mws://localhost:8888/api/kernels/803ccbf8-c5ce-4075-b693-402e9a38cd4e\u001b[39m\n",
      "\u001b[31mFailed to load extension:\u001b[39m \u001b[31m[ 'nbextensions/hide_code/hide_code' ]\u001b[39m \u001b[31m{\u001b[39m\n",
      "\u001b[31m  requireType: 'scripterror',\u001b[39m\n",
      "\u001b[31m  requireModules: [ 'nbextensions/hide_code/hide_code' ],\u001b[39m\n",
      "\u001b[31m  originalError: { isTrusted: true }\u001b[39m\n",
      "\u001b[31m}\u001b[39m\n",
      "\u001b[90mLoading extension: rise/main\u001b[39m\n",
      "\u001b[90mLoading extension: nbextensions_configurator/config_menu/main\u001b[39m\n",
      "\u001b[90mLoading extension: contrib_nbextensions_help_item/main\u001b[39m\n",
      "\u001b[90mLoading extension: splitcell/splitcell\u001b[39m\n",
      "\u001b[90mcenter\u001b[39m\n",
      "\u001b[90mLoading extension: hide_input/main\u001b[39m\n",
      "\u001b[90mLoading extension: jupyter-js-widgets/extension\u001b[39m\n",
      "\u001b[90mKernel: kernel_connected (803ccbf8-c5ce-4075-b693-402e9a38cd4e)\u001b[39m\n",
      "\u001b[31mFailed to load resource: the server responded with a status of 404 (Not Found)\u001b[39m\n",
      "\u001b[90mLoading extension: jupyter-black-master/jupyter-black\u001b[39m\n",
      "\u001b[90mLoading extension: toc2/main\u001b[39m\n",
      "\u001b[90m[toc2] Notebook fully loaded -- toc2 initialized \u001b[39m\n",
      "\u001b[38;2;255;165;0mWidgets are not available.  Please install widgetsnbextension or ipywidgets 4.0\u001b[39m\n",
      "\u001b[90mLoading extension: codefolding/main\u001b[39m\n",
      "Loading page finished with status: \u001b[33m200\u001b[39m\n",
      "\u001b[36m\u001b[1mRISE\u001b[22m\u001b[39m\u001b[36m plugin activated\u001b[39m\n",
      "\u001b[31mRefused to apply style from 'http://localhost:8888/notebooks/Lectures01_Intro.css' because its MIME type ('text/html') is not a supported stylesheet MIME type, and strict MIME checking is enabled.\u001b[39m\n",
      "\u001b[38;2;255;165;0mError with Permissions-Policy header: Unrecognized feature: 'ch-ua-full-version-list'.\u001b[39m\n",
      "\u001b[38;2;255;165;0mError with Permissions-Policy header: Unrecognized feature: 'ch-ua-wow64'.\u001b[39m\n",
      "\u001b[38;2;255;165;0mError with Permissions-Policy header: Unrecognized feature: 'ch-ua-form-factors'.\u001b[39m\n",
      "\u001b[38;2;255;165;0mError with Permissions-Policy header: Unrecognized feature: 'ch-ua-full-version-list'.\u001b[39m\n",
      "\u001b[38;2;255;165;0mError with Permissions-Policy header: Unrecognized feature: 'ch-ua-wow64'.\u001b[39m\n",
      "\u001b[38;2;255;165;0mError with Permissions-Policy header: Unrecognized feature: 'ch-ua-form-factors'.\u001b[39m\n",
      "\u001b[90mCodefolding: Wait for\u001b[39m \u001b[90m1000\u001b[39m \u001b[90mms\u001b[39m\n",
      "\u001b[31mFailed to load resource: the server responded with a status of 404 (Not Found)\u001b[39m\n",
      "\u001b[38;2;255;165;0mFailed to get file Lecture1.json. ReadyState: 4, Status: 404\u001b[39m\n",
      "Printing slide #/slide-41-0 (52/42) ...\u001b[32m\u001b[39m\n",
      "\u001b[32mPrinted \u001b[39m\u001b[32m\u001b[1m52\u001b[22m\u001b[39m\u001b[32m slides\u001b[39m\n"
     ]
    }
   ],
   "source": [
    "nb_list = !jupyter notebook list\n",
    "server = [l for l in nb_list if 'eos423' in l][0].split(' :: ')[0]\n",
    "prefix = server.split('?')[0]\n",
    "token = server.split('?')[1]\n",
    "notebook = 'Lectures01_Intro.ipynb'\n",
    "url = prefix+'notebooks/'+notebook+'?'+token\n",
    "!decktape -s '1920x1080' rise $url pdf_slides/Lectures01_Intro.pdf"
   ]
  },
  {
   "cell_type": "markdown",
   "metadata": {
    "slideshow": {
     "slide_type": "slide"
    }
   },
   "source": [
    "<h2 id=\"eos-423-eos-518-advanced-sedimentology-and-stratigraphy\">EOS 423 // EOS 518: Advanced Sedimentology and Stratigraphy</h2>\n",
    "<center><img src=\"images/badlands.png\" alt=\"\" style='height:25vh'> \n",
    "</center>\n",
    "Lecture 1: Course Introduction | Jan 9, 2023<br>\n",
    "Welcome to Advanced Topics: Sedimentology and Stratigraphy! Here is the plan for today:<br>\n",
    "<ol style='font-size:.8em'>\n",
    "<li>introductions</li>\n",
    "<li>overview of course outline</li>\n",
    "<li>overview of course content</li>\n",
    "<li>first assigment:<ul>\n",
    "<li>make sure Python is installed on your computer (due <strong>Jan. 12, 2023</strong>)</li>\n",
    "</ul>\n",
    "</li>\n",
    "<li>surface transport</li>\n",
    "</ol>\n"
   ]
  },
  {
   "cell_type": "markdown",
   "metadata": {
    "slideshow": {
     "slide_type": "-"
    }
   },
   "source": [
    "<div style='font-size:25px'> <i>We acknowledge and respect the lək̓ʷəŋən peoples on whose traditional territory the university stands and the Songhees, Esquimalt and W̱SÁNE&#262; peoples whose historical relationships with the land continue to this day.</i></div>"
   ]
  },
  {
   "cell_type": "markdown",
   "metadata": {
    "slideshow": {
     "slide_type": "slide"
    }
   },
   "source": [
    "<h1 id=\"1a-introductions-blake-dyer\">1a. Introductions: Blake Dyer</h1>\n",
    "<div>\n",
    "<div style='float:left' width=50%> \n",
    "<p><strong>Interested in:</strong></p>\n",
    "<ol style='font-size:.7em'>\n",
    "<li>Earth history </li>\n",
    "<li>Sea level and climate change </li>\n",
    "<li>Isotope geochemistry of carbonates </li>\n",
    "<li>Machine learning </li>\n",
    "<li>Bayesian inversion</li>\n",
    "</ol>\n",
    "</div>\n",
    "<div width=50% style='font-size:.7em'>              \n",
    "<center>\n",
    "<img src=\"images/blake.jpg\" height\"10vh\"/> \n",
    "Bob Wright A433<br>\n",
    "<code>blakedyer@uvic.ca</code>    \n",
    "</center>\n",
    "    </div>\n",
    "</div></span>\n",
    "\n"
   ]
  },
  {
   "cell_type": "markdown",
   "metadata": {
    "slideshow": {
     "slide_type": "-"
    }
   },
   "source": [
    "<center><img style='height:30vh' src=\"images/information.jpg\"/></center>\n",
    "<p style='font-size:.7em'><strong>A Mathematical Theory of Communication</strong><br><em>Claude Shannon 1948</em></p>"
   ]
  },
  {
   "cell_type": "markdown",
   "metadata": {
    "slideshow": {
     "slide_type": "skip"
    }
   },
   "source": [
    "\n",
    "# 1b. Introductions: who are we\n",
    "\n",
    "| Jon Husson         |\n",
    "| :----|\n",
    "| ![](images/husson_intro.png)|\n",
    "\n",
    "- Bob Wright A425 | `jhusson@uvic.ca`\n",
    "- **interests:**\n",
    "    1. Earth system evolution\n",
    "    2. carbonate sedimentology and geochemistry\n",
    "    3. data synthesis\n"
   ]
  },
  {
   "cell_type": "markdown",
   "metadata": {
    "slideshow": {
     "slide_type": "slide"
    }
   },
   "source": [
    "# 1c. Introductions: who are *you*\n"
   ]
  },
  {
   "cell_type": "code",
   "execution_count": 33,
   "metadata": {
    "slideshow": {
     "slide_type": "fragment"
    }
   },
   "outputs": [],
   "source": [
    "#let's get some help from Python for class introductions\n",
    "\n",
    "import numpy as np\n",
    "class_list=['Stacey','Kai','Kristyn','Grace','Andrea','Liam','Matthew','Noa','Matteo','Izzy','Rhys','Felix']\n",
    "\n",
    "def pick_someone(class_list):\n",
    "    if len(class_list)>0:\n",
    "        person=np.random.choice(class_list)\n",
    "        toprint=\"%s, please introduce yourself!\" % person \n",
    "        toprint='#####\\n'+toprint+'\\n#####\\n'\n",
    "        print(toprint)\n",
    "        class_list.remove(person)\n",
    "    return class_list\n"
   ]
  },
  {
   "cell_type": "code",
   "execution_count": 46,
   "metadata": {
    "slideshow": {
     "slide_type": "fragment"
    }
   },
   "outputs": [],
   "source": [
    "class_list=pick_someone(class_list)"
   ]
  },
  {
   "cell_type": "markdown",
   "metadata": {
    "slideshow": {
     "slide_type": "slide"
    }
   },
   "source": [
    "# 2a. Course outline\n",
    "\n",
    "\n",
    "**Course description and objectives:** In this course, we will explore how geologic and Earth surface processes, including tectonic, sea level and climate changes, are recorded and preserved in the stratigraphic record. Focus will be on modern and ancient case studies, with topics including basin analysis, cyclostratigraphy, process sedimentology and paleo-environmental reconstruction. Problem sets emphasize computational skills, including introductory time-series analysis, geospatial analysis and remote sensing. Pre-requisites: EOS 225, 201."
   ]
  },
  {
   "cell_type": "markdown",
   "metadata": {
    "slideshow": {
     "slide_type": "fragment"
    }
   },
   "source": [
    " ***If someone does not have one of these pre-reqs, please contact Blake ASAP!***"
   ]
  },
  {
   "cell_type": "markdown",
   "metadata": {
    "slideshow": {
     "slide_type": "fragment"
    }
   },
   "source": [
    "**Course Materials:** There is no required textbook. Readings will be made available through the course website. Students are required to have a computer work on assignments."
   ]
  },
  {
   "cell_type": "markdown",
   "metadata": {
    "slideshow": {
     "slide_type": "slide"
    }
   },
   "source": [
    "# 2b. Course outline\n",
    "\n",
    "\n",
    "**Course structure:** The course will meet twice a week (M/Th) for lectures and on Fridays to work on the weekly assignment.\n"
   ]
  },
  {
   "cell_type": "markdown",
   "metadata": {
    "slideshow": {
     "slide_type": "fragment"
    }
   },
   "source": [
    "- On Monday each week we will begin with a *flipped classroom:* I will randomly select at least two students to informally present their progress on the current weekly assignment."
   ]
  },
  {
   "cell_type": "markdown",
   "metadata": {
    "slideshow": {
     "slide_type": "fragment"
    }
   },
   "source": [
    "- Any remaining time on Monday and all of Thursday will be used for lectures on new material or guided group discussions of assigned readings."
   ]
  },
  {
   "cell_type": "markdown",
   "metadata": {
    "slideshow": {
     "slide_type": "slide"
    }
   },
   "source": [
    "# 2c. Course outline\n",
    "\n",
    "**Grading:** Your grade will be determined primarily by your performance on assignments. Although I will not track participation in lecture, I expect that the assignments will be significantly easier to complete for those who participate. "
   ]
  },
  {
   "cell_type": "markdown",
   "metadata": {
    "slideshow": {
     "slide_type": "fragment"
    }
   },
   "source": [
    "- Students enrolled in the graduate version of the course (EOS 518) will be expected to complete an alternative final assignment that includes a greater amount of self-direction.\n",
    "- Below is a breakdown of the course assessment:\n",
    "\n",
    "| EOS 491 (Undergraduate Students) | | EOS 518 (Graduate Students) | |\n",
    "| :--- | :--- | :--- | :---|\n",
    "| Assignments   |  60% | Assignments  | 60%|\n",
    "| Assignment presentations| 10% | Assignment presentations| 10%|\n",
    "| Final assignment | 30% | Final project  | 30%|"
   ]
  },
  {
   "cell_type": "markdown",
   "metadata": {
    "slideshow": {
     "slide_type": "slide"
    }
   },
   "source": [
    "# 3a. Sedimentary transport & building stratigraphy"
   ]
  },
  {
   "cell_type": "code",
   "execution_count": 30,
   "metadata": {
    "hide_input": true,
    "scrolled": false,
    "slideshow": {
     "slide_type": "slide"
    }
   },
   "outputs": [
    {
     "data": {
      "text/html": [
       "<iframe style=\"display: block;border-style:none; margin:auto;\" width=\"1200\" height=\"675\" src=\"https://www.youtube.com/embed/VRXR86uRnUY\"></iframe></p>"
      ],
      "text/plain": [
       "<IPython.core.display.HTML object>"
      ]
     },
     "execution_count": 30,
     "metadata": {},
     "output_type": "execute_result"
    }
   ],
   "source": [
    "from IPython.display import HTML, IFrame\n",
    "HTML('<iframe style=\"display: block;border-style:none; margin:auto;\" width=\"1200\" height=\"675\" src=\"https://www.youtube.com/embed/VRXR86uRnUY\"></iframe></p>')"
   ]
  },
  {
   "cell_type": "markdown",
   "metadata": {
    "slideshow": {
     "slide_type": "slide"
    }
   },
   "source": [
    "<center><div \n",
    "style='background-image:url(\"images/paradox_slide.jpg\");background-repeat: no-repeat;\n",
    "  background-size: contain;\n",
    "  height: 800px;\n",
    "  width: 100%;\n",
    "  background-position: center;\n",
    "'>\n",
    "  \n",
    "  </div></center>"
   ]
  },
  {
   "cell_type": "markdown",
   "metadata": {
    "slideshow": {
     "slide_type": "slide"
    }
   },
   "source": [
    "<center><div \n",
    "style='background-image:url(\"images/SandyHook_0.jpg\");background-repeat: no-repeat;\n",
    "  background-size: contain;\n",
    "  height: 800px;\n",
    "  width: 100%;\n",
    "  background-position: center;\n",
    "'>\n",
    "  \n",
    "  </div></center>"
   ]
  },
  {
   "cell_type": "markdown",
   "metadata": {
    "slideshow": {
     "slide_type": "slide"
    }
   },
   "source": [
    "<center><div \n",
    "style='background-image:url(\"images/SandyHook_1.jpg\");background-repeat: no-repeat;\n",
    "  background-size: contain;\n",
    "  height: 800px;\n",
    "  width: 100%;\n",
    "  background-position: center;\n",
    "'>\n",
    "  \n",
    "  </div></center>"
   ]
  },
  {
   "cell_type": "markdown",
   "metadata": {
    "slideshow": {
     "slide_type": "slide"
    }
   },
   "source": [
    "<center><div \n",
    "style='background-image:url(\"images/SandyHook_2.jpg\");background-repeat: no-repeat;\n",
    "  background-size: contain;\n",
    "  height: 800px;\n",
    "  width: 100%;\n",
    "  background-position: center;\n",
    "'>\n",
    "  \n",
    "  </div></center>"
   ]
  },
  {
   "cell_type": "markdown",
   "metadata": {
    "slideshow": {
     "slide_type": "slide"
    }
   },
   "source": [
    "<center><div \n",
    "style='background-image:url(\"images/SandyHook_3.jpg\");background-repeat: no-repeat;\n",
    "  background-size: contain;\n",
    "  height: 800px;\n",
    "  width: 100%;\n",
    "  background-position: center;\n",
    "'>\n",
    "  \n",
    "  </div></center>"
   ]
  },
  {
   "cell_type": "markdown",
   "metadata": {
    "slideshow": {
     "slide_type": "slide"
    }
   },
   "source": [
    "<center><div \n",
    "style='background-image:url(\"images/SandyHook_4.jpg\");background-repeat: no-repeat;\n",
    "  background-size: contain;\n",
    "  height: 800px;\n",
    "  width: 100%;\n",
    "  background-position: center;\n",
    "'>\n",
    "  \n",
    "  </div></center>"
   ]
  },
  {
   "cell_type": "markdown",
   "metadata": {
    "slideshow": {
     "slide_type": "slide"
    }
   },
   "source": [
    "<center><div \n",
    "style='background-image:url(\"images/SandyHook_5.jpg\");background-repeat: no-repeat;\n",
    "  background-size: contain;\n",
    "  height: 800px;\n",
    "  width: 100%;\n",
    "  background-position: center;\n",
    "'>\n",
    "  \n",
    "  </div></center>"
   ]
  },
  {
   "cell_type": "markdown",
   "metadata": {
    "cell_style": "center",
    "slideshow": {
     "slide_type": "slide"
    }
   },
   "source": [
    "<center><div \n",
    "style='background-image:url(\"images/SandyHook_6.jpg\");background-repeat: no-repeat;\n",
    "  background-size: contain;\n",
    "  height: 800px;\n",
    "  width: 100%;\n",
    "  background-position: center;\n",
    "'>\n",
    "  \n",
    "  </div></center>"
   ]
  },
  {
   "cell_type": "markdown",
   "metadata": {
    "slideshow": {
     "slide_type": "slide"
    }
   },
   "source": [
    "<center><div \n",
    "style='background-image:url(\"images/SandyHook_7.jpg\");background-repeat: no-repeat;\n",
    "  background-size: contain;\n",
    "  height: 800px;\n",
    "  width: 100%;\n",
    "  background-position: center;\n",
    "'>\n",
    "  \n",
    "  </div></center>"
   ]
  },
  {
   "cell_type": "markdown",
   "metadata": {
    "slideshow": {
     "slide_type": "slide"
    }
   },
   "source": [
    "# 3b. Geospatial analysis & surface processes"
   ]
  },
  {
   "cell_type": "markdown",
   "metadata": {
    "slideshow": {
     "slide_type": "slide"
    }
   },
   "source": [
    "<div \n",
    "style='background-image:url(\"images/dunes.jpg\");background-repeat: no-repeat;\n",
    "  background-size: cover;\n",
    "  background-position: 50% 50%;\n",
    "  height: 800px;\n",
    "  width: 100%;\n",
    "  display: table;\n",
    "  overflow: hidden;'>\n",
    "  </div>"
   ]
  },
  {
   "cell_type": "markdown",
   "metadata": {
    "slideshow": {
     "slide_type": "slide"
    }
   },
   "source": [
    "<div \n",
    "style='background-image:url(\"images/dunes.jpg\");background-repeat: no-repeat;\n",
    "  background-size: cover;\n",
    "  background-position: 50% 50%;\n",
    "  height: 800px;\n",
    "  width: 100%;\n",
    "  display: table;\n",
    "  overflow: hidden;'>\n",
    "  <p style='color:white;font-weight: 900;margin-left:2em;margin-top:2em'>Which way is the wind blowing?</p>\n",
    "  </div>"
   ]
  },
  {
   "cell_type": "markdown",
   "metadata": {
    "slideshow": {
     "slide_type": "slide"
    }
   },
   "source": [
    "<div \n",
    "style='background-image:url(\"images/mars_valley.jpg\");background-repeat: no-repeat;\n",
    "  background-size: cover;\n",
    "  background-position: 50% 50%;\n",
    "  height: 800px;\n",
    "  width: 100%;\n",
    "  display: table;\n",
    "  overflow: hidden;'>\n",
    "  \n",
    "  </div>"
   ]
  },
  {
   "cell_type": "markdown",
   "metadata": {
    "slideshow": {
     "slide_type": "slide"
    }
   },
   "source": [
    "<div \n",
    "style='background-image:url(\"images/tidal_channels.jpg\");background-repeat: no-repeat;\n",
    "  background-size: cover;\n",
    "  background-position: 50% 50%;\n",
    "  height: 800px;\n",
    "  width: 100%;\n",
    "  display: table;\n",
    "  overflow: hidden;'>\n",
    "  \n",
    "  </div>"
   ]
  },
  {
   "cell_type": "code",
   "execution_count": 31,
   "metadata": {
    "hide_input": false,
    "scrolled": true,
    "slideshow": {
     "slide_type": "slide"
    }
   },
   "outputs": [
    {
     "data": {
      "text/html": [
       "\n",
       "    <video alt=\"test\" controls>\n",
       "        <source src=\"images/learning.mp4\" type=\"video/mp4\">\n",
       "    </video>\n"
      ],
      "text/plain": [
       "<IPython.core.display.HTML object>"
      ]
     },
     "execution_count": 31,
     "metadata": {},
     "output_type": "execute_result"
    }
   ],
   "source": [
    "from IPython.display import HTML\n",
    "\n",
    "HTML(\"\"\"\n",
    "    <video alt=\"test\" controls>\n",
    "        <source src=\"images/learning.mp4\" type=\"video/mp4\">\n",
    "    </video>\n",
    "\"\"\")"
   ]
  },
  {
   "cell_type": "markdown",
   "metadata": {
    "slideshow": {
     "slide_type": "slide"
    }
   },
   "source": [
    "# 3c. Carbon systems & chemistry"
   ]
  },
  {
   "cell_type": "markdown",
   "metadata": {
    "hide_input": false,
    "slideshow": {
     "slide_type": "slide"
    }
   },
   "source": [
    "<div \n",
    "style='background-image:url(\"images/carbon_cycle_0.jpg\");background-repeat: no-repeat;\n",
    "  background-size: contain;\n",
    "  background-position: 50% 50%;\n",
    "  height: 800px;\n",
    "  width: 100%;\n",
    "  display: table;\n",
    "  overflow: hidden;'>\n",
    "  \n",
    "  </div>"
   ]
  },
  {
   "cell_type": "markdown",
   "metadata": {
    "slideshow": {
     "slide_type": "slide"
    }
   },
   "source": [
    "<div \n",
    "style='background-image:url(\"images/carbon_cycle_1.jpg\");background-repeat: no-repeat;\n",
    "  background-size: contain;\n",
    "  background-position: 50% 50%;\n",
    "  height: 800px;\n",
    "  width: 100%;\n",
    "  display: table;\n",
    "  overflow: hidden;'>\n",
    "  \n",
    "  </div>"
   ]
  },
  {
   "cell_type": "markdown",
   "metadata": {
    "slideshow": {
     "slide_type": "slide"
    }
   },
   "source": [
    "<div \n",
    "style='background-image:url(\"images/carbon_cycle_2.jpg\");background-repeat: no-repeat;\n",
    "  background-size: contain;\n",
    "  background-position: 50% 50%;\n",
    "  height: 800px;\n",
    "  width: 100%;\n",
    "  display: table;\n",
    "  overflow: hidden;'>\n",
    "  \n",
    "  </div>"
   ]
  },
  {
   "cell_type": "markdown",
   "metadata": {
    "slideshow": {
     "slide_type": "slide"
    }
   },
   "source": [
    "<div \n",
    "style='background-image:url(\"images/reef.jpg\");background-repeat: no-repeat;\n",
    "  background-size: contain;\n",
    "  background-position: 50% 50%;\n",
    "  height: 800px;\n",
    "  width: 100%;\n",
    "  display: table;\n",
    "  overflow: hidden;'>\n",
    "  \n",
    "  </div>"
   ]
  },
  {
   "cell_type": "markdown",
   "metadata": {
    "slideshow": {
     "slide_type": "slide"
    }
   },
   "source": [
    "<div \n",
    "style='background-image:url(\"images/shallow.jpg\");background-repeat: no-repeat;\n",
    "  background-size: contain;\n",
    "  background-position: 50% 50%;\n",
    "  height: 800px;\n",
    "  width: 100%;\n",
    "  display: table;\n",
    "  overflow: hidden;'>\n",
    "  \n",
    "  </div>"
   ]
  },
  {
   "cell_type": "markdown",
   "metadata": {
    "slideshow": {
     "slide_type": "slide"
    }
   },
   "source": [
    "<center><div \n",
    "style='background-image:url(\"images/d_model_0.jpg\");background-repeat: no-repeat;\n",
    "  background-size: contain;\n",
    "  height: 800px;\n",
    "  width: 100%;\n",
    "  background-position: center;\n",
    "'>\n",
    "  \n",
    "  </div></center>"
   ]
  },
  {
   "cell_type": "markdown",
   "metadata": {
    "slideshow": {
     "slide_type": "slide"
    }
   },
   "source": [
    "<center><div \n",
    "style='background-image:url(\"images/d_model_1.jpg\");background-repeat: no-repeat;\n",
    "  background-size: contain;\n",
    "  height: 800px;\n",
    "  width: 100%;\n",
    "  background-position: center;\n",
    "'>\n",
    "  \n",
    "  </div></center>"
   ]
  },
  {
   "cell_type": "markdown",
   "metadata": {
    "slideshow": {
     "slide_type": "slide"
    }
   },
   "source": [
    "<center><div \n",
    "style='background-image:url(\"images/d_model_2.jpg\");background-repeat: no-repeat;\n",
    "  background-size: contain;\n",
    "  height: 800px;\n",
    "  width: 100%;\n",
    "  background-position: center;\n",
    "'>\n",
    "  \n",
    "  </div></center>"
   ]
  },
  {
   "cell_type": "markdown",
   "metadata": {
    "slideshow": {
     "slide_type": "slide"
    }
   },
   "source": [
    "<center><div \n",
    "style='background-image:url(\"images/d_model_3.jpg\");background-repeat: no-repeat;\n",
    "  background-size: contain;\n",
    "  height: 800px;\n",
    "  width: 100%;\n",
    "  background-position: center;\n",
    "'>\n",
    "  \n",
    "  </div></center>"
   ]
  },
  {
   "cell_type": "markdown",
   "metadata": {
    "slideshow": {
     "slide_type": "slide"
    }
   },
   "source": [
    "<div \n",
    "style='background-image:url(\"images/lens_0.jpg\");background-repeat: no-repeat;\n",
    "  background-size: contain;\n",
    "  background-position: 50% 50%;\n",
    "  height: 800px;\n",
    "  width: 100%;\n",
    "  display: table;\n",
    "  overflow: hidden;'>\n",
    "  \n",
    "  </div>"
   ]
  },
  {
   "cell_type": "markdown",
   "metadata": {
    "slideshow": {
     "slide_type": "slide"
    }
   },
   "source": [
    "<div \n",
    "style='background-image:url(\"images/lens_1.jpg\");background-repeat: no-repeat;\n",
    "  background-size: contain;\n",
    "  background-position: 50% 50%;\n",
    "  height: 800px;\n",
    "  width: 100%;\n",
    "  display: table;\n",
    "  overflow: hidden;'>\n",
    "  \n",
    "  </div>"
   ]
  },
  {
   "cell_type": "markdown",
   "metadata": {
    "slideshow": {
     "slide_type": "slide"
    }
   },
   "source": [
    "<div \n",
    "style='background-image:url(\"images/lens_2.jpg\");background-repeat: no-repeat;\n",
    "  background-size: contain;\n",
    "  background-position: 50% 50%;\n",
    "  height: 800px;\n",
    "  width: 100%;\n",
    "  display: table;\n",
    "  overflow: hidden;'>\n",
    "  \n",
    "  </div>"
   ]
  },
  {
   "cell_type": "markdown",
   "metadata": {
    "slideshow": {
     "slide_type": "slide"
    }
   },
   "source": [
    "<div \n",
    "style='background-image:url(\"images/lens_3.jpg\");background-repeat: no-repeat;\n",
    "  background-size: contain;\n",
    "  background-position: 50% 50%;\n",
    "  height: 800px;\n",
    "  width: 100%;\n",
    "  display: table;\n",
    "  overflow: hidden;'>\n",
    "  \n",
    "  </div>"
   ]
  },
  {
   "cell_type": "markdown",
   "metadata": {
    "slideshow": {
     "slide_type": "slide"
    }
   },
   "source": [
    "# 3d. Stratigraphic correlation\n",
    " - correlation = building age models \n",
    " - how is time distributed in sedimentary rocks?\n",
    "<!--| <img src=\"images/correlation-1.png\" alt=\"Drawing\" style=\"height: 300px;\"/>|-->\n",
    "\n",
    "<div \n",
    "style='background-image:url(\"images/correlation-1.png\");background-repeat: no-repeat;\n",
    "  background-size: contain;\n",
    "  height: 800px;\n",
    "  width: 100%;\n",
    "'></div>\n"
   ]
  },
  {
   "cell_type": "markdown",
   "metadata": {
    "slideshow": {
     "slide_type": "slide"
    }
   },
   "source": [
    "# 3d. Stratigraphic correlation\n",
    " - correlation = building age models \n",
    " - how is time distributed in sedimentary rocks?\n",
    "\n",
    "<!--| <img src=\"images/correlation-1.png\" alt=\"Drawing\" style=\"height: 300px;\"/>|-->\n",
    "\n",
    "<div \n",
    "style='background-image:url(\"images/correlation-2.png\");background-repeat: no-repeat;\n",
    "  background-size: contain;\n",
    "  height: 800px;\n",
    "  width: 100%;\n",
    "'></div>\n"
   ]
  },
  {
   "cell_type": "markdown",
   "metadata": {
    "slideshow": {
     "slide_type": "slide"
    }
   },
   "source": [
    "# 3d. Stratigraphic correlation\n",
    " - correlation = building age models \n",
    " - how is time distributed in sedimentary rocks?\n",
    "\n",
    "<!--| <img src=\"images/correlation-1.png\" alt=\"Drawing\" style=\"height: 300px;\"/>|-->\n",
    "\n",
    "<div \n",
    "style='background-image:url(\"images/correlation-3.jpg\");background-repeat: no-repeat;\n",
    "  background-size: contain;\n",
    "  height: 800px;\n",
    "  width: 100%;\n",
    "'></div>\n"
   ]
  },
  {
   "cell_type": "markdown",
   "metadata": {
    "slideshow": {
     "slide_type": "-"
    }
   },
   "source": [
    "# 3e. Data synthesis & sediment cycling\n",
    "| a decaying rock record? |\n",
    "| ----:|\n",
    "| *I look at the natural geological record, as a history of the world imperfectly kept, and written in a changing dialect; of this history we possess the last volume alone, relating only to two or three countries. **Of this volume, only here and there a short chapter has been preserved**; and of each page, only here and there a few lines.*|\n",
    "|-- Charles Darwin|\n",
    "\n",
    "<div \n",
    "style='background-image:url(\"images/darwin-1.jpg\");background-repeat: no-repeat;\n",
    "  background-size: contain;\n",
    "  height: 800px;\n",
    "  width: 100%;\n",
    "'></div>"
   ]
  },
  {
   "cell_type": "markdown",
   "metadata": {
    "slideshow": {
     "slide_type": "slide"
    }
   },
   "source": [
    "# 3e. Data synthesis & sediment cycling\n",
    "| a decaying rock record? |\n",
    "| ----:|\n",
    "| *I look at the natural geological record, as a history of the world imperfectly kept, and written in a changing dialect; of this history we possess the last volume alone, relating only to two or three countries. **Of this volume, only here and there a short chapter has been preserved**; and of each page, only here and there a few lines.*|\n",
    "|-- Charles Darwin|\n",
    "\n",
    "<div \n",
    "style='background-image:url(\"images/darwin-2.jpg\");background-repeat: no-repeat;\n",
    "  background-size: contain;\n",
    "  height: 800px;\n",
    "  width: 100%;\n",
    "'></div>"
   ]
  },
  {
   "cell_type": "markdown",
   "metadata": {
    "slideshow": {
     "slide_type": "-"
    }
   },
   "source": [
    "# 3e. Data synthesis & sediment cycling\n",
    "[`macrostrat.org:`](https://macrostrat.org) 1,534 chronostratigraphic columns | 35,461 rock units | 2,540,323 map polygons | 12,935,471 TDM-ready papers\n",
    "\n",
    "<center>\n",
    "<div \n",
    "style='background-image:url(\"images/macrostrat.gif\");background-repeat: no-repeat;\n",
    "  background-size: contain;\n",
    "  height: 800px;\n",
    "  width: 100%;\n",
    "'></div>\n",
    "</center>\n"
   ]
  },
  {
   "cell_type": "markdown",
   "metadata": {
    "slideshow": {
     "slide_type": "slide"
    }
   },
   "source": [
    "# 4. First assignment (due before next class):\n",
    "## Install Python on your local machine\n",
    "\n",
    "- One of the easiest ways to install and manage python on your local machine is through Anaconda: https://www.anaconda.com/products/individual\n",
    "- There are two versions of python, version **2** and version **3**.  ***You should install Python 3***."
   ]
  },
  {
   "cell_type": "markdown",
   "metadata": {
    "slideshow": {
     "slide_type": "skip"
    }
   },
   "source": [
    "# Simplifying Surface Transport\n",
    "<span style='font-size:.8em'>\n",
    "\n",
    " - 2. Motivation: the stratigraphic record\n",
    "    - 2.1 Building a Basin\n",
    "    - 2.2 Simulating basin fill\n",
    "- 3. What is diffusion?\n",
    "    - 3.1 Numerical example\n",
    "    - 3.2 Diffusive flux: what is it in *words* and *math*\n",
    "    - 3.3 Continuity equation: what is it in *words* and *math*\n",
    "    - 3.4 Diffusion as a transport mechanism\n",
    "- 4. Assignment 1: diffusive transport\n",
    "    \n",
    "    </span>"
   ]
  },
  {
   "cell_type": "markdown",
   "metadata": {
    "slideshow": {
     "slide_type": "skip"
    }
   },
   "source": [
    "# Motivation: the stratigraphic record"
   ]
  },
  {
   "cell_type": "markdown",
   "metadata": {
    "slideshow": {
     "slide_type": "skip"
    }
   },
   "source": [
    "<center>\n",
    "    <div style='height:60vh;'>\n",
    "\t    <img src=\"images/overview.jpg\" style='height:60vh'>\n",
    "    </div>\n",
    "</center>"
   ]
  },
  {
   "cell_type": "markdown",
   "metadata": {
    "slideshow": {
     "slide_type": "skip"
    }
   },
   "source": [
    "(from **Autogenic Sedimentation in Clastic Stratigraphy**, Elizabeth A. Hajek and Kyle M. Straub, *Annual Review of Earth and Planetary Sciences 2017*)"
   ]
  },
  {
   "cell_type": "markdown",
   "metadata": {
    "slideshow": {
     "slide_type": "skip"
    }
   },
   "source": [
    "<center>\n",
    "    <div style='height:60vh;'>\n",
    "\t    <img src=\"images/x_section.jpg\" style='height:60vh'>\n",
    "    </div>\n",
    "</center>"
   ]
  },
  {
   "cell_type": "markdown",
   "metadata": {
    "slideshow": {
     "slide_type": "skip"
    }
   },
   "source": [
    "<center>\n",
    "    <div style='height:80vh;'>\n",
    "\t    <img src=\"images/Yukon_Delta.jpg\" style='height:80vh'>\n",
    "    </div>\n",
    "</center>"
   ]
  },
  {
   "cell_type": "markdown",
   "metadata": {
    "slideshow": {
     "slide_type": "skip"
    }
   },
   "source": [
    "False color image of the **Yukon River Delta, Alaska**"
   ]
  },
  {
   "cell_type": "markdown",
   "metadata": {
    "slideshow": {
     "slide_type": "skip"
    }
   },
   "source": [
    "## Building a Basin\n",
    "We want to understand how a sedimentary basin fills up, specifically how years of transport, erosion, and deposition translate into the spatial (vertical and lateral) distribution of sedimentary units: the stratigraphic **architecture**. This architecture is controlled by the complex interactions among:"
   ]
  },
  {
   "cell_type": "markdown",
   "metadata": {
    "slideshow": {
     "slide_type": "skip"
    }
   },
   "source": [
    "Draw cartoons from notebook: transport infinite vs transport limited, accomodation control, sediment supply"
   ]
  },
  {
   "cell_type": "markdown",
   "metadata": {
    "slideshow": {
     "slide_type": "fragment"
    }
   },
   "source": [
    "- sediment supply to the basin"
   ]
  },
  {
   "cell_type": "markdown",
   "metadata": {
    "slideshow": {
     "slide_type": "fragment"
    }
   },
   "source": [
    "- transport of sediment within the basin"
   ]
  },
  {
   "cell_type": "markdown",
   "metadata": {
    "slideshow": {
     "slide_type": "fragment"
    }
   },
   "source": [
    "- available space (accomodation space)"
   ]
  }
 ],
 "metadata": {
  "celltoolbar": "Slideshow",
  "kernelspec": {
   "display_name": "Python 3",
   "language": "python",
   "name": "python3"
  },
  "language_info": {
   "codemirror_mode": {
    "name": "ipython",
    "version": 3
   },
   "file_extension": ".py",
   "mimetype": "text/x-python",
   "name": "python",
   "nbconvert_exporter": "python",
   "pygments_lexer": "ipython3",
   "version": "3.9.1"
  },
  "rise": {
   "chalkboard": {
    "chalkEffect": 1,
    "chalkWidth": 7,
    "color": [
     "rgb(200,47,62)",
     "rgb(200,47,62)"
    ],
    "readOnly": false,
    "src": "Lecture1.json",
    "theme": "whiteboard"
   },
   "enable_chalkboard": true,
   "transition": "fade"
  },
  "toc": {
   "base_numbering": 1,
   "nav_menu": {
    "height": "229px",
    "width": "213px"
   },
   "number_sections": false,
   "sideBar": true,
   "skip_h1_title": false,
   "title_cell": "Table of Contents",
   "title_sidebar": "Contents",
   "toc_cell": false,
   "toc_position": {
    "height": "calc(100% - 180px)",
    "left": "10px",
    "top": "150px",
    "width": "426.667px"
   },
   "toc_section_display": true,
   "toc_window_display": false
  },
  "toc-autonumbering": true,
  "toc-showcode": false,
  "toc-showmarkdowntxt": false,
  "toc-showtags": false
 },
 "nbformat": 4,
 "nbformat_minor": 4
}
