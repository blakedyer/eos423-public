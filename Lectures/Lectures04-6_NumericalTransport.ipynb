{
 "cells": [
  {
   "cell_type": "markdown",
   "metadata": {
    "slideshow": {
     "slide_type": "skip"
    }
   },
   "source": [
    "Lectures 4-5: Modeling bulk transport"
   ]
  },
  {
   "cell_type": "markdown",
   "metadata": {
    "slideshow": {
     "slide_type": "skip"
    }
   },
   "source": [
    "<div data-id=\"columns\" style=\"display:flex;height:60vh\">\n",
    "<div class=\"clearpanel_start\" style=\"visibility: visible;\">\n",
    " \n",
    "</div>\n",
    "<div class=\"clearpanel\" style=\"visibility: visible;\">\n",
    "    \n",
    "</div>\n",
    "</div>"
   ]
  },
  {
   "cell_type": "code",
   "execution_count": 2,
   "metadata": {
    "slideshow": {
     "slide_type": "skip"
    }
   },
   "outputs": [
    {
     "name": "stdout",
     "output_type": "stream",
     "text": [
      "Loading page http://localhost:8889/notebooks/Lectures04-6_NumericalTransport.ipynb?token=8df3e7adb0826f4370f5d8b1438d111ea1517dfde7fdde66 ...\n",
      "\u001b[38;2;255;165;0mactions\u001b[39m \u001b[38;2;255;165;0mjupyter-notebook:find-and-replace\u001b[39m \u001b[38;2;255;165;0mdoes not exist, still binding it in case it will be defined later...\u001b[39m\n",
      "\u001b[90mload_extensions\u001b[39m \u001b[90m{\u001b[39m\n",
      "\u001b[90m  '0': 'nbextensions_configurator/config_menu/main',\u001b[39m\n",
      "\u001b[90m  '1': 'contrib_nbextensions_help_item/main',\u001b[39m\n",
      "\u001b[90m  '2': 'rise/main',\u001b[39m\n",
      "\u001b[90m  '3': 'jupyter-js-widgets/extension',\u001b[39m\n",
      "\u001b[90m  '4': 'jupyter-black-master/jupyter-black',\u001b[39m\n",
      "\u001b[90m  '5': 'toc2/main',\u001b[39m\n",
      "\u001b[90m  '6': 'hide_code/hide_code',\u001b[39m\n",
      "\u001b[90m  '7': 'hide_input/main',\u001b[39m\n",
      "\u001b[90m  '8': 'codefolding/main',\u001b[39m\n",
      "\u001b[90m  '9': 'splitcell/splitcell'\u001b[39m\n",
      "\u001b[90m}\u001b[39m\n",
      "\u001b[90mLoaded moment locale\u001b[39m \u001b[90men-gb\u001b[39m\n",
      "\u001b[31mFailed to load resource: the server responded with a status of 404 (Not Found)\u001b[39m\n",
      "\u001b[90mHTML Sanitizer\u001b[39m \u001b[90mdiv.style changed\u001b[39m \u001b[90m{\u001b[39m\n",
      "\u001b[90m  change: 'changed',\u001b[39m\n",
      "\u001b[90m  tagName: 'div',\u001b[39m\n",
      "\u001b[90m  attribName: 'style',\u001b[39m\n",
      "\u001b[90m  oldValue: 'display:flex;height:60vh',\u001b[39m\n",
      "\u001b[90m  newValue: 'display: flex ; height: 60vh'\u001b[39m\n",
      "\u001b[90m}\u001b[39m\n",
      "\u001b[90mHTML Sanitizer\u001b[39m \u001b[90mdiv.style changed\u001b[39m \u001b[90m{\u001b[39m\n",
      "\u001b[90m  change: 'changed',\u001b[39m\n",
      "\u001b[90m  tagName: 'div',\u001b[39m\n",
      "\u001b[90m  attribName: 'style',\u001b[39m\n",
      "\u001b[90m  oldValue: 'visibility: visible;',\u001b[39m\n",
      "\u001b[90m  newValue: 'visibility: visible'\u001b[39m\n",
      "\u001b[90m}\u001b[39m\n",
      "\u001b[90mHTML Sanitizer\u001b[39m \u001b[90mdiv.style changed\u001b[39m \u001b[90m{\u001b[39m\n",
      "\u001b[90m  change: 'changed',\u001b[39m\n",
      "\u001b[90m  tagName: 'div',\u001b[39m\n",
      "\u001b[90m  attribName: 'style',\u001b[39m\n",
      "\u001b[90m  oldValue: 'visibility: visible;',\u001b[39m\n",
      "\u001b[90m  newValue: 'visibility: visible'\u001b[39m\n",
      "\u001b[90m}\u001b[39m\n",
      "\u001b[90mHTML Sanitizer\u001b[39m \u001b[90mdiv.style changed\u001b[39m \u001b[90m{\u001b[39m\n",
      "\u001b[90m  change: 'changed',\u001b[39m\n",
      "\u001b[90m  tagName: 'div',\u001b[39m\n",
      "\u001b[90m  attribName: 'style',\u001b[39m\n",
      "\u001b[90m  oldValue: 'background: url(images/SA_seds.jpg) 50% 35% no-repeat;\\n' +\u001b[39m\n",
      "\u001b[90m    '  width: 100vw;\\n' +\u001b[39m\n",
      "\u001b[90m    '  height: 20vh; background-size: 100%;',\u001b[39m\n",
      "\u001b[90m  newValue: 'background: url(\"images/SA_seds.jpg\") 50% 35% no-repeat ; width: 100vw ; height: 20vh ; background-size: 100%'\u001b[39m\n",
      "\u001b[90m}\u001b[39m\n",
      "\u001b[90mHTML Sanitizer\u001b[39m \u001b[90mdiv.style changed\u001b[39m \u001b[90m{\u001b[39m\n",
      "\u001b[90m  change: 'changed',\u001b[39m\n",
      "\u001b[90m  tagName: 'div',\u001b[39m\n",
      "\u001b[90m  attribName: 'style',\u001b[39m\n",
      "\u001b[90m  oldValue: 'font-size:25px',\u001b[39m\n",
      "\u001b[90m  newValue: 'font-size: 25px'\u001b[39m\n",
      "\u001b[90m}\u001b[39m\n",
      "\u001b[90mHTML Sanitizer\u001b[39m \u001b[90mdiv.style changed\u001b[39m \u001b[90m{\u001b[39m\n",
      "\u001b[90m  change: 'changed',\u001b[39m\n",
      "\u001b[90m  tagName: 'div',\u001b[39m\n",
      "\u001b[90m  attribName: 'style',\u001b[39m\n",
      "\u001b[90m  oldValue: 'font-size:25px',\u001b[39m\n",
      "\u001b[90m  newValue: 'font-size: 25px'\u001b[39m\n",
      "\u001b[90m}\u001b[39m\n",
      "\u001b[90mHTML Sanitizer\u001b[39m \u001b[90mdiv.style changed\u001b[39m \u001b[90m{\u001b[39m\n",
      "\u001b[90m  change: 'changed',\u001b[39m\n",
      "\u001b[90m  tagName: 'div',\u001b[39m\n",
      "\u001b[90m  attribName: 'style',\u001b[39m\n",
      "\u001b[90m  oldValue: 'display:flex;height:60vh',\u001b[39m\n",
      "\u001b[90m  newValue: 'display: flex ; height: 60vh'\u001b[39m\n",
      "\u001b[90m}\u001b[39m\n",
      "\u001b[90mHTML Sanitizer\u001b[39m \u001b[90mdiv.style changed\u001b[39m \u001b[90m{\u001b[39m\n",
      "\u001b[90m  change: 'changed',\u001b[39m\n",
      "\u001b[90m  tagName: 'div',\u001b[39m\n",
      "\u001b[90m  attribName: 'style',\u001b[39m\n",
      "\u001b[90m  oldValue: 'visibility: visible;',\u001b[39m\n",
      "\u001b[90m  newValue: 'visibility: visible'\u001b[39m\n",
      "\u001b[90m}\u001b[39m\n",
      "\u001b[90mHTML Sanitizer\u001b[39m \u001b[90mimg.style changed\u001b[39m \u001b[90m{\u001b[39m\n",
      "\u001b[90m  change: 'changed',\u001b[39m\n",
      "\u001b[90m  tagName: 'img',\u001b[39m\n",
      "\u001b[90m  attribName: 'style',\u001b[39m\n",
      "\u001b[90m  oldValue: 'height:60vh',\u001b[39m\n",
      "\u001b[90m  newValue: 'height: 60vh'\u001b[39m\n",
      "\u001b[90m}\u001b[39m\n",
      "\u001b[90mHTML Sanitizer\u001b[39m \u001b[90mdiv.style changed\u001b[39m \u001b[90m{\u001b[39m\n",
      "\u001b[90m  change: 'changed',\u001b[39m\n",
      "\u001b[90m  tagName: 'div',\u001b[39m\n",
      "\u001b[90m  attribName: 'style',\u001b[39m\n",
      "\u001b[90m  oldValue: 'visibility: visible;',\u001b[39m\n",
      "\u001b[90m  newValue: 'visibility: visible'\u001b[39m\n",
      "\u001b[90m}\u001b[39m\n",
      "\u001b[90mHTML Sanitizer\u001b[39m \u001b[90mimg.style changed\u001b[39m \u001b[90m{\u001b[39m\n",
      "\u001b[90m  change: 'changed',\u001b[39m\n",
      "\u001b[90m  tagName: 'img',\u001b[39m\n",
      "\u001b[90m  attribName: 'style',\u001b[39m\n",
      "\u001b[90m  oldValue: 'height:60vh',\u001b[39m\n",
      "\u001b[90m  newValue: 'height: 60vh'\u001b[39m\n",
      "\u001b[90m}\u001b[39m\n",
      "\u001b[90mHTML Sanitizer\u001b[39m \u001b[90mspan.style changed\u001b[39m \u001b[90m{\u001b[39m\n",
      "\u001b[90m  change: 'changed',\u001b[39m\n",
      "\u001b[90m  tagName: 'span',\u001b[39m\n",
      "\u001b[90m  attribName: 'style',\u001b[39m\n",
      "\u001b[90m  oldValue: 'color:DodgerBlue',\u001b[39m\n",
      "\u001b[90m  newValue: 'color: dodgerblue'\u001b[39m\n",
      "\u001b[90m}\u001b[39m\n",
      "\u001b[90mHTML Sanitizer\u001b[39m \u001b[90mdiv.style changed\u001b[39m \u001b[90m{\u001b[39m\n",
      "\u001b[90m  change: 'changed',\u001b[39m\n",
      "\u001b[90m  tagName: 'div',\u001b[39m\n",
      "\u001b[90m  attribName: 'style',\u001b[39m\n",
      "\u001b[90m  oldValue: 'height:30vh;',\u001b[39m\n",
      "\u001b[90m  newValue: 'height: 30vh'\u001b[39m\n",
      "\u001b[90m}\u001b[39m\n",
      "\u001b[90mHTML Sanitizer\u001b[39m \u001b[90mspan.style changed\u001b[39m \u001b[90m{\u001b[39m\n",
      "\u001b[90m  change: 'changed',\u001b[39m\n",
      "\u001b[90m  tagName: 'span',\u001b[39m\n",
      "\u001b[90m  attribName: 'style',\u001b[39m\n",
      "\u001b[90m  oldValue: 'color:DodgerBlue',\u001b[39m\n",
      "\u001b[90m  newValue: 'color: dodgerblue'\u001b[39m\n",
      "\u001b[90m}\u001b[39m\n",
      "\u001b[90mHTML Sanitizer\u001b[39m \u001b[90mdiv.style changed\u001b[39m \u001b[90m{\u001b[39m\n",
      "\u001b[90m  change: 'changed',\u001b[39m\n",
      "\u001b[90m  tagName: 'div',\u001b[39m\n",
      "\u001b[90m  attribName: 'style',\u001b[39m\n",
      "\u001b[90m  oldValue: 'height:30vh;',\u001b[39m\n",
      "\u001b[90m  newValue: 'height: 30vh'\u001b[39m\n",
      "\u001b[90m}\u001b[39m\n",
      "\u001b[90mHTML Sanitizer\u001b[39m \u001b[90mspan.style changed\u001b[39m \u001b[90m{\u001b[39m\n",
      "\u001b[90m  change: 'changed',\u001b[39m\n",
      "\u001b[90m  tagName: 'span',\u001b[39m\n",
      "\u001b[90m  attribName: 'style',\u001b[39m\n",
      "\u001b[90m  oldValue: 'color:DodgerBlue',\u001b[39m\n",
      "\u001b[90m  newValue: 'color: dodgerblue'\u001b[39m\n",
      "\u001b[90m}\u001b[39m\n",
      "\u001b[90mHTML Sanitizer\u001b[39m \u001b[90mspan.style changed\u001b[39m \u001b[90m{\u001b[39m\n",
      "\u001b[90m  change: 'changed',\u001b[39m\n",
      "\u001b[90m  tagName: 'span',\u001b[39m\n",
      "\u001b[90m  attribName: 'style',\u001b[39m\n",
      "\u001b[90m  oldValue: 'color:DodgerBlue',\u001b[39m\n",
      "\u001b[90m  newValue: 'color: dodgerblue'\u001b[39m\n",
      "\u001b[90m}\u001b[39m\n",
      "\u001b[90mHTML Sanitizer\u001b[39m \u001b[90mspan.style changed\u001b[39m \u001b[90m{\u001b[39m\n",
      "\u001b[90m  change: 'changed',\u001b[39m\n",
      "\u001b[90m  tagName: 'span',\u001b[39m\n",
      "\u001b[90m  attribName: 'style',\u001b[39m\n",
      "\u001b[90m  oldValue: 'color:DodgerBlue',\u001b[39m\n",
      "\u001b[90m  newValue: 'color: dodgerblue'\u001b[39m\n",
      "\u001b[90m}\u001b[39m\n",
      "\u001b[90mHTML Sanitizer\u001b[39m \u001b[90mspan.style changed\u001b[39m \u001b[90m{\u001b[39m\n",
      "\u001b[90m  change: 'changed',\u001b[39m\n",
      "\u001b[90m  tagName: 'span',\u001b[39m\n",
      "\u001b[90m  attribName: 'style',\u001b[39m\n",
      "\u001b[90m  oldValue: 'color:DodgerBlue',\u001b[39m\n",
      "\u001b[90m  newValue: 'color: dodgerblue'\u001b[39m\n",
      "\u001b[90m}\u001b[39m\n",
      "\u001b[90mHTML Sanitizer\u001b[39m \u001b[90mspan.style changed\u001b[39m \u001b[90m{\u001b[39m\n",
      "\u001b[90m  change: 'changed',\u001b[39m\n",
      "\u001b[90m  tagName: 'span',\u001b[39m\n",
      "\u001b[90m  attribName: 'style',\u001b[39m\n",
      "\u001b[90m  oldValue: 'color:DodgerBlue',\u001b[39m\n",
      "\u001b[90m  newValue: 'color: dodgerblue'\u001b[39m\n",
      "\u001b[90m}\u001b[39m\n",
      "\u001b[90mHTML Sanitizer\u001b[39m \u001b[90mdiv.style changed\u001b[39m \u001b[90m{\u001b[39m\n",
      "\u001b[90m  change: 'changed',\u001b[39m\n",
      "\u001b[90m  tagName: 'div',\u001b[39m\n",
      "\u001b[90m  attribName: 'style',\u001b[39m\n",
      "\u001b[90m  oldValue: 'height:40vh;',\u001b[39m\n",
      "\u001b[90m  newValue: 'height: 40vh'\u001b[39m\n",
      "\u001b[90m}\u001b[39m\n",
      "\u001b[90mHTML Sanitizer\u001b[39m \u001b[90mth.style changed\u001b[39m \u001b[90m{\u001b[39m\n",
      "\u001b[90m  change: 'changed',\u001b[39m\n",
      "\u001b[90m  tagName: 'th',\u001b[39m\n",
      "\u001b[90m  attribName: 'style',\u001b[39m\n",
      "\u001b[90m  oldValue: 'width:100px',\u001b[39m\n",
      "\u001b[90m  newValue: 'width: 100px'\u001b[39m\n",
      "\u001b[90m}\u001b[39m\n",
      "\u001b[90mHTML Sanitizer\u001b[39m \u001b[90mspan.style changed\u001b[39m \u001b[90m{\u001b[39m\n",
      "\u001b[90m  change: 'changed',\u001b[39m\n",
      "\u001b[90m  tagName: 'span',\u001b[39m\n",
      "\u001b[90m  attribName: 'style',\u001b[39m\n",
      "\u001b[90m  oldValue: 'color:blue',\u001b[39m\n",
      "\u001b[90m  newValue: 'color: blue'\u001b[39m\n",
      "\u001b[90m}\u001b[39m\n",
      "\u001b[90mHTML Sanitizer\u001b[39m \u001b[90mspan.style changed\u001b[39m \u001b[90m{\u001b[39m\n",
      "\u001b[90m  change: 'changed',\u001b[39m\n",
      "\u001b[90m  tagName: 'span',\u001b[39m\n",
      "\u001b[90m  attribName: 'style',\u001b[39m\n",
      "\u001b[90m  oldValue: 'color:DodgerBlue',\u001b[39m\n",
      "\u001b[90m  newValue: 'color: dodgerblue'\u001b[39m\n",
      "\u001b[90m}\u001b[39m\n",
      "\u001b[90mHTML Sanitizer\u001b[39m \u001b[90mdiv.style changed\u001b[39m \u001b[90m{\u001b[39m\n",
      "\u001b[90m  change: 'changed',\u001b[39m\n",
      "\u001b[90m  tagName: 'div',\u001b[39m\n",
      "\u001b[90m  attribName: 'style',\u001b[39m\n",
      "\u001b[90m  oldValue: 'height:40vh;',\u001b[39m\n",
      "\u001b[90m  newValue: 'height: 40vh'\u001b[39m\n",
      "\u001b[90m}\u001b[39m\n",
      "\u001b[90mHTML Sanitizer\u001b[39m \u001b[90mspan.style changed\u001b[39m \u001b[90m{\u001b[39m\n",
      "\u001b[90m  change: 'changed',\u001b[39m\n",
      "\u001b[90m  tagName: 'span',\u001b[39m\n",
      "\u001b[90m  attribName: 'style',\u001b[39m\n",
      "\u001b[90m  oldValue: 'color:blue',\u001b[39m\n",
      "\u001b[90m  newValue: 'color: blue'\u001b[39m\n",
      "\u001b[90m}\u001b[39m\n",
      "\u001b[90mHTML Sanitizer\u001b[39m \u001b[90mth.style changed\u001b[39m \u001b[90m{\u001b[39m\n",
      "\u001b[90m  change: 'changed',\u001b[39m\n",
      "\u001b[90m  tagName: 'th',\u001b[39m\n",
      "\u001b[90m  attribName: 'style',\u001b[39m\n",
      "\u001b[90m  oldValue: 'width:100px',\u001b[39m\n",
      "\u001b[90m  newValue: 'width: 100px'\u001b[39m\n",
      "\u001b[90m}\u001b[39m\n",
      "\u001b[90mHTML Sanitizer\u001b[39m \u001b[90mspan.style changed\u001b[39m \u001b[90m{\u001b[39m\n",
      "\u001b[90m  change: 'changed',\u001b[39m\n",
      "\u001b[90m  tagName: 'span',\u001b[39m\n",
      "\u001b[90m  attribName: 'style',\u001b[39m\n",
      "\u001b[90m  oldValue: 'color:DodgerBlue',\u001b[39m\n",
      "\u001b[90m  newValue: 'color: dodgerblue'\u001b[39m\n",
      "\u001b[90m}\u001b[39m\n",
      "\u001b[90mHTML Sanitizer\u001b[39m \u001b[90mspan.style changed\u001b[39m \u001b[90m{\u001b[39m\n",
      "\u001b[90m  change: 'changed',\u001b[39m\n",
      "\u001b[90m  tagName: 'span',\u001b[39m\n",
      "\u001b[90m  attribName: 'style',\u001b[39m\n",
      "\u001b[90m  oldValue: 'color:DodgerBlue',\u001b[39m\n",
      "\u001b[90m  newValue: 'color: dodgerblue'\u001b[39m\n",
      "\u001b[90m}\u001b[39m\n",
      "\u001b[90mHTML Sanitizer\u001b[39m \u001b[90mspan.style changed\u001b[39m \u001b[90m{\u001b[39m\n",
      "\u001b[90m  change: 'changed',\u001b[39m\n",
      "\u001b[90m  tagName: 'span',\u001b[39m\n",
      "\u001b[90m  attribName: 'style',\u001b[39m\n",
      "\u001b[90m  oldValue: 'color:DodgerBlue',\u001b[39m\n",
      "\u001b[90m  newValue: 'color: dodgerblue'\u001b[39m\n",
      "\u001b[90m}\u001b[39m\n",
      "\u001b[90mHTML Sanitizer\u001b[39m \u001b[90mdiv.style changed\u001b[39m \u001b[90m{\u001b[39m\n",
      "\u001b[90m  change: 'changed',\u001b[39m\n",
      "\u001b[90m  tagName: 'div',\u001b[39m\n",
      "\u001b[90m  attribName: 'style',\u001b[39m\n",
      "\u001b[90m  oldValue: 'height:10vh;',\u001b[39m\n",
      "\u001b[90m  newValue: 'height: 10vh'\u001b[39m\n",
      "\u001b[90m}\u001b[39m\n",
      "\u001b[90mHTML Sanitizer\u001b[39m \u001b[90mspan.style changed\u001b[39m \u001b[90m{\u001b[39m\n",
      "\u001b[90m  change: 'changed',\u001b[39m\n",
      "\u001b[90m  tagName: 'span',\u001b[39m\n",
      "\u001b[90m  attribName: 'style',\u001b[39m\n",
      "\u001b[90m  oldValue: 'color:DodgerBlue',\u001b[39m\n",
      "\u001b[90m  newValue: 'color: dodgerblue'\u001b[39m\n",
      "\u001b[90m}\u001b[39m\n",
      "\u001b[90mHTML Sanitizer\u001b[39m \u001b[90mspan.style changed\u001b[39m \u001b[90m{\u001b[39m\n",
      "\u001b[90m  change: 'changed',\u001b[39m\n",
      "\u001b[90m  tagName: 'span',\u001b[39m\n",
      "\u001b[90m  attribName: 'style',\u001b[39m\n",
      "\u001b[90m  oldValue: 'color:DodgerBlue',\u001b[39m\n",
      "\u001b[90m  newValue: 'color: dodgerblue'\u001b[39m\n",
      "\u001b[90m}\u001b[39m\n",
      "\u001b[90mHTML Sanitizer\u001b[39m \u001b[90mspan.style changed\u001b[39m \u001b[90m{\u001b[39m\n",
      "\u001b[90m  change: 'changed',\u001b[39m\n",
      "\u001b[90m  tagName: 'span',\u001b[39m\n",
      "\u001b[90m  attribName: 'style',\u001b[39m\n",
      "\u001b[90m  oldValue: 'color:DodgerBlue',\u001b[39m\n",
      "\u001b[90m  newValue: 'color: dodgerblue'\u001b[39m\n",
      "\u001b[90m}\u001b[39m\n",
      "\u001b[90mHTML Sanitizer\u001b[39m \u001b[90mspan.style changed\u001b[39m \u001b[90m{\u001b[39m\n",
      "\u001b[90m  change: 'changed',\u001b[39m\n",
      "\u001b[90m  tagName: 'span',\u001b[39m\n",
      "\u001b[90m  attribName: 'style',\u001b[39m\n",
      "\u001b[90m  oldValue: 'color:DodgerBlue',\u001b[39m\n",
      "\u001b[90m  newValue: 'color: dodgerblue'\u001b[39m\n",
      "\u001b[90m}\u001b[39m\n",
      "\u001b[90mHTML Sanitizer\u001b[39m \u001b[90mdiv.style changed\u001b[39m \u001b[90m{\u001b[39m\n",
      "\u001b[90m  change: 'changed',\u001b[39m\n",
      "\u001b[90m  tagName: 'div',\u001b[39m\n",
      "\u001b[90m  attribName: 'style',\u001b[39m\n",
      "\u001b[90m  oldValue: 'height:40vh;',\u001b[39m\n",
      "\u001b[90m  newValue: 'height: 40vh'\u001b[39m\n",
      "\u001b[90m}\u001b[39m\n",
      "\u001b[90mHTML Sanitizer\u001b[39m \u001b[90mspan.style changed\u001b[39m \u001b[90m{\u001b[39m\n",
      "\u001b[90m  change: 'changed',\u001b[39m\n",
      "\u001b[90m  tagName: 'span',\u001b[39m\n",
      "\u001b[90m  attribName: 'style',\u001b[39m\n",
      "\u001b[90m  oldValue: 'color:DodgerBlue',\u001b[39m\n",
      "\u001b[90m  newValue: 'color: dodgerblue'\u001b[39m\n",
      "\u001b[90m}\u001b[39m\n",
      "\u001b[90mHTML Sanitizer\u001b[39m \u001b[90mspan.style changed\u001b[39m \u001b[90m{\u001b[39m\n",
      "\u001b[90m  change: 'changed',\u001b[39m\n",
      "\u001b[90m  tagName: 'span',\u001b[39m\n",
      "\u001b[90m  attribName: 'style',\u001b[39m\n",
      "\u001b[90m  oldValue: 'color:red',\u001b[39m\n",
      "\u001b[90m  newValue: 'color: red'\u001b[39m\n",
      "\u001b[90m}\u001b[39m\n",
      "\u001b[90mHTML Sanitizer\u001b[39m \u001b[90mspan.style changed\u001b[39m \u001b[90m{\u001b[39m\n",
      "\u001b[90m  change: 'changed',\u001b[39m\n",
      "\u001b[90m  tagName: 'span',\u001b[39m\n",
      "\u001b[90m  attribName: 'style',\u001b[39m\n",
      "\u001b[90m  oldValue: 'color:DodgerBlue',\u001b[39m\n",
      "\u001b[90m  newValue: 'color: dodgerblue'\u001b[39m\n",
      "\u001b[90m}\u001b[39m\n"
     ]
    },
    {
     "name": "stdout",
     "output_type": "stream",
     "text": [
      "\u001b[90mSession: kernel_created (09ff1303-e288-4831-aa37-0a7c6ace0f34)\u001b[39m\n",
      "\u001b[90mStarting WebSockets:\u001b[39m \u001b[90mws://localhost:8889/api/kernels/99e9a86e-d606-4cde-84cc-5f5ecc264244\u001b[39m\n",
      "\u001b[31mFailed to load extension:\u001b[39m \u001b[31m[ 'nbextensions/hide_code/hide_code' ]\u001b[39m \u001b[31m{\u001b[39m\n",
      "\u001b[31m  requireType: 'scripterror',\u001b[39m\n",
      "\u001b[31m  requireModules: [ 'nbextensions/hide_code/hide_code' ],\u001b[39m\n",
      "\u001b[31m  originalError: { isTrusted: true }\u001b[39m\n",
      "\u001b[31m}\u001b[39m\n",
      "\u001b[90mLoading extension: nbextensions_configurator/config_menu/main\u001b[39m\n",
      "\u001b[90mLoading extension: contrib_nbextensions_help_item/main\u001b[39m\n",
      "\u001b[90mLoading extension: rise/main\u001b[39m\n",
      "\u001b[90mLoading extension: splitcell/splitcell\u001b[39m\n",
      "\u001b[90mLoading extension: hide_input/main\u001b[39m\n",
      "\u001b[90mKernel: kernel_connected (99e9a86e-d606-4cde-84cc-5f5ecc264244)\u001b[39m\n",
      "\u001b[90mLoading extension: jupyter-js-widgets/extension\u001b[39m\n",
      "\u001b[31mFailed to load resource: the server responded with a status of 404 (Not Found)\u001b[39m\n",
      "\u001b[38;2;255;165;0mWidgets are not available.  Please install widgetsnbextension or ipywidgets 4.0\u001b[39m\n",
      "\u001b[90mLoading extension: jupyter-black-master/jupyter-black\u001b[39m\n",
      "\u001b[90mLoading extension: toc2/main\u001b[39m\n",
      "\u001b[90m[toc2] Notebook fully loaded -- toc2 initialized \u001b[39m\n",
      "\u001b[90mLoading extension: codefolding/main\u001b[39m\n",
      "\u001b[31mAccess to font at 'about:blank' from origin 'http://localhost:8889' has been blocked by CORS policy: Cross origin requests are only supported for protocol schemes: http, data, chrome, chrome-untrusted, https.\u001b[39m\n",
      "\n",
      "\u001b[38;2;255;165;0mUnable to load resource from URL: about:blank\u001b[39m\n",
      "\u001b[31mFailed to load resource: net::ERR_FAILED\u001b[39m\n",
      "\u001b[90mCodefolding: Wait for\u001b[39m \u001b[90m1000\u001b[39m \u001b[90mms\u001b[39m\n",
      "Loading page finished with status: \u001b[33m200\u001b[39m\n",
      "\u001b[36m\u001b[1mRISE\u001b[22m\u001b[39m\u001b[36m plugin activated\u001b[39m\n",
      "\u001b[31mRefused to apply style from 'http://localhost:8889/notebooks/Lectures04-6_NumericalTransport.css' because its MIME type ('text/html') is not a supported stylesheet MIME type, and strict MIME checking is enabled.\u001b[39m\n",
      "\u001b[31mFailed to load resource: the server responded with a status of 404 (Not Found)\u001b[39m\n",
      "\u001b[38;2;255;165;0mFailed to get file 2023_lecture4.json. ReadyState: 4, Status: 404\u001b[39m\n",
      "Printing slide #/slide-36-0 (77/40) ...\u001b[32m\u001b[39m\n",
      "\u001b[32mPrinted \u001b[39m\u001b[32m\u001b[1m77\u001b[22m\u001b[39m\u001b[32m slides\u001b[39m\n"
     ]
    }
   ],
   "source": [
    "nb_list = !jupyter notebook list\n",
    "server = [l for l in nb_list if 'eos423' in l][0].split(' :: ')[0]\n",
    "prefix = server.split('?')[0]\n",
    "token = server.split('?')[1]\n",
    "notebook = 'Lectures04-6_NumericalTransport.ipynb'\n",
    "url = prefix+'notebooks/'+notebook+'?'+token\n",
    "!decktape -s '1920x1080' rise $url pdf_slides/Lectures04-6_NumericalTransport.pdf"
   ]
  },
  {
   "cell_type": "code",
   "execution_count": 1,
   "metadata": {
    "slideshow": {
     "slide_type": "skip"
    }
   },
   "outputs": [],
   "source": [
    "from scipy.linalg import solve_banded\n",
    "from scipy.interpolate import interp1d\n",
    "import numpy as np\n",
    "from tqdm.notebook import tqdm\n",
    "import matplotlib\n",
    "from matplotlib import pyplot as plt\n",
    "from IPython.display import clear_output\n",
    "import seaborn as sns\n",
    "import matplotlib.cm as cm\n",
    "import time\n",
    "sns.set_context('talk')\n",
    "\n",
    "%matplotlib inline\n",
    "\n",
    "class Diffuse1D:\n",
    "    def __init__(self, length, spacing, tstep, left, right, K):\n",
    "        self.x = np.arange(0, length, spacing)\n",
    "        self.u = (\n",
    "            left - self.x * (left - right) / length\n",
    "        )  # sets initial to steady state solution\n",
    "        \n",
    "        self.u = (\n",
    "            left - self.x * (left - right) / length\n",
    "        )  # sets initial to steady state solution\n",
    "        #         self.u = np.zeros(self.x.shape)+right\n",
    "        N = self.x.size\n",
    "        self.tstep = tstep\n",
    "        self.spacing = spacing\n",
    "        self.K = K\n",
    "        k_arr = K * np.ones((N))  # m^2/yr\n",
    "        self.r = k_arr * (self.tstep / (2 * spacing ** 2))  ##Fourier number\n",
    "        self.time = 0\n",
    "        self.base_level_fun = interp1d([0, 1], [0, 0], bounds_error=False, fill_value=0)\n",
    "        self.base_level = self.base_level_fun(self.time)\n",
    "        self.sed_Q = 100 / spacing  # not sure if spacing is correct here\n",
    "        self.subsidence_r = 0.025 * 1e-3 * 1e1  # not in use yet\n",
    "        self.left = left\n",
    "        self.right = right\n",
    "\n",
    "        # initialize matrices A, B and b array\n",
    "        self.A = np.zeros((N, N))\n",
    "        self.B = np.zeros((N, N))\n",
    "        self.b = np.zeros((N))\n",
    "        # define matrices A, B and b array  ##THIS STEP IS SLOW -- but only called once\n",
    "        # see method update_K() for fast version\n",
    "        for i in range(N):\n",
    "            if i == 0:  # first\n",
    "                self.A[i, :] = [\n",
    "                    1 + 2 * self.r[j] if j == 0 else (-self.r[j]) if j == 1 else 0\n",
    "                    for j in range(N)\n",
    "                ]\n",
    "                self.B[i, :] = [\n",
    "                    1 - 2 * self.r[j] if j == 0 else self.r[j] if j == 1 else 0\n",
    "                    for j in range(N)\n",
    "                ]\n",
    "                self.b[i] = left  # boundary condition at i=1\n",
    "            elif i == N - 1:  # last\n",
    "                self.A[i, :] = [\n",
    "                    -self.r[j] if j == N - 2 else 1 + 2 * self.r[j] if j == N - 1 else 0\n",
    "                    for j in range(N)\n",
    "                ]\n",
    "                self.B[i, :] = [\n",
    "                    self.r[j] if j == N - 2 else 1 - 2 * self.r[j] if j == N - 1 else 0\n",
    "                    for j in range(N)\n",
    "                ]\n",
    "                self.b[i] =  right  # boundary condition at i=N\n",
    "            else:  # middles\n",
    "                self.A[i, :] = [\n",
    "                    -self.r[j]\n",
    "                    if j == i - 1 or j == i + 1\n",
    "                    else 1 + 2 * self.r[j]\n",
    "                    if j == i\n",
    "                    else 0\n",
    "                    for j in range(N)\n",
    "                ]\n",
    "                self.B[i, :] = [\n",
    "                    self.r[j]\n",
    "                    if j == i - 1 or j == i + 1\n",
    "                    else 1 - 2 * self.r[j]\n",
    "                    if j == i\n",
    "                    else 0\n",
    "                    for j in range(N)\n",
    "                ]\n",
    "\n",
    "        #von nuemann bottom\n",
    "#         self.A[-1,-1] = 1+self.r[-1]\n",
    "#         self.B[-1,-1] = 1-self.r[-1]\n",
    "#         self.b[-1]=0\n",
    "        \n",
    "        self.Ab = np.zeros((3, N))\n",
    "        self.Ab[0, 1:] = np.diag(self.A, -1)\n",
    "        self.Ab[1, :] = np.diag(self.A)\n",
    "        self.Ab[2, :-1] = np.diag(self.A, 1)\n",
    "        self.Q = np.zeros((N))\n",
    "        self.bb = self.B.dot(self.u) + 2 * self.r*self.b + self.tstep*self.Q\n",
    "\n",
    "        self.update_coastline()\n",
    "\n",
    "    def set_baselevel(self, time, rsl):\n",
    "        # can pass a set of paired time/rsl and model will interpolate for each dt\n",
    "        self.base_level_fun = interp1d(time, rsl)\n",
    "\n",
    "    def run_step(self):\n",
    "        #self.update_K()  # can disable if K is not changing with each t_step (ie as a function of elevation)\n",
    "        self.Q *= 0  # clearing any old sed flux terms\n",
    "        self.base_level = self.base_level_fun(self.time)  # update base level\n",
    "        self.update_coastline()  # select coastline point for sed flux\n",
    "        self.Q[self.coastline] += self.sed_Q  # add sediment to the coastline\n",
    "        self.bb = self.B.dot(self.u) + 2 * self.r*self.b + self.tstep*self.Q  # quick matrix addition\n",
    "        self.u = solve_banded(\n",
    "            (1, 1), self.Ab, self.bb\n",
    "        )  # this step solves the Crank-Nicholson matrix for next timestep\n",
    "        self.time += self.tstep  # increment timestep\n",
    "\n",
    "    def set_left(self, left):\n",
    "        # function to change boundary condition\n",
    "        self.b[0] = left\n",
    "\n",
    "    def set_u(self, u):\n",
    "        self.u = u\n",
    "\n",
    "    def set_right(self, right):\n",
    "        # function to change boundary condition\n",
    "        self.b[-1] = right\n",
    "\n",
    "    def update_coastline(self):\n",
    "        # finds the first grid point below base level starting on the left hand side\n",
    "        try:\n",
    "            self.coastline = np.where(self.u < (self.base_level))[0][0]\n",
    "        except:\n",
    "            self.coastline = 0\n",
    "\n",
    "    def update_K(self):\n",
    "        # updates K if you need it to change with each timestep\n",
    "        # the tridiagonal matrix forms below dont need to be inverted, so this is\n",
    "        # a much faster form of setting up the Crank-Nicolson solution\n",
    "        k_arr = self.K * np.ones((self.x.size))\n",
    "        k_arr[: self.coastline] = 1e-2\n",
    "#         swb = np.where(self.u < (self.base_level - 25))[0][0] #lower K below SWB?\n",
    "#         k_arr[swb:] = 1e-2\n",
    "        self.r = k_arr * (self.tstep / (2 * self.spacing ** 2))  ##Fourier number\n",
    "        np.fill_diagonal(self.B, 1 - 2 * self.r)\n",
    "        np.fill_diagonal(self.B[1:], self.r[1:])\n",
    "        np.fill_diagonal(self.B[:, 1:], self.r[:-1])\n",
    "        self.Ab[0, 1:] = -1 * self.r[:-1]\n",
    "        self.Ab[1, :] = 1 + 2 * self.r\n",
    "        self.Ab[2, :-1] = -1 * self.r[1:]\n",
    "        \n",
    "        #should the R_i match??  go back a few steps and check the full form\n",
    "        \n",
    "        #von nuemann bottom\n",
    "#         self.Ab[1, -1] = 1+self.r[-1]\n",
    "#         self.B[-1,-1] = 1-self.r[-1]\n",
    "#         self.b[-1]=0\n",
    "#         self.b[0] = self.left\n",
    "#         self.b[-1] = self.right\n",
    "\n",
    "def animate_beds(beds,otime,rsl, color=True, aspect=10, ymin=-55):\n",
    "    N = int(len(beds) / 2) + 1\n",
    "    cs_reg = sns.color_palette(\"viridis\", n_colors=np.sum(np.gradient(rsl) <= 0))\n",
    "    cs_trans = sns.color_palette(\"Greys\", n_colors=np.sum(np.gradient(rsl) > 0))\n",
    "    rsl_down = np.gradient(rsl) <= 0\n",
    "    if color==False:\n",
    "        cs_reg = sns.color_palette(\"Greys\", n_colors=100*np.sum(np.gradient(rsl) <= 0))\n",
    "        cs_trans = sns.color_palette(\"Greys\", n_colors=100*np.sum(np.gradient(rsl) > 0))\n",
    "\n",
    "    sns.set_palette(\"tab20\", n_colors=40)\n",
    "    \n",
    "    minima = min(np.gradient(rsl))\n",
    "    maxima = max(np.gradient(rsl))\n",
    "    max_max = max([minima,maxima])\n",
    "\n",
    "    norm = matplotlib.colors.Normalize(vmin=-1*max_max, vmax=max_max, clip=True)\n",
    "    mapper = cm.ScalarMappable(norm=norm, cmap=cm.RdBu)\n",
    "\n",
    "    # for k in range(len(beds)):\n",
    "    #         beds[k]-=otime[k]*model.subsidence_r\n",
    "\n",
    "    beds = np.array(beds)\n",
    "    for i, bed in enumerate(beds):\n",
    "\n",
    "        beds_eroded = []\n",
    "\n",
    "        for k, layer in enumerate(beds[:i]):\n",
    "            future_min = np.min(beds[k : i + 1], axis=0)\n",
    "            beds_eroded.append(future_min)\n",
    "        #         beds_eroded.append(layer)\n",
    "\n",
    "        beds_eroded.append(beds[i])\n",
    "        beds_eroded = np.array(beds_eroded)\n",
    "\n",
    "        fig = plt.figure(figsize=(18, 12))\n",
    "        clear_output(wait=True)\n",
    "        c = [0, 0]\n",
    "        z = N + 1\n",
    "        last_layer = beds_eroded[0]\n",
    "        for layer, down in zip(beds_eroded[: i + 1], np.gradient(rsl)):\n",
    "            if down:\n",
    "                plt.fill_between(\n",
    "                    np.arange(layer.size),\n",
    "                    last_layer,\n",
    "                    layer,\n",
    "                    facecolor=mapper.to_rgba(down),\n",
    "                    lw=0.5,\n",
    "                    edgecolor=(0, 0, 0),\n",
    "                )\n",
    "                c[0] += 1\n",
    "            else:\n",
    "                plt.fill_between(\n",
    "                    np.arange(layer.size),\n",
    "                    last_layer,\n",
    "                    layer,\n",
    "                    facecolor=cs_trans[c[1]],\n",
    "                    lw=0.1,\n",
    "                    edgecolor=(0, 0, 0),\n",
    "                )\n",
    "                c[1] += 1\n",
    "            z -= 1\n",
    "            last_layer = np.copy(layer)\n",
    "\n",
    "        plt.plot(bed, color=\"r\", zorder=N * 2 + 1)\n",
    "        plt.plot([0, 1000], [rsl[i], rsl[i]], \"--\", color=\"k\")\n",
    "\n",
    "        plt.gca().set_xlim([0, layer.size])\n",
    "        plt.gca().set_ylim([ymin, 0])\n",
    "        plt.gca().set_aspect(aspect)\n",
    "        #     plt.gca().set_title('Regression (color) and Transgression (greyscale)\\n with Constant Sed Flux (vertical exaggeration: 100)')\n",
    "        plt.gca().set_title(\"time=\" + str(np.round(otime[i], 2)) + \" years\")\n",
    "        plt.gca().set_ylabel(\"height (m)\")\n",
    "        plt.gca().set_xlabel(\"distance (10x meters)\")\n",
    "        plt.show()\n",
    "        time.sleep(0.01)"
   ]
  },
  {
   "cell_type": "code",
   "execution_count": 2,
   "metadata": {
    "hide_input": false,
    "slideshow": {
     "slide_type": "skip"
    }
   },
   "outputs": [],
   "source": [
    "def plt_strat():\n",
    "    beds_eroded = []\n",
    "    for i,layer in enumerate(beds):\n",
    "        future_min = np.min(beds[i:],axis=0)\n",
    "        beds_eroded.append(future_min)\n",
    "\n",
    "    N=int(len(beds_eroded)/2)+1\n",
    "    cs_reg=sns.color_palette('viridis',n_colors=np.sum(np.gradient(rsl)<=0))\n",
    "    cs_trans=sns.color_palette('Greys',n_colors=np.sum(np.gradient(rsl)>0))\n",
    "    rsl_down=np.gradient(rsl)<=0\n",
    "\n",
    "    minima = min(np.gradient(rsl))\n",
    "    maxima = max(np.gradient(rsl))\n",
    "    max_max = max([minima,maxima])\n",
    "\n",
    "    norm = matplotlib.colors.Normalize(vmin=-1*max_max, vmax=max_max, clip=True)\n",
    "    mapper = cm.ScalarMappable(norm=norm, cmap=cm.RdBu)\n",
    "\n",
    "    sns.set_palette('tab20',n_colors=40)\n",
    "    fig=plt.figure(figsize=(8,12))\n",
    "    for k in range(1,10):\n",
    "        plt.subplot(1,9,k)\n",
    "        c=[0,0]\n",
    "        z=N+1\n",
    "        last_layer=beds_eroded[0]\n",
    "        for layer,down in zip(beds_eroded,np.gradient(rsl)):\n",
    "            if True:\n",
    "                plt.fill_between(np.arange(layer.size),last_layer,layer,facecolor=mapper.to_rgba(down),lw=0,edgecolor=(0,0,0))\n",
    "        #         plt.plot(layer,c=cs_reg[c[0]],zorder=z)\n",
    "                c[0]+=1\n",
    "            else:\n",
    "                plt.fill_between(np.arange(layer.size),last_layer,layer,facecolor=cs_trans[c[1]],lw=0,edgecolor=(0,0,0))\n",
    "                c[1]+=1\n",
    "            z-=1\n",
    "            last_layer=np.copy(layer)\n",
    "        plt.gca().set_xlim([k*100/2,k*100/2+0.01])\n",
    "        plt.gca().set_ylim([-100,10])\n",
    "        plt.gca().set_aspect(.001)\n",
    "        plt.gca().set_title(str(k/2)+' km',fontsize=12)\n",
    "        plt.gca().set_xticks([])\n",
    "        if k==1:\n",
    "            plt.gca().set_ylabel('height (m)')\n",
    "        else:\n",
    "            plt.gca().set_yticks([])\n",
    "    return fig"
   ]
  },
  {
   "cell_type": "code",
   "execution_count": 3,
   "metadata": {
    "slideshow": {
     "slide_type": "skip"
    }
   },
   "outputs": [
    {
     "data": {
      "application/vnd.jupyter.widget-view+json": {
       "model_id": "c6c37906dd84412bbf291497555904a1",
       "version_major": 2,
       "version_minor": 0
      },
      "text/plain": [
       "  0%|          | 0/200001 [00:00<?, ?it/s]"
      ]
     },
     "metadata": {},
     "output_type": "display_data"
    }
   ],
   "source": [
    "dt = .01\n",
    "total_time = 2000\n",
    "base_level_rise=5\n",
    "\n",
    "model = Diffuse1D(length=10000, spacing=10, tstep=dt, left=10, right=-200, K=1e2)\n",
    "xt = np.linspace(0, 10000, 10000)\n",
    "\n",
    "model.set_baselevel(xt, -10 * np.sin(xt * 3e-2) + base_level_rise / (total_time) * xt - 25)\n",
    "\n",
    "beds = []\n",
    "otime = []\n",
    "rsl = []\n",
    "# plt.plot(model.u)\n",
    "\n",
    "beds.append(model.u)\n",
    "otime.append(model.time)\n",
    "rsl.append(model.base_level)\n",
    "\n",
    "\n",
    "pbar = tqdm(range(int(total_time / dt)+1))\n",
    "for k in pbar:\n",
    "    model.run_step()\n",
    "    #     model.set_left(model.base_level+10)\n",
    "    if k % 2000 == 0:\n",
    "        pbar.set_description(\"Processing year %s\" % np.round(model.time, 1))\n",
    "        beds.append(model.u)\n",
    "        otime.append(model.time)\n",
    "        rsl.append(model.base_level)"
   ]
  },
  {
   "cell_type": "markdown",
   "metadata": {
    "slideshow": {
     "slide_type": "slide"
    }
   },
   "source": [
    "<center><div style=\"background: url(images/SA_seds.jpg) 50% 35% no-repeat;\n",
    "  width: 100vw;\n",
    "  height: 20vh; background-size: 100%;\">\n",
    "</div></center>"
   ]
  },
  {
   "cell_type": "markdown",
   "metadata": {
    "slideshow": {
     "slide_type": "-"
    }
   },
   "source": [
    "# Lectures 4-5: Modeling Bulk Transport (numerically)\n",
    "\n",
    "<div style='font-size:25px'>\n",
    "    \n",
    "    \n",
    "1. Kenyon and Turcotte (1985)\n",
    "    1. Diffusion as a transport mechanism\n",
    "1. A more powerful diffusive model\n",
    "    1. Live example with variable sea level\n",
    "    1. Solving the diffusion equation numerically\n",
    "        1. The derivative function\n",
    "        1. Finite difference methods\n",
    "    1. An explicit solution to the diffusion equation\n",
    "        1. Stability\n",
    "    2. An implicit solution to the diffusion equation\n",
    "\n",
    "\n",
    "</div>"
   ]
  },
  {
   "cell_type": "markdown",
   "metadata": {
    "slideshow": {
     "slide_type": "-"
    }
   },
   "source": [
    "<div style='font-size:25px'> <i>We acknowledge and respect the lək̓ʷəŋən peoples on whose traditional territory the university stands and the Songhees, Esquimalt and W̱SÁNE&#262; peoples whose historical relationships with the land continue to this day.</i></div>"
   ]
  },
  {
   "cell_type": "markdown",
   "metadata": {
    "slideshow": {
     "slide_type": "slide"
    }
   },
   "source": [
    "# Kenyon and Turcotte (1985): Diffusion"
   ]
  },
  {
   "cell_type": "markdown",
   "metadata": {
    "slideshow": {
     "slide_type": "-"
    }
   },
   "source": [
    "<div data-id=\"columns\" style=\"display:flex;height:60vh\">\n",
    "<div class=\"clearpanel_start\" style=\"visibility: visible;\">\n",
    "<img src=\"images/rhine_map.jpg\" style='height:60vh'> \n",
    "</div>\n",
    "<div class=\"clearpanel\" style=\"visibility: visible;\">\n",
    "<img src=\"images/rhine_data.jpg\" style='height:60vh'>    \n",
    "</div>\n",
    "</div>"
   ]
  },
  {
   "cell_type": "markdown",
   "metadata": {
    "slideshow": {
     "slide_type": "notes"
    }
   },
   "source": [
    "K&T to convince you that diffusion, or bulk sediment transport, is a reasonable approximation"
   ]
  },
  {
   "cell_type": "markdown",
   "metadata": {
    "slideshow": {
     "slide_type": "slide"
    }
   },
   "source": [
    "## Diffusion as a transport mechanism\n",
    "When we assume that **diffusive transport** exerts an important control on landscape dynamics we generally accept that particles on the surface of the planet are in constant complex motion, and there is some **downslope bias introduced by gravity** to those motions. Over time, **diffusion** can be assumed to smooth topography (by the transport of material downslope).\n",
    "<center></center>\n",
    "$$\\begin{equation}\n",
    "\\dfrac{\\partial h}{\\partial t}\n",
    "= \n",
    "K \\dfrac{\\partial^2 h}{\\partial x^2}\\tag{hillslope application}\n",
    "\\end{equation}$$"
   ]
  },
  {
   "cell_type": "markdown",
   "metadata": {
    "slideshow": {
     "slide_type": "fragment"
    }
   },
   "source": [
    "# A more powerful diffusion model\n",
    "Over the next few weeks in your assignments you will be building a 1-D diffusive transport model to explore how variations in the following properties change the stratigraphic **architecture** of a basin:\n",
    "1. transport\n",
    "2. sediment supply\n",
    "3. accomodation space"
   ]
  },
  {
   "cell_type": "markdown",
   "metadata": {
    "slideshow": {
     "slide_type": "slide"
    }
   },
   "source": [
    "# An example: varying accomodation space"
   ]
  },
  {
   "cell_type": "code",
   "execution_count": 4,
   "metadata": {
    "slideshow": {
     "slide_type": "-"
    }
   },
   "outputs": [
    {
     "data": {
      "text/plain": [
       "Text(0, 0.5, 'Base level')"
      ]
     },
     "execution_count": 4,
     "metadata": {},
     "output_type": "execute_result"
    },
    {
     "data": {
      "image/png": "[encoded data removed]",
      "text/plain": [
       "<Figure size 1080x720 with 1 Axes>"
      ]
     },
     "metadata": {
      "needs_background": "light"
     },
     "output_type": "display_data"
    }
   ],
   "source": [
    "x_ran = np.linspace(0,total_time,len(pbar))\n",
    "fig=plt.figure(figsize=(15,10))\n",
    "plt.plot(x_ran,model.base_level_fun(x_ran), lw=3)\n",
    "plt.gca().set_xlabel('Time (years)')\n",
    "plt.gca().set_ylabel('Base level')"
   ]
  },
  {
   "cell_type": "code",
   "execution_count": 4,
   "metadata": {
    "slideshow": {
     "slide_type": "slide"
    }
   },
   "outputs": [
    {
     "data": {
      "image/png": "[encoded data removed]",
      "text/plain": [
       "<Figure size 1296x864 with 1 Axes>"
      ]
     },
     "metadata": {
      "needs_background": "light"
     },
     "output_type": "display_data"
    }
   ],
   "source": [
    "animate_beds(beds=beds,otime=otime,rsl=rsl,aspect=5, ymin=-100)"
   ]
  },
  {
   "cell_type": "code",
   "execution_count": 6,
   "metadata": {
    "slideshow": {
     "slide_type": "slide"
    }
   },
   "outputs": [
    {
     "data": {
      "image/png": "[encoded data removed]",
      "text/plain": [
       "<Figure size 576x864 with 9 Axes>"
      ]
     },
     "metadata": {
      "needs_background": "light"
     },
     "output_type": "display_data"
    }
   ],
   "source": [
    "fig=plt_strat()"
   ]
  },
  {
   "cell_type": "code",
   "execution_count": null,
   "metadata": {
    "slideshow": {
     "slide_type": "skip"
    }
   },
   "outputs": [],
   "source": [
    "x_ran = np.linspace(0,total_time,len(pbar))\n",
    "plt.plot(x_ran,model.base_level_fun(x_ran))\n",
    "plt.gca().set_xlabel('Time (years)')\n",
    "plt.gca().set_ylabel('Base level')"
   ]
  },
  {
   "cell_type": "code",
   "execution_count": null,
   "metadata": {
    "slideshow": {
     "slide_type": "skip"
    }
   },
   "outputs": [],
   "source": [
    "animate_beds(beds=beds,otime=otime,rsl=rsl,aspect=5, ymin=-100)"
   ]
  },
  {
   "cell_type": "markdown",
   "metadata": {
    "slideshow": {
     "slide_type": "slide"
    }
   },
   "source": [
    "## Solving the diffusion equation numerically\n",
    "We can use the diffusion equation to simulate more complicated transport than the specific case from *Kenyon and Turcott 1985*. Generally, after defining a few properties of the system <span style='color:DodgerBlue'>**(What properties?)**</span> we can solve how that system will change over time. However, there is no exact, or **analytical** form to this solution -- we must solve the equation by numerical approximation.\n",
    "<center></center>\n",
    "$$\\begin{equation}\n",
    "\\dfrac{\\partial h}{\\partial t}\n",
    "= \n",
    "K \\dfrac{\\partial^2 h}{\\partial x^2}\n",
    "\\end{equation}$$\n",
    "\n",
    "<center>\n",
    "    <div style='height:30vh;'>\n",
    "\t    <p>\n",
    "    </div>\n",
    "</center>"
   ]
  },
  {
   "cell_type": "markdown",
   "metadata": {
    "slideshow": {
     "slide_type": "fragment"
    }
   },
   "source": [
    "<span style='color:DodgerBlue'>**(initial topography, boundary conditions at the edges)**</span>"
   ]
  },
  {
   "cell_type": "markdown",
   "metadata": {
    "slideshow": {
     "slide_type": "slide"
    }
   },
   "source": [
    "### The Derivative Function\n",
    "Recall: what is the definition of the derivative function $f'(x)$?"
   ]
  },
  {
   "cell_type": "markdown",
   "metadata": {
    "slideshow": {
     "slide_type": "fragment"
    }
   },
   "source": [
    "$$\n",
    "\\begin{equation}\n",
    "f'(x)\n",
    "=\n",
    "\\lim_{\\Delta x\\to0}\n",
    "\\dfrac{f(x+\\Delta x)-f(x)}{\\Delta x}\n",
    "\\end{equation}\n",
    "=\n",
    "\\dfrac{\\Delta f}{\\Delta x}\n",
    "$$\n",
    "\n",
    "\n",
    "<center>\n",
    "    <div style='height:30vh;'>\n",
    "\t    <p>\n",
    "    </div>\n",
    "</center>"
   ]
  },
  {
   "cell_type": "markdown",
   "metadata": {
    "slideshow": {
     "slide_type": "fragment"
    }
   },
   "source": [
    "<span style='color:DodgerBlue'>**While we can't calculate $\\Delta x$ and $\\Delta f$ for $\\lim{(\\Delta x\\to0)}$ CPUs have no trouble calculating $\\dfrac{\\Delta f}{\\Delta x}$ for a sufficiently small value of $\\Delta x$**</span>"
   ]
  },
  {
   "cell_type": "markdown",
   "metadata": {
    "slideshow": {
     "slide_type": "slide"
    }
   },
   "source": [
    "### Finite difference methods\n",
    "In fact, we have many possible approaches to estimating derivatives using *sufficiently small* values of $\\Delta x$, and these methods are collectively known as **finite difference methods**. These methods make use of <span style='color:DodgerBlue'>**Taylor's theorem**</span>:"
   ]
  },
  {
   "cell_type": "markdown",
   "metadata": {
    "slideshow": {
     "slide_type": "fragment"
    }
   },
   "source": [
    "$\\begin{equation} f(x + \\Delta x) = f(x) + \\dfrac{f'(x)}{1!}(\\Delta x) + \\dfrac{f''(x)}{2!}(\\Delta x)^2 + ... \\end{equation} \\label{eq:taylor}\\tag{Taylor series} $  "
   ]
  },
  {
   "cell_type": "markdown",
   "metadata": {
    "slideshow": {
     "slide_type": "fragment"
    }
   },
   "source": [
    "<span style='color:DodgerBlue'>**What happens to the size of each higher order term in the series?**</span>"
   ]
  },
  {
   "cell_type": "markdown",
   "metadata": {
    "slideshow": {
     "slide_type": "slide"
    }
   },
   "source": [
    "We describe the error of an approximation by the degree of the term where the series is truncated. First order: $O(\\Delta x)$, second order: $O(\\Delta x^2)$, third order: $O(\\Delta x^3)$, etc...\n",
    "\n",
    "$$\n",
    "\\begin{equation} f(x + \\Delta x) \\color{red}{\\approx} f(x) + \\dfrac{f'(x)}{1!}(\\Delta x) \n",
    "\\color{Gray}{+ \\dfrac{f''(x)}{2!}(\\Delta x)^2 + ...} \n",
    "\\end{equation}\n",
    "$$  "
   ]
  },
  {
   "cell_type": "markdown",
   "metadata": {
    "slideshow": {
     "slide_type": "fragment"
    }
   },
   "source": [
    "<span style='color:DodgerBlue'>**The forward-difference approximation of the first derivative with error $O(\\Delta x)$:**</span>"
   ]
  },
  {
   "cell_type": "markdown",
   "metadata": {
    "slideshow": {
     "slide_type": "fragment"
    }
   },
   "source": [
    "$$\n",
    "\\begin{equation} \n",
    "f'(x) = \\dfrac{f(x+\\Delta x)-f(x)}{\\Delta x}\n",
    "\\end{equation}\n",
    "$$  "
   ]
  },
  {
   "cell_type": "markdown",
   "metadata": {
    "slideshow": {
     "slide_type": "fragment"
    }
   },
   "source": [
    "<span style='color:DodgerBlue'>**Any guesses to what the backward-difference looks like?**</span>"
   ]
  },
  {
   "cell_type": "markdown",
   "metadata": {
    "slideshow": {
     "slide_type": "fragment"
    }
   },
   "source": [
    "$$\n",
    "\\begin{equation} \n",
    "f'(x) = \\dfrac{f(x) - f(x-\\Delta x)}{\\Delta x}\n",
    "\\end{equation}\n",
    "$$  "
   ]
  },
  {
   "cell_type": "markdown",
   "metadata": {
    "slideshow": {
     "slide_type": "slide"
    }
   },
   "source": [
    "For this next part, it helps to consider a more specific case where we know our function $f(x)$ for values of $x$ separated by $\\Delta x$. Let's call our function $h(x)$ for height or topography. (Draw cartoon of topography at a single timestep)\n",
    "\n",
    "<center>\n",
    "    <div style='height:40vh;'>\n",
    "\t    <p>\n",
    "    </div>\n",
    "</center>"
   ]
  },
  {
   "cell_type": "markdown",
   "metadata": {
    "slideshow": {
     "slide_type": "slide"
    }
   },
   "source": [
    "<table>\n",
    "<tr>\n",
    "    <th><center> General </center></th>\n",
    "    <th  style='width:100px'>  </th>\n",
    "<th><center> Specific </center></th>\n",
    "</tr>\n",
    "<tr>\n",
    "<td>\n",
    "\n",
    "$$\\begin{equation} f(x + \\Delta x) = f(x) + \\dfrac{\\color{Blue}{f'(x)}}{1!}(\\Delta x) + \\dfrac{\\color{Blue}{f''(x)}}{2!}(\\Delta x)^2 + ... \\end{equation}  $$ \n",
    "    \n",
    "$$\\begin{equation} f(x \\color{red}{-} \\Delta x) = f(x) + \\dfrac{\\color{Blue}{f'(x)}}{1!}(\\color{red}{-}\\Delta x) + \\dfrac{\\color{Blue}{f''(x)}}{2!}(\\color{red}{-}\\Delta x)^2 + ... \\end{equation}  $$  \n",
    "\n",
    "</td>\n",
    "    <td>\n",
    "    </td>\n",
    "<td>\n",
    "\n",
    "$$\\begin{equation} right = center + \\color{Blue}{h'(x)}\\Delta x + \\dfrac{\\color{Blue}{h''(x)}}{2}\\Delta x^2 \\end{equation}  $$ \n",
    "    \n",
    "$$\\begin{equation} left = center \\color{red}{-} \\color{Blue}{h'(x)}\\Delta x + \\dfrac{\\color{Blue}{h''(x)}}{2}\\Delta x^2 \\end{equation}  $$  \n",
    "\n",
    "</td>\n",
    "</tr>\n",
    "</table>\n",
    "\n",
    "\n",
    "\n",
    " \n",
    "\n"
   ]
  },
  {
   "cell_type": "markdown",
   "metadata": {
    "slideshow": {
     "slide_type": "fragment"
    }
   },
   "source": [
    "**Using these two second-order truncations of the Taylor series, derive approximations for both of the <span style='color:blue'>unknowns</span> (first and second derivative)**"
   ]
  },
  {
   "cell_type": "markdown",
   "metadata": {
    "slideshow": {
     "slide_type": "slide"
    }
   },
   "source": [
    "$$\\begin{equation} \n",
    "\\color{blue}{h''(x_i)} \\approx \n",
    "\\dfrac{\\mathrm{left} - 2~\\mathrm{center} + \\mathrm{right}}{\\Delta x^2}\n",
    "\\tag{central-difference $\\frac{\\partial^2 h}{\\partial x^2}$}\n",
    "\\end{equation} $$ \n",
    "\n",
    "$$\\begin{equation} \n",
    "\\color{blue}{h'(x_i)} \\approx \\dfrac{\\mathrm{right}-\\mathrm{left}}{2\\Delta x}\n",
    "\\tag{central-difference $\\frac{\\partial h}{\\partial x}$}\n",
    "\\end{equation} $$ "
   ]
  },
  {
   "cell_type": "markdown",
   "metadata": {
    "slideshow": {
     "slide_type": "fragment"
    }
   },
   "source": [
    "#### Explicit solution\n",
    "All this algebra leads us to an **explicit** solution to the diffusion equation:\n",
    "$$\\begin{equation}\n",
    "\\dfrac{\\partial h}{\\partial t}\n",
    "= \n",
    "K \\color{blue}{\\dfrac{\\partial^2 h}{\\partial x^2}}\n",
    "\\end{equation}$$\n"
   ]
  },
  {
   "cell_type": "markdown",
   "metadata": {
    "slideshow": {
     "slide_type": "fragment"
    }
   },
   "source": [
    "$$\\begin{equation}\n",
    "\\dfrac{\\partial h}{\\partial t}\n",
    "\\color{red}{\\approx}\n",
    "K \\color{blue}{\\dfrac{\\mathrm{left} - 2~\\mathrm{center} + \\mathrm{right}}{\\Delta x^2}}\n",
    "\\end{equation}$$"
   ]
  },
  {
   "cell_type": "markdown",
   "metadata": {
    "slideshow": {
     "slide_type": "fragment"
    }
   },
   "source": [
    "<span style='color:DodgerBlue'>**How do we handle $\\dfrac{\\partial h}{\\partial t}$?**</span> \n"
   ]
  },
  {
   "cell_type": "markdown",
   "metadata": {
    "slideshow": {
     "slide_type": "slide"
    }
   },
   "source": [
    "Let's look at a space-time grid for the problem..\n",
    "\n",
    "\n",
    "<center>\n",
    "    <div style='height:40vh;'>\n",
    "\t    <p>\n",
    "    </div>\n",
    "</center>"
   ]
  },
  {
   "cell_type": "markdown",
   "metadata": {
    "slideshow": {
     "slide_type": "subslide"
    }
   },
   "source": [
    "Since we want to solve for the future timestep, we need to use an approximation for $\\dfrac{\\partial h}{\\partial t}$ that includes the current time-step (**known**) and the future time-step (<span style='color:blue'>**unknown**</span>). We will use the forward difference approximation for time:\n",
    "\n",
    "\n",
    "<table>\n",
    "<tr>\n",
    "    <th><center> General </center></th>\n",
    "    <th  style='width:100px'>  </th>\n",
    "<th><center> Specific </center></th>\n",
    "</tr>\n",
    "<tr>\n",
    "<td>\n",
    "\n",
    "\n",
    "\n",
    "$$\n",
    "\\begin{equation} \n",
    "f'(x) \\approx \\dfrac{f(x+\\Delta x)-f(x)}{\\Delta x}\n",
    "\\end{equation}\n",
    "$$  \n",
    "\n",
    "\n",
    "</td>\n",
    "    <td>\n",
    "    </td>\n",
    "<td>\n",
    "\n",
    "$$\\begin{equation} \n",
    "\\dfrac{\\partial h}{\\partial t}\n",
    "\\approx \n",
    "\\dfrac{future-now}\n",
    "{\\Delta t}\n",
    "\\end{equation}  $$ \n",
    "\n",
    "\n",
    "</td>\n",
    "</tr>\n",
    "</table>\n",
    "\n",
    "\n",
    "\n",
    "\n",
    "\n"
   ]
  },
  {
   "cell_type": "markdown",
   "metadata": {
    "slideshow": {
     "slide_type": "fragment"
    }
   },
   "source": [
    "$$\\begin{equation}\n",
    "\\dfrac{\\partial h}{\\partial t}\n",
    "\\color{red}{\\approx}\n",
    "K \\dfrac{\\mathrm{left} - 2~\\mathrm{center} + \\mathrm{right}}{\\Delta x^2}\n",
    "\\end{equation}$$\n",
    "\n",
    "$$\\begin{equation}\n",
    "\\dfrac{\\mathrm{\\color{Blue}{future}-now}}\n",
    "{\\Delta t}\n",
    "\\color{red}{\\approx}\n",
    "K \\dfrac{\\mathrm{left} - 2~\\mathrm{center} + \\mathrm{right}}{\\Delta x^2}\n",
    "\\end{equation}$$\n"
   ]
  },
  {
   "cell_type": "markdown",
   "metadata": {
    "slideshow": {
     "slide_type": "slide"
    }
   },
   "source": [
    "$$\\begin{equation}\n",
    "\\dfrac{\\mathrm{\\color{Blue}{future}-now}}\n",
    "{1}\n",
    "\\color{red}{\\approx}\n",
    "\\dfrac{K\\Delta t}{\\Delta x^2} \\dfrac{\\mathrm{left} - 2~\\mathrm{center} + \\mathrm{right}}{1}\n",
    "\\end{equation}$$"
   ]
  },
  {
   "cell_type": "markdown",
   "metadata": {
    "slideshow": {
     "slide_type": "fragment"
    }
   },
   "source": [
    "<center>Let $r=\\dfrac{K\\Delta t}{\\Delta x^2}$"
   ]
  },
  {
   "cell_type": "markdown",
   "metadata": {
    "slideshow": {
     "slide_type": "fragment"
    }
   },
   "source": [
    "$$\\begin{equation}\n",
    "\\mathrm{\\color{Blue}{future}}\n",
    "\\color{red}{\\approx}\n",
    "r \\left(\\mathrm{left} - 2~\\mathrm{center} + \\mathrm{right}\\right) + \\mathrm{now}\n",
    "\\end{equation}$$"
   ]
  },
  {
   "cell_type": "markdown",
   "metadata": {
    "slideshow": {
     "slide_type": "slide"
    }
   },
   "source": [
    "<span style='color:DodgerBlue'>**Recall: what is meant by the word $\\mathrm{now}$ in this equation?**</span> \n"
   ]
  },
  {
   "cell_type": "markdown",
   "metadata": {
    "slideshow": {
     "slide_type": "fragment"
    }
   },
   "source": [
    "$$\\mathrm{now = center}$$"
   ]
  },
  {
   "cell_type": "markdown",
   "metadata": {
    "slideshow": {
     "slide_type": "fragment"
    }
   },
   "source": [
    "$$\n",
    "\\begin{equation}\n",
    "\\mathrm{\\color{Blue}{future}}\n",
    "\\color{red}{\\approx}\n",
    "r~\\mathrm{left} - 2~r~\\mathrm{center} + r~\\mathrm{right} + \\mathrm{center}\n",
    "\\end{equation}\n",
    "$$\n",
    "\n",
    "$$\n",
    "\\begin{equation}\n",
    "\\mathrm{\\color{Blue}{future}}\n",
    "\\color{red}{\\approx}\n",
    "r~\\mathrm{left} + (1 - 2~r)~\\mathrm{center} + r~\\mathrm{right}\n",
    "\\end{equation}\n",
    "$$\n",
    "\n",
    "\n",
    "$$\n",
    "\\begin{equation}\n",
    "\\color{Blue}{h(x_i^{t+\\Delta t}})\n",
    "\\color{red}{\\approx}\n",
    "r~h(x_{i-\\Delta x}) + (1 - 2~r)~h(x_{i}) + r~h(x_{i+\\Delta x})\n",
    "\\end{equation}\n",
    "$$\n",
    "\n",
    "\n"
   ]
  },
  {
   "cell_type": "markdown",
   "metadata": {
    "slideshow": {
     "slide_type": "slide"
    }
   },
   "source": [
    "$$\n",
    "\\begin{equation}\n",
    "\\color{Blue}{h(x_i^{t+\\Delta t}})\n",
    "\\color{red}{\\approx}\n",
    "r~h(x_{i-\\Delta x}) + (1 - 2~r)~h(x_{i}) + r~h(x_{i+\\Delta x})\n",
    "\\end{equation}\n",
    "$$\n",
    "\n",
    "We now have a separate equation for each point on our grid of interest $h(x_0)$ to $h(x_N)$ (with $h(x_i)$ above). <span style='color:DodgerBlue'>**How does the equation need to change at the boundaries $h(x_0)$ and $h(x_N)$?**</span>\n",
    "\n",
    "$$\n",
    "\\begin{equation}\n",
    "\\color{Blue}{h(x_0^{t+\\Delta t}})\n",
    "\\color{red}{\\approx}\n",
    "\\end{equation}\n",
    "$$\n",
    "\n",
    "$$\n",
    "\\begin{equation}\n",
    "\\color{Blue}{h(x_N^{t+\\Delta t}})\n",
    "\\color{red}{\\approx}\n",
    "\\end{equation}\n",
    "$$\n"
   ]
  },
  {
   "cell_type": "markdown",
   "metadata": {
    "slideshow": {
     "slide_type": "fragment"
    }
   },
   "source": [
    "$$\n",
    "\\begin{equation}\n",
    "\\color{Blue}{h(x_0^{t+\\Delta t}})\n",
    "\\color{red}{\\approx}\n",
    "r~(\\mathrm{left~boundary~condition}) + (1 - 2~r)~h(x_{i}) + r~h(x_{i+\\Delta x})\n",
    "\\end{equation}\n",
    "$$\n",
    "\n",
    "$$\n",
    "\\begin{equation}\n",
    "\\color{Blue}{h(x_N^{t+\\Delta t}})\n",
    "\\color{red}{\\approx}\n",
    "r~h(x_{i-\\Delta x}) + (1 - 2~r)~h(x_{i}) + r~(\\mathrm{right~boundary~condition})\n",
    "\\end{equation}\n",
    "$$\n"
   ]
  },
  {
   "cell_type": "markdown",
   "metadata": {
    "slideshow": {
     "slide_type": "slide"
    }
   },
   "source": [
    "### Linear Algebra Refresher\n",
    "We will use linear algebra to solve the system of equations (one equation per finite element $h_i$ in our model). There are two rules about matrix and vector operations that you will need to recall:\n"
   ]
  },
  {
   "cell_type": "markdown",
   "metadata": {
    "slideshow": {
     "slide_type": "fragment"
    }
   },
   "source": [
    "First, lets set:\n",
    "$\n",
    "\\begin{equation}\n",
    "B\n",
    "   =\n",
    "    \\begin{bmatrix}\n",
    "   b_{11}& b_{12}& b_{13}\\\\\n",
    "   b_{21}& b_{22}& b_{23}\\\\ \n",
    "   b_{31}& b_{32}& b_{33}\\\\ \n",
    "   \\end{bmatrix} \n",
    "\\end{equation}\n",
    "$\n",
    "and \n",
    "$\n",
    "\\begin{equation}\n",
    "h\n",
    "   =\n",
    "    \\begin{bmatrix}\n",
    "   h_{0}\\\\\n",
    "   h_{i}\\\\ \n",
    "   h_{n}\\\\ \n",
    "   \\end{bmatrix} \n",
    "\\end{equation}\n",
    "$\n",
    "\n",
    "<span style='color:DodgerBlue'>**What is $B$ multiplied by $h$?**</span>\n",
    "\n",
    "\n",
    "\n",
    "<center>\n",
    "    <div style='height:10vh;'>\n",
    "\t    <p>\n",
    "    </div>\n",
    "</center>"
   ]
  },
  {
   "cell_type": "markdown",
   "metadata": {
    "slideshow": {
     "slide_type": "slide"
    }
   },
   "source": [
    "The multiplication of matrix $B$ times vector $h$ produces a **linear combination of the columns of the matrix** where column $i$ is paired with the item $i$ in the vector $h$.\n",
    "\n",
    "$$\n",
    "\\begin{equation}\n",
    "Bh=\n",
    "h_0\n",
    "\\begin{bmatrix}\n",
    "   b_{11}\\\\\n",
    "   b_{21}\\\\ \n",
    "   b_{31}\\\\ \n",
    "\\end{bmatrix}\n",
    "+\n",
    "h_i\n",
    "\\begin{bmatrix}\n",
    "   b_{12}\\\\\n",
    "   b_{22}\\\\ \n",
    "   b_{32}\\\\ \n",
    "\\end{bmatrix}\n",
    "+\n",
    "h_N\n",
    "\\begin{bmatrix}\n",
    "   b_{13}\\\\\n",
    "   b_{23}\\\\ \n",
    "   b_{33}\\\\ \n",
    "\\end{bmatrix}\n",
    "\\end{equation}\n",
    "$$"
   ]
  },
  {
   "cell_type": "markdown",
   "metadata": {
    "slideshow": {
     "slide_type": "slide"
    }
   },
   "source": [
    "$$\n",
    "\\begin{equation}\n",
    "B\n",
    "   =\n",
    "    \\begin{bmatrix}\n",
    "   b_{11}& b_{12}& b_{13}\\\\\n",
    "   b_{21}& b_{22}& b_{23}\\\\ \n",
    "   b_{31}& b_{32}& b_{33}\\\\ \n",
    "   \\end{bmatrix} \n",
    "\\end{equation}\n",
    "$$\n",
    "\n",
    "<span style='color:DodgerBlue'>**For our second rule, what is $B^{-1}B$ equal to?**</span>"
   ]
  },
  {
   "cell_type": "markdown",
   "metadata": {
    "slideshow": {
     "slide_type": "fragment"
    }
   },
   "source": [
    "By definition, the inverse matrix $B^{-1}$ *undoes* the effects of matrix $B$.\n",
    "$$\n",
    "\\begin{equation}\n",
    "B^{-1}B\n",
    "   =\n",
    "    \\begin{bmatrix}\n",
    "   1& 0& 0\\\\\n",
    "   0& 1& 0\\\\ \n",
    "   0& 0& 1\\\\ \n",
    "   \\end{bmatrix} \n",
    "\\end{equation}\n",
    "$$"
   ]
  },
  {
   "cell_type": "markdown",
   "metadata": {
    "slideshow": {
     "slide_type": "fragment"
    }
   },
   "source": [
    "*Note that the order from left to right is important when using the inverse matrix to solve systems of equations. For example, assuming that each of the following letters is a matrix, to solve for $X$ in $ABCXD=E$ we must multiply both sides of the equation by $D^{-1}$ on the right side, and then by $A^{-1}$, $B^{-1}$, $C^{-1}$ (in that order) on the left: $X=C^{-1}B^{-1}A^{-1}ED^{-1}$*"
   ]
  },
  {
   "cell_type": "markdown",
   "metadata": {
    "slideshow": {
     "slide_type": "subslide"
    }
   },
   "source": [
    "Let's return to our approximation of the diffusion equation:\n",
    "$$\n",
    "\\begin{equation}\n",
    "\\color{Blue}{h(x_i^{t+\\Delta t}})\n",
    "\\color{red}{\\approx}\n",
    "r~h(x_{i-\\Delta x}) + (1 - 2~r)~h(x_{i}) + r~h(x_{i+\\Delta x})\n",
    "\\end{equation}\n",
    "$$\n"
   ]
  },
  {
   "cell_type": "markdown",
   "metadata": {
    "slideshow": {
     "slide_type": "fragment"
    }
   },
   "source": [
    "<span style='color:DodgerBlue'>**Working in small groups spend the next X minutes converting the equation above into matrix form:**</span>"
   ]
  },
  {
   "cell_type": "markdown",
   "metadata": {
    "slideshow": {
     "slide_type": "-"
    }
   },
   "source": [
    "$$\n",
    "\\begin{equation}\n",
    "     \\begin{bmatrix}\n",
    "  \\color{blue}{h_0^{t+\\Delta t} }\\\\ \n",
    "  \\color{blue}{h_i^{t+\\Delta t}} \\\\ \n",
    "    \\color{blue}{h_N^{t+\\Delta t}} \\\\  \n",
    "   \\end{bmatrix}\n",
    "   = ????\n",
    "\\end{equation}\n",
    "$$\n"
   ]
  },
  {
   "cell_type": "markdown",
   "metadata": {
    "slideshow": {
     "slide_type": "slide"
    }
   },
   "source": [
    "Our approximation of the diffusion equation in matrix form:\n",
    "\n",
    "$$\n",
    "\\begin{equation}\n",
    "     \\begin{bmatrix}\n",
    "  \\color{blue}{h_0^{t+\\Delta t} }\\\\ \n",
    "  \\color{blue}{h_i^{t+\\Delta t}} \\\\ \n",
    "    \\color{blue}{h_N^{t+\\Delta t}} \\\\  \n",
    "   \\end{bmatrix}\n",
    "   =\n",
    "    \\begin{bmatrix}\n",
    "   1-2r& r& 0\\\\\n",
    "   r& 1-2r& r\\\\ \n",
    "   0&r& 1-2r\\\\ \n",
    "   \\end{bmatrix} \n",
    "    \\begin{bmatrix}\n",
    "  h_0 \\\\ \n",
    "  h_i \\\\ \n",
    "    h_N \\\\ \n",
    "   \\end{bmatrix}\n",
    "   +\n",
    "   r~\n",
    "   \\begin{bmatrix}\n",
    "  b_0 \\\\ \n",
    "  b_i \\\\ \n",
    "   b_N \\\\ \n",
    "   \\end{bmatrix}\n",
    "\\end{equation}\n",
    "$$"
   ]
  },
  {
   "cell_type": "markdown",
   "metadata": {
    "slideshow": {
     "slide_type": "fragment"
    }
   },
   "source": [
    "<span style='color:DodgerBlue'>**Have we incorporated the boundary conditions?**</span>"
   ]
  },
  {
   "cell_type": "markdown",
   "metadata": {
    "slideshow": {
     "slide_type": "slide"
    }
   },
   "source": [
    "### Stability\n",
    "Recall that we noted above that CPUs can solve differential equations provided a *sufficiently small* discrete step is selected. If the time or space steps are too large, errors will propogate (grow) and after some number of iterations result in overflow errors (not-a-number or NAN values). We wont deep-dive stability analysis, but it can be shown that for the **explicit** numerical scheme above, stability is ensured provided that:\n",
    "$$\\Delta t \\leq \\dfrac{\\Delta x^2}{2K}$$"
   ]
  },
  {
   "cell_type": "markdown",
   "metadata": {
    "slideshow": {
     "slide_type": "fragment"
    }
   },
   "source": [
    "<span style='color:DodgerBlue'>**Recall that the values for $K$ estimated in Kenyon and Turcotte (1985) were on the order of $10^4$ m$^2$/yr. What does that imply about the timestep, $\\Delta t$, necessary to solve the diffusion equation with the numerical scheme above?**</span>"
   ]
  },
  {
   "cell_type": "markdown",
   "metadata": {
    "slideshow": {
     "slide_type": "fragment"
    }
   },
   "source": [
    "*Your $\\Delta t$ would need to be about 30 minutes if $\\Delta x$ is 1 meter, good luck with simulations that cover many years!*"
   ]
  },
  {
   "cell_type": "markdown",
   "metadata": {
    "slideshow": {
     "slide_type": "slide"
    }
   },
   "source": [
    "#### A stable example:"
   ]
  },
  {
   "cell_type": "code",
   "execution_count": 7,
   "metadata": {
    "slideshow": {
     "slide_type": "fragment"
    }
   },
   "outputs": [],
   "source": [
    "import numpy as np\n",
    "np.random.seed(3)\n",
    "topography = np.cumsum(np.random.normal(0,1,100))\n",
    "dx = 1\n",
    "K = 2e4\n",
    "dt = dx**2/(2*K) \n",
    "r = (K*dt)/(dx*2)\n",
    "from scipy.sparse import diags\n",
    "B = diags([r, 1-2*r, r], [-1, 0, 1], shape=(100, 100)).toarray()\n",
    "left=0\n",
    "right=10\n",
    "boundary_vector = np.zeros(100)\n",
    "boundary_vector[0]=left  \n",
    "boundary_vector[-1]=right"
   ]
  },
  {
   "cell_type": "markdown",
   "metadata": {
    "slideshow": {
     "slide_type": "skip"
    }
   },
   "source": [
    "### EXPAND HERE TO TALK ABOUT RUNNING MODELS AND TIME / PROGRAM CONTROL/FLOW"
   ]
  },
  {
   "cell_type": "code",
   "execution_count": 9,
   "metadata": {
    "slideshow": {
     "slide_type": "slide"
    }
   },
   "outputs": [
    {
     "data": {
      "image/png": "[encoded data removed]",
      "text/plain": [
       "<Figure size 432x288 with 1 Axes>"
      ]
     },
     "metadata": {
      "needs_background": "light"
     },
     "output_type": "display_data"
    }
   ],
   "source": [
    "from matplotlib import pyplot as plt\n",
    "plt.plot(np.arange(0,100,dx),topography, label='time=0')\n",
    "\n",
    "for i in range(10):\n",
    "    topography=B.dot(topography)+r*boundary_vector\n",
    "plt.plot(np.arange(0,100,dx),topography,color='k',label='time='+str(10*dt))\n",
    "\n",
    "for i in range(990):\n",
    "    topography=B.dot(topography)+r*boundary_vector\n",
    "plt.plot(np.arange(0,100,dx),topography,color='r',label='time='+str(1000*dt))\n",
    "\n",
    "for i in range(20000):\n",
    "    topography=B.dot(topography)+r*boundary_vector\n",
    "plt.plot(np.arange(0,100,dx),topography,color='g',label='time='+str(3000*dt))\n",
    "\n",
    "plt.legend(loc='best',frameon=False)\n",
    "plt.gca().set_title('timestep = '+str(dt))\n",
    "np.random.seed()"
   ]
  },
  {
   "cell_type": "markdown",
   "metadata": {
    "slideshow": {
     "slide_type": "slide"
    }
   },
   "source": [
    "#### An unstable example:"
   ]
  },
  {
   "cell_type": "code",
   "execution_count": 10,
   "metadata": {
    "slideshow": {
     "slide_type": "fragment"
    }
   },
   "outputs": [],
   "source": [
    "np.random.seed(3)\n",
    "topography = np.cumsum(np.random.normal(0,1,100))\n",
    "dx = 1\n",
    "K = 2e4\n",
    "dt = 20*dx**2/(2*K)\n",
    "r = (K*dt)/(dx*2)\n",
    "from scipy.sparse import diags\n",
    "B = diags([r, 1-2*r, r], [-1, 0, 1], shape=(100, 100)).toarray()\n",
    "left=0\n",
    "right=10\n",
    "boundary_vector = np.zeros(100)\n",
    "boundary_vector[0]=left\n",
    "boundary_vector[-1]=right "
   ]
  },
  {
   "cell_type": "code",
   "execution_count": 12,
   "metadata": {
    "slideshow": {
     "slide_type": "slide"
    }
   },
   "outputs": [
    {
     "data": {
      "image/png": "[encoded data removed]",
      "text/plain": [
       "<Figure size 432x288 with 1 Axes>"
      ]
     },
     "metadata": {
      "needs_background": "light"
     },
     "output_type": "display_data"
    }
   ],
   "source": [
    "plt.plot(np.arange(0,100,dx),topography, label='time=0')\n",
    "\n",
    "for i in range(10):\n",
    "    topography=B.dot(topography)+r*boundary_vector\n",
    "plt.plot(np.arange(0,100,dx),topography,color='k',label='time='+str(10*dt))\n",
    "\n",
    "for i in range(990):\n",
    "    topography=B.dot(topography)+r*boundary_vector\n",
    "plt.plot(np.arange(0,100,dx),topography,color='r',label='time='+str(1000*dt))\n",
    "\n",
    "plt.legend(loc='best',frameon=False)\n",
    "plt.gca().set_title('timestep = '+str(dt))\n",
    "np.random.seed()"
   ]
  },
  {
   "cell_type": "markdown",
   "metadata": {
    "slideshow": {
     "slide_type": "slide"
    }
   },
   "source": [
    "## Implicit solution\n",
    "\n",
    "In the **explicit** method above, we approximated ${\\dfrac{\\partial^2 h}{\\partial x^2}}$ using the values of $h$ at the current time step, which we consider **known** quantities. \n",
    "\n",
    "$$\\begin{equation}\n",
    "\\color{green}{\\dfrac{\\partial h}{\\partial t}}\n",
    "= \n",
    "K \\color{blue}{\\dfrac{\\partial^2 h}{\\partial x^2}}\n",
    "\\end{equation}$$\n",
    "\n",
    "$$\\begin{equation}\n",
    "\\color{green}{\\dfrac{\\mathrm{center_{future}} - \\mathrm{center_{now}}}{\\Delta t}}\n",
    "\\color{red}{\\approx}\n",
    "K \\color{blue}{\\dfrac{\\mathrm{left} - 2~\\mathrm{center} + \\mathrm{right}}{\\Delta x^2}}\n",
    "\\end{equation}$$\n",
    "\n"
   ]
  },
  {
   "cell_type": "markdown",
   "metadata": {
    "slideshow": {
     "slide_type": "slide"
    }
   },
   "source": [
    "An **implicit** method, in contrast, evaluates some or all of $h$ in terms of **unknown** quantities at the new time step $t+\\Delta t$. To solve the diffusion equation (1D) we will use an **implicit** method known as the [Crank-Nicholson method](https://en.wikipedia.org/wiki/Crank%E2%80%93Nicolson_method).\n",
    "\n",
    "To approximate ${\\dfrac{\\partial^2 h}{\\partial x^2}}$ we will be taking the average of the central difference approximation at the current time step and the central diference approximation at the next timestep. <span style='color:Firebrick'><i>(draw space-time stencil)</i></span>\n",
    "\n"
   ]
  },
  {
   "cell_type": "markdown",
   "metadata": {
    "slideshow": {
     "slide_type": "fragment"
    }
   },
   "source": [
    "    \n",
    "$$\\begin{equation*} \n",
    "\\dfrac{\\mathrm{center_{future}} - \\mathrm{center_{now}}}{\\Delta t} \n",
    "\\approx\n",
    "K\\left(\n",
    "\\dfrac{\\mathrm{left_{halfway~to~future}} - 2~\\mathrm{center_{halfway~to~future}} + \\mathrm{right_{halfway~to~future}}}\n",
    "{\\Delta x^2}\\right)\\\\\n",
    "\\end{equation*} $$ \n",
    "    \n"
   ]
  },
  {
   "cell_type": "markdown",
   "metadata": {
    "slideshow": {
     "slide_type": "slide"
    }
   },
   "source": [
    "<span style='font-size:.8em'>\n",
    "\n",
    "$$\\begin{equation*} \n",
    "\\dfrac{\\color{red}{\\mathrm{center_{future}}}\n",
    "- \\mathrm{center_{now}}}{\\Delta t} \n",
    "\\approx\n",
    "\\dfrac{K}{2}\n",
    "\\left(\\dfrac{\\mathrm{left_{now}} - 2~\\mathrm{center_{now}} + \\mathrm{right_{now}}}\n",
    "{\\Delta x^2}\n",
    "+\n",
    "\\dfrac{\\color{red}{\\mathrm{left_{future}}}\n",
    "- \n",
    "2~\\color{red}{\\mathrm{center_{future}}} \n",
    "+ \\color{red}{\\mathrm{right_{future}}}}\n",
    "{\\Delta x^2}\\right)\n",
    "\\\\\n",
    "\\end{equation*} $$ \n"
   ]
  },
  {
   "cell_type": "markdown",
   "metadata": {
    "slideshow": {
     "slide_type": "fragment"
    }
   },
   "source": [
    "$$\\begin{equation*} \n",
    "\\dfrac{\\color{red}{h_{i}^{t+\\Delta t}}\n",
    "- h_i^t}{\\Delta t} \n",
    "\\approx\n",
    "\\dfrac{K}{2}\n",
    "\\left(\n",
    "\\dfrac{\n",
    "            h_{i-\\Delta x}^{t} \n",
    "            - \n",
    "            2~h_{i}^{t} \n",
    "            + \n",
    "            h_{i+\\Delta x}^{t}\n",
    "        }\n",
    "        {\n",
    "            \\Delta x^2\n",
    "        }\n",
    "    +\n",
    "    \\dfrac{\n",
    "            \\color{red}{\n",
    "                h_{i-\\Delta x}^{t+\\Delta t}\n",
    "                       }\n",
    "            -\n",
    "            2~\\color{red}{\n",
    "                h_{i}^{t+\\Delta t}\n",
    "                         }\n",
    "            +\n",
    "            \\color{red}{\n",
    "                h_{i+\\Delta x}^{t+\\Delta t}\n",
    "                       }\n",
    "        }\n",
    "        {\n",
    "            \\Delta x^2\n",
    "        }\n",
    "\\right)\n",
    "\\\\\n",
    "\\end{equation*} $$ "
   ]
  },
  {
   "cell_type": "markdown",
   "metadata": {
    "slideshow": {
     "slide_type": "slide"
    }
   },
   "source": [
    "$$\\begin{equation*} \n",
    "\\dfrac{\\color{red}{h_{i}^{t+\\Delta t}}\n",
    "- h_i^t}{\\Delta t} \n",
    "\\approx\n",
    "\\dfrac{K}{2}\n",
    "\\left(\n",
    "\\dfrac{\n",
    "            h_{i-\\Delta x}^{t} \n",
    "            - \n",
    "            2~h_{i}^{t} \n",
    "            + \n",
    "            h_{i+\\Delta x}^{t}\n",
    "        }\n",
    "        {\n",
    "            \\Delta x^2\n",
    "        }\n",
    "    +\n",
    "    \\dfrac{\n",
    "            \\color{red}{\n",
    "                h_{i-\\Delta x}^{t+\\Delta t}\n",
    "                       }\n",
    "            -\n",
    "            2~\\color{red}{\n",
    "                h_{i}^{t+\\Delta t}\n",
    "                         }\n",
    "            +\n",
    "            \\color{red}{\n",
    "                h_{i+\\Delta x}^{t+\\Delta t}\n",
    "                       }\n",
    "        }\n",
    "        {\n",
    "            \\Delta x^2\n",
    "        }\n",
    "\\right)\n",
    "\\\\\n",
    "\\end{equation*} $$ \n"
   ]
  },
  {
   "cell_type": "markdown",
   "metadata": {
    "slideshow": {
     "slide_type": "-"
    }
   },
   "source": [
    "and redefine: \n",
    "$\\begin{equation}\n",
    "r=K\\dfrac{\\Delta t}{2~\\Delta x^2}\n",
    "\\end{equation}$"
   ]
  },
  {
   "cell_type": "markdown",
   "metadata": {
    "slideshow": {
     "slide_type": "fragment"
    }
   },
   "source": [
    "Which simplifies our equation to:\n",
    "$$\\begin{equation*} \n",
    "\\color{red}{h_{i}^{t+\\Delta t}}-h_i^t \\approx r~(h_{i-\\Delta x}^{t} - 2~h_{i}^{t} + h_{i+\\Delta x}^{t}+\\color{red}{h_{i-\\Delta x}^{t+\\Delta t}}-2~\\color{red}{h_{i}^{t+\\Delta t}}+\\color{red}{h_{i+\\Delta x}^{t+\\Delta t}})\n",
    "\\end{equation*} $$"
   ]
  },
  {
   "cell_type": "markdown",
   "metadata": {
    "slideshow": {
     "slide_type": "skip"
    }
   },
   "source": [
    "Crank-Nicolson finite difference approximation to the 1D diffusion equation:\n",
    "$$\\begin{equation*} \n",
    "\\color{red}{h_{i}^{t+\\Delta t}}-h_i^t \\approx r~(h_{i-\\Delta x}^{t} - 2~h_{i}^{t} + h_{i+\\Delta x}^{t}+\\color{red}{h_{i-\\Delta x}^{t+\\Delta t}}-2~\\color{red}{h_{i}^{t+\\Delta t}}+\\color{red}{h_{i+\\Delta x}^{t+\\Delta t}})\n",
    "\\end{equation*} $$"
   ]
  },
  {
   "cell_type": "markdown",
   "metadata": {
    "slideshow": {
     "slide_type": "skip"
    }
   },
   "source": [
    "<!-- Let's look at a space-time grid for the problem..\n",
    "\n",
    "<center>\n",
    "    <div style='height:40vh;'>\n",
    "\t    <p>\n",
    "    </div>\n",
    "</center> -->"
   ]
  },
  {
   "cell_type": "markdown",
   "metadata": {
    "slideshow": {
     "slide_type": "slide"
    }
   },
   "source": [
    "Crank-Nicolson solution to the diffusion equation:\n",
    "$$\\begin{equation*} \n",
    "\\color{red}{h_{i}^{t+\\Delta t}}-h_i^t \\approx r~(h_{i-\\Delta x}^{t} - 2~h_{i}^{t} + h_{i+\\Delta x}^{t}+\\color{red}{h_{i-\\Delta x}^{t+\\Delta t}}-2~\\color{red}{h_{i}^{t+\\Delta t}}+\\color{red}{h_{i+\\Delta x}^{t+\\Delta t}})\n",
    "\\end{equation*} $$"
   ]
  },
  {
   "cell_type": "markdown",
   "metadata": {
    "slideshow": {
     "slide_type": "-"
    }
   },
   "source": [
    "<span style='color:DodgerBlue'>**Your assignment task this week is to determine the solution to the system of equations above (and then design some code that allows you to simulate changes in topography over time).**</span> "
   ]
  },
  {
   "cell_type": "markdown",
   "metadata": {
    "slideshow": {
     "slide_type": "fragment"
    }
   },
   "source": [
    "Specific steps:\n",
    "   1. Collect <span style='color:red'>**unknown**</span> terms on the left and **known** terms on the right."
   ]
  },
  {
   "cell_type": "markdown",
   "metadata": {
    "slideshow": {
     "slide_type": "fragment"
    }
   },
   "source": [
    "   2. Convert this system of linear equations to matrix form (ie, figure out what goes in matrix $A$ and $B$ below):\n",
    "$$\n",
    "\\begin{equation}\n",
    "\\begin{bmatrix}\n",
    "\\mathrm{A}\\\\\n",
    "\\end{bmatrix}\n",
    "\\color{red}{h^{t+\\Delta t} }\n",
    "=\n",
    "\\begin{bmatrix}\n",
    "\\mathrm{B}\\\\\n",
    "\\end{bmatrix}h^{t}\n",
    "+\n",
    "b^{t}\n",
    "\\end{equation}\n",
    "$$"
   ]
  },
  {
   "cell_type": "markdown",
   "metadata": {
    "slideshow": {
     "slide_type": "slide"
    }
   },
   "source": [
    "   3. Write your code (using the following pseudo code to guide you):\n",
    "        - Set up initial conditions (topography, diffusivity, $\\Delta x$, $\\Delta t$, $r$) and boundary conditions (left and right)\n",
    "        - Define matrices $A$ and $B$\n",
    "        - Repeatedly (loop) solve the matrix equation above for $\\color{red}{h^{t+\\Delta t} }$ (each iteration is one $\\Delta t$ sized step forward in time)"
   ]
  },
  {
   "cell_type": "markdown",
   "metadata": {
    "slideshow": {
     "slide_type": "slide"
    }
   },
   "source": [
    "Here are some tricks for creating large matrices. First, define a matrix:"
   ]
  },
  {
   "cell_type": "code",
   "execution_count": 13,
   "metadata": {
    "scrolled": true,
    "slideshow": {
     "slide_type": "-"
    }
   },
   "outputs": [
    {
     "data": {
      "text/plain": [
       "array([[0., 0., 0., 0., 0.],\n",
       "       [0., 0., 0., 0., 0.],\n",
       "       [0., 0., 0., 0., 0.],\n",
       "       [0., 0., 0., 0., 0.],\n",
       "       [0., 0., 0., 0., 0.]])"
      ]
     },
     "execution_count": 13,
     "metadata": {},
     "output_type": "execute_result"
    }
   ],
   "source": [
    "A = np.zeros((5,5)) #makes a 5 x 5 matrix\n",
    "A"
   ]
  },
  {
   "cell_type": "markdown",
   "metadata": {
    "slideshow": {
     "slide_type": "slide"
    }
   },
   "source": [
    "Change the main diagonal of a matrix:"
   ]
  },
  {
   "cell_type": "code",
   "execution_count": 14,
   "metadata": {
    "scrolled": true,
    "slideshow": {
     "slide_type": "-"
    }
   },
   "outputs": [
    {
     "data": {
      "text/plain": [
       "array([[5., 3., 0., 0., 0.],\n",
       "       [4., 5., 3., 0., 0.],\n",
       "       [0., 4., 5., 3., 0.],\n",
       "       [0., 0., 4., 5., 3.],\n",
       "       [0., 0., 0., 4., 5.]])"
      ]
     },
     "execution_count": 14,
     "metadata": {},
     "output_type": "execute_result"
    }
   ],
   "source": [
    "np.fill_diagonal(A, 5)\n",
    "np.fill_diagonal(A[1:], 4)\n",
    "np.fill_diagonal(A[:,1:], 3)\n",
    "A"
   ]
  },
  {
   "cell_type": "markdown",
   "metadata": {
    "slideshow": {
     "slide_type": "slide"
    }
   },
   "source": [
    "Often there are several ways to accomplish a task. Scipy also has a nice solution for crafting matrices by diagonals:"
   ]
  },
  {
   "cell_type": "code",
   "execution_count": 15,
   "metadata": {
    "slideshow": {
     "slide_type": "-"
    }
   },
   "outputs": [
    {
     "data": {
      "text/plain": [
       "array([[5., 3., 0., 0., 0.],\n",
       "       [4., 5., 3., 0., 0.],\n",
       "       [0., 4., 5., 3., 0.],\n",
       "       [0., 0., 4., 5., 3.],\n",
       "       [0., 0., 0., 4., 5.]])"
      ]
     },
     "execution_count": 15,
     "metadata": {},
     "output_type": "execute_result"
    }
   ],
   "source": [
    "from scipy.sparse import diags\n",
    "B = diags([4, 5, 3], [-1, 0, 1], shape=(5, 5)).toarray()\n",
    "B"
   ]
  },
  {
   "cell_type": "markdown",
   "metadata": {
    "slideshow": {
     "slide_type": "slide"
    }
   },
   "source": [
    "We can use numpy to solve our matrix equation:"
   ]
  },
  {
   "cell_type": "code",
   "execution_count": 16,
   "metadata": {
    "slideshow": {
     "slide_type": "fragment"
    }
   },
   "outputs": [
    {
     "data": {
      "text/plain": [
       "array([2, 4, 3, 2, 7])"
      ]
     },
     "execution_count": 16,
     "metadata": {},
     "output_type": "execute_result"
    }
   ],
   "source": [
    "h = np.array([2,4,3,2,7]) #define vector\n",
    "h"
   ]
  },
  {
   "cell_type": "code",
   "execution_count": 17,
   "metadata": {
    "slideshow": {
     "slide_type": "fragment"
    }
   },
   "outputs": [
    {
     "data": {
      "text/plain": [
       "array([2., 4., 3., 2., 7.])"
      ]
     },
     "execution_count": 17,
     "metadata": {},
     "output_type": "execute_result"
    }
   ],
   "source": [
    "np.linalg.solve(A,B.dot(h)) #solves for x in [A][x]=[B][h] ## SLOW"
   ]
  },
  {
   "cell_type": "code",
   "execution_count": null,
   "metadata": {
    "slideshow": {
     "slide_type": "fragment"
    }
   },
   "outputs": [],
   "source": [
    "inverse_calculated_once = np.linalg.inv(A)\n",
    "for i in range(100):\n",
    "    inverse_calculated_once.dot(B.dot(h)) \n",
    "    #an alternative solution - solver above computed the right hand side of [A^-1][A]x = [A^-1][B][h]"
   ]
  },
  {
   "cell_type": "markdown",
   "metadata": {
    "slideshow": {
     "slide_type": "slide"
    }
   },
   "source": [
    "<span style='color:DodgerBlue'>**A hint: the numpy solver above calculates the inverse of A with each call to the function. Generally speaking, inverting matrices is a computationally expensive step. If A doesn't change over time in your model, you can calculate the inverse once, set it to a new variable, and then use that inverted matrix for all time steps.**</span> "
   ]
  },
  {
   "cell_type": "code",
   "execution_count": 18,
   "metadata": {
    "slideshow": {
     "slide_type": "-"
    }
   },
   "outputs": [
    {
     "name": "stdout",
     "output_type": "stream",
     "text": [
      "6.4 µs ± 19.2 ns per loop (mean ± std. dev. of 7 runs, 100000 loops each)\n"
     ]
    }
   ],
   "source": [
    "%timeit np.linalg.solve(A,B.dot(h)) #calculates the inverse every time step"
   ]
  },
  {
   "cell_type": "code",
   "execution_count": 19,
   "metadata": {
    "slideshow": {
     "slide_type": "-"
    }
   },
   "outputs": [
    {
     "name": "stdout",
     "output_type": "stream",
     "text": [
      "975 ns ± 3.4 ns per loop (mean ± std. dev. of 7 runs, 1000000 loops each)\n"
     ]
    }
   ],
   "source": [
    "C=np.linalg.inv(A) #calculate the inverse once\n",
    "%timeit C.dot(B.dot(h))"
   ]
  },
  {
   "cell_type": "code",
   "execution_count": null,
   "metadata": {},
   "outputs": [],
   "source": []
  }
 ],
 "metadata": {
  "celltoolbar": "Slideshow",
  "kernelspec": {
   "display_name": "Python 3",
   "language": "python",
   "name": "python3"
  },
  "language_info": {
   "codemirror_mode": {
    "name": "ipython",
    "version": 3
   },
   "file_extension": ".py",
   "mimetype": "text/x-python",
   "name": "python",
   "nbconvert_exporter": "python",
   "pygments_lexer": "ipython3",
   "version": "3.9.1"
  },
  "rise": {
   "chalkboard": {
    "chalkEffect": 1,
    "chalkWidth": 7,
    "color": [
     "rgb(200,47,62)",
     "rgb(200,47,62)"
    ],
    "readOnly": false,
    "src": "2023_lecture4.json",
    "theme": "whiteboard"
   },
   "enable_chalkboard": true
  },
  "toc": {
   "base_numbering": 1,
   "nav_menu": {
    "height": "229px",
    "width": "213px"
   },
   "number_sections": false,
   "sideBar": true,
   "skip_h1_title": false,
   "title_cell": "Table of Contents",
   "title_sidebar": "Contents",
   "toc_cell": false,
   "toc_position": {
    "height": "calc(100% - 180px)",
    "left": "10px",
    "top": "150px",
    "width": "426.667px"
   },
   "toc_section_display": true,
   "toc_window_display": false
  },
  "toc-autonumbering": true,
  "toc-showcode": false,
  "toc-showmarkdowntxt": false,
  "toc-showtags": false
 },
 "nbformat": 4,
 "nbformat_minor": 4
}
