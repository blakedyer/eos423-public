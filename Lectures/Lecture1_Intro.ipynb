{
 "cells": [
  {
   "cell_type": "code",
   "execution_count": 1,
   "metadata": {
    "slideshow": {
     "slide_type": "skip"
    }
   },
   "outputs": [],
   "source": [
    "import numpy as np\n",
    "from IPython.core.display import HTML\n",
    "from matplotlib import pyplot as plt"
   ]
  },
  {
   "cell_type": "code",
   "execution_count": 7,
   "metadata": {
    "slideshow": {
     "slide_type": "skip"
    }
   },
   "outputs": [
    {
     "name": "stdout",
     "output_type": "stream",
     "text": [
      "Loading page http://localhost:8889/notebooks/Lecture1.ipynb?token=557d844950d0d2c0797bd61a3f7fcc57b987fcd9408d683b ...\n",
      "\u001b[38;2;255;165;0mactions\u001b[39m \u001b[38;2;255;165;0mjupyter-notebook:find-and-replace\u001b[39m \u001b[38;2;255;165;0mdoes not exist, still binding it in case it will be defined later...\u001b[39m\n",
      "\u001b[90mload_extensions\u001b[39m \u001b[90m{\u001b[39m\n",
      "\u001b[90m  '0': 'nbextensions_configurator/config_menu/main',\u001b[39m\n",
      "\u001b[90m  '1': 'contrib_nbextensions_help_item/main',\u001b[39m\n",
      "\u001b[90m  '2': 'rise/main',\u001b[39m\n",
      "\u001b[90m  '3': 'jupyter-js-widgets/extension',\u001b[39m\n",
      "\u001b[90m  '4': 'jupyter-black-master/jupyter-black',\u001b[39m\n",
      "\u001b[90m  '5': 'toc2/main',\u001b[39m\n",
      "\u001b[90m  '6': 'hide_code/hide_code',\u001b[39m\n",
      "\u001b[90m  '7': 'hide_input/main',\u001b[39m\n",
      "\u001b[90m  '8': 'codefolding/main',\u001b[39m\n",
      "\u001b[90m  '9': 'splitcell/splitcell'\u001b[39m\n",
      "\u001b[90m}\u001b[39m\n",
      "\u001b[90mLoaded moment locale\u001b[39m \u001b[90men-gb\u001b[39m\n",
      "\u001b[31mFailed to load resource: the server responded with a status of 404 (Not Found)\u001b[39m\n",
      "\u001b[90mHTML Sanitizer\u001b[39m \u001b[90mdiv.style changed\u001b[39m \u001b[90m{\u001b[39m\n",
      "\u001b[90m  change: 'changed',\u001b[39m\n",
      "\u001b[90m  tagName: 'div',\u001b[39m\n",
      "\u001b[90m  attribName: 'style',\u001b[39m\n",
      "\u001b[90m  oldValue: 'float:left',\u001b[39m\n",
      "\u001b[90m  newValue: 'float: left'\u001b[39m\n",
      "\u001b[90m}\u001b[39m\n",
      "\u001b[90mHTML Sanitizer\u001b[39m \u001b[90mdiv.width removed\u001b[39m \u001b[90m{\u001b[39m\n",
      "\u001b[90m  change: 'removed',\u001b[39m\n",
      "\u001b[90m  tagName: 'div',\u001b[39m\n",
      "\u001b[90m  attribName: 'width',\u001b[39m\n",
      "\u001b[90m  oldValue: '50%',\u001b[39m\n",
      "\u001b[90m  newValue: null\u001b[39m\n",
      "\u001b[90m}\u001b[39m\n",
      "\u001b[90mHTML Sanitizer\u001b[39m \u001b[90mdiv.width removed\u001b[39m \u001b[90m{\u001b[39m\n",
      "\u001b[90m  change: 'removed',\u001b[39m\n",
      "\u001b[90m  tagName: 'div',\u001b[39m\n",
      "\u001b[90m  attribName: 'width',\u001b[39m\n",
      "\u001b[90m  oldValue: '50%',\u001b[39m\n",
      "\u001b[90m  newValue: null\u001b[39m\n",
      "\u001b[90m}\u001b[39m\n",
      "\u001b[90mHTML Sanitizer\u001b[39m \u001b[90mdiv.style changed\u001b[39m \u001b[90m{\u001b[39m\n",
      "\u001b[90m  change: 'changed',\u001b[39m\n",
      "\u001b[90m  tagName: 'div',\u001b[39m\n",
      "\u001b[90m  attribName: 'style',\u001b[39m\n",
      "\u001b[90m  oldValue: 'background-image:url(\"images/paradox_slide.jpg\");background-repeat: no-repeat;\\n' +\u001b[39m\n",
      "\u001b[90m    '  background-size: contain;\\n' +\u001b[39m\n",
      "\u001b[90m    '  height: 800px;\\n' +\u001b[39m\n",
      "\u001b[90m    '  width: 100%;\\n' +\u001b[39m\n",
      "\u001b[90m    '  background-position: center;\\n',\u001b[39m\n",
      "\u001b[90m  newValue: 'background-image: url(\"images/paradox_slide.jpg\") ; background-repeat: no-repeat ; background-size: contain ; height: 800px ; width: 100% ; background-position: center'\u001b[39m\n",
      "\u001b[90m}\u001b[39m\n",
      "\u001b[90mHTML Sanitizer\u001b[39m \u001b[90mdiv.style changed\u001b[39m \u001b[90m{\u001b[39m\n",
      "\u001b[90m  change: 'changed',\u001b[39m\n",
      "\u001b[90m  tagName: 'div',\u001b[39m\n",
      "\u001b[90m  attribName: 'style',\u001b[39m\n",
      "\u001b[90m  oldValue: 'background-image:url(\"images/SandyHook_0.jpg\");background-repeat: no-repeat;\\n' +\u001b[39m\n",
      "\u001b[90m    '  background-size: contain;\\n' +\u001b[39m\n",
      "\u001b[90m    '  height: 800px;\\n' +\u001b[39m\n",
      "\u001b[90m    '  width: 100%;\\n' +\u001b[39m\n",
      "\u001b[90m    '  background-position: center;\\n',\u001b[39m\n",
      "\u001b[90m  newValue: 'background-image: url(\"images/SandyHook_0.jpg\") ; background-repeat: no-repeat ; background-size: contain ; height: 800px ; width: 100% ; background-position: center'\u001b[39m\n",
      "\u001b[90m}\u001b[39m\n",
      "\u001b[90mHTML Sanitizer\u001b[39m \u001b[90mdiv.style changed\u001b[39m \u001b[90m{\u001b[39m\n",
      "\u001b[90m  change: 'changed',\u001b[39m\n",
      "\u001b[90m  tagName: 'div',\u001b[39m\n",
      "\u001b[90m  attribName: 'style',\u001b[39m\n",
      "\u001b[90m  oldValue: 'background-image:url(\"images/SandyHook_1.jpg\");background-repeat: no-repeat;\\n' +\u001b[39m\n",
      "\u001b[90m    '  background-size: contain;\\n' +\u001b[39m\n",
      "\u001b[90m    '  height: 800px;\\n' +\u001b[39m\n",
      "\u001b[90m    '  width: 100%;\\n' +\u001b[39m\n",
      "\u001b[90m    '  background-position: center;\\n',\u001b[39m\n",
      "\u001b[90m  newValue: 'background-image: url(\"images/SandyHook_1.jpg\") ; background-repeat: no-repeat ; background-size: contain ; height: 800px ; width: 100% ; background-position: center'\u001b[39m\n",
      "\u001b[90m}\u001b[39m\n",
      "\u001b[90mHTML Sanitizer\u001b[39m \u001b[90mdiv.style changed\u001b[39m \u001b[90m{\u001b[39m\n",
      "\u001b[90m  change: 'changed',\u001b[39m\n",
      "\u001b[90m  tagName: 'div',\u001b[39m\n",
      "\u001b[90m  attribName: 'style',\u001b[39m\n",
      "\u001b[90m  oldValue: 'background-image:url(\"images/SandyHook_2.jpg\");background-repeat: no-repeat;\\n' +\u001b[39m\n",
      "\u001b[90m    '  background-size: contain;\\n' +\u001b[39m\n",
      "\u001b[90m    '  height: 800px;\\n' +\u001b[39m\n",
      "\u001b[90m    '  width: 100%;\\n' +\u001b[39m\n",
      "\u001b[90m    '  background-position: center;\\n',\u001b[39m\n",
      "\u001b[90m  newValue: 'background-image: url(\"images/SandyHook_2.jpg\") ; background-repeat: no-repeat ; background-size: contain ; height: 800px ; width: 100% ; background-position: center'\u001b[39m\n",
      "\u001b[90m}\u001b[39m\n",
      "\u001b[38;2;255;165;0mError with Permissions-Policy header: Unrecognized feature: 'ch-ua-full-version-list'.\u001b[39m\n",
      "\u001b[38;2;255;165;0mError with Permissions-Policy header: Unrecognized feature: 'ch-ua-wow64'.\u001b[39m\n",
      "\u001b[90mHTML Sanitizer\u001b[39m \u001b[90mdiv.style changed\u001b[39m \u001b[90m{\u001b[39m\n",
      "\u001b[90m  change: 'changed',\u001b[39m\n",
      "\u001b[90m  tagName: 'div',\u001b[39m\n",
      "\u001b[90m  attribName: 'style',\u001b[39m\n",
      "\u001b[90m  oldValue: 'background-image:url(\"images/SandyHook_3.jpg\");background-repeat: no-repeat;\\n' +\u001b[39m\n",
      "\u001b[90m    '  background-size: contain;\\n' +\u001b[39m\n",
      "\u001b[90m    '  height: 800px;\\n' +\u001b[39m\n",
      "\u001b[90m    '  width: 100%;\\n' +\u001b[39m\n",
      "\u001b[90m    '  background-position: center;\\n',\u001b[39m\n",
      "\u001b[90m  newValue: 'background-image: url(\"images/SandyHook_3.jpg\") ; background-repeat: no-repeat ; background-size: contain ; height: 800px ; width: 100% ; background-position: center'\u001b[39m\n",
      "\u001b[90m}\u001b[39m\n",
      "\u001b[90mHTML Sanitizer\u001b[39m \u001b[90mdiv.style changed\u001b[39m \u001b[90m{\u001b[39m\n",
      "\u001b[90m  change: 'changed',\u001b[39m\n",
      "\u001b[90m  tagName: 'div',\u001b[39m\n",
      "\u001b[90m  attribName: 'style',\u001b[39m\n",
      "\u001b[90m  oldValue: 'background-image:url(\"images/SandyHook_4.jpg\");background-repeat: no-repeat;\\n' +\u001b[39m\n",
      "\u001b[90m    '  background-size: contain;\\n' +\u001b[39m\n",
      "\u001b[90m    '  height: 800px;\\n' +\u001b[39m\n",
      "\u001b[90m    '  width: 100%;\\n' +\u001b[39m\n",
      "\u001b[90m    '  background-position: center;\\n',\u001b[39m\n",
      "\u001b[90m  newValue: 'background-image: url(\"images/SandyHook_4.jpg\") ; background-repeat: no-repeat ; background-size: contain ; height: 800px ; width: 100% ; background-position: center'\u001b[39m\n",
      "\u001b[90m}\u001b[39m\n",
      "\u001b[90mHTML Sanitizer\u001b[39m \u001b[90mdiv.style changed\u001b[39m \u001b[90m{\u001b[39m\n",
      "\u001b[90m  change: 'changed',\u001b[39m\n",
      "\u001b[90m  tagName: 'div',\u001b[39m\n",
      "\u001b[90m  attribName: 'style',\u001b[39m\n",
      "\u001b[90m  oldValue: 'background-image:url(\"images/SandyHook_5.jpg\");background-repeat: no-repeat;\\n' +\u001b[39m\n",
      "\u001b[90m    '  background-size: contain;\\n' +\u001b[39m\n",
      "\u001b[90m    '  height: 800px;\\n' +\u001b[39m\n",
      "\u001b[90m    '  width: 100%;\\n' +\u001b[39m\n",
      "\u001b[90m    '  background-position: center;\\n',\u001b[39m\n",
      "\u001b[90m  newValue: 'background-image: url(\"images/SandyHook_5.jpg\") ; background-repeat: no-repeat ; background-size: contain ; height: 800px ; width: 100% ; background-position: center'\u001b[39m\n",
      "\u001b[90m}\u001b[39m\n",
      "\u001b[90mHTML Sanitizer\u001b[39m \u001b[90mdiv.style changed\u001b[39m \u001b[90m{\u001b[39m\n",
      "\u001b[90m  change: 'changed',\u001b[39m\n",
      "\u001b[90m  tagName: 'div',\u001b[39m\n",
      "\u001b[90m  attribName: 'style',\u001b[39m\n",
      "\u001b[90m  oldValue: 'background-image:url(\"images/SandyHook_6.jpg\");background-repeat: no-repeat;\\n' +\u001b[39m\n",
      "\u001b[90m    '  background-size: contain;\\n' +\u001b[39m\n",
      "\u001b[90m    '  height: 800px;\\n' +\u001b[39m\n",
      "\u001b[90m    '  width: 100%;\\n' +\u001b[39m\n",
      "\u001b[90m    '  background-position: center;\\n',\u001b[39m\n",
      "\u001b[90m  newValue: 'background-image: url(\"images/SandyHook_6.jpg\") ; background-repeat: no-repeat ; background-size: contain ; height: 800px ; width: 100% ; background-position: center'\u001b[39m\n",
      "\u001b[90m}\u001b[39m\n",
      "\u001b[90mHTML Sanitizer\u001b[39m \u001b[90mdiv.style changed\u001b[39m \u001b[90m{\u001b[39m\n",
      "\u001b[90m  change: 'changed',\u001b[39m\n",
      "\u001b[90m  tagName: 'div',\u001b[39m\n",
      "\u001b[90m  attribName: 'style',\u001b[39m\n",
      "\u001b[90m  oldValue: 'background-image:url(\"images/SandyHook_7.jpg\");background-repeat: no-repeat;\\n' +\u001b[39m\n",
      "\u001b[90m    '  background-size: contain;\\n' +\u001b[39m\n",
      "\u001b[90m    '  height: 800px;\\n' +\u001b[39m\n",
      "\u001b[90m    '  width: 100%;\\n' +\u001b[39m\n",
      "\u001b[90m    '  background-position: center;\\n',\u001b[39m\n",
      "\u001b[90m  newValue: 'background-image: url(\"images/SandyHook_7.jpg\") ; background-repeat: no-repeat ; background-size: contain ; height: 800px ; width: 100% ; background-position: center'\u001b[39m\n",
      "\u001b[90m}\u001b[39m\n",
      "\u001b[90mHTML Sanitizer\u001b[39m \u001b[90mdiv.style changed\u001b[39m \u001b[90m{\u001b[39m\n",
      "\u001b[90m  change: 'changed',\u001b[39m\n",
      "\u001b[90m  tagName: 'div',\u001b[39m\n",
      "\u001b[90m  attribName: 'style',\u001b[39m\n",
      "\u001b[90m  oldValue: 'background-image:url(\"images/dunes.jpg\");background-repeat: no-repeat;\\n' +\u001b[39m\n",
      "\u001b[90m    '  background-size: cover;\\n' +\u001b[39m\n",
      "\u001b[90m    '  background-position: 50% 50%;\\n' +\u001b[39m\n",
      "\u001b[90m    '  height: 800px;\\n' +\u001b[39m\n",
      "\u001b[90m    '  width: 100%;\\n' +\u001b[39m\n",
      "\u001b[90m    '  display: table;\\n' +\u001b[39m\n",
      "\u001b[90m    '  overflow: hidden;',\u001b[39m\n",
      "\u001b[90m  newValue: 'background-image: url(\"images/dunes.jpg\") ; background-repeat: no-repeat ; background-size: cover ; background-position: 50% 50% ; height: 800px ; width: 100% ; display: table ; overflow: hidden'\u001b[39m\n",
      "\u001b[90m}\u001b[39m\n",
      "\u001b[90mHTML Sanitizer\u001b[39m \u001b[90mdiv.style changed\u001b[39m \u001b[90m{\u001b[39m\n",
      "\u001b[90m  change: 'changed',\u001b[39m\n",
      "\u001b[90m  tagName: 'div',\u001b[39m\n",
      "\u001b[90m  attribName: 'style',\u001b[39m\n",
      "\u001b[90m  oldValue: 'background-image:url(\"images/dunes.jpg\");background-repeat: no-repeat;\\n' +\u001b[39m\n",
      "\u001b[90m    '  background-size: cover;\\n' +\u001b[39m\n",
      "\u001b[90m    '  background-position: 50% 50%;\\n' +\u001b[39m\n",
      "\u001b[90m    '  height: 800px;\\n' +\u001b[39m\n",
      "\u001b[90m    '  width: 100%;\\n' +\u001b[39m\n",
      "\u001b[90m    '  display: table;\\n' +\u001b[39m\n",
      "\u001b[90m    '  overflow: hidden;',\u001b[39m\n",
      "\u001b[90m  newValue: 'background-image: url(\"images/dunes.jpg\") ; background-repeat: no-repeat ; background-size: cover ; background-position: 50% 50% ; height: 800px ; width: 100% ; display: table ; overflow: hidden'\u001b[39m\n",
      "\u001b[90m}\u001b[39m\n",
      "\u001b[90mHTML Sanitizer\u001b[39m \u001b[90mp.style changed\u001b[39m \u001b[90m{\u001b[39m\n",
      "\u001b[90m  change: 'changed',\u001b[39m\n",
      "\u001b[90m  tagName: 'p',\u001b[39m\n",
      "\u001b[90m  attribName: 'style',\u001b[39m\n",
      "\u001b[90m  oldValue: 'color:white;font-weight: 900;margin-left:2em;margin-top:2em',\u001b[39m\n",
      "\u001b[90m  newValue: 'color: white ; font-weight: 900 ; margin-left: 2em ; margin-top: 2em'\u001b[39m\n",
      "\u001b[90m}\u001b[39m\n",
      "\u001b[90mHTML Sanitizer\u001b[39m \u001b[90mdiv.style changed\u001b[39m \u001b[90m{\u001b[39m\n",
      "\u001b[90m  change: 'changed',\u001b[39m\n",
      "\u001b[90m  tagName: 'div',\u001b[39m\n",
      "\u001b[90m  attribName: 'style',\u001b[39m\n",
      "\u001b[90m  oldValue: 'background-image:url(\"images/mars_valley.jpg\");background-repeat: no-repeat;\\n' +\u001b[39m\n",
      "\u001b[90m    '  background-size: cover;\\n' +\u001b[39m\n",
      "\u001b[90m    '  background-position: 50% 50%;\\n' +\u001b[39m\n",
      "\u001b[90m    '  height: 800px;\\n' +\u001b[39m\n",
      "\u001b[90m    '  width: 100%;\\n' +\u001b[39m\n",
      "\u001b[90m    '  display: table;\\n' +\u001b[39m\n",
      "\u001b[90m    '  overflow: hidden;',\u001b[39m\n",
      "\u001b[90m  newValue: 'background-image: url(\"images/mars_valley.jpg\") ; background-repeat: no-repeat ; background-size: cover ; background-position: 50% 50% ; height: 800px ; width: 100% ; display: table ; overflow: hidden'\u001b[39m\n",
      "\u001b[90m}\u001b[39m\n",
      "\u001b[90mHTML Sanitizer\u001b[39m \u001b[90mdiv.style changed\u001b[39m \u001b[90m{\u001b[39m\n",
      "\u001b[90m  change: 'changed',\u001b[39m\n",
      "\u001b[90m  tagName: 'div',\u001b[39m\n",
      "\u001b[90m  attribName: 'style',\u001b[39m\n",
      "\u001b[90m  oldValue: 'background-image:url(\"images/tidal_channels.jpg\");background-repeat: no-repeat;\\n' +\u001b[39m\n",
      "\u001b[90m    '  background-size: cover;\\n' +\u001b[39m\n",
      "\u001b[90m    '  background-position: 50% 50%;\\n' +\u001b[39m\n",
      "\u001b[90m    '  height: 800px;\\n' +\u001b[39m\n",
      "\u001b[90m    '  width: 100%;\\n' +\u001b[39m\n",
      "\u001b[90m    '  display: table;\\n' +\u001b[39m\n",
      "\u001b[90m    '  overflow: hidden;',\u001b[39m\n",
      "\u001b[90m  newValue: 'background-image: url(\"images/tidal_channels.jpg\") ; background-repeat: no-repeat ; background-size: cover ; background-position: 50% 50% ; height: 800px ; width: 100% ; display: table ; overflow: hidden'\u001b[39m\n",
      "\u001b[90m}\u001b[39m\n",
      "\u001b[90mHTML Sanitizer\u001b[39m \u001b[90mdiv.style changed\u001b[39m \u001b[90m{\u001b[39m\n",
      "\u001b[90m  change: 'changed',\u001b[39m\n",
      "\u001b[90m  tagName: 'div',\u001b[39m\n",
      "\u001b[90m  attribName: 'style',\u001b[39m\n",
      "\u001b[90m  oldValue: 'background-image:url(\"images/carbon_cycle_0.jpg\");background-repeat: no-repeat;\\n' +\u001b[39m\n",
      "\u001b[90m    '  background-size: contain;\\n' +\u001b[39m\n",
      "\u001b[90m    '  background-position: 50% 50%;\\n' +\u001b[39m\n",
      "\u001b[90m    '  height: 800px;\\n' +\u001b[39m\n",
      "\u001b[90m    '  width: 100%;\\n' +\u001b[39m\n",
      "\u001b[90m    '  display: table;\\n' +\u001b[39m\n",
      "\u001b[90m    '  overflow: hidden;',\u001b[39m\n",
      "\u001b[90m  newValue: 'background-image: url(\"images/carbon_cycle_0.jpg\") ; background-repeat: no-repeat ; background-size: contain ; background-position: 50% 50% ; height: 800px ; width: 100% ; display: table ; overflow: hidden'\u001b[39m\n",
      "\u001b[90m}\u001b[39m\n",
      "\u001b[90mHTML Sanitizer\u001b[39m \u001b[90mdiv.style changed\u001b[39m \u001b[90m{\u001b[39m\n",
      "\u001b[90m  change: 'changed',\u001b[39m\n",
      "\u001b[90m  tagName: 'div',\u001b[39m\n",
      "\u001b[90m  attribName: 'style',\u001b[39m\n",
      "\u001b[90m  oldValue: 'background-image:url(\"images/carbon_cycle_1.jpg\");background-repeat: no-repeat;\\n' +\u001b[39m\n",
      "\u001b[90m    '  background-size: contain;\\n' +\u001b[39m\n",
      "\u001b[90m    '  background-position: 50% 50%;\\n' +\u001b[39m\n",
      "\u001b[90m    '  height: 800px;\\n' +\u001b[39m\n",
      "\u001b[90m    '  width: 100%;\\n' +\u001b[39m\n",
      "\u001b[90m    '  display: table;\\n' +\u001b[39m\n",
      "\u001b[90m    '  overflow: hidden;',\u001b[39m\n",
      "\u001b[90m  newValue: 'background-image: url(\"images/carbon_cycle_1.jpg\") ; background-repeat: no-repeat ; background-size: contain ; background-position: 50% 50% ; height: 800px ; width: 100% ; display: table ; overflow: hidden'\u001b[39m\n",
      "\u001b[90m}\u001b[39m\n",
      "\u001b[90mHTML Sanitizer\u001b[39m \u001b[90mdiv.style changed\u001b[39m \u001b[90m{\u001b[39m\n",
      "\u001b[90m  change: 'changed',\u001b[39m\n",
      "\u001b[90m  tagName: 'div',\u001b[39m\n",
      "\u001b[90m  attribName: 'style',\u001b[39m\n",
      "\u001b[90m  oldValue: 'background-image:url(\"images/carbon_cycle_2.jpg\");background-repeat: no-repeat;\\n' +\u001b[39m\n",
      "\u001b[90m    '  background-size: contain;\\n' +\u001b[39m\n",
      "\u001b[90m    '  background-position: 50% 50%;\\n' +\u001b[39m\n",
      "\u001b[90m    '  height: 800px;\\n' +\u001b[39m\n",
      "\u001b[90m    '  width: 100%;\\n' +\u001b[39m\n",
      "\u001b[90m    '  display: table;\\n' +\u001b[39m\n",
      "\u001b[90m    '  overflow: hidden;',\u001b[39m\n",
      "\u001b[90m  newValue: 'background-image: url(\"images/carbon_cycle_2.jpg\") ; background-repeat: no-repeat ; background-size: contain ; background-position: 50% 50% ; height: 800px ; width: 100% ; display: table ; overflow: hidden'\u001b[39m\n",
      "\u001b[90m}\u001b[39m\n",
      "\u001b[90mHTML Sanitizer\u001b[39m \u001b[90mdiv.style changed\u001b[39m \u001b[90m{\u001b[39m\n",
      "\u001b[90m  change: 'changed',\u001b[39m\n",
      "\u001b[90m  tagName: 'div',\u001b[39m\n",
      "\u001b[90m  attribName: 'style',\u001b[39m\n",
      "\u001b[90m  oldValue: 'background-image:url(\"images/reef.jpg\");background-repeat: no-repeat;\\n' +\u001b[39m\n",
      "\u001b[90m    '  background-size: contain;\\n' +\u001b[39m\n",
      "\u001b[90m    '  background-position: 50% 50%;\\n' +\u001b[39m\n",
      "\u001b[90m    '  height: 800px;\\n' +\u001b[39m\n",
      "\u001b[90m    '  width: 100%;\\n' +\u001b[39m\n",
      "\u001b[90m    '  display: table;\\n' +\u001b[39m\n",
      "\u001b[90m    '  overflow: hidden;',\u001b[39m\n",
      "\u001b[90m  newValue: 'background-image: url(\"images/reef.jpg\") ; background-repeat: no-repeat ; background-size: contain ; background-position: 50% 50% ; height: 800px ; width: 100% ; display: table ; overflow: hidden'\u001b[39m\n",
      "\u001b[90m}\u001b[39m\n",
      "\u001b[90mHTML Sanitizer\u001b[39m \u001b[90mdiv.style changed\u001b[39m \u001b[90m{\u001b[39m\n",
      "\u001b[90m  change: 'changed',\u001b[39m\n",
      "\u001b[90m  tagName: 'div',\u001b[39m\n",
      "\u001b[90m  attribName: 'style',\u001b[39m\n",
      "\u001b[90m  oldValue: 'background-image:url(\"images/shallow.jpg\");background-repeat: no-repeat;\\n' +\u001b[39m\n",
      "\u001b[90m    '  background-size: contain;\\n' +\u001b[39m\n",
      "\u001b[90m    '  background-position: 50% 50%;\\n' +\u001b[39m\n",
      "\u001b[90m    '  height: 800px;\\n' +\u001b[39m\n",
      "\u001b[90m    '  width: 100%;\\n' +\u001b[39m\n",
      "\u001b[90m    '  display: table;\\n' +\u001b[39m\n",
      "\u001b[90m    '  overflow: hidden;',\u001b[39m\n",
      "\u001b[90m  newValue: 'background-image: url(\"images/shallow.jpg\") ; background-repeat: no-repeat ; background-size: contain ; background-position: 50% 50% ; height: 800px ; width: 100% ; display: table ; overflow: hidden'\u001b[39m\n",
      "\u001b[90m}\u001b[39m\n",
      "\u001b[90mHTML Sanitizer\u001b[39m \u001b[90mdiv.style changed\u001b[39m \u001b[90m{\u001b[39m\n",
      "\u001b[90m  change: 'changed',\u001b[39m\n",
      "\u001b[90m  tagName: 'div',\u001b[39m\n",
      "\u001b[90m  attribName: 'style',\u001b[39m\n",
      "\u001b[90m  oldValue: 'background-image:url(\"images/d_model_0.jpg\");background-repeat: no-repeat;\\n' +\u001b[39m\n",
      "\u001b[90m    '  background-size: contain;\\n' +\u001b[39m\n",
      "\u001b[90m    '  height: 800px;\\n' +\u001b[39m\n",
      "\u001b[90m    '  width: 100%;\\n' +\u001b[39m\n",
      "\u001b[90m    '  background-position: center;\\n',\u001b[39m\n",
      "\u001b[90m  newValue: 'background-image: url(\"images/d_model_0.jpg\") ; background-repeat: no-repeat ; background-size: contain ; height: 800px ; width: 100% ; background-position: center'\u001b[39m\n",
      "\u001b[90m}\u001b[39m\n",
      "\u001b[90mHTML Sanitizer\u001b[39m \u001b[90mdiv.style changed\u001b[39m \u001b[90m{\u001b[39m\n",
      "\u001b[90m  change: 'changed',\u001b[39m\n",
      "\u001b[90m  tagName: 'div',\u001b[39m\n",
      "\u001b[90m  attribName: 'style',\u001b[39m\n",
      "\u001b[90m  oldValue: 'background-image:url(\"images/d_model_1.jpg\");background-repeat: no-repeat;\\n' +\u001b[39m\n",
      "\u001b[90m    '  background-size: contain;\\n' +\u001b[39m\n",
      "\u001b[90m    '  height: 800px;\\n' +\u001b[39m\n",
      "\u001b[90m    '  width: 100%;\\n' +\u001b[39m\n",
      "\u001b[90m    '  background-position: center;\\n',\u001b[39m\n",
      "\u001b[90m  newValue: 'background-image: url(\"images/d_model_1.jpg\") ; background-repeat: no-repeat ; background-size: contain ; height: 800px ; width: 100% ; background-position: center'\u001b[39m\n",
      "\u001b[90m}\u001b[39m\n",
      "\u001b[90mHTML Sanitizer\u001b[39m \u001b[90mdiv.style changed\u001b[39m \u001b[90m{\u001b[39m\n",
      "\u001b[90m  change: 'changed',\u001b[39m\n",
      "\u001b[90m  tagName: 'div',\u001b[39m\n",
      "\u001b[90m  attribName: 'style',\u001b[39m\n",
      "\u001b[90m  oldValue: 'background-image:url(\"images/d_model_2.jpg\");background-repeat: no-repeat;\\n' +\u001b[39m\n",
      "\u001b[90m    '  background-size: contain;\\n' +\u001b[39m\n",
      "\u001b[90m    '  height: 800px;\\n' +\u001b[39m\n",
      "\u001b[90m    '  width: 100%;\\n' +\u001b[39m\n",
      "\u001b[90m    '  background-position: center;\\n',\u001b[39m\n",
      "\u001b[90m  newValue: 'background-image: url(\"images/d_model_2.jpg\") ; background-repeat: no-repeat ; background-size: contain ; height: 800px ; width: 100% ; background-position: center'\u001b[39m\n",
      "\u001b[90m}\u001b[39m\n",
      "\u001b[90mHTML Sanitizer\u001b[39m \u001b[90mdiv.style changed\u001b[39m \u001b[90m{\u001b[39m\n",
      "\u001b[90m  change: 'changed',\u001b[39m\n",
      "\u001b[90m  tagName: 'div',\u001b[39m\n",
      "\u001b[90m  attribName: 'style',\u001b[39m\n",
      "\u001b[90m  oldValue: 'background-image:url(\"images/d_model_3.jpg\");background-repeat: no-repeat;\\n' +\u001b[39m\n",
      "\u001b[90m    '  background-size: contain;\\n' +\u001b[39m\n",
      "\u001b[90m    '  height: 800px;\\n' +\u001b[39m\n",
      "\u001b[90m    '  width: 100%;\\n' +\u001b[39m\n",
      "\u001b[90m    '  background-position: center;\\n',\u001b[39m\n",
      "\u001b[90m  newValue: 'background-image: url(\"images/d_model_3.jpg\") ; background-repeat: no-repeat ; background-size: contain ; height: 800px ; width: 100% ; background-position: center'\u001b[39m\n",
      "\u001b[90m}\u001b[39m\n",
      "\u001b[90mHTML Sanitizer\u001b[39m \u001b[90mdiv.style changed\u001b[39m \u001b[90m{\u001b[39m\n",
      "\u001b[90m  change: 'changed',\u001b[39m\n",
      "\u001b[90m  tagName: 'div',\u001b[39m\n",
      "\u001b[90m  attribName: 'style',\u001b[39m\n",
      "\u001b[90m  oldValue: 'background-image:url(\"images/lens_0.jpg\");background-repeat: no-repeat;\\n' +\u001b[39m\n",
      "\u001b[90m    '  background-size: contain;\\n' +\u001b[39m\n",
      "\u001b[90m    '  background-position: 50% 50%;\\n' +\u001b[39m\n",
      "\u001b[90m    '  height: 800px;\\n' +\u001b[39m\n",
      "\u001b[90m    '  width: 100%;\\n' +\u001b[39m\n",
      "\u001b[90m    '  display: table;\\n' +\u001b[39m\n",
      "\u001b[90m    '  overflow: hidden;',\u001b[39m\n",
      "\u001b[90m  newValue: 'background-image: url(\"images/lens_0.jpg\") ; background-repeat: no-repeat ; background-size: contain ; background-position: 50% 50% ; height: 800px ; width: 100% ; display: table ; overflow: hidden'\u001b[39m\n",
      "\u001b[90m}\u001b[39m\n",
      "\u001b[90mHTML Sanitizer\u001b[39m \u001b[90mdiv.style changed\u001b[39m \u001b[90m{\u001b[39m\n",
      "\u001b[90m  change: 'changed',\u001b[39m\n",
      "\u001b[90m  tagName: 'div',\u001b[39m\n",
      "\u001b[90m  attribName: 'style',\u001b[39m\n",
      "\u001b[90m  oldValue: 'background-image:url(\"images/lens_1.jpg\");background-repeat: no-repeat;\\n' +\u001b[39m\n",
      "\u001b[90m    '  background-size: contain;\\n' +\u001b[39m\n",
      "\u001b[90m    '  background-position: 50% 50%;\\n' +\u001b[39m\n",
      "\u001b[90m    '  height: 800px;\\n' +\u001b[39m\n",
      "\u001b[90m    '  width: 100%;\\n' +\u001b[39m\n",
      "\u001b[90m    '  display: table;\\n' +\u001b[39m\n",
      "\u001b[90m    '  overflow: hidden;',\u001b[39m\n",
      "\u001b[90m  newValue: 'background-image: url(\"images/lens_1.jpg\") ; background-repeat: no-repeat ; background-size: contain ; background-position: 50% 50% ; height: 800px ; width: 100% ; display: table ; overflow: hidden'\u001b[39m\n",
      "\u001b[90m}\u001b[39m\n",
      "\u001b[90mHTML Sanitizer\u001b[39m \u001b[90mdiv.style changed\u001b[39m \u001b[90m{\u001b[39m\n",
      "\u001b[90m  change: 'changed',\u001b[39m\n",
      "\u001b[90m  tagName: 'div',\u001b[39m\n",
      "\u001b[90m  attribName: 'style',\u001b[39m\n",
      "\u001b[90m  oldValue: 'background-image:url(\"images/lens_2.jpg\");background-repeat: no-repeat;\\n' +\u001b[39m\n",
      "\u001b[90m    '  background-size: contain;\\n' +\u001b[39m\n",
      "\u001b[90m    '  background-position: 50% 50%;\\n' +\u001b[39m\n",
      "\u001b[90m    '  height: 800px;\\n' +\u001b[39m\n",
      "\u001b[90m    '  width: 100%;\\n' +\u001b[39m\n",
      "\u001b[90m    '  display: table;\\n' +\u001b[39m\n",
      "\u001b[90m    '  overflow: hidden;',\u001b[39m\n",
      "\u001b[90m  newValue: 'background-image: url(\"images/lens_2.jpg\") ; background-repeat: no-repeat ; background-size: contain ; background-position: 50% 50% ; height: 800px ; width: 100% ; display: table ; overflow: hidden'\u001b[39m\n",
      "\u001b[90m}\u001b[39m\n",
      "\u001b[90mHTML Sanitizer\u001b[39m \u001b[90mdiv.style changed\u001b[39m \u001b[90m{\u001b[39m\n",
      "\u001b[90m  change: 'changed',\u001b[39m\n",
      "\u001b[90m  tagName: 'div',\u001b[39m\n",
      "\u001b[90m  attribName: 'style',\u001b[39m\n",
      "\u001b[90m  oldValue: 'background-image:url(\"images/lens_3.jpg\");background-repeat: no-repeat;\\n' +\u001b[39m\n",
      "\u001b[90m    '  background-size: contain;\\n' +\u001b[39m\n",
      "\u001b[90m    '  background-position: 50% 50%;\\n' +\u001b[39m\n",
      "\u001b[90m    '  height: 800px;\\n' +\u001b[39m\n",
      "\u001b[90m    '  width: 100%;\\n' +\u001b[39m\n",
      "\u001b[90m    '  display: table;\\n' +\u001b[39m\n",
      "\u001b[90m    '  overflow: hidden;',\u001b[39m\n",
      "\u001b[90m  newValue: 'background-image: url(\"images/lens_3.jpg\") ; background-repeat: no-repeat ; background-size: contain ; background-position: 50% 50% ; height: 800px ; width: 100% ; display: table ; overflow: hidden'\u001b[39m\n",
      "\u001b[90m}\u001b[39m\n",
      "\u001b[90mHTML Sanitizer\u001b[39m \u001b[90mdiv.style changed\u001b[39m \u001b[90m{\u001b[39m\n",
      "\u001b[90m  change: 'changed',\u001b[39m\n",
      "\u001b[90m  tagName: 'div',\u001b[39m\n",
      "\u001b[90m  attribName: 'style',\u001b[39m\n",
      "\u001b[90m  oldValue: 'background-image:url(\"images/correlation-1.png\");background-repeat: no-repeat;\\n' +\u001b[39m\n",
      "\u001b[90m    '  background-size: contain;\\n' +\u001b[39m\n",
      "\u001b[90m    '  height: 800px;\\n' +\u001b[39m\n",
      "\u001b[90m    '  width: 100%;\\n',\u001b[39m\n",
      "\u001b[90m  newValue: 'background-image: url(\"images/correlation-1.png\") ; background-repeat: no-repeat ; background-size: contain ; height: 800px ; width: 100%'\u001b[39m\n",
      "\u001b[90m}\u001b[39m\n",
      "\u001b[90mHTML Sanitizer\u001b[39m \u001b[90mdiv.style changed\u001b[39m \u001b[90m{\u001b[39m\n",
      "\u001b[90m  change: 'changed',\u001b[39m\n",
      "\u001b[90m  tagName: 'div',\u001b[39m\n",
      "\u001b[90m  attribName: 'style',\u001b[39m\n",
      "\u001b[90m  oldValue: 'background-image:url(\"images/correlation-2.png\");background-repeat: no-repeat;\\n' +\u001b[39m\n",
      "\u001b[90m    '  background-size: contain;\\n' +\u001b[39m\n",
      "\u001b[90m    '  height: 800px;\\n' +\u001b[39m\n",
      "\u001b[90m    '  width: 100%;\\n',\u001b[39m\n",
      "\u001b[90m  newValue: 'background-image: url(\"images/correlation-2.png\") ; background-repeat: no-repeat ; background-size: contain ; height: 800px ; width: 100%'\u001b[39m\n",
      "\u001b[90m}\u001b[39m\n",
      "\u001b[90mHTML Sanitizer\u001b[39m \u001b[90mdiv.style changed\u001b[39m \u001b[90m{\u001b[39m\n",
      "\u001b[90m  change: 'changed',\u001b[39m\n",
      "\u001b[90m  tagName: 'div',\u001b[39m\n",
      "\u001b[90m  attribName: 'style',\u001b[39m\n",
      "\u001b[90m  oldValue: 'background-image:url(\"images/correlation-3.jpg\");background-repeat: no-repeat;\\n' +\u001b[39m\n",
      "\u001b[90m    '  background-size: contain;\\n' +\u001b[39m\n",
      "\u001b[90m    '  height: 800px;\\n' +\u001b[39m\n",
      "\u001b[90m    '  width: 100%;\\n',\u001b[39m\n",
      "\u001b[90m  newValue: 'background-image: url(\"images/correlation-3.jpg\") ; background-repeat: no-repeat ; background-size: contain ; height: 800px ; width: 100%'\u001b[39m\n",
      "\u001b[90m}\u001b[39m\n",
      "\u001b[90mHTML Sanitizer\u001b[39m \u001b[90mdiv.style changed\u001b[39m \u001b[90m{\u001b[39m\n",
      "\u001b[90m  change: 'changed',\u001b[39m\n",
      "\u001b[90m  tagName: 'div',\u001b[39m\n",
      "\u001b[90m  attribName: 'style',\u001b[39m\n",
      "\u001b[90m  oldValue: 'background-image:url(\"images/darwin-1.jpg\");background-repeat: no-repeat;\\n' +\u001b[39m\n",
      "\u001b[90m    '  background-size: contain;\\n' +\u001b[39m\n",
      "\u001b[90m    '  height: 800px;\\n' +\u001b[39m\n",
      "\u001b[90m    '  width: 100%;\\n',\u001b[39m\n",
      "\u001b[90m  newValue: 'background-image: url(\"images/darwin-1.jpg\") ; background-repeat: no-repeat ; background-size: contain ; height: 800px ; width: 100%'\u001b[39m\n",
      "\u001b[90m}\u001b[39m\n",
      "\u001b[90mHTML Sanitizer\u001b[39m \u001b[90mdiv.style changed\u001b[39m \u001b[90m{\u001b[39m\n",
      "\u001b[90m  change: 'changed',\u001b[39m\n",
      "\u001b[90m  tagName: 'div',\u001b[39m\n",
      "\u001b[90m  attribName: 'style',\u001b[39m\n",
      "\u001b[90m  oldValue: 'background-image:url(\"images/darwin-2.jpg\");background-repeat: no-repeat;\\n' +\u001b[39m\n",
      "\u001b[90m    '  background-size: contain;\\n' +\u001b[39m\n",
      "\u001b[90m    '  height: 800px;\\n' +\u001b[39m\n",
      "\u001b[90m    '  width: 100%;\\n',\u001b[39m\n",
      "\u001b[90m  newValue: 'background-image: url(\"images/darwin-2.jpg\") ; background-repeat: no-repeat ; background-size: contain ; height: 800px ; width: 100%'\u001b[39m\n",
      "\u001b[90m}\u001b[39m\n",
      "\u001b[90mHTML Sanitizer\u001b[39m \u001b[90mdiv.style changed\u001b[39m \u001b[90m{\u001b[39m\n",
      "\u001b[90m  change: 'changed',\u001b[39m\n",
      "\u001b[90m  tagName: 'div',\u001b[39m\n",
      "\u001b[90m  attribName: 'style',\u001b[39m\n",
      "\u001b[90m  oldValue: 'background-image:url(\"images/macrostrat.gif\");background-repeat: no-repeat;\\n' +\u001b[39m\n",
      "\u001b[90m    '  background-size: contain;\\n' +\u001b[39m\n",
      "\u001b[90m    '  height: 800px;\\n' +\u001b[39m\n",
      "\u001b[90m    '  width: 100%;\\n',\u001b[39m\n",
      "\u001b[90m  newValue: 'background-image: url(\"images/macrostrat.gif\") ; background-repeat: no-repeat ; background-size: contain ; height: 800px ; width: 100%'\u001b[39m\n",
      "\u001b[90m}\u001b[39m\n",
      "\u001b[90mHTML Sanitizer\u001b[39m \u001b[90mspan.style changed\u001b[39m \u001b[90m{\u001b[39m\n",
      "\u001b[90m  change: 'changed',\u001b[39m\n",
      "\u001b[90m  tagName: 'span',\u001b[39m\n",
      "\u001b[90m  attribName: 'style',\u001b[39m\n",
      "\u001b[90m  oldValue: 'font-size:.8em',\u001b[39m\n",
      "\u001b[90m  newValue: 'font-size: 0.8em'\u001b[39m\n",
      "\u001b[90m}\u001b[39m\n",
      "\u001b[90mHTML Sanitizer\u001b[39m \u001b[90mdiv.style changed\u001b[39m \u001b[90m{\u001b[39m\n",
      "\u001b[90m  change: 'changed',\u001b[39m\n",
      "\u001b[90m  tagName: 'div',\u001b[39m\n",
      "\u001b[90m  attribName: 'style',\u001b[39m\n",
      "\u001b[90m  oldValue: 'height:60vh;',\u001b[39m\n",
      "\u001b[90m  newValue: 'height: 60vh'\u001b[39m\n",
      "\u001b[90m}\u001b[39m\n",
      "\u001b[90mHTML Sanitizer\u001b[39m \u001b[90mimg.style changed\u001b[39m \u001b[90m{\u001b[39m\n",
      "\u001b[90m  change: 'changed',\u001b[39m\n",
      "\u001b[90m  tagName: 'img',\u001b[39m\n",
      "\u001b[90m  attribName: 'style',\u001b[39m\n",
      "\u001b[90m  oldValue: 'height:60vh',\u001b[39m\n",
      "\u001b[90m  newValue: 'height: 60vh'\u001b[39m\n",
      "\u001b[90m}\u001b[39m\n",
      "\u001b[90mHTML Sanitizer\u001b[39m \u001b[90mdiv.style changed\u001b[39m \u001b[90m{\u001b[39m\n",
      "\u001b[90m  change: 'changed',\u001b[39m\n",
      "\u001b[90m  tagName: 'div',\u001b[39m\n",
      "\u001b[90m  attribName: 'style',\u001b[39m\n",
      "\u001b[90m  oldValue: 'height:60vh;',\u001b[39m\n",
      "\u001b[90m  newValue: 'height: 60vh'\u001b[39m\n",
      "\u001b[90m}\u001b[39m\n",
      "\u001b[90mHTML Sanitizer\u001b[39m \u001b[90mimg.style changed\u001b[39m \u001b[90m{\u001b[39m\n",
      "\u001b[90m  change: 'changed',\u001b[39m\n",
      "\u001b[90m  tagName: 'img',\u001b[39m\n",
      "\u001b[90m  attribName: 'style',\u001b[39m\n",
      "\u001b[90m  oldValue: 'height:60vh',\u001b[39m\n",
      "\u001b[90m  newValue: 'height: 60vh'\u001b[39m\n",
      "\u001b[90m}\u001b[39m\n",
      "\u001b[90mHTML Sanitizer\u001b[39m \u001b[90mdiv.style changed\u001b[39m \u001b[90m{\u001b[39m\n",
      "\u001b[90m  change: 'changed',\u001b[39m\n",
      "\u001b[90m  tagName: 'div',\u001b[39m\n",
      "\u001b[90m  attribName: 'style',\u001b[39m\n",
      "\u001b[90m  oldValue: 'height:80vh;',\u001b[39m\n",
      "\u001b[90m  newValue: 'height: 80vh'\u001b[39m\n",
      "\u001b[90m}\u001b[39m\n",
      "\u001b[90mHTML Sanitizer\u001b[39m \u001b[90mimg.style changed\u001b[39m \u001b[90m{\u001b[39m\n",
      "\u001b[90m  change: 'changed',\u001b[39m\n",
      "\u001b[90m  tagName: 'img',\u001b[39m\n",
      "\u001b[90m  attribName: 'style',\u001b[39m\n",
      "\u001b[90m  oldValue: 'height:80vh',\u001b[39m\n",
      "\u001b[90m  newValue: 'height: 80vh'\u001b[39m\n",
      "\u001b[90m}\u001b[39m\n",
      "\u001b[90mHTML Sanitizer\u001b[39m \u001b[90mspan.style changed\u001b[39m \u001b[90m{\u001b[39m\n",
      "\u001b[90m  change: 'changed',\u001b[39m\n",
      "\u001b[90m  tagName: 'span',\u001b[39m\n",
      "\u001b[90m  attribName: 'style',\u001b[39m\n",
      "\u001b[90m  oldValue: 'color:DodgerBlue;font-weight:800',\u001b[39m\n",
      "\u001b[90m  newValue: 'color: dodgerblue ; font-weight: 800'\u001b[39m\n",
      "\u001b[90m}\u001b[39m\n",
      "\u001b[90mHTML Sanitizer\u001b[39m \u001b[90mdiv.style changed\u001b[39m \u001b[90m{\u001b[39m\n",
      "\u001b[90m  change: 'changed',\u001b[39m\n",
      "\u001b[90m  tagName: 'div',\u001b[39m\n",
      "\u001b[90m  attribName: 'style',\u001b[39m\n",
      "\u001b[90m  oldValue: 'height:40vh;',\u001b[39m\n",
      "\u001b[90m  newValue: 'height: 40vh'\u001b[39m\n",
      "\u001b[90m}\u001b[39m\n",
      "\u001b[90mHTML Sanitizer\u001b[39m \u001b[90mimg.style changed\u001b[39m \u001b[90m{\u001b[39m\n",
      "\u001b[90m  change: 'changed',\u001b[39m\n",
      "\u001b[90m  tagName: 'img',\u001b[39m\n",
      "\u001b[90m  attribName: 'style',\u001b[39m\n",
      "\u001b[90m  oldValue: 'height:40vh',\u001b[39m\n",
      "\u001b[90m  newValue: 'height: 40vh'\u001b[39m\n",
      "\u001b[90m}\u001b[39m\n",
      "\u001b[90mHTML Sanitizer\u001b[39m \u001b[90mdiv.style changed\u001b[39m \u001b[90m{\u001b[39m\n",
      "\u001b[90m  change: 'changed',\u001b[39m\n",
      "\u001b[90m  tagName: 'div',\u001b[39m\n",
      "\u001b[90m  attribName: 'style',\u001b[39m\n",
      "\u001b[90m  oldValue: 'height:60vh;',\u001b[39m\n",
      "\u001b[90m  newValue: 'height: 60vh'\u001b[39m\n",
      "\u001b[90m}\u001b[39m\n",
      "\u001b[90mHTML Sanitizer\u001b[39m \u001b[90mdiv.style changed\u001b[39m \u001b[90m{\u001b[39m\n",
      "\u001b[90m  change: 'changed',\u001b[39m\n",
      "\u001b[90m  tagName: 'div',\u001b[39m\n",
      "\u001b[90m  attribName: 'style',\u001b[39m\n",
      "\u001b[90m  oldValue: 'height:60vh;',\u001b[39m\n",
      "\u001b[90m  newValue: 'height: 60vh'\u001b[39m\n",
      "\u001b[90m}\u001b[39m\n",
      "\u001b[90mHTML Sanitizer\u001b[39m \u001b[90mspan.style changed\u001b[39m \u001b[90m{\u001b[39m\n",
      "\u001b[90m  change: 'changed',\u001b[39m\n",
      "\u001b[90m  tagName: 'span',\u001b[39m\n",
      "\u001b[90m  attribName: 'style',\u001b[39m\n",
      "\u001b[90m  oldValue: 'color:green;font-weight: bold',\u001b[39m\n",
      "\u001b[90m  newValue: 'color: green ; font-weight: bold'\u001b[39m\n",
      "\u001b[90m}\u001b[39m\n",
      "\u001b[90mHTML Sanitizer\u001b[39m \u001b[90mspan.style changed\u001b[39m \u001b[90m{\u001b[39m\n",
      "\u001b[90m  change: 'changed',\u001b[39m\n",
      "\u001b[90m  tagName: 'span',\u001b[39m\n",
      "\u001b[90m  attribName: 'style',\u001b[39m\n",
      "\u001b[90m  oldValue: 'color:blue',\u001b[39m\n",
      "\u001b[90m  newValue: 'color: blue'\u001b[39m\n",
      "\u001b[90m}\u001b[39m\n",
      "\u001b[90mHTML Sanitizer\u001b[39m \u001b[90mspan.style changed\u001b[39m \u001b[90m{\u001b[39m\n",
      "\u001b[90m  change: 'changed',\u001b[39m\n",
      "\u001b[90m  tagName: 'span',\u001b[39m\n",
      "\u001b[90m  attribName: 'style',\u001b[39m\n",
      "\u001b[90m  oldValue: 'color:red',\u001b[39m\n",
      "\u001b[90m  newValue: 'color: red'\u001b[39m\n",
      "\u001b[90m}\u001b[39m\n",
      "\u001b[90mHTML Sanitizer\u001b[39m \u001b[90mspan.style changed\u001b[39m \u001b[90m{\u001b[39m\n",
      "\u001b[90m  change: 'changed',\u001b[39m\n",
      "\u001b[90m  tagName: 'span',\u001b[39m\n",
      "\u001b[90m  attribName: 'style',\u001b[39m\n",
      "\u001b[90m  oldValue: 'color:blue',\u001b[39m\n",
      "\u001b[90m  newValue: 'color: blue'\u001b[39m\n",
      "\u001b[90m}\u001b[39m\n",
      "\u001b[90mHTML Sanitizer\u001b[39m \u001b[90mspan.style changed\u001b[39m \u001b[90m{\u001b[39m\n",
      "\u001b[90m  change: 'changed',\u001b[39m\n",
      "\u001b[90m  tagName: 'span',\u001b[39m\n",
      "\u001b[90m  attribName: 'style',\u001b[39m\n",
      "\u001b[90m  oldValue: 'color:red',\u001b[39m\n",
      "\u001b[90m  newValue: 'color: red'\u001b[39m\n",
      "\u001b[90m}\u001b[39m\n",
      "\u001b[90mHTML Sanitizer\u001b[39m \u001b[90mspan.style changed\u001b[39m \u001b[90m{\u001b[39m\n",
      "\u001b[90m  change: 'changed',\u001b[39m\n",
      "\u001b[90m  tagName: 'span',\u001b[39m\n",
      "\u001b[90m  attribName: 'style',\u001b[39m\n",
      "\u001b[90m  oldValue: 'color:blue',\u001b[39m\n",
      "\u001b[90m  newValue: 'color: blue'\u001b[39m\n",
      "\u001b[90m}\u001b[39m\n",
      "\u001b[90mHTML Sanitizer\u001b[39m \u001b[90mspan.style changed\u001b[39m \u001b[90m{\u001b[39m\n",
      "\u001b[90m  change: 'changed',\u001b[39m\n",
      "\u001b[90m  tagName: 'span',\u001b[39m\n",
      "\u001b[90m  attribName: 'style',\u001b[39m\n",
      "\u001b[90m  oldValue: 'color:red',\u001b[39m\n",
      "\u001b[90m  newValue: 'color: red'\u001b[39m\n",
      "\u001b[90m}\u001b[39m\n",
      "\u001b[90mHTML Sanitizer\u001b[39m \u001b[90mspan.style changed\u001b[39m \u001b[90m{\u001b[39m\n",
      "\u001b[90m  change: 'changed',\u001b[39m\n",
      "\u001b[90m  tagName: 'span',\u001b[39m\n",
      "\u001b[90m  attribName: 'style',\u001b[39m\n",
      "\u001b[90m  oldValue: 'color:blue',\u001b[39m\n",
      "\u001b[90m  newValue: 'color: blue'\u001b[39m\n",
      "\u001b[90m}\u001b[39m\n",
      "\u001b[90mHTML Sanitizer\u001b[39m \u001b[90mspan.style changed\u001b[39m \u001b[90m{\u001b[39m\n",
      "\u001b[90m  change: 'changed',\u001b[39m\n",
      "\u001b[90m  tagName: 'span',\u001b[39m\n",
      "\u001b[90m  attribName: 'style',\u001b[39m\n",
      "\u001b[90m  oldValue: 'color:red',\u001b[39m\n",
      "\u001b[90m  newValue: 'color: red'\u001b[39m\n",
      "\u001b[90m}\u001b[39m\n",
      "\u001b[90mHTML Sanitizer\u001b[39m \u001b[90mdiv.style changed\u001b[39m \u001b[90m{\u001b[39m\n",
      "\u001b[90m  change: 'changed',\u001b[39m\n",
      "\u001b[90m  tagName: 'div',\u001b[39m\n",
      "\u001b[90m  attribName: 'style',\u001b[39m\n",
      "\u001b[90m  oldValue: 'height:18vh;',\u001b[39m\n",
      "\u001b[90m  newValue: 'height: 18vh'\u001b[39m\n",
      "\u001b[90m}\u001b[39m\n",
      "\u001b[90mHTML Sanitizer\u001b[39m \u001b[90mspan.style changed\u001b[39m \u001b[90m{\u001b[39m\n",
      "\u001b[90m  change: 'changed',\u001b[39m\n",
      "\u001b[90m  tagName: 'span',\u001b[39m\n",
      "\u001b[90m  attribName: 'style',\u001b[39m\n",
      "\u001b[90m  oldValue: 'color:green;font-weight: bold',\u001b[39m\n",
      "\u001b[90m  newValue: 'color: green ; font-weight: bold'\u001b[39m\n",
      "\u001b[90m}\u001b[39m\n",
      "\u001b[90mHTML Sanitizer\u001b[39m \u001b[90mspan.style changed\u001b[39m \u001b[90m{\u001b[39m\n",
      "\u001b[90m  change: 'changed',\u001b[39m\n",
      "\u001b[90m  tagName: 'span',\u001b[39m\n",
      "\u001b[90m  attribName: 'style',\u001b[39m\n",
      "\u001b[90m  oldValue: 'color:blue',\u001b[39m\n",
      "\u001b[90m  newValue: 'color: blue'\u001b[39m\n",
      "\u001b[90m}\u001b[39m\n",
      "\u001b[90mHTML Sanitizer\u001b[39m \u001b[90mspan.style changed\u001b[39m \u001b[90m{\u001b[39m\n",
      "\u001b[90m  change: 'changed',\u001b[39m\n",
      "\u001b[90m  tagName: 'span',\u001b[39m\n",
      "\u001b[90m  attribName: 'style',\u001b[39m\n",
      "\u001b[90m  oldValue: 'color:red',\u001b[39m\n",
      "\u001b[90m  newValue: 'color: red'\u001b[39m\n",
      "\u001b[90m}\u001b[39m\n",
      "\u001b[90mHTML Sanitizer\u001b[39m \u001b[90mspan.style changed\u001b[39m \u001b[90m{\u001b[39m\n",
      "\u001b[90m  change: 'changed',\u001b[39m\n",
      "\u001b[90m  tagName: 'span',\u001b[39m\n",
      "\u001b[90m  attribName: 'style',\u001b[39m\n",
      "\u001b[90m  oldValue: 'color:blue',\u001b[39m\n",
      "\u001b[90m  newValue: 'color: blue'\u001b[39m\n",
      "\u001b[90m}\u001b[39m\n",
      "\u001b[90mHTML Sanitizer\u001b[39m \u001b[90mspan.style changed\u001b[39m \u001b[90m{\u001b[39m\n",
      "\u001b[90m  change: 'changed',\u001b[39m\n",
      "\u001b[90m  tagName: 'span',\u001b[39m\n",
      "\u001b[90m  attribName: 'style',\u001b[39m\n",
      "\u001b[90m  oldValue: 'color:red',\u001b[39m\n",
      "\u001b[90m  newValue: 'color: red'\u001b[39m\n",
      "\u001b[90m}\u001b[39m\n",
      "\u001b[90mHTML Sanitizer\u001b[39m \u001b[90mspan.style changed\u001b[39m \u001b[90m{\u001b[39m\n",
      "\u001b[90m  change: 'changed',\u001b[39m\n",
      "\u001b[90m  tagName: 'span',\u001b[39m\n",
      "\u001b[90m  attribName: 'style',\u001b[39m\n",
      "\u001b[90m  oldValue: 'color:blue',\u001b[39m\n",
      "\u001b[90m  newValue: 'color: blue'\u001b[39m\n",
      "\u001b[90m}\u001b[39m\n",
      "\u001b[90mHTML Sanitizer\u001b[39m \u001b[90mspan.style changed\u001b[39m \u001b[90m{\u001b[39m\n",
      "\u001b[90m  change: 'changed',\u001b[39m\n",
      "\u001b[90m  tagName: 'span',\u001b[39m\n",
      "\u001b[90m  attribName: 'style',\u001b[39m\n",
      "\u001b[90m  oldValue: 'color:red',\u001b[39m\n",
      "\u001b[90m  newValue: 'color: red'\u001b[39m\n",
      "\u001b[90m}\u001b[39m\n",
      "\u001b[90mHTML Sanitizer\u001b[39m \u001b[90mdiv.style changed\u001b[39m \u001b[90m{\u001b[39m\n",
      "\u001b[90m  change: 'changed',\u001b[39m\n",
      "\u001b[90m  tagName: 'div',\u001b[39m\n",
      "\u001b[90m  attribName: 'style',\u001b[39m\n",
      "\u001b[90m  oldValue: 'height:40vh;',\u001b[39m\n",
      "\u001b[90m  newValue: 'height: 40vh'\u001b[39m\n",
      "\u001b[90m}\u001b[39m\n",
      "\u001b[90mHTML Sanitizer\u001b[39m \u001b[90mdiv.style changed\u001b[39m \u001b[90m{\u001b[39m\n",
      "\u001b[90m  change: 'changed',\u001b[39m\n",
      "\u001b[90m  tagName: 'div',\u001b[39m\n",
      "\u001b[90m  attribName: 'style',\u001b[39m\n",
      "\u001b[90m  oldValue: 'height:20vh;',\u001b[39m\n",
      "\u001b[90m  newValue: 'height: 20vh'\u001b[39m\n",
      "\u001b[90m}\u001b[39m\n",
      "\u001b[90mHTML Sanitizer\u001b[39m \u001b[90mspan.style changed\u001b[39m \u001b[90m{\u001b[39m\n",
      "\u001b[90m  change: 'changed',\u001b[39m\n",
      "\u001b[90m  tagName: 'span',\u001b[39m\n",
      "\u001b[90m  attribName: 'style',\u001b[39m\n",
      "\u001b[90m  oldValue: 'color:green;font-weight: bold',\u001b[39m\n",
      "\u001b[90m  newValue: 'color: green ; font-weight: bold'\u001b[39m\n",
      "\u001b[90m}\u001b[39m\n",
      "\u001b[90mHTML Sanitizer\u001b[39m \u001b[90mdiv.style changed\u001b[39m \u001b[90m{\u001b[39m\n",
      "\u001b[90m  change: 'changed',\u001b[39m\n",
      "\u001b[90m  tagName: 'div',\u001b[39m\n",
      "\u001b[90m  attribName: 'style',\u001b[39m\n",
      "\u001b[90m  oldValue: 'height:30vh;',\u001b[39m\n",
      "\u001b[90m  newValue: 'height: 30vh'\u001b[39m\n",
      "\u001b[90m}\u001b[39m\n",
      "\u001b[90mHTML Sanitizer\u001b[39m \u001b[90mdiv.style changed\u001b[39m \u001b[90m{\u001b[39m\n",
      "\u001b[90m  change: 'changed',\u001b[39m\n",
      "\u001b[90m  tagName: 'div',\u001b[39m\n",
      "\u001b[90m  attribName: 'style',\u001b[39m\n",
      "\u001b[90m  oldValue: 'height:40vh;',\u001b[39m\n",
      "\u001b[90m  newValue: 'height: 40vh'\u001b[39m\n",
      "\u001b[90m}\u001b[39m\n",
      "\u001b[90mHTML Sanitizer\u001b[39m \u001b[90mspan.style changed\u001b[39m \u001b[90m{\u001b[39m\n",
      "\u001b[90m  change: 'changed',\u001b[39m\n",
      "\u001b[90m  tagName: 'span',\u001b[39m\n",
      "\u001b[90m  attribName: 'style',\u001b[39m\n",
      "\u001b[90m  oldValue: 'color:Gray',\u001b[39m\n",
      "\u001b[90m  newValue: 'color: gray'\u001b[39m\n",
      "\u001b[90m}\u001b[39m\n",
      "\u001b[90mHTML Sanitizer\u001b[39m \u001b[90mspan.style changed\u001b[39m \u001b[90m{\u001b[39m\n",
      "\u001b[90m  change: 'changed',\u001b[39m\n",
      "\u001b[90m  tagName: 'span',\u001b[39m\n",
      "\u001b[90m  attribName: 'style',\u001b[39m\n",
      "\u001b[90m  oldValue: 'color:green',\u001b[39m\n",
      "\u001b[90m  newValue: 'color: green'\u001b[39m\n",
      "\u001b[90m}\u001b[39m\n"
     ]
    },
    {
     "name": "stdout",
     "output_type": "stream",
     "text": [
      "\u001b[90mSession: kernel_created (9011692c-35af-46c8-98ce-a0b56a73ae2c)\u001b[39m\n",
      "\u001b[90mStarting WebSockets:\u001b[39m \u001b[90mws://localhost:8889/api/kernels/40d8d178-e4c1-403a-a84b-b43c0b2a84a2\u001b[39m\n",
      "\u001b[31mFailed to load extension:\u001b[39m \u001b[31m[ 'nbextensions/hide_code/hide_code' ]\u001b[39m \u001b[31m{\u001b[39m\n",
      "\u001b[31m  requireType: 'scripterror',\u001b[39m\n",
      "\u001b[31m  requireModules: [ 'nbextensions/hide_code/hide_code' ],\u001b[39m\n",
      "\u001b[31m  originalError: { isTrusted: true }\u001b[39m\n",
      "\u001b[31m}\u001b[39m\n",
      "\u001b[90mLoading extension: rise/main\u001b[39m\n",
      "\u001b[90mLoading extension: nbextensions_configurator/config_menu/main\u001b[39m\n",
      "\u001b[90mLoading extension: contrib_nbextensions_help_item/main\u001b[39m\n",
      "\u001b[90mLoading extension: hide_input/main\u001b[39m\n",
      "\u001b[90mLoading extension: splitcell/splitcell\u001b[39m\n",
      "\u001b[90mcenter\u001b[39m\n",
      "\u001b[90mLoading extension: jupyter-js-widgets/extension\u001b[39m\n",
      "\u001b[90mKernel: kernel_connected (40d8d178-e4c1-403a-a84b-b43c0b2a84a2)\u001b[39m\n",
      "\u001b[31mFailed to load resource: the server responded with a status of 404 (Not Found)\u001b[39m\n",
      "\u001b[90mLoading extension: jupyter-black-master/jupyter-black\u001b[39m\n",
      "\u001b[90mLoading extension: toc2/main\u001b[39m\n",
      "\u001b[90m[toc2] Notebook fully loaded -- toc2 initialized \u001b[39m\n",
      "\u001b[38;2;255;165;0mWidgets are not available.  Please install widgetsnbextension or ipywidgets 4.0\u001b[39m\n",
      "\u001b[90mLoading extension: codefolding/main\u001b[39m\n",
      "\u001b[31mAccess to font at 'about:blank' from origin 'http://localhost:8889' has been blocked by CORS policy: Cross origin requests are only supported for protocol schemes: http, data, chrome, chrome-untrusted, https.\u001b[39m\n",
      "\n",
      "\u001b[38;2;255;165;0mUnable to load resource from URL: about:blank\u001b[39m\n",
      "\u001b[31mFailed to load resource: net::ERR_FAILED\u001b[39m\n",
      "\u001b[90mCodefolding: Wait for\u001b[39m \u001b[90m1000\u001b[39m \u001b[90mms\u001b[39m\n",
      "Loading page finished with status: \u001b[33m200\u001b[39m\n",
      "\u001b[36m\u001b[1mRISE\u001b[22m\u001b[39m\u001b[36m plugin activated\u001b[39m\n",
      "\u001b[31mRefused to apply style from 'http://localhost:8889/notebooks/rise.css' because its MIME type ('text/html') is not a supported stylesheet MIME type, and strict MIME checking is enabled.\u001b[39m\n",
      "\u001b[31mRefused to apply style from 'http://localhost:8889/notebooks/Lecture1.css' because its MIME type ('text/html') is not a supported stylesheet MIME type, and strict MIME checking is enabled.\u001b[39m\n",
      "\u001b[38;2;255;165;0mError with Permissions-Policy header: Unrecognized feature: 'ch-ua-full-version-list'.\u001b[39m\n",
      "\u001b[38;2;255;165;0mError with Permissions-Policy header: Unrecognized feature: 'ch-ua-wow64'.\u001b[39m\n",
      "\u001b[38;2;255;165;0mError with Permissions-Policy header: Unrecognized feature: 'ch-ua-full-version-list'.\u001b[39m\n",
      "\u001b[38;2;255;165;0mError with Permissions-Policy header: Unrecognized feature: 'ch-ua-wow64'.\u001b[39m\n",
      "\u001b[31mFailed to load resource: the server responded with a status of 404 (Not Found)\u001b[39m\n",
      "\u001b[38;2;255;165;0mFailed to get file Lecture1.json. ReadyState: 4, Status: 404\u001b[39m\n",
      "Printing slide #/slide-49-0 (62/68) ...\u001b[32m\u001b[39m\n",
      "\u001b[32mPrinted \u001b[39m\u001b[32m\u001b[1m62\u001b[22m\u001b[39m\u001b[32m slides\u001b[39m\n"
     ]
    }
   ],
   "source": [
    "nb_list = !jupyter notebook list\n",
    "server = [l for l in nb_list if 'EOS423' in l][0].split(' :: ')[0]\n",
    "prefix = server.split('?')[0]\n",
    "token = server.split('?')[1]\n",
    "notebook = 'Lecture1.ipynb'\n",
    "url = prefix+'notebooks/'+notebook+'?'+token\n",
    "!decktape --slides 1-62 -s '1920x1080' rise $url PDF_Slides/2023/Lecture1.pdf"
   ]
  },
  {
   "cell_type": "markdown",
   "metadata": {
    "slideshow": {
     "slide_type": "slide"
    }
   },
   "source": [
    "## EOS 423 // EOS 518: Advanced Sedimentology and Stratigraphy\n",
    "![](images/badlands.png) \n",
    "\n",
    "### Lecture 1: Course Introduction | Jan 9, 2023\n",
    "\n",
    "Welcome to Advanced Topics: Sedimentology and Stratigraphy! Here is the plan for today:"
   ]
  },
  {
   "cell_type": "markdown",
   "metadata": {
    "cell_style": "center",
    "slideshow": {
     "slide_type": "fragment"
    }
   },
   "source": [
    "1. introductions\n",
    "2. overview of course outline\n",
    "3. overview of course content\n",
    "4. first assigment:\n",
    "    - make sure Python is installed on your computer (due **Jan. 12, 2023**)\n",
    "5. surface transport"
   ]
  },
  {
   "cell_type": "markdown",
   "metadata": {
    "slideshow": {
     "slide_type": "slide"
    }
   },
   "source": [
    "# 1a. Introductions: Blake Dyer  \n",
    "\n",
    "<div>\n",
    "    <div style='float:left' width=50%> \n",
    "        \n",
    "**Interested in:**\n",
    "1. Earth history \n",
    "1. Sea level and climate change \n",
    "1. Isotope geochemistry of carbonates \n",
    "1. Machine learning \n",
    "1. Bayesian inversion\n",
    "    </div>\n",
    "\n",
    "<div width=50%>              \n",
    "<center>\n",
    "<img src=\"images/blake.jpg\" width=\"200\"/> \n",
    "Bob Wright A433<br>\n",
    "<code>blakedyer@uvic.ca</code>    \n",
    "</center>\n",
    "    </div>\n",
    "</div>\n",
    "\n"
   ]
  },
  {
   "cell_type": "markdown",
   "metadata": {
    "slideshow": {
     "slide_type": "-"
    }
   },
   "source": [
    "![](images/information.jpg) \n",
    "\n",
    "**A Mathematical Theory of Communication**  \n",
    "*Claude Shannon 1948*"
   ]
  },
  {
   "cell_type": "markdown",
   "metadata": {
    "slideshow": {
     "slide_type": "skip"
    }
   },
   "source": [
    "\n",
    "# 1b. Introductions: who are we\n",
    "\n",
    "| Jon Husson         |\n",
    "| :----|\n",
    "| ![](images/husson_intro.png)|\n",
    "\n",
    "- Bob Wright A425 | `jhusson@uvic.ca`\n",
    "- **interests:**\n",
    "    1. Earth system evolution\n",
    "    2. carbonate sedimentology and geochemistry\n",
    "    3. data synthesis\n"
   ]
  },
  {
   "cell_type": "markdown",
   "metadata": {
    "slideshow": {
     "slide_type": "slide"
    }
   },
   "source": [
    "# 1c. Introductions: who are *you*\n"
   ]
  },
  {
   "cell_type": "code",
   "execution_count": 33,
   "metadata": {
    "slideshow": {
     "slide_type": "fragment"
    }
   },
   "outputs": [],
   "source": [
    "#let's get some help from Python for class introductions\n",
    "\n",
    "import numpy as np\n",
    "class_list=['Stacey','Kai','Kristyn','Grace','Andrea','Liam','Matthew','Noa','Matteo','Izzy','Rhys','Felix']\n",
    "\n",
    "def pick_someone(class_list):\n",
    "    if len(class_list)>0:\n",
    "        person=np.random.choice(class_list)\n",
    "        toprint=\"%s, please introduce yourself!\" % person\n",
    "        toprint='#####\\n'+toprint+'\\n#####\\n'\n",
    "        print(toprint)\n",
    "        class_list.remove(person)\n",
    "    return class_list\n"
   ]
  },
  {
   "cell_type": "code",
   "execution_count": 46,
   "metadata": {
    "slideshow": {
     "slide_type": "fragment"
    }
   },
   "outputs": [],
   "source": [
    "class_list=pick_someone(class_list)"
   ]
  },
  {
   "cell_type": "markdown",
   "metadata": {
    "slideshow": {
     "slide_type": "slide"
    }
   },
   "source": [
    "# 2a. Course outline\n",
    "\n",
    "\n",
    "**Course description and objectives:** In this course, we will explore how geologic and Earth surface processes, including tectonic, sea level and climate changes, are recorded and preserved in the stratigraphic record. Focus will be on modern and ancient case studies, with topics including basin analysis, cyclostratigraphy, process sedimentology and paleo-environmental reconstruction. Problem sets emphasize computational skills, including introductory time-series analysis, geospatial analysis and remote sensing. Pre-requisites: EOS 225, 201."
   ]
  },
  {
   "cell_type": "markdown",
   "metadata": {
    "slideshow": {
     "slide_type": "fragment"
    }
   },
   "source": [
    " ***If someone does not have one of these pre-reqs, please contact Blake ASAP!***"
   ]
  },
  {
   "cell_type": "markdown",
   "metadata": {
    "slideshow": {
     "slide_type": "fragment"
    }
   },
   "source": [
    "**Course Materials:** There is no required textbook. Readings will be made available through the course website. Students are required to have a computer work on assignments."
   ]
  },
  {
   "cell_type": "markdown",
   "metadata": {
    "slideshow": {
     "slide_type": "slide"
    }
   },
   "source": [
    "# 2b. Course outline\n",
    "\n",
    "\n",
    "**Course structure:** The course will meet twice a week (M/Th) for lectures and on Fridays to work on the weekly assignment.\n"
   ]
  },
  {
   "cell_type": "markdown",
   "metadata": {
    "slideshow": {
     "slide_type": "fragment"
    }
   },
   "source": [
    "- On Monday each week we will begin with a *flipped classroom:* I will randomly select at least two students to informally present their progress on the current weekly assignment."
   ]
  },
  {
   "cell_type": "markdown",
   "metadata": {
    "slideshow": {
     "slide_type": "fragment"
    }
   },
   "source": [
    "- Any remaining time on Monday and all of Thursday will be used for lectures on new material or guided group discussions of assigned readings."
   ]
  },
  {
   "cell_type": "markdown",
   "metadata": {
    "slideshow": {
     "slide_type": "slide"
    }
   },
   "source": [
    "# 2c. Course outline\n",
    "\n",
    "**Grading:** Your grade will be determined primarily by your performance on assignments. Although I will not track participation in lecture, I expect that the assignments will be significantly easier to complete for those who participate. "
   ]
  },
  {
   "cell_type": "markdown",
   "metadata": {
    "slideshow": {
     "slide_type": "fragment"
    }
   },
   "source": [
    "- Students enrolled in the graduate version of the course (EOS 518) will be expected to complete an alternative final assignment that includes a greater amount of self-direction.\n",
    "- Below is a breakdown of the course assessment:\n",
    "\n",
    "| EOS 491 (Undergraduate Students) | | EOS 518 (Graduate Students) | |\n",
    "| :--- | :--- | :--- | :---|\n",
    "| Assignments   |  60% | Assignments  | 60%|\n",
    "| Assignment presentations| 10% | Assignment presentations| 10%|\n",
    "| Final assignment | 30% | Final project  | 30%|"
   ]
  },
  {
   "cell_type": "markdown",
   "metadata": {
    "slideshow": {
     "slide_type": "slide"
    }
   },
   "source": [
    "# 3a. Sedimentary transport & building stratigraphy"
   ]
  },
  {
   "cell_type": "code",
   "execution_count": 30,
   "metadata": {
    "hide_input": true,
    "scrolled": false,
    "slideshow": {
     "slide_type": "slide"
    }
   },
   "outputs": [
    {
     "data": {
      "text/html": [
       "<iframe style=\"display: block;border-style:none; margin:auto;\" width=\"1200\" height=\"675\" src=\"https://www.youtube.com/embed/VRXR86uRnUY\"></iframe></p>"
      ],
      "text/plain": [
       "<IPython.core.display.HTML object>"
      ]
     },
     "execution_count": 30,
     "metadata": {},
     "output_type": "execute_result"
    }
   ],
   "source": [
    "from IPython.display import HTML, IFrame\n",
    "HTML('<iframe style=\"display: block;border-style:none; margin:auto;\" width=\"1200\" height=\"675\" src=\"https://www.youtube.com/embed/VRXR86uRnUY\"></iframe></p>')"
   ]
  },
  {
   "cell_type": "markdown",
   "metadata": {
    "slideshow": {
     "slide_type": "slide"
    }
   },
   "source": [
    "<center><div \n",
    "style='background-image:url(\"images/paradox_slide.jpg\");background-repeat: no-repeat;\n",
    "  background-size: contain;\n",
    "  height: 800px;\n",
    "  width: 100%;\n",
    "  background-position: center;\n",
    "'>\n",
    "  \n",
    "  </div></center>"
   ]
  },
  {
   "cell_type": "markdown",
   "metadata": {
    "slideshow": {
     "slide_type": "slide"
    }
   },
   "source": [
    "<center><div \n",
    "style='background-image:url(\"images/SandyHook_0.jpg\");background-repeat: no-repeat;\n",
    "  background-size: contain;\n",
    "  height: 800px;\n",
    "  width: 100%;\n",
    "  background-position: center;\n",
    "'>\n",
    "  \n",
    "  </div></center>"
   ]
  },
  {
   "cell_type": "markdown",
   "metadata": {
    "slideshow": {
     "slide_type": "slide"
    }
   },
   "source": [
    "<center><div \n",
    "style='background-image:url(\"images/SandyHook_1.jpg\");background-repeat: no-repeat;\n",
    "  background-size: contain;\n",
    "  height: 800px;\n",
    "  width: 100%;\n",
    "  background-position: center;\n",
    "'>\n",
    "  \n",
    "  </div></center>"
   ]
  },
  {
   "cell_type": "markdown",
   "metadata": {
    "slideshow": {
     "slide_type": "slide"
    }
   },
   "source": [
    "<center><div \n",
    "style='background-image:url(\"images/SandyHook_2.jpg\");background-repeat: no-repeat;\n",
    "  background-size: contain;\n",
    "  height: 800px;\n",
    "  width: 100%;\n",
    "  background-position: center;\n",
    "'>\n",
    "  \n",
    "  </div></center>"
   ]
  },
  {
   "cell_type": "markdown",
   "metadata": {
    "slideshow": {
     "slide_type": "slide"
    }
   },
   "source": [
    "<center><div \n",
    "style='background-image:url(\"images/SandyHook_3.jpg\");background-repeat: no-repeat;\n",
    "  background-size: contain;\n",
    "  height: 800px;\n",
    "  width: 100%;\n",
    "  background-position: center;\n",
    "'>\n",
    "  \n",
    "  </div></center>"
   ]
  },
  {
   "cell_type": "markdown",
   "metadata": {
    "slideshow": {
     "slide_type": "slide"
    }
   },
   "source": [
    "<center><div \n",
    "style='background-image:url(\"images/SandyHook_4.jpg\");background-repeat: no-repeat;\n",
    "  background-size: contain;\n",
    "  height: 800px;\n",
    "  width: 100%;\n",
    "  background-position: center;\n",
    "'>\n",
    "  \n",
    "  </div></center>"
   ]
  },
  {
   "cell_type": "markdown",
   "metadata": {
    "slideshow": {
     "slide_type": "slide"
    }
   },
   "source": [
    "<center><div \n",
    "style='background-image:url(\"images/SandyHook_5.jpg\");background-repeat: no-repeat;\n",
    "  background-size: contain;\n",
    "  height: 800px;\n",
    "  width: 100%;\n",
    "  background-position: center;\n",
    "'>\n",
    "  \n",
    "  </div></center>"
   ]
  },
  {
   "cell_type": "markdown",
   "metadata": {
    "cell_style": "center",
    "slideshow": {
     "slide_type": "slide"
    }
   },
   "source": [
    "<center><div \n",
    "style='background-image:url(\"images/SandyHook_6.jpg\");background-repeat: no-repeat;\n",
    "  background-size: contain;\n",
    "  height: 800px;\n",
    "  width: 100%;\n",
    "  background-position: center;\n",
    "'>\n",
    "  \n",
    "  </div></center>"
   ]
  },
  {
   "cell_type": "markdown",
   "metadata": {
    "slideshow": {
     "slide_type": "slide"
    }
   },
   "source": [
    "<center><div \n",
    "style='background-image:url(\"images/SandyHook_7.jpg\");background-repeat: no-repeat;\n",
    "  background-size: contain;\n",
    "  height: 800px;\n",
    "  width: 100%;\n",
    "  background-position: center;\n",
    "'>\n",
    "  \n",
    "  </div></center>"
   ]
  },
  {
   "cell_type": "markdown",
   "metadata": {
    "slideshow": {
     "slide_type": "slide"
    }
   },
   "source": [
    "# 3b. Geospatial analysis & surface processes"
   ]
  },
  {
   "cell_type": "markdown",
   "metadata": {
    "slideshow": {
     "slide_type": "slide"
    }
   },
   "source": [
    "<div \n",
    "style='background-image:url(\"images/dunes.jpg\");background-repeat: no-repeat;\n",
    "  background-size: cover;\n",
    "  background-position: 50% 50%;\n",
    "  height: 800px;\n",
    "  width: 100%;\n",
    "  display: table;\n",
    "  overflow: hidden;'>\n",
    "  </div>"
   ]
  },
  {
   "cell_type": "markdown",
   "metadata": {
    "slideshow": {
     "slide_type": "slide"
    }
   },
   "source": [
    "<div \n",
    "style='background-image:url(\"images/dunes.jpg\");background-repeat: no-repeat;\n",
    "  background-size: cover;\n",
    "  background-position: 50% 50%;\n",
    "  height: 800px;\n",
    "  width: 100%;\n",
    "  display: table;\n",
    "  overflow: hidden;'>\n",
    "  <p style='color:white;font-weight: 900;margin-left:2em;margin-top:2em'>Which way is the wind blowing?</p>\n",
    "  </div>"
   ]
  },
  {
   "cell_type": "markdown",
   "metadata": {
    "slideshow": {
     "slide_type": "slide"
    }
   },
   "source": [
    "<div \n",
    "style='background-image:url(\"images/mars_valley.jpg\");background-repeat: no-repeat;\n",
    "  background-size: cover;\n",
    "  background-position: 50% 50%;\n",
    "  height: 800px;\n",
    "  width: 100%;\n",
    "  display: table;\n",
    "  overflow: hidden;'>\n",
    "  \n",
    "  </div>"
   ]
  },
  {
   "cell_type": "markdown",
   "metadata": {
    "slideshow": {
     "slide_type": "slide"
    }
   },
   "source": [
    "<div \n",
    "style='background-image:url(\"images/tidal_channels.jpg\");background-repeat: no-repeat;\n",
    "  background-size: cover;\n",
    "  background-position: 50% 50%;\n",
    "  height: 800px;\n",
    "  width: 100%;\n",
    "  display: table;\n",
    "  overflow: hidden;'>\n",
    "  \n",
    "  </div>"
   ]
  },
  {
   "cell_type": "code",
   "execution_count": 31,
   "metadata": {
    "hide_input": false,
    "scrolled": true,
    "slideshow": {
     "slide_type": "slide"
    }
   },
   "outputs": [
    {
     "data": {
      "text/html": [
       "\n",
       "    <video alt=\"test\" controls>\n",
       "        <source src=\"images/learning.mp4\" type=\"video/mp4\">\n",
       "    </video>\n"
      ],
      "text/plain": [
       "<IPython.core.display.HTML object>"
      ]
     },
     "execution_count": 31,
     "metadata": {},
     "output_type": "execute_result"
    }
   ],
   "source": [
    "from IPython.display import HTML\n",
    "\n",
    "HTML(\"\"\"\n",
    "    <video alt=\"test\" controls>\n",
    "        <source src=\"images/learning.mp4\" type=\"video/mp4\">\n",
    "    </video>\n",
    "\"\"\")"
   ]
  },
  {
   "cell_type": "markdown",
   "metadata": {
    "slideshow": {
     "slide_type": "slide"
    }
   },
   "source": [
    "# 3c. Carbon systems & chemistry"
   ]
  },
  {
   "cell_type": "markdown",
   "metadata": {
    "hide_input": false,
    "slideshow": {
     "slide_type": "slide"
    }
   },
   "source": [
    "<div \n",
    "style='background-image:url(\"images/carbon_cycle_0.jpg\");background-repeat: no-repeat;\n",
    "  background-size: contain;\n",
    "  background-position: 50% 50%;\n",
    "  height: 800px;\n",
    "  width: 100%;\n",
    "  display: table;\n",
    "  overflow: hidden;'>\n",
    "  \n",
    "  </div>"
   ]
  },
  {
   "cell_type": "markdown",
   "metadata": {
    "slideshow": {
     "slide_type": "slide"
    }
   },
   "source": [
    "<div \n",
    "style='background-image:url(\"images/carbon_cycle_1.jpg\");background-repeat: no-repeat;\n",
    "  background-size: contain;\n",
    "  background-position: 50% 50%;\n",
    "  height: 800px;\n",
    "  width: 100%;\n",
    "  display: table;\n",
    "  overflow: hidden;'>\n",
    "  \n",
    "  </div>"
   ]
  },
  {
   "cell_type": "markdown",
   "metadata": {
    "slideshow": {
     "slide_type": "slide"
    }
   },
   "source": [
    "<div \n",
    "style='background-image:url(\"images/carbon_cycle_2.jpg\");background-repeat: no-repeat;\n",
    "  background-size: contain;\n",
    "  background-position: 50% 50%;\n",
    "  height: 800px;\n",
    "  width: 100%;\n",
    "  display: table;\n",
    "  overflow: hidden;'>\n",
    "  \n",
    "  </div>"
   ]
  },
  {
   "cell_type": "markdown",
   "metadata": {
    "slideshow": {
     "slide_type": "slide"
    }
   },
   "source": [
    "<div \n",
    "style='background-image:url(\"images/reef.jpg\");background-repeat: no-repeat;\n",
    "  background-size: contain;\n",
    "  background-position: 50% 50%;\n",
    "  height: 800px;\n",
    "  width: 100%;\n",
    "  display: table;\n",
    "  overflow: hidden;'>\n",
    "  \n",
    "  </div>"
   ]
  },
  {
   "cell_type": "markdown",
   "metadata": {
    "slideshow": {
     "slide_type": "slide"
    }
   },
   "source": [
    "<div \n",
    "style='background-image:url(\"images/shallow.jpg\");background-repeat: no-repeat;\n",
    "  background-size: contain;\n",
    "  background-position: 50% 50%;\n",
    "  height: 800px;\n",
    "  width: 100%;\n",
    "  display: table;\n",
    "  overflow: hidden;'>\n",
    "  \n",
    "  </div>"
   ]
  },
  {
   "cell_type": "markdown",
   "metadata": {
    "slideshow": {
     "slide_type": "slide"
    }
   },
   "source": [
    "<center><div \n",
    "style='background-image:url(\"images/d_model_0.jpg\");background-repeat: no-repeat;\n",
    "  background-size: contain;\n",
    "  height: 800px;\n",
    "  width: 100%;\n",
    "  background-position: center;\n",
    "'>\n",
    "  \n",
    "  </div></center>"
   ]
  },
  {
   "cell_type": "markdown",
   "metadata": {
    "slideshow": {
     "slide_type": "slide"
    }
   },
   "source": [
    "<center><div \n",
    "style='background-image:url(\"images/d_model_1.jpg\");background-repeat: no-repeat;\n",
    "  background-size: contain;\n",
    "  height: 800px;\n",
    "  width: 100%;\n",
    "  background-position: center;\n",
    "'>\n",
    "  \n",
    "  </div></center>"
   ]
  },
  {
   "cell_type": "markdown",
   "metadata": {
    "slideshow": {
     "slide_type": "slide"
    }
   },
   "source": [
    "<center><div \n",
    "style='background-image:url(\"images/d_model_2.jpg\");background-repeat: no-repeat;\n",
    "  background-size: contain;\n",
    "  height: 800px;\n",
    "  width: 100%;\n",
    "  background-position: center;\n",
    "'>\n",
    "  \n",
    "  </div></center>"
   ]
  },
  {
   "cell_type": "markdown",
   "metadata": {
    "slideshow": {
     "slide_type": "slide"
    }
   },
   "source": [
    "<center><div \n",
    "style='background-image:url(\"images/d_model_3.jpg\");background-repeat: no-repeat;\n",
    "  background-size: contain;\n",
    "  height: 800px;\n",
    "  width: 100%;\n",
    "  background-position: center;\n",
    "'>\n",
    "  \n",
    "  </div></center>"
   ]
  },
  {
   "cell_type": "markdown",
   "metadata": {
    "slideshow": {
     "slide_type": "slide"
    }
   },
   "source": [
    "<div \n",
    "style='background-image:url(\"images/lens_0.jpg\");background-repeat: no-repeat;\n",
    "  background-size: contain;\n",
    "  background-position: 50% 50%;\n",
    "  height: 800px;\n",
    "  width: 100%;\n",
    "  display: table;\n",
    "  overflow: hidden;'>\n",
    "  \n",
    "  </div>"
   ]
  },
  {
   "cell_type": "markdown",
   "metadata": {
    "slideshow": {
     "slide_type": "slide"
    }
   },
   "source": [
    "<div \n",
    "style='background-image:url(\"images/lens_1.jpg\");background-repeat: no-repeat;\n",
    "  background-size: contain;\n",
    "  background-position: 50% 50%;\n",
    "  height: 800px;\n",
    "  width: 100%;\n",
    "  display: table;\n",
    "  overflow: hidden;'>\n",
    "  \n",
    "  </div>"
   ]
  },
  {
   "cell_type": "markdown",
   "metadata": {
    "slideshow": {
     "slide_type": "slide"
    }
   },
   "source": [
    "<div \n",
    "style='background-image:url(\"images/lens_2.jpg\");background-repeat: no-repeat;\n",
    "  background-size: contain;\n",
    "  background-position: 50% 50%;\n",
    "  height: 800px;\n",
    "  width: 100%;\n",
    "  display: table;\n",
    "  overflow: hidden;'>\n",
    "  \n",
    "  </div>"
   ]
  },
  {
   "cell_type": "markdown",
   "metadata": {
    "slideshow": {
     "slide_type": "slide"
    }
   },
   "source": [
    "<div \n",
    "style='background-image:url(\"images/lens_3.jpg\");background-repeat: no-repeat;\n",
    "  background-size: contain;\n",
    "  background-position: 50% 50%;\n",
    "  height: 800px;\n",
    "  width: 100%;\n",
    "  display: table;\n",
    "  overflow: hidden;'>\n",
    "  \n",
    "  </div>"
   ]
  },
  {
   "cell_type": "markdown",
   "metadata": {
    "slideshow": {
     "slide_type": "slide"
    }
   },
   "source": [
    "# 3d. Stratigraphic correlation\n",
    " - correlation = building age models \n",
    " - how is time distributed in sedimentary rocks?\n",
    "<!--| <img src=\"images/correlation-1.png\" alt=\"Drawing\" style=\"height: 300px;\"/>|-->\n",
    "\n",
    "<div \n",
    "style='background-image:url(\"images/correlation-1.png\");background-repeat: no-repeat;\n",
    "  background-size: contain;\n",
    "  height: 800px;\n",
    "  width: 100%;\n",
    "'></div>\n"
   ]
  },
  {
   "cell_type": "markdown",
   "metadata": {
    "slideshow": {
     "slide_type": "slide"
    }
   },
   "source": [
    "# 3d. Stratigraphic correlation\n",
    " - correlation = building age models \n",
    " - how is time distributed in sedimentary rocks?\n",
    "\n",
    "<!--| <img src=\"images/correlation-1.png\" alt=\"Drawing\" style=\"height: 300px;\"/>|-->\n",
    "\n",
    "<div \n",
    "style='background-image:url(\"images/correlation-2.png\");background-repeat: no-repeat;\n",
    "  background-size: contain;\n",
    "  height: 800px;\n",
    "  width: 100%;\n",
    "'></div>\n"
   ]
  },
  {
   "cell_type": "markdown",
   "metadata": {
    "slideshow": {
     "slide_type": "slide"
    }
   },
   "source": [
    "# 3d. Stratigraphic correlation\n",
    " - correlation = building age models \n",
    " - how is time distributed in sedimentary rocks?\n",
    "\n",
    "<!--| <img src=\"images/correlation-1.png\" alt=\"Drawing\" style=\"height: 300px;\"/>|-->\n",
    "\n",
    "<div \n",
    "style='background-image:url(\"images/correlation-3.jpg\");background-repeat: no-repeat;\n",
    "  background-size: contain;\n",
    "  height: 800px;\n",
    "  width: 100%;\n",
    "'></div>\n"
   ]
  },
  {
   "cell_type": "markdown",
   "metadata": {
    "slideshow": {
     "slide_type": "-"
    }
   },
   "source": [
    "# 3e. Data synthesis & sediment cycling\n",
    "| a decaying rock record? |\n",
    "| ----:|\n",
    "| *I look at the natural geological record, as a history of the world imperfectly kept, and written in a changing dialect; of this history we possess the last volume alone, relating only to two or three countries. **Of this volume, only here and there a short chapter has been preserved**; and of each page, only here and there a few lines.*|\n",
    "|-- Charles Darwin|\n",
    "\n",
    "<div \n",
    "style='background-image:url(\"images/darwin-1.jpg\");background-repeat: no-repeat;\n",
    "  background-size: contain;\n",
    "  height: 800px;\n",
    "  width: 100%;\n",
    "'></div>"
   ]
  },
  {
   "cell_type": "markdown",
   "metadata": {
    "slideshow": {
     "slide_type": "slide"
    }
   },
   "source": [
    "# 3e. Data synthesis & sediment cycling\n",
    "| a decaying rock record? |\n",
    "| ----:|\n",
    "| *I look at the natural geological record, as a history of the world imperfectly kept, and written in a changing dialect; of this history we possess the last volume alone, relating only to two or three countries. **Of this volume, only here and there a short chapter has been preserved**; and of each page, only here and there a few lines.*|\n",
    "|-- Charles Darwin|\n",
    "\n",
    "<div \n",
    "style='background-image:url(\"images/darwin-2.jpg\");background-repeat: no-repeat;\n",
    "  background-size: contain;\n",
    "  height: 800px;\n",
    "  width: 100%;\n",
    "'></div>"
   ]
  },
  {
   "cell_type": "markdown",
   "metadata": {
    "slideshow": {
     "slide_type": "-"
    }
   },
   "source": [
    "# 3e. Data synthesis & sediment cycling\n",
    "[`macrostrat.org:`](https://macrostrat.org) 1,534 chronostratigraphic columns | 35,461 rock units | 2,540,323 map polygons | 12,935,471 TDM-ready papers\n",
    "\n",
    "<center>\n",
    "<div \n",
    "style='background-image:url(\"images/macrostrat.gif\");background-repeat: no-repeat;\n",
    "  background-size: contain;\n",
    "  height: 800px;\n",
    "  width: 100%;\n",
    "'></div>\n",
    "</center>\n"
   ]
  },
  {
   "cell_type": "markdown",
   "metadata": {
    "slideshow": {
     "slide_type": "slide"
    }
   },
   "source": [
    "# 4. First assignment (due before next class):\n",
    "## Install Python on your local machine\n",
    "\n",
    "- One of the easiest ways to install and manage python on your local machine is through Anaconda: https://www.anaconda.com/products/individual\n",
    "- There are two versions of python, version **2** and version **3**.  ***You should install Python 3***."
   ]
  },
  {
   "cell_type": "markdown",
   "metadata": {
    "slideshow": {
     "slide_type": "slide"
    }
   },
   "source": [
    "# Simplifying Surface Transport\n",
    "<span style='font-size:.8em'>\n",
    "\n",
    " - 2. Motivation: the stratigraphic record\n",
    "    - 2.1 Building a Basin\n",
    "    - 2.2 Simulating basin fill\n",
    "- 3. What is diffusion?\n",
    "    - 3.1 Numerical example\n",
    "    - 3.2 Diffusive flux: what is it in *words* and *math*\n",
    "    - 3.3 Continuity equation: what is it in *words* and *math*\n",
    "    - 3.4 Diffusion as a transport mechanism\n",
    "- 4. Assignment 1: diffusive transport\n",
    "    \n",
    "    </span>"
   ]
  },
  {
   "cell_type": "markdown",
   "metadata": {
    "slideshow": {
     "slide_type": "slide"
    }
   },
   "source": [
    "# Motivation: the stratigraphic record"
   ]
  },
  {
   "cell_type": "markdown",
   "metadata": {
    "slideshow": {
     "slide_type": "-"
    }
   },
   "source": [
    "<center>\n",
    "    <div style='height:60vh;'>\n",
    "\t    <img src=\"images/overview.jpg\" style='height:60vh'>\n",
    "    </div>\n",
    "</center>"
   ]
  },
  {
   "cell_type": "markdown",
   "metadata": {
    "slideshow": {
     "slide_type": "-"
    }
   },
   "source": [
    "(from **Autogenic Sedimentation in Clastic Stratigraphy**, Elizabeth A. Hajek and Kyle M. Straub, *Annual Review of Earth and Planetary Sciences 2017*)"
   ]
  },
  {
   "cell_type": "markdown",
   "metadata": {
    "slideshow": {
     "slide_type": "slide"
    }
   },
   "source": [
    "<center>\n",
    "    <div style='height:60vh;'>\n",
    "\t    <img src=\"images/x_section.jpg\" style='height:60vh'>\n",
    "    </div>\n",
    "</center>"
   ]
  },
  {
   "cell_type": "markdown",
   "metadata": {
    "slideshow": {
     "slide_type": "slide"
    }
   },
   "source": [
    "<center>\n",
    "    <div style='height:80vh;'>\n",
    "\t    <img src=\"images/Yukon_Delta.jpg\" style='height:80vh'>\n",
    "    </div>\n",
    "</center>"
   ]
  },
  {
   "cell_type": "markdown",
   "metadata": {
    "slideshow": {
     "slide_type": "-"
    }
   },
   "source": [
    "False color image of the **Yukon River Delta, Alaska**"
   ]
  },
  {
   "cell_type": "markdown",
   "metadata": {
    "slideshow": {
     "slide_type": "slide"
    }
   },
   "source": [
    "## Building a Basin\n",
    "We want to understand how a sedimentary basin fills up, specifically how years of transport, erosion, and deposition translate into the spatial (vertical and lateral) distribution of sedimentary units: the stratigraphic **architecture**. This architecture is controlled by the complex interactions among:"
   ]
  },
  {
   "cell_type": "markdown",
   "metadata": {
    "slideshow": {
     "slide_type": "notes"
    }
   },
   "source": [
    "Draw cartoons from notebook: transport infinite vs transport limited, accomodation control, sediment supply"
   ]
  },
  {
   "cell_type": "markdown",
   "metadata": {
    "slideshow": {
     "slide_type": "fragment"
    }
   },
   "source": [
    "- sediment supply to the basin"
   ]
  },
  {
   "cell_type": "markdown",
   "metadata": {
    "slideshow": {
     "slide_type": "fragment"
    }
   },
   "source": [
    "- transport of sediment within the basin"
   ]
  },
  {
   "cell_type": "markdown",
   "metadata": {
    "slideshow": {
     "slide_type": "fragment"
    }
   },
   "source": [
    "- available space (accomodation space)"
   ]
  },
  {
   "cell_type": "markdown",
   "metadata": {
    "slideshow": {
     "slide_type": "slide"
    }
   },
   "source": [
    "## Simulating basin fill\n",
    "*Forward* models can be used to explore some of these complex interactions. Generally there are two types of numerical models:  \n",
    "- complex fluid-flow models [(think about the complexity of coastal dynamics)](https://earthengine.google.com/timelapse#v=23.47002,-75.69627,11.322,latLng&t=0.45&ps=50&bt=19840101&et=20181231&startDwell=0&endDwell=0)\n",
    "   - use very real physical equations to simulate movement in 3-D of each grain\n",
    "   - need accurate and high resolution data\n",
    "   - computationally expensive\n",
    "   - challenging to learn from or compare to stratigraphic data"
   ]
  },
  {
   "cell_type": "markdown",
   "metadata": {
    "slideshow": {
     "slide_type": "fragment"
    }
   },
   "source": [
    "- empirical transport models \n",
    "    - approximate transport laws combined with conservation equations (**diffusion**)\n",
    "    - does not mimic in detail each geologic process\n",
    "    - computationally inexpensive\n",
    "    - model outputs can be easily compared to real data"
   ]
  },
  {
   "cell_type": "markdown",
   "metadata": {
    "slideshow": {
     "slide_type": "slide"
    }
   },
   "source": [
    "# What is diffusion?\n",
    "Lets take a look at some examples of diffusion.."
   ]
  },
  {
   "cell_type": "markdown",
   "metadata": {
    "slideshow": {
     "slide_type": "slide"
    }
   },
   "source": [
    "A working definition of diffusion: <span style='color:DodgerBlue;font-weight:800'>*is the net movement of anything (for example, atom, sediments, energy) from a region of higher concentration to a region of lower concentration*.</span>"
   ]
  },
  {
   "cell_type": "markdown",
   "metadata": {
    "slideshow": {
     "slide_type": "-"
    }
   },
   "source": [
    "<center>\n",
    "    <div style='height:40vh;'>\n",
    "\t    <img src=\"images/particle.gif\" style='height:40vh'>\n",
    "    </div>\n",
    "</center>"
   ]
  },
  {
   "cell_type": "markdown",
   "metadata": {
    "slideshow": {
     "slide_type": "fragment"
    }
   },
   "source": [
    "Note that it is the complex interaction of particles above that causes diffusion, not some inherent desire to randomly move."
   ]
  },
  {
   "cell_type": "markdown",
   "metadata": {
    "slideshow": {
     "slide_type": "skip"
    }
   },
   "source": [
    "Consider the temperature change in a magmatic sill immediately after emplacement:"
   ]
  },
  {
   "cell_type": "markdown",
   "metadata": {
    "hide_input": true,
    "slideshow": {
     "slide_type": "skip"
    }
   },
   "source": [
    "<center>\n",
    "    <div style='height:60vh;'>\n",
    "\t    <p>\n",
    "    </div>\n",
    "</center>"
   ]
  },
  {
   "cell_type": "markdown",
   "metadata": {
    "slideshow": {
     "slide_type": "slide"
    }
   },
   "source": [
    "The net effect of many processes is essentially diffusion: rain splashes, bioturbation, even tree's are responsible for diffusive transport:"
   ]
  },
  {
   "cell_type": "markdown",
   "metadata": {
    "hide_input": true,
    "slideshow": {
     "slide_type": "-"
    }
   },
   "source": [
    "<center>\n",
    "    <div style='height:60vh;'>\n",
    "\t    <p>\n",
    "    </div>\n",
    "</center>"
   ]
  },
  {
   "cell_type": "markdown",
   "metadata": {
    "slideshow": {
     "slide_type": "-"
    }
   },
   "source": [
    "The key here is that we can estimate the net change without understanding the details of every interaction."
   ]
  },
  {
   "cell_type": "markdown",
   "metadata": {
    "slideshow": {
     "slide_type": "slide"
    }
   },
   "source": [
    "## Numerical example\n",
    "If diffusion is the result of complex interactions, we can simulate those processes with random motion, and explore the system with a simple script. First, let's create a 2D world of 0's and 1's and introduce random motion."
   ]
  },
  {
   "cell_type": "markdown",
   "metadata": {
    "slideshow": {
     "slide_type": "subslide"
    }
   },
   "source": [
    "Import some tools"
   ]
  },
  {
   "cell_type": "code",
   "execution_count": null,
   "metadata": {
    "slideshow": {
     "slide_type": "-"
    }
   },
   "outputs": [],
   "source": [
    "import numpy as np\n",
    "from matplotlib import pyplot as plt\n",
    "from tqdm.notebook import tqdm\n",
    "import seaborn as sns\n",
    "sns.set_context('talk')\n",
    "%matplotlib inline"
   ]
  },
  {
   "cell_type": "code",
   "execution_count": null,
   "metadata": {
    "slideshow": {
     "slide_type": "subslide"
    }
   },
   "outputs": [],
   "source": [
    "row=[True]*10+[False]*10\n",
    "row=[row]*1000\n",
    "row=np.array(row)\n",
    "print(row)\n",
    "new_row = np.copy(row)\n"
   ]
  },
  {
   "cell_type": "code",
   "execution_count": null,
   "metadata": {
    "slideshow": {
     "slide_type": "subslide"
    }
   },
   "outputs": [],
   "source": [
    "fig=plt.figure(figsize=(12,6))\n",
    "plt.subplot(2,1,1)\n",
    "plt.imshow(row,interpolation='nearest')\n",
    "plt.gca().set_aspect(1/250)\n",
    "plt.gca().set_xticks([])\n",
    "plt.gca().set_yticks([])\n",
    "plt.subplot(2,1,2)\n",
    "plt.plot(np.arange(20),np.sum(row,axis=0))\n",
    "plt.gca().set_xticks(np.arange(20))\n",
    "plt.gca().set_title('number of yellows: %2.0f' % (np.sum(row)))\n",
    "plt.gca().set_aspect(1/250)\n"
   ]
  },
  {
   "cell_type": "markdown",
   "metadata": {
    "hide_input": false,
    "slideshow": {
     "slide_type": "subslide"
    }
   },
   "source": [
    "Introduce *random* motion"
   ]
  },
  {
   "cell_type": "code",
   "execution_count": null,
   "metadata": {
    "slideshow": {
     "slide_type": "-"
    }
   },
   "outputs": [],
   "source": [
    "for n in range(1):\n",
    "    row=np.copy(new_row)\n",
    "    for i in range(1,1000-1): \n",
    "        for j in range(1,20-1):\n",
    "            change_x = np.random.choice([-1,0,1])\n",
    "            change_y = np.random.choice([-1,0,1])\n",
    "            new_row[i,j] = row[i+change_x,j+change_y]\n",
    "            "
   ]
  },
  {
   "cell_type": "code",
   "execution_count": null,
   "metadata": {
    "slideshow": {
     "slide_type": "subslide"
    }
   },
   "outputs": [],
   "source": [
    "def make_fig(row,show_grad=False):\n",
    "    fig=plt.figure(figsize=(12,6))\n",
    "    plt.subplot(2,1,1)\n",
    "    plt.imshow(row,interpolation='nearest')\n",
    "    plt.gca().set_aspect(1/250)\n",
    "    plt.gca().set_xticks([])\n",
    "    plt.gca().set_yticks([])\n",
    "    plt.subplot(2,1,2)\n",
    "    plt.plot(np.arange(20),np.sum(row,axis=0)) \n",
    "    plt.gca().set_xticks(np.arange(20))\n",
    "    plt.gca().set_title('%% change in yellows: %2.2f' % (100*np.sum(row)/10000-100))\n",
    "    plt.gca().set_aspect(1/250)\n",
    "    if show_grad:\n",
    "        plt.gca().twinx().plot(np.arange(1,21),np.gradient(np.sum(row,axis=0)),color='r',label='gradient')\n",
    "        plt.gca().legend(loc='best')\n",
    "\n",
    "make_fig(row)"
   ]
  },
  {
   "cell_type": "markdown",
   "metadata": {
    "slideshow": {
     "slide_type": "slide"
    }
   },
   "source": [
    "So what has happened? How can we describe the change in the vertical sum over time?  "
   ]
  },
  {
   "cell_type": "markdown",
   "metadata": {
    "slideshow": {
     "slide_type": "notes"
    }
   },
   "source": [
    "flux of material to the right"
   ]
  },
  {
   "cell_type": "code",
   "execution_count": null,
   "metadata": {
    "hide_input": true,
    "slideshow": {
     "slide_type": "-"
    }
   },
   "outputs": [],
   "source": [
    "make_fig(row,show_grad=True)"
   ]
  },
  {
   "cell_type": "markdown",
   "metadata": {
    "slideshow": {
     "slide_type": "fragment"
    }
   },
   "source": [
    "<span style=\"color:green;font-weight: bold\">where is the diffusive flux largest?</span>"
   ]
  },
  {
   "cell_type": "markdown",
   "metadata": {
    "slideshow": {
     "slide_type": "fragment"
    }
   },
   "source": [
    "- Flux is largest where the gradient is largest (they are proportional)"
   ]
  },
  {
   "cell_type": "markdown",
   "metadata": {
    "slideshow": {
     "slide_type": "slide"
    }
   },
   "source": [
    "## Diffusive flux: what is it in *words*\n",
    "Lets consider a property, $u$, that is distributed over some spatial grid, $x$. We are interested in what happens to $u$ when we introduce random transport (**diffusion**).\n",
    "- Diffusion occurs when a (1) conservative property ($u$, like mass, energy, momentum) moves through space (2) <span style=\"color:blue\"> at a rate </span>  <span style=\"color:red\"> proportional to a gradient </span>"
   ]
  },
  {
   "cell_type": "markdown",
   "metadata": {
    "slideshow": {
     "slide_type": "fragment"
    }
   },
   "source": [
    "Let's go through **number 2** first:"
   ]
  },
  {
   "cell_type": "markdown",
   "metadata": {
    "slideshow": {
     "slide_type": "fragment"
    }
   },
   "source": [
    "- <span style=\"color:blue\"> [tranportation rate of $u$] </span> is proportional to [<span style=\"color:red\"> change in amount of $u$ over some distance </span>]"
   ]
  },
  {
   "cell_type": "markdown",
   "metadata": {
    "slideshow": {
     "slide_type": "fragment"
    }
   },
   "source": [
    "- <span style=\"color:blue\"> [the flux $Q_u$] </span> is proportional to [<span style=\"color:red\"> the spatial gradient of $u$</span>]"
   ]
  },
  {
   "cell_type": "markdown",
   "metadata": {
    "slideshow": {
     "slide_type": "subslide"
    }
   },
   "source": [
    "## Diffusive flux: what it is in *math*\n",
    "The diffusive flux, <span style=\"color:blue\"> $Q_u$ </span> is proportional to the <span style=\"color:red\"> spatial gradient of $u$ </span>: \n",
    "\n",
    "$$\\begin{equation}\n",
    "\\color{blue}{ Q_u}\t\\propto \\color{red}{- \\dfrac{\\Delta u}{\\Delta x}}\n",
    "\\end{equation}$$"
   ]
  },
  {
   "cell_type": "markdown",
   "metadata": {
    "slideshow": {
     "slide_type": "fragment"
    }
   },
   "source": [
    "or introduce a *proportionality constant*, $K$, and now talk about *infinitisimal changes* ($\\partial$ vs. $\\Delta$):\n",
    "\n",
    "$$\\begin{equation}\n",
    "\\color{blue}{Q_u}\t= \\color{red}{- K \\dfrac{\\partial u}{\\partial x}}\n",
    "\\end{equation}$$"
   ]
  },
  {
   "cell_type": "markdown",
   "metadata": {
    "slideshow": {
     "slide_type": "fragment"
    }
   },
   "source": [
    "<center>\n",
    "    <div style='height:18vh;'>\n",
    "\t    <p>\n",
    "    </div>\n",
    "</center>\n",
    "<span style=\"color:green;font-weight: bold\">why is there a negative sign?</span>"
   ]
  },
  {
   "cell_type": "markdown",
   "metadata": {
    "slideshow": {
     "slide_type": "fragment"
    }
   },
   "source": [
    "- the flux constant is negative to indicate a transfer from regions of higher $u$ values to lower"
   ]
  },
  {
   "cell_type": "markdown",
   "metadata": {
    "slideshow": {
     "slide_type": "slide"
    }
   },
   "source": [
    "## Continuity equation: what is it in *words*\n",
    "- Diffusion occurs when a (1)  <span style=\"color:blue\"> conservative property </span> ($u \\rightarrow$ like mass, energy, momentum) <span style=\"color:red\"> moves through space </span> (2) at a rate  proportional to a gradient\n"
   ]
  },
  {
   "cell_type": "markdown",
   "metadata": {
    "slideshow": {
     "slide_type": "fragment"
    }
   },
   "source": [
    "- Now, let's tackle **point number one**:  \n",
    "   - <span style=\"color:blue\"> [change in $u$ with time] </span> is equal to [<span style=\"color:red\"> change in transport rate of $u$ with distance </span>]\n",
    "   - <span style=\"color:blue\"> [rate of change in $u$] </span> is equal to [<span style=\"color:red\"> the flux gradient of $u$</span>]\n",
    "<center>\n",
    "    <div style='height:40vh;'>\n",
    "\t    <p>\n",
    "    </div>\n",
    "</center>"
   ]
  },
  {
   "cell_type": "markdown",
   "metadata": {
    "slideshow": {
     "slide_type": "subslide"
    }
   },
   "source": [
    "## Continuity equation: what is it in *math*\n",
    "This equality is known as the **continuity equation** (conservation of mass/energy/momentum):\n",
    "\n",
    "$$\\begin{equation}\n",
    "\\color{blue}{ \\dfrac{\\Delta u}{\\Delta t}} =  \\color{red}{- \\dfrac{\\Delta Q_u}{\\Delta x}} = \\color{red}{- \\dfrac{Q_2 - Q_1}{x_2 - x_1}}\n",
    "\\end{equation}$$"
   ]
  },
  {
   "cell_type": "markdown",
   "metadata": {
    "slideshow": {
     "slide_type": "fragment"
    }
   },
   "source": [
    "Or in proper mathematical terms:\n",
    "\n",
    "$$\\begin{equation}\n",
    "\\color{blue}{\\dfrac{\\partial u}{\\partial t}}\n",
    "\\color{black}{= }\n",
    "\\color{red}{- \\dfrac{\\partial Q_u}{\\partial x}}\n",
    "\\end{equation}$$\n",
    "\n",
    "if Q2 > Q1, then u will:\n",
    "\n",
    "if Q2 < Q1, then u will:\n",
    "\n",
    "if Q2 = Q1, then u will:"
   ]
  },
  {
   "cell_type": "markdown",
   "metadata": {
    "slideshow": {
     "slide_type": "fragment"
    }
   },
   "source": [
    "<center>\n",
    "    <div style='height:20vh;'>\n",
    "\t    <p>\n",
    "    </div>\n",
    "</center>\n",
    "<span style=\"color:green;font-weight: bold\">How is this equation a conservation of mass?</span>\n"
   ]
  },
  {
   "cell_type": "markdown",
   "metadata": {
    "slideshow": {
     "slide_type": "notes"
    }
   },
   "source": [
    "Lets consider a discrete box model with the following properties, how would we determine the concentration of $u$ in our box at time, $T=1$?   \n",
    "`Qu=[1,1.5]\n",
    "X=[0,1]\n",
    "T=[0,1]\n",
    "U_0=[1]`  \n"
   ]
  },
  {
   "cell_type": "markdown",
   "metadata": {
    "slideshow": {
     "slide_type": "subslide"
    }
   },
   "source": [
    "By combining these two equations, we can show $u$ will change over time as a function of the second spatial derivative of $u$ (*the curvature*):  \n",
    "\n",
    "| Diffusive flux &nbsp; &nbsp;&nbsp;&nbsp; &nbsp; &nbsp; | Continuity equation |\n",
    "|:---|---:|\n",
    "|$Q_u= -K\\dfrac{\\partial u}{\\partial x}$|$\\color{blue}{\\dfrac{\\partial u}{\\partial t}} \\color{black}{= } \\color{red}{- \\dfrac{\\partial Q_u}{\\partial x}}$|\n",
    "\n"
   ]
  },
  {
   "cell_type": "markdown",
   "metadata": {
    "slideshow": {
     "slide_type": "fragment"
    }
   },
   "source": [
    "<center></center>\n",
    "$$\\begin{equation}\n",
    "\\color{blue}{\\dfrac{\\partial u}{\\partial t}}\n",
    "\\color{black}{= }\n",
    "K\\color{red}{\\dfrac{\\partial\\left(\\color{black}{\\dfrac{\\partial u}{\\partial x}}\\right)}{\\partial x}}\n",
    "\\color{black}{= }\n",
    "K \\dfrac{\\partial^2 u}{\\partial x^2}\\tag{Diffusion equation}\n",
    "\\end{equation}$$\n",
    "\n"
   ]
  },
  {
   "cell_type": "markdown",
   "metadata": {
    "slideshow": {
     "slide_type": "fragment"
    }
   },
   "source": [
    "Applying the diffusion equation to a physical system has two general requirements:\n",
    "1. transport / transfer is proportional to a gradient\n",
    "2. conservation of mass or energy\n",
    "<center>\n",
    "    <div style='height:30vh;'>\n",
    "\t    <p>\n",
    "    </div>\n",
    "</center>"
   ]
  },
  {
   "cell_type": "markdown",
   "metadata": {
    "slideshow": {
     "slide_type": "slide"
    }
   },
   "source": [
    "## Diffusion as a transport mechanism\n",
    "When we assume that **diffusive transport** exerts an important control on landscape dynamics we generally accept that particles on the surface of the planet are in constant complex motion, and there is some **downslope bias introduced by gravity** to those motions. Over time, **diffusion** can be assumed to smooth topography (by the transport of material downslope).\n",
    "<center></center>\n",
    "$$\\begin{equation}\n",
    "\\dfrac{\\partial h}{\\partial t}\n",
    "= \n",
    "K \\dfrac{\\partial^2 h}{\\partial x^2}\\tag{hillslope application}\n",
    "\\end{equation}$$\n",
    "\n",
    "\n",
    "\n",
    "\n",
    "\n",
    "\n",
    "\n",
    "<center>\n",
    "    <div style='height:40vh;'>\n",
    "\t    <p>\n",
    "    </div>\n",
    "</center>"
   ]
  },
  {
   "cell_type": "markdown",
   "metadata": {
    "slideshow": {
     "slide_type": "notes"
    }
   },
   "source": [
    "<span style='color:Gray'>    **Note: we wouldn't want to use this model to explain transport in rivers, why not?**</span>"
   ]
  },
  {
   "cell_type": "markdown",
   "metadata": {
    "slideshow": {
     "slide_type": "slide"
    }
   },
   "source": [
    "# A look ahead\n",
    "Over the next few weeks in your assignments you will be building a 1-D diffusive transport model to explore how variations in the following properties change the stratigraphic **architecture** of a basin:\n",
    "1. transport\n",
    "2. sediment supply\n",
    "3. accomodation space"
   ]
  },
  {
   "cell_type": "markdown",
   "metadata": {
    "slideshow": {
     "slide_type": "subslide"
    }
   },
   "source": [
    "# An example: varying accomodation space"
   ]
  },
  {
   "cell_type": "code",
   "execution_count": null,
   "metadata": {
    "slideshow": {
     "slide_type": "-"
    }
   },
   "outputs": [],
   "source": [
    "animate_beds(beds=beds,otime=otime,rsl=rsl,aspect=5, ymin=-100)\n"
   ]
  },
  {
   "cell_type": "markdown",
   "metadata": {
    "slideshow": {
     "slide_type": "slide"
    }
   },
   "source": [
    "# Assignment 1: diffusive transport\n",
    "This assignment will be distributed in weekly parts, to be submitted at the end of the final week (*3-4 weeks per assignment*). A little housekeeping:\n",
    "\n",
    "- You will be assigned a suggested partner by the <span style='color:green'>**Python**</span> random number Gods.\n",
    "- You are encouraged to work with that partner, and will be asked to present/lead the discussion with your partner during the *flipped classroom*\n",
    "- You are not excluded from working with other groups\n",
    "- Each person will submit their own copy of the assignment \n",
    "\n",
    "### blake: remember to export drawings!!"
   ]
  },
  {
   "cell_type": "markdown",
   "metadata": {
    "slideshow": {
     "slide_type": "subslide"
    }
   },
   "source": [
    "Let's make groups:"
   ]
  },
  {
   "cell_type": "code",
   "execution_count": null,
   "metadata": {
    "slideshow": {
     "slide_type": "-"
    }
   },
   "outputs": [],
   "source": [
    "class_list=['x','y']\n",
    "import random\n",
    "\n",
    "def assign_groups(class_list):\n",
    "    groups=[]\n",
    "    while len(class_list)>0:\n",
    "        group=[]\n",
    "        while len(group)<2:\n",
    "            person=random.choice(class_list)\n",
    "            group+=[person]\n",
    "            class_list.remove(person)\n",
    "            if len(class_list)==1:\n",
    "                person=random.choice(class_list)\n",
    "                group+=[person]\n",
    "                class_list.remove(person)\n",
    "        groups+=[group]\n",
    "    return groups "
   ]
  },
  {
   "cell_type": "code",
   "execution_count": null,
   "metadata": {
    "slideshow": {
     "slide_type": "fragment"
    }
   },
   "outputs": [],
   "source": [
    "assign_groups(class_list)\n"
   ]
  },
  {
   "cell_type": "code",
   "execution_count": null,
   "metadata": {
    "slideshow": {
     "slide_type": "-"
    }
   },
   "outputs": [],
   "source": [
    "mod1=[['Kate', 'Jessy'],\n",
    " ['Jerry', 'Olivia'],\n",
    " ['Daniel', 'Connor'],\n",
    " ['CateLee', 'Grayson','Ben']]"
   ]
  },
  {
   "cell_type": "code",
   "execution_count": null,
   "metadata": {
    "slideshow": {
     "slide_type": "skip"
    }
   },
   "outputs": [],
   "source": []
  },
  {
   "cell_type": "code",
   "execution_count": null,
   "metadata": {
    "slideshow": {
     "slide_type": "skip"
    }
   },
   "outputs": [],
   "source": []
  },
  {
   "cell_type": "code",
   "execution_count": 26,
   "metadata": {
    "slideshow": {
     "slide_type": "skip"
    }
   },
   "outputs": [],
   "source": [
    "from scipy.linalg import solve_banded\n",
    "from scipy.interpolate import interp1d\n",
    "import numpy as np\n",
    "from tqdm.notebook import tqdm\n",
    "import matplotlib\n",
    "from matplotlib import pyplot as plt\n",
    "from IPython.display import clear_output\n",
    "import seaborn as sns\n",
    "import matplotlib.cm as cm\n",
    "import time\n",
    "\n",
    "\n",
    "%matplotlib inline\n",
    "\n",
    "class Diffuse1D:\n",
    "    def __init__(self, length, spacing, tstep, left, right, K):\n",
    "        self.x = np.arange(0, length, spacing)\n",
    "        self.u = (\n",
    "            left - self.x * (left - right) / length\n",
    "        )  # sets initial to steady state solution\n",
    "        \n",
    "        self.u = (\n",
    "            left - self.x * (left - right) / length\n",
    "        )  # sets initial to steady state solution\n",
    "        #         self.u = np.zeros(self.x.shape)+right\n",
    "        N = self.x.size\n",
    "        self.tstep = tstep\n",
    "        self.spacing = spacing\n",
    "        self.K = K\n",
    "        k_arr = K * np.ones((N))  # m^2/yr\n",
    "        self.r = k_arr * (self.tstep / (2 * spacing ** 2))  ##Fourier number\n",
    "        self.time = 0\n",
    "        self.base_level_fun = interp1d([0, 1], [0, 0], bounds_error=False, fill_value=0)\n",
    "        self.base_level = self.base_level_fun(self.time)\n",
    "        self.sed_Q = 100 / spacing  # not sure if spacing is correct here\n",
    "        self.subsidence_r = 0.025 * 1e-3 * 1e1  # not in use yet\n",
    "        self.left = left\n",
    "        self.right = right\n",
    "\n",
    "        # initialize matrices A, B and b array\n",
    "        self.A = np.zeros((N, N))\n",
    "        self.B = np.zeros((N, N))\n",
    "        self.b = np.zeros((N))\n",
    "        # define matrices A, B and b array  ##THIS STEP IS SLOW -- but only called once\n",
    "        # see method update_K() for fast version\n",
    "        for i in range(N):\n",
    "            if i == 0:  # first\n",
    "                self.A[i, :] = [\n",
    "                    1 + 2 * self.r[j] if j == 0 else (-self.r[j]) if j == 1 else 0\n",
    "                    for j in range(N)\n",
    "                ]\n",
    "                self.B[i, :] = [\n",
    "                    1 - 2 * self.r[j] if j == 0 else self.r[j] if j == 1 else 0\n",
    "                    for j in range(N)\n",
    "                ]\n",
    "                self.b[i] = left  # boundary condition at i=1\n",
    "            elif i == N - 1:  # last\n",
    "                self.A[i, :] = [\n",
    "                    -self.r[j] if j == N - 2 else 1 + 2 * self.r[j] if j == N - 1 else 0\n",
    "                    for j in range(N)\n",
    "                ]\n",
    "                self.B[i, :] = [\n",
    "                    self.r[j] if j == N - 2 else 1 - 2 * self.r[j] if j == N - 1 else 0\n",
    "                    for j in range(N)\n",
    "                ]\n",
    "                self.b[i] =  right  # boundary condition at i=N\n",
    "            else:  # middles\n",
    "                self.A[i, :] = [\n",
    "                    -self.r[j]\n",
    "                    if j == i - 1 or j == i + 1\n",
    "                    else 1 + 2 * self.r[j]\n",
    "                    if j == i\n",
    "                    else 0\n",
    "                    for j in range(N)\n",
    "                ]\n",
    "                self.B[i, :] = [\n",
    "                    self.r[j]\n",
    "                    if j == i - 1 or j == i + 1\n",
    "                    else 1 - 2 * self.r[j]\n",
    "                    if j == i\n",
    "                    else 0\n",
    "                    for j in range(N)\n",
    "                ]\n",
    "\n",
    "        #von nuemann bottom\n",
    "#         self.A[-1,-1] = 1+self.r[-1]\n",
    "#         self.B[-1,-1] = 1-self.r[-1]\n",
    "#         self.b[-1]=0\n",
    "        \n",
    "        self.Ab = np.zeros((3, N))\n",
    "        self.Ab[0, 1:] = np.diag(self.A, -1)\n",
    "        self.Ab[1, :] = np.diag(self.A)\n",
    "        self.Ab[2, :-1] = np.diag(self.A, 1)\n",
    "        self.Q = np.zeros((N))\n",
    "        self.bb = self.B.dot(self.u) + 2 * self.r*self.b + self.tstep*self.Q\n",
    "\n",
    "        self.update_coastline()\n",
    "\n",
    "    def set_baselevel(self, time, rsl):\n",
    "        # can pass a set of paired time/rsl and model will interpolate for each dt\n",
    "        self.base_level_fun = interp1d(time, rsl)\n",
    "\n",
    "    def run_step(self):\n",
    "        #self.update_K()  # can disable if K is not changing with each t_step (ie as a function of elevation)\n",
    "        self.Q *= 0  # clearing any old sed flux terms\n",
    "        self.base_level = self.base_level_fun(self.time)  # update base level\n",
    "        self.update_coastline()  # select coastline point for sed flux\n",
    "        self.Q[self.coastline] += self.sed_Q  # add sediment to the coastline\n",
    "        self.bb = self.B.dot(self.u) + 2 * self.r*self.b + self.tstep*self.Q  # quick matrix addition\n",
    "        self.u = solve_banded(\n",
    "            (1, 1), self.Ab, self.bb\n",
    "        )  # this step solves the Crank-Nicholson matrix for next timestep\n",
    "        self.time += self.tstep  # increment timestep\n",
    "\n",
    "    def set_left(self, left):\n",
    "        # function to change boundary condition\n",
    "        self.b[0] = left\n",
    "\n",
    "    def set_u(self, u):\n",
    "        self.u = u\n",
    "\n",
    "    def set_right(self, right):\n",
    "        # function to change boundary condition\n",
    "        self.b[-1] = right\n",
    "\n",
    "    def update_coastline(self):\n",
    "        # finds the first grid point below base level starting on the left hand side\n",
    "        try:\n",
    "            self.coastline = np.where(self.u < (self.base_level))[0][0]\n",
    "        except:\n",
    "            self.coastline = 0\n",
    "\n",
    "    def update_K(self):\n",
    "        # updates K if you need it to change with each timestep\n",
    "        # the tridiagonal matrix forms below dont need to be inverted, so this is\n",
    "        # a much faster form of setting up the Crank-Nicolson solution\n",
    "        k_arr = self.K * np.ones((self.x.size))\n",
    "        k_arr[: self.coastline] = 1e-2\n",
    "#         swb = np.where(self.u < (self.base_level - 25))[0][0] #lower K below SWB?\n",
    "#         k_arr[swb:] = 1e-2\n",
    "        self.r = k_arr * (self.tstep / (2 * self.spacing ** 2))  ##Fourier number\n",
    "        np.fill_diagonal(self.B, 1 - 2 * self.r)\n",
    "        np.fill_diagonal(self.B[1:], self.r[1:])\n",
    "        np.fill_diagonal(self.B[:, 1:], self.r[:-1])\n",
    "        self.Ab[0, 1:] = -1 * self.r[:-1]\n",
    "        self.Ab[1, :] = 1 + 2 * self.r\n",
    "        self.Ab[2, :-1] = -1 * self.r[1:]\n",
    "        \n",
    "        #should the R_i match??  go back a few steps and check the full form\n",
    "        \n",
    "        #von nuemann bottom\n",
    "#         self.Ab[1, -1] = 1+self.r[-1]\n",
    "#         self.B[-1,-1] = 1-self.r[-1]\n",
    "#         self.b[-1]=0\n",
    "#         self.b[0] = self.left\n",
    "#         self.b[-1] = self.right\n",
    "\n",
    "def animate_beds(beds,otime,rsl, color=True, aspect=10, ymin=-55):\n",
    "    N = int(len(beds) / 2) + 1\n",
    "    cs_reg = sns.color_palette(\"viridis\", n_colors=np.sum(np.gradient(rsl) <= 0))\n",
    "    cs_trans = sns.color_palette(\"Greys\", n_colors=np.sum(np.gradient(rsl) > 0))\n",
    "    rsl_down = np.gradient(rsl) <= 0\n",
    "    if color==False:\n",
    "        cs_reg = sns.color_palette(\"Greys\", n_colors=100*np.sum(np.gradient(rsl) <= 0))\n",
    "        cs_trans = sns.color_palette(\"Greys\", n_colors=100*np.sum(np.gradient(rsl) > 0))\n",
    "\n",
    "    sns.set_palette(\"tab20\", n_colors=40)\n",
    "    \n",
    "    minima = min(np.gradient(rsl))\n",
    "    maxima = max(np.gradient(rsl))\n",
    "    max_max = max([minima,maxima])\n",
    "\n",
    "    norm = matplotlib.colors.Normalize(vmin=-1*max_max, vmax=max_max, clip=True)\n",
    "    mapper = cm.ScalarMappable(norm=norm, cmap=cm.RdBu)\n",
    "\n",
    "    # for k in range(len(beds)):\n",
    "    #         beds[k]-=otime[k]*model.subsidence_r\n",
    "\n",
    "    beds = np.array(beds)\n",
    "    for i, bed in enumerate(beds):\n",
    "\n",
    "        beds_eroded = []\n",
    "\n",
    "        for k, layer in enumerate(beds[:i]):\n",
    "            future_min = np.min(beds[k : i + 1], axis=0)\n",
    "            beds_eroded.append(future_min)\n",
    "        #         beds_eroded.append(layer)\n",
    "\n",
    "        beds_eroded.append(beds[i])\n",
    "        beds_eroded = np.array(beds_eroded)\n",
    "\n",
    "        fig = plt.figure(figsize=(18, 12))\n",
    "        clear_output(wait=True)\n",
    "        c = [0, 0]\n",
    "        z = N + 1\n",
    "        last_layer = beds_eroded[0]\n",
    "        for layer, down in zip(beds_eroded[: i + 1], np.gradient(rsl)):\n",
    "            if down:\n",
    "                plt.fill_between(\n",
    "                    np.arange(layer.size),\n",
    "                    last_layer,\n",
    "                    layer,\n",
    "                    facecolor=mapper.to_rgba(down),\n",
    "                    lw=0.5,\n",
    "                    edgecolor=(0, 0, 0),\n",
    "                )\n",
    "                c[0] += 1\n",
    "            else:\n",
    "                plt.fill_between(\n",
    "                    np.arange(layer.size),\n",
    "                    last_layer,\n",
    "                    layer,\n",
    "                    facecolor=cs_trans[c[1]],\n",
    "                    lw=0.1,\n",
    "                    edgecolor=(0, 0, 0),\n",
    "                )\n",
    "                c[1] += 1\n",
    "            z -= 1\n",
    "            last_layer = np.copy(layer)\n",
    "\n",
    "        plt.plot(bed, color=\"r\", zorder=N * 2 + 1)\n",
    "        plt.plot([0, 1000], [rsl[i], rsl[i]], \"--\", color=\"k\")\n",
    "\n",
    "        plt.gca().set_xlim([0, layer.size])\n",
    "        plt.gca().set_ylim([ymin, 0])\n",
    "        plt.gca().set_aspect(aspect)\n",
    "        #     plt.gca().set_title('Regression (color) and Transgression (greyscale)\\n with Constant Sed Flux (vertical exaggeration: 100)')\n",
    "        plt.gca().set_title(\"time=\" + str(np.round(otime[i], 2)) + \" years\")\n",
    "        plt.gca().set_ylabel(\"height (m)\")\n",
    "        plt.gca().set_xlabel(\"distance (10x meters)\")\n",
    "        plt.show()\n",
    "        time.sleep(0.01)"
   ]
  },
  {
   "cell_type": "code",
   "execution_count": 28,
   "metadata": {
    "slideshow": {
     "slide_type": "skip"
    }
   },
   "outputs": [
    {
     "data": {
      "application/vnd.jupyter.widget-view+json": {
       "model_id": "40688c932f8d46cea05a3eafd19b8dc3",
       "version_major": 2,
       "version_minor": 0
      },
      "text/plain": [
       "  0%|          | 0/200001 [00:00<?, ?it/s]"
      ]
     },
     "metadata": {},
     "output_type": "display_data"
    }
   ],
   "source": [
    "dt = .01\n",
    "total_time = 2000\n",
    "base_level_rise=5\n",
    "\n",
    "model = Diffuse1D(length=10000, spacing=10, tstep=dt, left=10, right=-200, K=1e2)\n",
    "xt = np.linspace(0, 10000, 10000)\n",
    "\n",
    "model.set_baselevel(xt, -10 * np.sin(xt * 3e-2) + base_level_rise / (total_time) * xt - 25)\n",
    "\n",
    "beds = []\n",
    "otime = []\n",
    "rsl = []\n",
    "# plt.plot(model.u)\n",
    "\n",
    "beds.append(model.u)\n",
    "otime.append(model.time)\n",
    "rsl.append(model.base_level)\n",
    "\n",
    "\n",
    "pbar = tqdm(range(int(total_time / dt)+1))\n",
    "for k in pbar:\n",
    "    model.run_step()\n",
    "    #     model.set_left(model.base_level+10)\n",
    "    if k % 2000 == 0:\n",
    "        pbar.set_description(\"Processing year %s\" % np.round(model.time, 1))\n",
    "        beds.append(model.u)\n",
    "        otime.append(model.time)\n",
    "        rsl.append(model.base_level)"
   ]
  },
  {
   "cell_type": "code",
   "execution_count": null,
   "metadata": {
    "slideshow": {
     "slide_type": "skip"
    }
   },
   "outputs": [],
   "source": [
    "x_ran = np.linspace(0,total_time,len(pbar))\n",
    "plt.plot(x_ran,model.base_level_fun(x_ran))\n",
    "plt.gca().set_xlabel('Time (years)')\n",
    "plt.gca().set_ylabel('Base level')"
   ]
  },
  {
   "cell_type": "code",
   "execution_count": null,
   "metadata": {
    "slideshow": {
     "slide_type": "skip"
    }
   },
   "outputs": [],
   "source": [
    "animate_beds(beds=beds,otime=otime,rsl=rsl,aspect=5, ymin=-100)"
   ]
  },
  {
   "cell_type": "code",
   "execution_count": null,
   "metadata": {
    "slideshow": {
     "slide_type": "skip"
    }
   },
   "outputs": [],
   "source": []
  }
 ],
 "metadata": {
  "celltoolbar": "Slideshow",
  "kernelspec": {
   "display_name": "Python 3",
   "language": "python",
   "name": "python3"
  },
  "language_info": {
   "codemirror_mode": {
    "name": "ipython",
    "version": 3
   },
   "file_extension": ".py",
   "mimetype": "text/x-python",
   "name": "python",
   "nbconvert_exporter": "python",
   "pygments_lexer": "ipython3",
   "version": "3.9.1"
  },
  "rise": {
   "chalkboard": {
    "chalkEffect": 1,
    "chalkWidth": 7,
    "color": [
     "rgb(200,47,62)",
     "rgb(200,47,62)"
    ],
    "readOnly": false,
    "src": "Lecture1.json",
    "theme": "whiteboard"
   },
   "enable_chalkboard": true,
   "transition": "fade"
  },
  "toc": {
   "base_numbering": 1,
   "nav_menu": {
    "height": "229px",
    "width": "213px"
   },
   "number_sections": false,
   "sideBar": true,
   "skip_h1_title": false,
   "title_cell": "Table of Contents",
   "title_sidebar": "Contents",
   "toc_cell": false,
   "toc_position": {
    "height": "calc(100% - 180px)",
    "left": "10px",
    "top": "150px",
    "width": "426.667px"
   },
   "toc_section_display": true,
   "toc_window_display": false
  },
  "toc-autonumbering": true,
  "toc-showcode": false,
  "toc-showmarkdowntxt": false,
  "toc-showtags": false
 },
 "nbformat": 4,
 "nbformat_minor": 4
}
