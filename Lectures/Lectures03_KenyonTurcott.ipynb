{
 "cells": [
  {
   "cell_type": "code",
   "execution_count": null,
   "metadata": {
    "slideshow": {
     "slide_type": "skip"
    }
   },
   "outputs": [],
   "source": [
    "Lecture 3: Discussion of Kenyon and Turcotte (1985)"
   ]
  },
  {
   "cell_type": "code",
   "execution_count": 2,
   "metadata": {
    "slideshow": {
     "slide_type": "skip"
    }
   },
   "outputs": [
    {
     "name": "stdout",
     "output_type": "stream",
     "text": [
      "Loading page http://localhost:8888/notebooks/Lectures03_KenyonTurcott.ipynb?token=5937d7ea442aade7dc27bf992142d25f4863f0a71809c743 ...\n",
      "\u001b[38;2;255;165;0mactions\u001b[39m \u001b[38;2;255;165;0mjupyter-notebook:find-and-replace\u001b[39m \u001b[38;2;255;165;0mdoes not exist, still binding it in case it will be defined later...\u001b[39m\n",
      "\u001b[90mload_extensions\u001b[39m \u001b[90m{\u001b[39m\n",
      "\u001b[90m  '0': 'nbextensions_configurator/config_menu/main',\u001b[39m\n",
      "\u001b[90m  '1': 'contrib_nbextensions_help_item/main',\u001b[39m\n",
      "\u001b[90m  '2': 'rise/main',\u001b[39m\n",
      "\u001b[90m  '3': 'jupyter-js-widgets/extension',\u001b[39m\n",
      "\u001b[90m  '4': 'jupyter-black-master/jupyter-black',\u001b[39m\n",
      "\u001b[90m  '5': 'toc2/main',\u001b[39m\n",
      "\u001b[90m  '6': 'hide_code/hide_code',\u001b[39m\n",
      "\u001b[90m  '7': 'hide_input/main',\u001b[39m\n",
      "\u001b[90m  '8': 'codefolding/main',\u001b[39m\n",
      "\u001b[90m  '9': 'splitcell/splitcell'\u001b[39m\n",
      "\u001b[90m}\u001b[39m\n",
      "\u001b[90mLoaded moment locale\u001b[39m \u001b[90men-gb\u001b[39m\n",
      "\u001b[31mFailed to load resource: the server responded with a status of 404 (Not Found)\u001b[39m\n",
      "\u001b[90mHTML Sanitizer\u001b[39m \u001b[90mdiv.style changed\u001b[39m \u001b[90m{\u001b[39m\n",
      "\u001b[90m  change: 'changed',\u001b[39m\n",
      "\u001b[90m  tagName: 'div',\u001b[39m\n",
      "\u001b[90m  attribName: 'style',\u001b[39m\n",
      "\u001b[90m  oldValue: 'height:50vh;',\u001b[39m\n",
      "\u001b[90m  newValue: 'height: 50vh'\u001b[39m\n",
      "\u001b[90m}\u001b[39m\n",
      "\u001b[90mHTML Sanitizer\u001b[39m \u001b[90mimg.style changed\u001b[39m \u001b[90m{\u001b[39m\n",
      "\u001b[90m  change: 'changed',\u001b[39m\n",
      "\u001b[90m  tagName: 'img',\u001b[39m\n",
      "\u001b[90m  attribName: 'style',\u001b[39m\n",
      "\u001b[90m  oldValue: 'height:50vh',\u001b[39m\n",
      "\u001b[90m  newValue: 'height: 50vh'\u001b[39m\n",
      "\u001b[90m}\u001b[39m\n",
      "\u001b[90mHTML Sanitizer\u001b[39m \u001b[90mdiv.style changed\u001b[39m \u001b[90m{\u001b[39m\n",
      "\u001b[90m  change: 'changed',\u001b[39m\n",
      "\u001b[90m  tagName: 'div',\u001b[39m\n",
      "\u001b[90m  attribName: 'style',\u001b[39m\n",
      "\u001b[90m  oldValue: 'font-size:25px',\u001b[39m\n",
      "\u001b[90m  newValue: 'font-size: 25px'\u001b[39m\n",
      "\u001b[90m}\u001b[39m\n",
      "\u001b[90mHTML Sanitizer\u001b[39m \u001b[90mspan.style changed\u001b[39m \u001b[90m{\u001b[39m\n",
      "\u001b[90m  change: 'changed',\u001b[39m\n",
      "\u001b[90m  tagName: 'span',\u001b[39m\n",
      "\u001b[90m  attribName: 'style',\u001b[39m\n",
      "\u001b[90m  oldValue: 'color:blue',\u001b[39m\n",
      "\u001b[90m  newValue: 'color: blue'\u001b[39m\n",
      "\u001b[90m}\u001b[39m\n",
      "\u001b[90mHTML Sanitizer\u001b[39m \u001b[90mspan.style changed\u001b[39m \u001b[90m{\u001b[39m\n",
      "\u001b[90m  change: 'changed',\u001b[39m\n",
      "\u001b[90m  tagName: 'span',\u001b[39m\n",
      "\u001b[90m  attribName: 'style',\u001b[39m\n",
      "\u001b[90m  oldValue: 'color:red',\u001b[39m\n",
      "\u001b[90m  newValue: 'color: red'\u001b[39m\n",
      "\u001b[90m}\u001b[39m\n",
      "\u001b[90mHTML Sanitizer\u001b[39m \u001b[90mspan.style changed\u001b[39m \u001b[90m{\u001b[39m\n",
      "\u001b[90m  change: 'changed',\u001b[39m\n",
      "\u001b[90m  tagName: 'span',\u001b[39m\n",
      "\u001b[90m  attribName: 'style',\u001b[39m\n",
      "\u001b[90m  oldValue: 'color:blue',\u001b[39m\n",
      "\u001b[90m  newValue: 'color: blue'\u001b[39m\n",
      "\u001b[90m}\u001b[39m\n",
      "\u001b[90mHTML Sanitizer\u001b[39m \u001b[90mdiv.style changed\u001b[39m \u001b[90m{\u001b[39m\n",
      "\u001b[90m  change: 'changed',\u001b[39m\n",
      "\u001b[90m  tagName: 'div',\u001b[39m\n",
      "\u001b[90m  attribName: 'style',\u001b[39m\n",
      "\u001b[90m  oldValue: 'height:60vh;',\u001b[39m\n",
      "\u001b[90m  newValue: 'height: 60vh'\u001b[39m\n",
      "\u001b[90m}\u001b[39m\n",
      "\u001b[90mHTML Sanitizer\u001b[39m \u001b[90mimg.style changed\u001b[39m \u001b[90m{\u001b[39m\n",
      "\u001b[90m  change: 'changed',\u001b[39m\n",
      "\u001b[90m  tagName: 'img',\u001b[39m\n",
      "\u001b[90m  attribName: 'style',\u001b[39m\n",
      "\u001b[90m  oldValue: 'height:60vh',\u001b[39m\n",
      "\u001b[90m  newValue: 'height: 60vh'\u001b[39m\n",
      "\u001b[90m}\u001b[39m\n",
      "\u001b[90mHTML Sanitizer\u001b[39m \u001b[90mspan.style changed\u001b[39m \u001b[90m{\u001b[39m\n",
      "\u001b[90m  change: 'changed',\u001b[39m\n",
      "\u001b[90m  tagName: 'span',\u001b[39m\n",
      "\u001b[90m  attribName: 'style',\u001b[39m\n",
      "\u001b[90m  oldValue: 'color:blue',\u001b[39m\n",
      "\u001b[90m  newValue: 'color: blue'\u001b[39m\n",
      "\u001b[90m}\u001b[39m\n",
      "\u001b[90mHTML Sanitizer\u001b[39m \u001b[90mdiv.style changed\u001b[39m \u001b[90m{\u001b[39m\n",
      "\u001b[90m  change: 'changed',\u001b[39m\n",
      "\u001b[90m  tagName: 'div',\u001b[39m\n",
      "\u001b[90m  attribName: 'style',\u001b[39m\n",
      "\u001b[90m  oldValue: 'width:50wh;',\u001b[39m\n",
      "\u001b[90m  newValue: 'width: 50wh'\u001b[39m\n",
      "\u001b[90m}\u001b[39m\n",
      "\u001b[90mHTML Sanitizer\u001b[39m \u001b[90mimg.style changed\u001b[39m \u001b[90m{\u001b[39m\n",
      "\u001b[90m  change: 'changed',\u001b[39m\n",
      "\u001b[90m  tagName: 'img',\u001b[39m\n",
      "\u001b[90m  attribName: 'style',\u001b[39m\n",
      "\u001b[90m  oldValue: 'width:50wh',\u001b[39m\n",
      "\u001b[90m  newValue: 'width: 50wh'\u001b[39m\n",
      "\u001b[90m}\u001b[39m\n",
      "\u001b[90mHTML Sanitizer\u001b[39m \u001b[90mspan.style changed\u001b[39m \u001b[90m{\u001b[39m\n",
      "\u001b[90m  change: 'changed',\u001b[39m\n",
      "\u001b[90m  tagName: 'span',\u001b[39m\n",
      "\u001b[90m  attribName: 'style',\u001b[39m\n",
      "\u001b[90m  oldValue: 'color:red',\u001b[39m\n",
      "\u001b[90m  newValue: 'color: red'\u001b[39m\n",
      "\u001b[90m}\u001b[39m\n",
      "\u001b[90mHTML Sanitizer\u001b[39m \u001b[90mdiv.style changed\u001b[39m \u001b[90m{\u001b[39m\n",
      "\u001b[90m  change: 'changed',\u001b[39m\n",
      "\u001b[90m  tagName: 'div',\u001b[39m\n",
      "\u001b[90m  attribName: 'style',\u001b[39m\n",
      "\u001b[90m  oldValue: 'height:20vh;',\u001b[39m\n",
      "\u001b[90m  newValue: 'height: 20vh'\u001b[39m\n",
      "\u001b[90m}\u001b[39m\n",
      "\u001b[90mHTML Sanitizer\u001b[39m \u001b[90mspan.style changed\u001b[39m \u001b[90m{\u001b[39m\n",
      "\u001b[90m  change: 'changed',\u001b[39m\n",
      "\u001b[90m  tagName: 'span',\u001b[39m\n",
      "\u001b[90m  attribName: 'style',\u001b[39m\n",
      "\u001b[90m  oldValue: 'color:red',\u001b[39m\n",
      "\u001b[90m  newValue: 'color: red'\u001b[39m\n",
      "\u001b[90m}\u001b[39m\n",
      "\u001b[90mHTML Sanitizer\u001b[39m \u001b[90mdiv.style changed\u001b[39m \u001b[90m{\u001b[39m\n",
      "\u001b[90m  change: 'changed',\u001b[39m\n",
      "\u001b[90m  tagName: 'div',\u001b[39m\n",
      "\u001b[90m  attribName: 'style',\u001b[39m\n",
      "\u001b[90m  oldValue: 'height:80vh;',\u001b[39m\n",
      "\u001b[90m  newValue: 'height: 80vh'\u001b[39m\n",
      "\u001b[90m}\u001b[39m\n",
      "\u001b[90mHTML Sanitizer\u001b[39m \u001b[90mimg.style changed\u001b[39m \u001b[90m{\u001b[39m\n",
      "\u001b[90m  change: 'changed',\u001b[39m\n",
      "\u001b[90m  tagName: 'img',\u001b[39m\n",
      "\u001b[90m  attribName: 'style',\u001b[39m\n",
      "\u001b[90m  oldValue: 'height:80vh',\u001b[39m\n",
      "\u001b[90m  newValue: 'height: 80vh'\u001b[39m\n",
      "\u001b[90m}\u001b[39m\n",
      "\u001b[90mHTML Sanitizer\u001b[39m \u001b[90mspan.style changed\u001b[39m \u001b[90m{\u001b[39m\n",
      "\u001b[90m  change: 'changed',\u001b[39m\n",
      "\u001b[90m  tagName: 'span',\u001b[39m\n",
      "\u001b[90m  attribName: 'style',\u001b[39m\n",
      "\u001b[90m  oldValue: 'color:blue',\u001b[39m\n",
      "\u001b[90m  newValue: 'color: blue'\u001b[39m\n",
      "\u001b[90m}\u001b[39m\n",
      "\u001b[90mHTML Sanitizer\u001b[39m \u001b[90mdiv.style changed\u001b[39m \u001b[90m{\u001b[39m\n",
      "\u001b[90m  change: 'changed',\u001b[39m\n",
      "\u001b[90m  tagName: 'div',\u001b[39m\n",
      "\u001b[90m  attribName: 'style',\u001b[39m\n",
      "\u001b[90m  oldValue: 'height:25vh;',\u001b[39m\n",
      "\u001b[90m  newValue: 'height: 25vh'\u001b[39m\n",
      "\u001b[90m}\u001b[39m\n",
      "\u001b[90mHTML Sanitizer\u001b[39m \u001b[90mspan.style changed\u001b[39m \u001b[90m{\u001b[39m\n",
      "\u001b[90m  change: 'changed',\u001b[39m\n",
      "\u001b[90m  tagName: 'span',\u001b[39m\n",
      "\u001b[90m  attribName: 'style',\u001b[39m\n",
      "\u001b[90m  oldValue: 'color:blue',\u001b[39m\n",
      "\u001b[90m  newValue: 'color: blue'\u001b[39m\n",
      "\u001b[90m}\u001b[39m\n",
      "\u001b[90mHTML Sanitizer\u001b[39m \u001b[90mdiv.style changed\u001b[39m \u001b[90m{\u001b[39m\n",
      "\u001b[90m  change: 'changed',\u001b[39m\n",
      "\u001b[90m  tagName: 'div',\u001b[39m\n",
      "\u001b[90m  attribName: 'style',\u001b[39m\n",
      "\u001b[90m  oldValue: 'height:5vh;',\u001b[39m\n",
      "\u001b[90m  newValue: 'height: 5vh'\u001b[39m\n",
      "\u001b[90m}\u001b[39m\n",
      "\u001b[90mHTML Sanitizer\u001b[39m \u001b[90mspan.style changed\u001b[39m \u001b[90m{\u001b[39m\n",
      "\u001b[90m  change: 'changed',\u001b[39m\n",
      "\u001b[90m  tagName: 'span',\u001b[39m\n",
      "\u001b[90m  attribName: 'style',\u001b[39m\n",
      "\u001b[90m  oldValue: 'color:red',\u001b[39m\n",
      "\u001b[90m  newValue: 'color: red'\u001b[39m\n",
      "\u001b[90m}\u001b[39m\n",
      "\u001b[90mHTML Sanitizer\u001b[39m \u001b[90mdiv.style changed\u001b[39m \u001b[90m{\u001b[39m\n",
      "\u001b[90m  change: 'changed',\u001b[39m\n",
      "\u001b[90m  tagName: 'div',\u001b[39m\n",
      "\u001b[90m  attribName: 'style',\u001b[39m\n",
      "\u001b[90m  oldValue: 'height:1vh;',\u001b[39m\n",
      "\u001b[90m  newValue: 'height: 1vh'\u001b[39m\n",
      "\u001b[90m}\u001b[39m\n",
      "\u001b[90mHTML Sanitizer\u001b[39m \u001b[90mdiv.style changed\u001b[39m \u001b[90m{\u001b[39m\n",
      "\u001b[90m  change: 'changed',\u001b[39m\n",
      "\u001b[90m  tagName: 'div',\u001b[39m\n",
      "\u001b[90m  attribName: 'style',\u001b[39m\n",
      "\u001b[90m  oldValue: 'height:10vh;',\u001b[39m\n",
      "\u001b[90m  newValue: 'height: 10vh'\u001b[39m\n",
      "\u001b[90m}\u001b[39m\n",
      "\u001b[90mHTML Sanitizer\u001b[39m \u001b[90mspan.style changed\u001b[39m \u001b[90m{\u001b[39m\n",
      "\u001b[90m  change: 'changed',\u001b[39m\n",
      "\u001b[90m  tagName: 'span',\u001b[39m\n",
      "\u001b[90m  attribName: 'style',\u001b[39m\n",
      "\u001b[90m  oldValue: 'color:blue',\u001b[39m\n",
      "\u001b[90m  newValue: 'color: blue'\u001b[39m\n",
      "\u001b[90m}\u001b[39m\n",
      "\u001b[90mHTML Sanitizer\u001b[39m \u001b[90mdiv.style changed\u001b[39m \u001b[90m{\u001b[39m\n",
      "\u001b[90m  change: 'changed',\u001b[39m\n",
      "\u001b[90m  tagName: 'div',\u001b[39m\n",
      "\u001b[90m  attribName: 'style',\u001b[39m\n",
      "\u001b[90m  oldValue: 'height:35vh;',\u001b[39m\n",
      "\u001b[90m  newValue: 'height: 35vh'\u001b[39m\n",
      "\u001b[90m}\u001b[39m\n",
      "\u001b[90mHTML Sanitizer\u001b[39m \u001b[90mspan.style changed\u001b[39m \u001b[90m{\u001b[39m\n",
      "\u001b[90m  change: 'changed',\u001b[39m\n",
      "\u001b[90m  tagName: 'span',\u001b[39m\n",
      "\u001b[90m  attribName: 'style',\u001b[39m\n",
      "\u001b[90m  oldValue: 'color:red',\u001b[39m\n",
      "\u001b[90m  newValue: 'color: red'\u001b[39m\n",
      "\u001b[90m}\u001b[39m\n",
      "\u001b[90mHTML Sanitizer\u001b[39m \u001b[90mdiv.style changed\u001b[39m \u001b[90m{\u001b[39m\n",
      "\u001b[90m  change: 'changed',\u001b[39m\n",
      "\u001b[90m  tagName: 'div',\u001b[39m\n",
      "\u001b[90m  attribName: 'style',\u001b[39m\n",
      "\u001b[90m  oldValue: 'height:25vh;',\u001b[39m\n",
      "\u001b[90m  newValue: 'height: 25vh'\u001b[39m\n",
      "\u001b[90m}\u001b[39m\n",
      "\u001b[90mHTML Sanitizer\u001b[39m \u001b[90mspan.style changed\u001b[39m \u001b[90m{\u001b[39m\n",
      "\u001b[90m  change: 'changed',\u001b[39m\n",
      "\u001b[90m  tagName: 'span',\u001b[39m\n",
      "\u001b[90m  attribName: 'style',\u001b[39m\n",
      "\u001b[90m  oldValue: 'color:blue',\u001b[39m\n",
      "\u001b[90m  newValue: 'color: blue'\u001b[39m\n",
      "\u001b[90m}\u001b[39m\n",
      "\u001b[90mHTML Sanitizer\u001b[39m \u001b[90mdiv.style changed\u001b[39m \u001b[90m{\u001b[39m\n",
      "\u001b[90m  change: 'changed',\u001b[39m\n",
      "\u001b[90m  tagName: 'div',\u001b[39m\n",
      "\u001b[90m  attribName: 'style',\u001b[39m\n",
      "\u001b[90m  oldValue: 'height:33vh;',\u001b[39m\n",
      "\u001b[90m  newValue: 'height: 33vh'\u001b[39m\n",
      "\u001b[90m}\u001b[39m\n",
      "\u001b[90mHTML Sanitizer\u001b[39m \u001b[90mspan.style changed\u001b[39m \u001b[90m{\u001b[39m\n",
      "\u001b[90m  change: 'changed',\u001b[39m\n",
      "\u001b[90m  tagName: 'span',\u001b[39m\n",
      "\u001b[90m  attribName: 'style',\u001b[39m\n",
      "\u001b[90m  oldValue: 'color:blue',\u001b[39m\n",
      "\u001b[90m  newValue: 'color: blue'\u001b[39m\n",
      "\u001b[90m}\u001b[39m\n",
      "\u001b[90mHTML Sanitizer\u001b[39m \u001b[90mdiv.style changed\u001b[39m \u001b[90m{\u001b[39m\n",
      "\u001b[90m  change: 'changed',\u001b[39m\n",
      "\u001b[90m  tagName: 'div',\u001b[39m\n",
      "\u001b[90m  attribName: 'style',\u001b[39m\n",
      "\u001b[90m  oldValue: 'height:28vh;',\u001b[39m\n",
      "\u001b[90m  newValue: 'height: 28vh'\u001b[39m\n",
      "\u001b[90m}\u001b[39m\n",
      "\u001b[90mHTML Sanitizer\u001b[39m \u001b[90mspan.style changed\u001b[39m \u001b[90m{\u001b[39m\n",
      "\u001b[90m  change: 'changed',\u001b[39m\n",
      "\u001b[90m  tagName: 'span',\u001b[39m\n",
      "\u001b[90m  attribName: 'style',\u001b[39m\n",
      "\u001b[90m  oldValue: 'color:red',\u001b[39m\n",
      "\u001b[90m  newValue: 'color: red'\u001b[39m\n",
      "\u001b[90m}\u001b[39m\n",
      "\u001b[90mHTML Sanitizer\u001b[39m \u001b[90mdiv.style changed\u001b[39m \u001b[90m{\u001b[39m\n",
      "\u001b[90m  change: 'changed',\u001b[39m\n",
      "\u001b[90m  tagName: 'div',\u001b[39m\n",
      "\u001b[90m  attribName: 'style',\u001b[39m\n",
      "\u001b[90m  oldValue: 'height:20vh;',\u001b[39m\n",
      "\u001b[90m  newValue: 'height: 20vh'\u001b[39m\n",
      "\u001b[90m}\u001b[39m\n",
      "\u001b[90mHTML Sanitizer\u001b[39m \u001b[90mspan.style changed\u001b[39m \u001b[90m{\u001b[39m\n",
      "\u001b[90m  change: 'changed',\u001b[39m\n",
      "\u001b[90m  tagName: 'span',\u001b[39m\n",
      "\u001b[90m  attribName: 'style',\u001b[39m\n",
      "\u001b[90m  oldValue: 'color:red',\u001b[39m\n",
      "\u001b[90m  newValue: 'color: red'\u001b[39m\n",
      "\u001b[90m}\u001b[39m\n",
      "\u001b[90mHTML Sanitizer\u001b[39m \u001b[90mdiv.style changed\u001b[39m \u001b[90m{\u001b[39m\n",
      "\u001b[90m  change: 'changed',\u001b[39m\n",
      "\u001b[90m  tagName: 'div',\u001b[39m\n",
      "\u001b[90m  attribName: 'style',\u001b[39m\n",
      "\u001b[90m  oldValue: 'height:40vh;',\u001b[39m\n",
      "\u001b[90m  newValue: 'height: 40vh'\u001b[39m\n",
      "\u001b[90m}\u001b[39m\n",
      "\u001b[90mHTML Sanitizer\u001b[39m \u001b[90mspan.style changed\u001b[39m \u001b[90m{\u001b[39m\n",
      "\u001b[90m  change: 'changed',\u001b[39m\n",
      "\u001b[90m  tagName: 'span',\u001b[39m\n",
      "\u001b[90m  attribName: 'style',\u001b[39m\n",
      "\u001b[90m  oldValue: 'color:blue',\u001b[39m\n",
      "\u001b[90m  newValue: 'color: blue'\u001b[39m\n",
      "\u001b[90m}\u001b[39m\n",
      "\u001b[90mHTML Sanitizer\u001b[39m \u001b[90mdiv.style changed\u001b[39m \u001b[90m{\u001b[39m\n",
      "\u001b[90m  change: 'changed',\u001b[39m\n",
      "\u001b[90m  tagName: 'div',\u001b[39m\n",
      "\u001b[90m  attribName: 'style',\u001b[39m\n",
      "\u001b[90m  oldValue: 'height:1vh;',\u001b[39m\n",
      "\u001b[90m  newValue: 'height: 1vh'\u001b[39m\n",
      "\u001b[90m}\u001b[39m\n",
      "\u001b[90mHTML Sanitizer\u001b[39m \u001b[90mdiv.style changed\u001b[39m \u001b[90m{\u001b[39m\n",
      "\u001b[90m  change: 'changed',\u001b[39m\n",
      "\u001b[90m  tagName: 'div',\u001b[39m\n",
      "\u001b[90m  attribName: 'style',\u001b[39m\n",
      "\u001b[90m  oldValue: 'height:1vh;',\u001b[39m\n",
      "\u001b[90m  newValue: 'height: 1vh'\u001b[39m\n",
      "\u001b[90m}\u001b[39m\n",
      "\u001b[90mHTML Sanitizer\u001b[39m \u001b[90mdiv.style changed\u001b[39m \u001b[90m{\u001b[39m\n",
      "\u001b[90m  change: 'changed',\u001b[39m\n",
      "\u001b[90m  tagName: 'div',\u001b[39m\n",
      "\u001b[90m  attribName: 'style',\u001b[39m\n",
      "\u001b[90m  oldValue: 'height:10vh;',\u001b[39m\n",
      "\u001b[90m  newValue: 'height: 10vh'\u001b[39m\n",
      "\u001b[90m}\u001b[39m\n",
      "\u001b[90mHTML Sanitizer\u001b[39m \u001b[90mspan.style changed\u001b[39m \u001b[90m{\u001b[39m\n",
      "\u001b[90m  change: 'changed',\u001b[39m\n",
      "\u001b[90m  tagName: 'span',\u001b[39m\n",
      "\u001b[90m  attribName: 'style',\u001b[39m\n",
      "\u001b[90m  oldValue: 'color:blue',\u001b[39m\n",
      "\u001b[90m  newValue: 'color: blue'\u001b[39m\n",
      "\u001b[90m}\u001b[39m\n",
      "\u001b[90mHTML Sanitizer\u001b[39m \u001b[90mp.style changed\u001b[39m \u001b[90m{\u001b[39m\n",
      "\u001b[90m  change: 'changed',\u001b[39m\n",
      "\u001b[90m  tagName: 'p',\u001b[39m\n",
      "\u001b[90m  attribName: 'style',\u001b[39m\n",
      "\u001b[90m  oldValue: 'font-size:.9em',\u001b[39m\n",
      "\u001b[90m  newValue: 'font-size: 0.9em'\u001b[39m\n",
      "\u001b[90m}\u001b[39m\n",
      "\u001b[90mHTML Sanitizer\u001b[39m \u001b[90mdiv.style changed\u001b[39m \u001b[90m{\u001b[39m\n",
      "\u001b[90m  change: 'changed',\u001b[39m\n",
      "\u001b[90m  tagName: 'div',\u001b[39m\n",
      "\u001b[90m  attribName: 'style',\u001b[39m\n",
      "\u001b[90m  oldValue: 'height:35vh',\u001b[39m\n",
      "\u001b[90m  newValue: 'height: 35vh'\u001b[39m\n",
      "\u001b[90m}\u001b[39m\n",
      "\u001b[90mHTML Sanitizer\u001b[39m \u001b[90mimg.style changed\u001b[39m \u001b[90m{\u001b[39m\n",
      "\u001b[90m  change: 'changed',\u001b[39m\n",
      "\u001b[90m  tagName: 'img',\u001b[39m\n",
      "\u001b[90m  attribName: 'style',\u001b[39m\n",
      "\u001b[90m  oldValue: 'height:35vh',\u001b[39m\n",
      "\u001b[90m  newValue: 'height: 35vh'\u001b[39m\n",
      "\u001b[90m}\u001b[39m\n",
      "\u001b[90mHTML Sanitizer\u001b[39m \u001b[90mspan.style changed\u001b[39m \u001b[90m{\u001b[39m\n",
      "\u001b[90m  change: 'changed',\u001b[39m\n",
      "\u001b[90m  tagName: 'span',\u001b[39m\n",
      "\u001b[90m  attribName: 'style',\u001b[39m\n",
      "\u001b[90m  oldValue: 'color:blue',\u001b[39m\n",
      "\u001b[90m  newValue: 'color: blue'\u001b[39m\n",
      "\u001b[90m}\u001b[39m\n",
      "\u001b[90mHTML Sanitizer\u001b[39m \u001b[90mdiv.style changed\u001b[39m \u001b[90m{\u001b[39m\n",
      "\u001b[90m  change: 'changed',\u001b[39m\n",
      "\u001b[90m  tagName: 'div',\u001b[39m\n",
      "\u001b[90m  attribName: 'style',\u001b[39m\n",
      "\u001b[90m  oldValue: 'height:45vh;',\u001b[39m\n",
      "\u001b[90m  newValue: 'height: 45vh'\u001b[39m\n",
      "\u001b[90m}\u001b[39m\n",
      "\u001b[90mHTML Sanitizer\u001b[39m \u001b[90mdiv.style changed\u001b[39m \u001b[90m{\u001b[39m\n",
      "\u001b[90m  change: 'changed',\u001b[39m\n",
      "\u001b[90m  tagName: 'div',\u001b[39m\n",
      "\u001b[90m  attribName: 'style',\u001b[39m\n",
      "\u001b[90m  oldValue: 'height:20vh;',\u001b[39m\n",
      "\u001b[90m  newValue: 'height: 20vh'\u001b[39m\n",
      "\u001b[90m}\u001b[39m\n"
     ]
    },
    {
     "name": "stdout",
     "output_type": "stream",
     "text": [
      "\u001b[90mSession: kernel_created (b3733758-947a-49a9-98c3-d80029a03f08)\u001b[39m\n",
      "\u001b[90mStarting WebSockets:\u001b[39m \u001b[90mws://localhost:8888/api/kernels/e1cfcc93-56bf-4e14-ba31-db066942439b\u001b[39m\n",
      "\u001b[31mFailed to load extension:\u001b[39m \u001b[31m[ 'nbextensions/hide_code/hide_code' ]\u001b[39m \u001b[31m{\u001b[39m\n",
      "\u001b[31m  requireType: 'scripterror',\u001b[39m\n",
      "\u001b[31m  requireModules: [ 'nbextensions/hide_code/hide_code' ],\u001b[39m\n",
      "\u001b[31m  originalError: { isTrusted: true }\u001b[39m\n",
      "\u001b[31m}\u001b[39m\n",
      "\u001b[90mLoading extension: nbextensions_configurator/config_menu/main\u001b[39m\n",
      "\u001b[90mLoading extension: contrib_nbextensions_help_item/main\u001b[39m\n",
      "\u001b[90mLoading extension: rise/main\u001b[39m\n",
      "\u001b[90mLoading extension: hide_input/main\u001b[39m\n",
      "\u001b[90mLoading extension: splitcell/splitcell\u001b[39m\n",
      "\u001b[90mKernel: kernel_connected (e1cfcc93-56bf-4e14-ba31-db066942439b)\u001b[39m\n",
      "\u001b[90mLoading extension: jupyter-js-widgets/extension\u001b[39m\n",
      "\u001b[31mFailed to load resource: the server responded with a status of 404 (Not Found)\u001b[39m\n",
      "\u001b[38;2;255;165;0mWidgets are not available.  Please install widgetsnbextension or ipywidgets 4.0\u001b[39m\n",
      "\u001b[90mLoading extension: jupyter-black-master/jupyter-black\u001b[39m\n",
      "\u001b[90mLoading extension: toc2/main\u001b[39m\n",
      "\u001b[90m[toc2] Notebook fully loaded -- toc2 initialized \u001b[39m\n",
      "\u001b[90mLoading extension: codefolding/main\u001b[39m\n",
      "\u001b[31mAccess to font at 'about:blank' from origin 'http://localhost:8888' has been blocked by CORS policy: Cross origin requests are only supported for protocol schemes: http, data, chrome, chrome-untrusted, https.\u001b[39m\n",
      "\n",
      "\u001b[38;2;255;165;0mUnable to load resource from URL: about:blank\u001b[39m\n",
      "\u001b[31mFailed to load resource: net::ERR_FAILED\u001b[39m\n",
      "\u001b[90mCodefolding: Wait for\u001b[39m \u001b[90m1000\u001b[39m \u001b[90mms\u001b[39m\n",
      "Loading page finished with status: \u001b[33m200\u001b[39m\n",
      "\u001b[36m\u001b[1mRISE\u001b[22m\u001b[39m\u001b[36m plugin activated\u001b[39m\n",
      "\u001b[31mRefused to apply style from 'http://localhost:8888/notebooks/Lectures03_KenyonTurcott.css' because its MIME type ('text/html') is not a supported stylesheet MIME type, and strict MIME checking is enabled.\u001b[39m\n",
      "\u001b[31mFailed to load resource: the server responded with a status of 404 (Not Found)\u001b[39m\n",
      "\u001b[38;2;255;165;0mFailed to get file 2023_chalkboard.json. ReadyState: 4, Status: 404\u001b[39m\n",
      "Printing slide #/slide-13-0 (23/19) ...\u001b[32m\u001b[39m\n",
      "\u001b[32mPrinted \u001b[39m\u001b[32m\u001b[1m23\u001b[22m\u001b[39m\u001b[32m slides\u001b[39m\n"
     ]
    }
   ],
   "source": [
    "nb_list = !jupyter notebook list\n",
    "server = [l for l in nb_list if 'eos423' in l][0].split(' :: ')[0]\n",
    "prefix = server.split('?')[0]\n",
    "token = server.split('?')[1]\n",
    "notebook = 'Lectures03_KenyonTurcott.ipynb'\n",
    "url = prefix+'notebooks/'+notebook+'?'+token\n",
    "!decktape -s '1920x1080' rise $url pdf_slides/Lectures03_KenyonTurcott.pdf"
   ]
  },
  {
   "cell_type": "markdown",
   "metadata": {
    "slideshow": {
     "slide_type": "slide"
    }
   },
   "source": [
    "# Lecture 3: Discussion of *Kenyon and Turcotte (1985)*\n",
    "<center>\n",
    "    <div style='height:50vh;'>\n",
    "\t    <img src=\"images/kenyon_intro.jpg\" style='height:50vh'>\n",
    "    </div>\n",
    "</center>\n"
   ]
  },
  {
   "cell_type": "markdown",
   "metadata": {
    "slideshow": {
     "slide_type": "-"
    }
   },
   "source": [
    "<div style='font-size:25px'> <i>We acknowledge and respect the lək̓ʷəŋən peoples on whose traditional territory the university stands and the Songhees, Esquimalt and W̱SÁNE&#262; peoples whose historical relationships with the land continue to this day.</i></div>"
   ]
  },
  {
   "cell_type": "markdown",
   "metadata": {
    "slideshow": {
     "slide_type": "slide"
    }
   },
   "source": [
    "# Lecture 3: Discussion of *Kenyon and Turcotte (1985)*\n",
    "- working pairs will be selected at random to lead discussion on different parts of the paper\n",
    "- you can use the board to talk through concepts\n",
    "- if a slide heading is in <span style=\"color:blue\">blue</span>, then the picked group should take the lead (esp. questions in **bold**)\n",
    "- if a slide heading is in <span style=\"color:red\">red</span>, then I will take the lead\n",
    "- sections to be discussed:\n",
    "    - Introduction and Motivation *(or, why was this paper written)?*\n",
    "    - Setting-up the model: applying the diffusion equation *(why is this an appropriate approach?)*\n",
    "    - Making the model: getting to an equation for delta morphology\n",
    "    - Using the model: comparing to real world\n",
    "    "
   ]
  },
  {
   "cell_type": "code",
   "execution_count": null,
   "metadata": {
    "slideshow": {
     "slide_type": "-"
    }
   },
   "outputs": [],
   "source": [
    "import random\n",
    "def pick_group(class_list):\n",
    "    if len(class_list)>0:\n",
    "        picked=random.sample(class_list,2)\n",
    "        [class_list.remove(p) for p in picked]\n",
    "        print(' and '.join(picked))\n",
    "    else:\n",
    "        picked=[]\n",
    "    return class_list,picked"
   ]
  },
  {
   "cell_type": "markdown",
   "metadata": {
    "slideshow": {
     "slide_type": "slide"
    }
   },
   "source": [
    "# <span style=\"color:blue\">Introduction and motivation</span>\n",
    "**What is being shown here, and how does it relate to the paper topic?**\n",
    "<center>\n",
    "    <div style='height:60vh;'>\n",
    "\t    <img src=\"images/gilbert.png\" style='height:60vh'>\n",
    "    </div>\n",
    "</center>\n"
   ]
  },
  {
   "cell_type": "markdown",
   "metadata": {
    "slideshow": {
     "slide_type": "notes"
    }
   },
   "source": [
    "- foresets, predominantly bedload, lying at angle of repose\n",
    "- grade into bottom sets, suspended load\n",
    "- two different processes, actions of individual particles\n",
    "- but real deltas often much shallower than angle or repose\n",
    "- also hard to tell difference between bottom sets and fore sets"
   ]
  },
  {
   "cell_type": "code",
   "execution_count": null,
   "metadata": {
    "slideshow": {
     "slide_type": "-"
    }
   },
   "outputs": [],
   "source": [
    "class_list = ['Kai','Stacey','Grace','Liam','Matteo','Matthew','Noa','Izzy','Felix','Rhys','Andrea','Kristyn']\n",
    "class_list,picked=pick_group(class_list)"
   ]
  },
  {
   "cell_type": "markdown",
   "metadata": {
    "slideshow": {
     "slide_type": "subslide"
    }
   },
   "source": [
    "# <span style=\"color:blue\"> Introduction and motivation </span>\n",
    "**This cartoon shows the model set-up. What are the assumptions, and how does it relate to a Gilbert-type delta?**\n",
    "<center>\n",
    "    <div style='width:50wh;'>\n",
    "\t    <img src=\"images/kenyon_cartoon.png\" style='width:50wh'>\n",
    "    </div>\n",
    "</center>\n"
   ]
  },
  {
   "cell_type": "markdown",
   "metadata": {
    "slideshow": {
     "slide_type": "notes"
    }
   },
   "source": [
    "- sediment moves downslope from landward edge of delta from creep and landslides\n",
    "- bulk sediment movement = diffusion\n",
    "- variable slope, one process\n",
    "- in the model, delta progrades at rate $u_0$, but the shape remains unchanged"
   ]
  },
  {
   "cell_type": "code",
   "execution_count": null,
   "metadata": {
    "slideshow": {
     "slide_type": "-"
    }
   },
   "outputs": [],
   "source": [
    "print(' and '.join(picked))"
   ]
  },
  {
   "cell_type": "markdown",
   "metadata": {
    "slideshow": {
     "slide_type": "subslide"
    }
   },
   "source": [
    "# <span style=\"color:red\">Introduction and motivation</span>\n",
    "**some key passages from the paper:**\n",
    "- \"*Recently, a number of papers have pointed out the prevalence of bulk-sediment movements, such as **creep** and **landslides**, on the subaqueous portions of large deltas (and in other subaqueous environments), as opposed to the movements of individual particles stressed by Gilbert.*\"\n",
    "- \"*In subaerial environments, the geomorphic forms characteristic of sediment transport by bulk motion, and in particular by creep, differ substantially from those developed by the sliding of individual particles down a slope lying at the angle of repose (Carson and Kirkby, 1972). This difference occurs because, in landforms governed by bulk sediment movement, slope is variable and adjusts to produce the rate of transport necessary to accommodate a given supply of sediment. In contrast, in landforms governed by angle of repose, slope is fixed, and the transport rate adjusts to maintain the slope. As yet, the consequences of this difference have not been considered for subaqueous features such as deltas.*\"\n",
    "\n",
    "<center>\n",
    "    <div style='height:20vh;'>\n",
    "\t    <p>\n",
    "    </div>\n",
    "</center>"
   ]
  },
  {
   "cell_type": "markdown",
   "metadata": {
    "slideshow": {
     "slide_type": "subslide"
    }
   },
   "source": [
    "# <span style=\"color:red\">Introduction and motivation</span>\n",
    "<center>\n",
    "    <div style='height:80vh;'>\n",
    "\t    <img src=\"images/bed_suspended_load.png\" style='height:80vh'>\n",
    "    </div>\n",
    "</center>"
   ]
  },
  {
   "cell_type": "markdown",
   "metadata": {
    "slideshow": {
     "slide_type": "notes"
    }
   },
   "source": [
    "- just a quick reminder of what was being referred to with bedload vs. suspended load"
   ]
  },
  {
   "cell_type": "markdown",
   "metadata": {
    "slideshow": {
     "slide_type": "subslide"
    }
   },
   "source": [
    "# <span style=\"color:blue\"> Setting-up the model: creep </span>\n",
    "Now, let's start building the model, starting with a way to model creep. The authors introduce this equation:\n",
    "\n",
    "$\\begin{equation}\n",
    "\\dfrac{\\partial h}{\\partial t} = - \\dfrac{\\partial S}{\\partial x}\n",
    "\\tag{equation 2}\n",
    "\\end{equation}$\n",
    "\n",
    "**In words, what is this equation saying?**"
   ]
  },
  {
   "cell_type": "code",
   "execution_count": null,
   "metadata": {
    "slideshow": {
     "slide_type": "-"
    }
   },
   "outputs": [],
   "source": [
    "class_list,picked=pick_group(class_list)"
   ]
  },
  {
   "cell_type": "markdown",
   "metadata": {
    "slideshow": {
     "slide_type": "fragment"
    }
   },
   "source": [
    "<center>\n",
    "    <div style='height:25vh;'>\n",
    "\t    <p>\n",
    "    </div>\n",
    "</center>\n",
    "<center>\n",
    "Equation 2 is the <b>continuity equation</b>, and <i>\"expresses the law of conservation of mass and, neglecting compaction, should be valid for any of the bulk-transport processes we are considering.\"</i>\n",
    "</center>"
   ]
  },
  {
   "cell_type": "markdown",
   "metadata": {
    "slideshow": {
     "slide_type": "slide"
    }
   },
   "source": [
    "# <span style=\"color:blue\"> Setting-up the model: creep </span>\n",
    "Next, the authors introduced this equation:\n",
    "\n",
    "$\\begin{equation}\n",
    "S = - D \\dfrac{\\partial h}{\\partial x}\n",
    "\\tag{equation 3}\n",
    "\\end{equation}$\n",
    "\n",
    "**In words, what is this equation saying?**"
   ]
  },
  {
   "cell_type": "code",
   "execution_count": null,
   "metadata": {
    "slideshow": {
     "slide_type": "-"
    }
   },
   "outputs": [],
   "source": [
    "print(' and '.join(picked))"
   ]
  },
  {
   "cell_type": "markdown",
   "metadata": {
    "slideshow": {
     "slide_type": "fragment"
    }
   },
   "source": [
    "<center>\n",
    "    <div style='height:5vh;'>\n",
    "\t    <p>\n",
    "    </div>\n",
    "</center>\n",
    "\n",
    "\"*In theoretical geomorphology, equation 3 is derived by considering the downslope bias introduced by gravity into the random motions of soil particles induced*\"\n",
    "\n",
    "|**subaerial:** | **subaqeuous:** |\n",
    "| :-- | --: |\n",
    "|  freeze-thaw, bioturbation | bioturbation, movement by waves|"
   ]
  },
  {
   "cell_type": "markdown",
   "metadata": {
    "slideshow": {
     "slide_type": "subslide"
    }
   },
   "source": [
    "# <span style=\"color:red\"> Setting-up the model: creep </span>\n",
    "**Just like we saw in lecture yesterday, if we take the derivative of equation 3 with respect to x:**\n",
    "<center>\n",
    "    <div style='height:1vh;'>\n",
    "        <p>\n",
    "    </div>\n",
    "    $\\begin{align}\n",
    "    S &=& - D \\dfrac{\\partial h}{\\partial x} \\tag{equation 3}\\\\\n",
    "    \\dfrac{\\partial S}{\\partial x} &=& \\dfrac{\\partial}{\\partial x}\\Big(-D\\dfrac{\\partial h}{\\partial x}\\Big) \\\\\n",
    "    \\dfrac{\\partial S}{\\partial x} &=& -D\\dfrac{\\partial^2 h}{\\partial x^2} \\\\\n",
    "    \\end{align}$\n",
    "</center>\n",
    "<center>\n",
    "    <div style='height:10vh;'>\n",
    "\t    <p>\n",
    "    </div>\n",
    "</center>\n",
    "\n",
    "**We can now combine with equation 2:**\n",
    "$\\begin{align}\n",
    "\\dfrac{\\partial h}{\\partial t} &=& - \\dfrac{\\partial S}{\\partial x} \\tag{equation 2}\\\\\n",
    "\\dfrac{\\partial h}{\\partial t} &=& D\\dfrac{\\partial^2 h}{\\partial x^2} \\tag{the diffusion equation}\n",
    "\\end{align}$"
   ]
  },
  {
   "cell_type": "markdown",
   "metadata": {
    "slideshow": {
     "slide_type": "slide"
    }
   },
   "source": [
    "# <span style='color:blue'>Setting-up the model: landslides</span>\n",
    "**Okay, so then what about landslides? What is this equation saying, and how do we relate it to diffusion?**\n",
    "\n",
    "$\\begin{equation}\n",
    "\\tau_d = \\rho g z ~ sin (\\beta)\n",
    "\\tag{equation 4}\n",
    "\\end{equation}$"
   ]
  },
  {
   "cell_type": "code",
   "execution_count": null,
   "metadata": {
    "slideshow": {
     "slide_type": "-"
    }
   },
   "outputs": [],
   "source": [
    "class_list,picked=pick_group(class_list)"
   ]
  },
  {
   "cell_type": "markdown",
   "metadata": {
    "slideshow": {
     "slide_type": "notes"
    }
   },
   "source": [
    "- at low slope angles (like we encounter in deltas, $\\sim$4$^{\\circ}$), we can say $sin (\\beta) \\approx tan (\\beta)$\n",
    "- $\\tau_d$ is the driving force for landslides\n",
    "- $tan (\\beta)$ = $\\dfrac{\\Delta h}{\\Delta x}$ = $\\dfrac{\\partial h}{\\partial x}$\n",
    "- so we can say that $\\tau_d \\propto \\dfrac{\\partial h}{\\partial x}$, which makes a *diffusive flux*\n",
    "- in the term, $\\rho gz$, $z$ measures depth to failure (i.e., from the surface). So, $\\rho gz$ is the gravitational force from overlying slab of wet sediment that fails. This slab imparts a shear force $\\tau_d$ on the failure surface"
   ]
  },
  {
   "cell_type": "markdown",
   "metadata": {
    "slideshow": {
     "slide_type": "fragment"
    }
   },
   "source": [
    "<center>\n",
    "    <div style='height:35vh;'>\n",
    "\t    <p>\n",
    "    </div>\n",
    "</center>\n",
    "<center>\n",
    "at low slope angles (like we encounter in deltas, $\\sim$4$^{\\circ}$), we can say $sin (\\beta) \\approx tan (\\beta)$\n",
    "    </center>"
   ]
  },
  {
   "cell_type": "markdown",
   "metadata": {
    "slideshow": {
     "slide_type": "slide"
    }
   },
   "source": [
    "# <span style=\"color:red\">Setting-up the model: creep and landslides</span>\n",
    "**now we have all the parts needed:**\n",
    "$\\begin{align}\n",
    "S_L &=& - C \\dfrac{\\partial h}{\\partial x} \\tag{equation 7}\\\\\n",
    "\\dfrac{\\partial h}{\\partial t} &=& C\\dfrac{\\partial^2 h}{\\partial x^2}\\tag{equation 8}\\\\\n",
    "\\dfrac{\\partial h}{\\partial t} &=& (C + D)\\dfrac{\\partial^2 h}{\\partial x^2} \\tag{equation 9}\\\\\n",
    "\\dfrac{\\partial h}{\\partial t} &=& K\\dfrac{\\partial^2 h}{\\partial x^2} \\tag{equation 10}\n",
    "\\end{align}$\n",
    "<center>\n",
    "    <div style='height:25vh;'>\n",
    "\t    <p>\n",
    "    </div>\n",
    "</center>"
   ]
  },
  {
   "cell_type": "markdown",
   "metadata": {
    "slideshow": {
     "slide_type": "slide"
    }
   },
   "source": [
    "# <span style=\"color:blue\">Making the model: getting to an equation for delta morphology</span>\n",
    "**To get to an analytical (h(x,t) = ...) solution for equation 10, we need to introduce some new variables. What are they?**\n",
    "$\\begin{align}\n",
    "\\xi &=& x - u_0 t \\tag{equation 11}\\\\\n",
    "t' &=& t \\tag{equation 12}\\\\\n",
    "\\end{align}$"
   ]
  },
  {
   "cell_type": "code",
   "execution_count": null,
   "metadata": {
    "slideshow": {
     "slide_type": "-"
    }
   },
   "outputs": [],
   "source": [
    "class_list,picked=pick_group(class_list)"
   ]
  },
  {
   "cell_type": "markdown",
   "metadata": {
    "slideshow": {
     "slide_type": "notes"
    }
   },
   "source": [
    "- t' is more conceptual - a statement that *we are in a moving reference frame*\n",
    "\n",
    "- **JMH notes specific to 9-18-2020 lecture:**\n",
    "    - We made it to this slide, with discussion lead by students\n",
    "    - clear that the math is challenging - it is good to go over it!\n",
    "    - made it through 11 slides / sub-slides in 50 minutes, still have 5 to go.\n",
    "    - one, however, is quite open-ended $\\rightarrow$ discussion of data-model comparisons."
   ]
  },
  {
   "cell_type": "markdown",
   "metadata": {
    "slideshow": {
     "slide_type": "fragment"
    }
   },
   "source": [
    "<center>\n",
    "    <div style='height:33vh;'>\n",
    "\t    <p>\n",
    "    </div>\n",
    "</center>\n",
    "<left>\n",
    "<div align='right'>\n",
    "<i>\"An analytic solution of equation 10 for steady progradation can be obtained in a coordinate system moving with the landward edge of the delta front\"</i>\n",
    "</div>"
   ]
  },
  {
   "cell_type": "markdown",
   "metadata": {
    "slideshow": {
     "slide_type": "slide"
    }
   },
   "source": [
    "# <span style=\"color:blue\">Making the model: getting to an equation for delta morphology</span>\n",
    "**How are these new variables used in these new equalities?**\n",
    "$\\begin{align}\n",
    "\\dfrac{\\partial h}{\\partial x}&=&\\dfrac{\\partial h}{\\partial \\xi} \\tag{equation 13}\\\\\n",
    "\\dfrac{\\partial h}{\\partial t}&=&\\dfrac{\\partial h}{\\partial t'} - u_0\\dfrac{\\partial h}{\\partial \\xi} \\tag{equation 14}\\\\\n",
    "\\dfrac{\\partial h}{\\partial t'} &=& 0 \\tag{equation 16}\\\\\n",
    "\\end{align}$\n",
    "<center>\n",
    "    <div style='height:28vh;'>\n",
    "\t    <p>\n",
    "    </div>\n",
    "</center>"
   ]
  },
  {
   "cell_type": "code",
   "execution_count": null,
   "metadata": {
    "slideshow": {
     "slide_type": "-"
    }
   },
   "outputs": [],
   "source": [
    "class_list,picked=pick_group(class_list)"
   ]
  },
  {
   "cell_type": "markdown",
   "metadata": {
    "slideshow": {
     "slide_type": "slide"
    }
   },
   "source": [
    "# <span style=\"color:red\">Making the model: getting to an equation for delta morphology</span>\n",
    "**How are these new variables used in these new equalities?**\n",
    "$\\begin{align}\n",
    "\\dfrac{\\partial h}{\\partial x}&=&\\dfrac{\\partial h}{\\partial \\xi} \\tag{equation 13}\\\\\n",
    "\\dfrac{\\partial h}{\\partial t}&=&\\dfrac{\\partial h}{\\partial t'} - u_0\\dfrac{\\partial h}{\\partial \\xi} \\tag{equation 14}\\\\\n",
    "\\dfrac{\\partial h}{\\partial t'} &=& 0 \\tag{equation 16}\\\\\n",
    "\\dfrac{\\partial h}{\\partial t'} - u_0 \\dfrac{\\partial h}{\\partial \\xi} &=& K \\dfrac{\\partial^2 h}{\\partial \\xi^2} \\tag{equation 15}\\\\\n",
    "0 &=& \\dfrac{\\partial^2 h}{\\partial \\xi^2} + \\dfrac{u_0}{K} \\dfrac{\\partial h}{\\partial \\xi} \\tag{equation 17}\n",
    "\\end{align}$\n",
    "<center>\n",
    "    <div style='height:20vh;'>\n",
    "\t    <p>\n",
    "    </div>\n",
    "</center>"
   ]
  },
  {
   "cell_type": "markdown",
   "metadata": {
    "slideshow": {
     "slide_type": "slide"
    }
   },
   "source": [
    "# <span style=\"color:red\"> Making the model: getting to an equation for delta morphology</span>\n",
    "because we are ONLY differentiating with respect to $\\xi$, we can express equation 17 as an ordinary differential equation ($\\partial \\rightarrow d$):\n",
    "$\\begin{equation}\n",
    "0 = \\dfrac{d^2 h}{d \\xi^2} + \\dfrac{u_0}{K} \\dfrac{d h}{d \\xi} \\tag{equation 17}\\\\\n",
    "\\end{equation}$\n",
    "this equation has the general form: \n",
    "\n",
    "<center>\n",
    "    $0 = y'' + Cy'$\n",
    "    <div style='height:40vh;'>\n",
    "\t    <p>\n",
    "    </div>\n",
    "</center>"
   ]
  },
  {
   "cell_type": "markdown",
   "metadata": {
    "slideshow": {
     "slide_type": "slide"
    }
   },
   "source": [
    "# <span style=\"color:blue\"> Using the model: comparing to real world </span>\n",
    "combined with the restraint that $h = h_0$ at the top of the delta, we now have an equation that predicts how the height of the delta changes with increasing distance into the basin:\n",
    "\n",
    "<center>\n",
    "    <div style='height:1vh;'>\n",
    "    <p>\n",
    "    </div>\n",
    "        $\\begin{equation}\n",
    "        h(x,t) = h_0 e^{-\\frac{u_0}{K} (x - u_0 t)}\n",
    "        \\end{equation}$\n",
    "</center>\n",
    "\n",
    "but to better facilitate data-model comparisons, it is helpful to consider the delta front slope:\n",
    "\n",
    "<center>\n",
    "    <div style='height:1vh;'>\n",
    "    <p>\n",
    "    </div>\n",
    "        $\\begin{equation}\n",
    "        \\dfrac{\\partial h}{\\partial x} = \\dfrac{-u_0 h}{K}~~~~\\rightarrow~~~~~ K = \\dfrac{-u_0 h}{(\\partial h/\\partial x)}\n",
    "        \\end{equation}$\n",
    "</center>\n",
    "\n",
    "**Why is the above equation useful, and what can be done with it?**\n"
   ]
  },
  {
   "cell_type": "markdown",
   "metadata": {
    "slideshow": {
     "slide_type": "notes"
    }
   },
   "source": [
    "- with bathmyetry data and progradation estimates, you can estimate K\n",
    "- use K to predict full delta profile"
   ]
  },
  {
   "cell_type": "code",
   "execution_count": null,
   "metadata": {
    "slideshow": {
     "slide_type": "-"
    }
   },
   "outputs": [],
   "source": [
    "class_list,picked=pick_group(class_list)"
   ]
  },
  {
   "cell_type": "markdown",
   "metadata": {
    "slideshow": {
     "slide_type": "-"
    }
   },
   "source": [
    "<center>\n",
    "    <div style='height:10vh;'>\n",
    "\t    <p>\n",
    "    </div>\n",
    "</center>"
   ]
  },
  {
   "cell_type": "markdown",
   "metadata": {
    "slideshow": {
     "slide_type": "slide"
    }
   },
   "source": [
    "### <span style=\"color:blue\"> Using the model: comparing to real world </span><br>\n",
    "<p style='font-size:.9em'>However, constraining $u_0$ for real deltas is rather tricky <strong>(why?)</strong>. By constrast, constraining the time-averaged volumetric sediment ($Q$) to a delta is more tractable. If we consider a span of time $t_0$, the volume of sediment added is given by the shaded region in the figure below. This volume can be calculated as:</p>\n",
    "<center>\n",
    "        $\\begin{equation}\n",
    "        Qt_0 = h_0u_0t_0 ~~~~\\rightarrow~~~~~ u_0 = \\dfrac{Q}{h_0}\n",
    "        \\end{equation}$\n",
    "</center><br>\n",
    "<strong>Why are the above equalities correct? (hint: no complicated integral calculus is required)</strong><br>\n",
    "<div style='height:35vh'>\n",
    "    <img src=\"images/Qt0.png\" style='height:35vh'>\n",
    "</div>"
   ]
  },
  {
   "cell_type": "code",
   "execution_count": null,
   "metadata": {
    "slideshow": {
     "slide_type": "-"
    }
   },
   "outputs": [],
   "source": [
    "print(' and '.join(picked))"
   ]
  },
  {
   "cell_type": "markdown",
   "metadata": {
    "slideshow": {
     "slide_type": "slide"
    }
   },
   "source": [
    "# <span style=\"color:blue\"> Using the model: comparing to real world </span>\n",
    "**So how did this model compare to real data?** (I can pull up specific figures on the PDF for discussion)"
   ]
  },
  {
   "cell_type": "code",
   "execution_count": null,
   "metadata": {},
   "outputs": [],
   "source": [
    "class_list,picked=pick_group(class_list)"
   ]
  },
  {
   "cell_type": "markdown",
   "metadata": {
    "slideshow": {
     "slide_type": "-"
    }
   },
   "source": [
    "<center>\n",
    "    <div style='height:45vh;'>\n",
    "\t    <p>\n",
    "    </div>\n",
    "</center>\n",
    "\n"
   ]
  },
  {
   "cell_type": "markdown",
   "metadata": {
    "slideshow": {
     "slide_type": "slide"
    }
   },
   "source": [
    "# Assignment 1.1: exploring diffusive deltas\n",
    "This weeks assignment will give you some experience with coding and plotting and further explore the concepts and ideas laid out in *Kenyon and Turcotte (1985)*:\n",
    "\n",
    "- You are not excluded from working with other groups.\n",
    "- Each person will submit their own copy of the assignment\n",
    "- **Assignment due date: January 27, 2023 by 1:30PM, via uploaded PDF to Brightspace**\n",
    "\n",
    "\n",
    "<center>\n",
    "    <div style='height:20vh;'>\n",
    "\t    <p>\n",
    "    </div>\n",
    "</center>"
   ]
  },
  {
   "cell_type": "code",
   "execution_count": null,
   "metadata": {},
   "outputs": [],
   "source": []
  }
 ],
 "metadata": {
  "celltoolbar": "Slideshow",
  "kernelspec": {
   "display_name": "Python 3",
   "language": "python",
   "name": "python3"
  },
  "language_info": {
   "codemirror_mode": {
    "name": "ipython",
    "version": 3
   },
   "file_extension": ".py",
   "mimetype": "text/x-python",
   "name": "python",
   "nbconvert_exporter": "python",
   "pygments_lexer": "ipython3",
   "version": "3.9.1"
  },
  "rise": {
   "chalkboard": {
    "chalkEffect": 1,
    "chalkWidth": 7,
    "color": [
     "rgb(200,47,62)",
     "rgb(200,47,62)"
    ],
    "readOnly": false,
    "src": "2023_chalkboard.json",
    "theme": "whiteboard"
   },
   "enable_chalkboard": true,
   "transition": "fade"
  },
  "toc": {
   "base_numbering": 1,
   "nav_menu": {
    "height": "229px",
    "width": "213px"
   },
   "number_sections": false,
   "sideBar": true,
   "skip_h1_title": false,
   "title_cell": "Table of Contents",
   "title_sidebar": "Contents",
   "toc_cell": false,
   "toc_position": {
    "height": "calc(100% - 180px)",
    "left": "10px",
    "top": "150px",
    "width": "426.667px"
   },
   "toc_section_display": true,
   "toc_window_display": false
  }
 },
 "nbformat": 4,
 "nbformat_minor": 2
}
