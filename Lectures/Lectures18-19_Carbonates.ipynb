{
 "cells": [
  {
   "cell_type": "code",
   "execution_count": 2,
   "metadata": {
    "slideshow": {
     "slide_type": "skip"
    }
   },
   "outputs": [
    {
     "name": "stdout",
     "output_type": "stream",
     "text": [
      "Loading page http://localhost:8889/notebooks/Lectures18-19_Carbonates.ipynb?token=49f7dc8d45ba1a53029e9ddaeba6510c3494670598df50e7 ...\n",
      "\u001b[38;2;255;165;0mactions\u001b[39m \u001b[38;2;255;165;0mjupyter-notebook:find-and-replace\u001b[39m \u001b[38;2;255;165;0mdoes not exist, still binding it in case it will be defined later...\u001b[39m\n",
      "\u001b[90mload_extensions\u001b[39m \u001b[90m{\u001b[39m\n",
      "\u001b[90m  '0': 'nbextensions_configurator/config_menu/main',\u001b[39m\n",
      "\u001b[90m  '1': 'contrib_nbextensions_help_item/main',\u001b[39m\n",
      "\u001b[90m  '2': 'rise/main',\u001b[39m\n",
      "\u001b[90m  '3': 'jupyter-js-widgets/extension',\u001b[39m\n",
      "\u001b[90m  '4': 'jupyter-black-master/jupyter-black',\u001b[39m\n",
      "\u001b[90m  '5': 'toc2/main',\u001b[39m\n",
      "\u001b[90m  '6': 'hide_code/hide_code',\u001b[39m\n",
      "\u001b[90m  '7': 'hide_input/main',\u001b[39m\n",
      "\u001b[90m  '8': 'codefolding/main',\u001b[39m\n",
      "\u001b[90m  '9': 'splitcell/splitcell'\u001b[39m\n",
      "\u001b[90m}\u001b[39m\n",
      "\u001b[90mLoaded moment locale\u001b[39m \u001b[90men-gb\u001b[39m\n",
      "\u001b[31mFailed to load resource: the server responded with a status of 404 (Not Found)\u001b[39m\n",
      "\u001b[90mHTML Sanitizer\u001b[39m \u001b[90mdiv.style changed\u001b[39m \u001b[90m{\u001b[39m\n",
      "\u001b[90m  change: 'changed',\u001b[39m\n",
      "\u001b[90m  tagName: 'div',\u001b[39m\n",
      "\u001b[90m  attribName: 'style',\u001b[39m\n",
      "\u001b[90m  oldValue: 'background: url(images/coral.jpg) 50% 60% no-repeat;\\n' +\u001b[39m\n",
      "\u001b[90m    '  width: 75vw;\\n' +\u001b[39m\n",
      "\u001b[90m    '  height: 30vh; background-size: 100%;',\u001b[39m\n",
      "\u001b[90m  newValue: 'background: url(\"images/coral.jpg\") 50% 60% no-repeat ; width: 75vw ; height: 30vh ; background-size: 100%'\u001b[39m\n",
      "\u001b[90m}\u001b[39m\n",
      "\u001b[90mHTML Sanitizer\u001b[39m \u001b[90mdiv.style changed\u001b[39m \u001b[90m{\u001b[39m\n",
      "\u001b[90m  change: 'changed',\u001b[39m\n",
      "\u001b[90m  tagName: 'div',\u001b[39m\n",
      "\u001b[90m  attribName: 'style',\u001b[39m\n",
      "\u001b[90m  oldValue: 'font-size:25px',\u001b[39m\n",
      "\u001b[90m  newValue: 'font-size: 25px'\u001b[39m\n",
      "\u001b[90m}\u001b[39m\n",
      "\u001b[90mHTML Sanitizer\u001b[39m \u001b[90mdiv.style changed\u001b[39m \u001b[90m{\u001b[39m\n",
      "\u001b[90m  change: 'changed',\u001b[39m\n",
      "\u001b[90m  tagName: 'div',\u001b[39m\n",
      "\u001b[90m  attribName: 'style',\u001b[39m\n",
      "\u001b[90m  oldValue: 'height:40vh;',\u001b[39m\n",
      "\u001b[90m  newValue: 'height: 40vh'\u001b[39m\n",
      "\u001b[90m}\u001b[39m\n",
      "\u001b[90mHTML Sanitizer\u001b[39m \u001b[90mdiv.style changed\u001b[39m \u001b[90m{\u001b[39m\n",
      "\u001b[90m  change: 'changed',\u001b[39m\n",
      "\u001b[90m  tagName: 'div',\u001b[39m\n",
      "\u001b[90m  attribName: 'style',\u001b[39m\n",
      "\u001b[90m  oldValue: 'height:40vh;',\u001b[39m\n",
      "\u001b[90m  newValue: 'height: 40vh'\u001b[39m\n",
      "\u001b[90m}\u001b[39m\n",
      "\u001b[90mHTML Sanitizer\u001b[39m \u001b[90mdiv.style changed\u001b[39m \u001b[90m{\u001b[39m\n",
      "\u001b[90m  change: 'changed',\u001b[39m\n",
      "\u001b[90m  tagName: 'div',\u001b[39m\n",
      "\u001b[90m  attribName: 'style',\u001b[39m\n",
      "\u001b[90m  oldValue: 'height:80vh;',\u001b[39m\n",
      "\u001b[90m  newValue: 'height: 80vh'\u001b[39m\n",
      "\u001b[90m}\u001b[39m\n",
      "\u001b[90mHTML Sanitizer\u001b[39m \u001b[90mimg.style changed\u001b[39m \u001b[90m{\u001b[39m\n",
      "\u001b[90m  change: 'changed',\u001b[39m\n",
      "\u001b[90m  tagName: 'img',\u001b[39m\n",
      "\u001b[90m  attribName: 'style',\u001b[39m\n",
      "\u001b[90m  oldValue: 'height:80vh',\u001b[39m\n",
      "\u001b[90m  newValue: 'height: 80vh'\u001b[39m\n",
      "\u001b[90m}\u001b[39m\n",
      "\u001b[90mHTML Sanitizer\u001b[39m \u001b[90mdiv.style changed\u001b[39m \u001b[90m{\u001b[39m\n",
      "\u001b[90m  change: 'changed',\u001b[39m\n",
      "\u001b[90m  tagName: 'div',\u001b[39m\n",
      "\u001b[90m  attribName: 'style',\u001b[39m\n",
      "\u001b[90m  oldValue: 'height:80vh;',\u001b[39m\n",
      "\u001b[90m  newValue: 'height: 80vh'\u001b[39m\n",
      "\u001b[90m}\u001b[39m\n",
      "\u001b[90mHTML Sanitizer\u001b[39m \u001b[90mimg.style changed\u001b[39m \u001b[90m{\u001b[39m\n",
      "\u001b[90m  change: 'changed',\u001b[39m\n",
      "\u001b[90m  tagName: 'img',\u001b[39m\n",
      "\u001b[90m  attribName: 'style',\u001b[39m\n",
      "\u001b[90m  oldValue: 'height:80vh',\u001b[39m\n",
      "\u001b[90m  newValue: 'height: 80vh'\u001b[39m\n",
      "\u001b[90m}\u001b[39m\n",
      "\u001b[90mHTML Sanitizer\u001b[39m \u001b[90mdiv.style changed\u001b[39m \u001b[90m{\u001b[39m\n",
      "\u001b[90m  change: 'changed',\u001b[39m\n",
      "\u001b[90m  tagName: 'div',\u001b[39m\n",
      "\u001b[90m  attribName: 'style',\u001b[39m\n",
      "\u001b[90m  oldValue: 'height:80vh;',\u001b[39m\n",
      "\u001b[90m  newValue: 'height: 80vh'\u001b[39m\n",
      "\u001b[90m}\u001b[39m\n",
      "\u001b[90mHTML Sanitizer\u001b[39m \u001b[90mimg.style changed\u001b[39m \u001b[90m{\u001b[39m\n",
      "\u001b[90m  change: 'changed',\u001b[39m\n",
      "\u001b[90m  tagName: 'img',\u001b[39m\n",
      "\u001b[90m  attribName: 'style',\u001b[39m\n",
      "\u001b[90m  oldValue: 'height:80vh',\u001b[39m\n",
      "\u001b[90m  newValue: 'height: 80vh'\u001b[39m\n",
      "\u001b[90m}\u001b[39m\n",
      "\u001b[90mHTML Sanitizer\u001b[39m \u001b[90mdiv.style changed\u001b[39m \u001b[90m{\u001b[39m\n",
      "\u001b[90m  change: 'changed',\u001b[39m\n",
      "\u001b[90m  tagName: 'div',\u001b[39m\n",
      "\u001b[90m  attribName: 'style',\u001b[39m\n",
      "\u001b[90m  oldValue: 'height:80vh;',\u001b[39m\n",
      "\u001b[90m  newValue: 'height: 80vh'\u001b[39m\n",
      "\u001b[90m}\u001b[39m\n",
      "\u001b[90mHTML Sanitizer\u001b[39m \u001b[90mimg.style changed\u001b[39m \u001b[90m{\u001b[39m\n",
      "\u001b[90m  change: 'changed',\u001b[39m\n",
      "\u001b[90m  tagName: 'img',\u001b[39m\n",
      "\u001b[90m  attribName: 'style',\u001b[39m\n",
      "\u001b[90m  oldValue: 'height:80vh',\u001b[39m\n",
      "\u001b[90m  newValue: 'height: 80vh'\u001b[39m\n",
      "\u001b[90m}\u001b[39m\n",
      "\u001b[90mHTML Sanitizer\u001b[39m \u001b[90mdiv.style changed\u001b[39m \u001b[90m{\u001b[39m\n",
      "\u001b[90m  change: 'changed',\u001b[39m\n",
      "\u001b[90m  tagName: 'div',\u001b[39m\n",
      "\u001b[90m  attribName: 'style',\u001b[39m\n",
      "\u001b[90m  oldValue: 'height:80vh;',\u001b[39m\n",
      "\u001b[90m  newValue: 'height: 80vh'\u001b[39m\n",
      "\u001b[90m}\u001b[39m\n",
      "\u001b[90mHTML Sanitizer\u001b[39m \u001b[90mimg.style changed\u001b[39m \u001b[90m{\u001b[39m\n",
      "\u001b[90m  change: 'changed',\u001b[39m\n",
      "\u001b[90m  tagName: 'img',\u001b[39m\n",
      "\u001b[90m  attribName: 'style',\u001b[39m\n",
      "\u001b[90m  oldValue: 'height:80vh',\u001b[39m\n",
      "\u001b[90m  newValue: 'height: 80vh'\u001b[39m\n",
      "\u001b[90m}\u001b[39m\n",
      "\u001b[90mHTML Sanitizer\u001b[39m \u001b[90mdiv.style changed\u001b[39m \u001b[90m{\u001b[39m\n",
      "\u001b[90m  change: 'changed',\u001b[39m\n",
      "\u001b[90m  tagName: 'div',\u001b[39m\n",
      "\u001b[90m  attribName: 'style',\u001b[39m\n",
      "\u001b[90m  oldValue: 'height:80vh;',\u001b[39m\n",
      "\u001b[90m  newValue: 'height: 80vh'\u001b[39m\n",
      "\u001b[90m}\u001b[39m\n",
      "\u001b[90mHTML Sanitizer\u001b[39m \u001b[90mimg.style changed\u001b[39m \u001b[90m{\u001b[39m\n",
      "\u001b[90m  change: 'changed',\u001b[39m\n",
      "\u001b[90m  tagName: 'img',\u001b[39m\n",
      "\u001b[90m  attribName: 'style',\u001b[39m\n",
      "\u001b[90m  oldValue: 'height:80vh',\u001b[39m\n",
      "\u001b[90m  newValue: 'height: 80vh'\u001b[39m\n",
      "\u001b[90m}\u001b[39m\n",
      "\u001b[90mHTML Sanitizer\u001b[39m \u001b[90mdiv.style changed\u001b[39m \u001b[90m{\u001b[39m\n",
      "\u001b[90m  change: 'changed',\u001b[39m\n",
      "\u001b[90m  tagName: 'div',\u001b[39m\n",
      "\u001b[90m  attribName: 'style',\u001b[39m\n",
      "\u001b[90m  oldValue: 'height:80vh;',\u001b[39m\n",
      "\u001b[90m  newValue: 'height: 80vh'\u001b[39m\n",
      "\u001b[90m}\u001b[39m\n",
      "\u001b[90mHTML Sanitizer\u001b[39m \u001b[90mimg.style changed\u001b[39m \u001b[90m{\u001b[39m\n",
      "\u001b[90m  change: 'changed',\u001b[39m\n",
      "\u001b[90m  tagName: 'img',\u001b[39m\n",
      "\u001b[90m  attribName: 'style',\u001b[39m\n",
      "\u001b[90m  oldValue: 'height:80vh',\u001b[39m\n",
      "\u001b[90m  newValue: 'height: 80vh'\u001b[39m\n",
      "\u001b[90m}\u001b[39m\n",
      "\u001b[90mHTML Sanitizer\u001b[39m \u001b[90mdiv.style changed\u001b[39m \u001b[90m{\u001b[39m\n",
      "\u001b[90m  change: 'changed',\u001b[39m\n",
      "\u001b[90m  tagName: 'div',\u001b[39m\n",
      "\u001b[90m  attribName: 'style',\u001b[39m\n",
      "\u001b[90m  oldValue: 'height:60vh;',\u001b[39m\n",
      "\u001b[90m  newValue: 'height: 60vh'\u001b[39m\n",
      "\u001b[90m}\u001b[39m\n",
      "\u001b[90mHTML Sanitizer\u001b[39m \u001b[90mimg.style changed\u001b[39m \u001b[90m{\u001b[39m\n",
      "\u001b[90m  change: 'changed',\u001b[39m\n",
      "\u001b[90m  tagName: 'img',\u001b[39m\n",
      "\u001b[90m  attribName: 'style',\u001b[39m\n",
      "\u001b[90m  oldValue: 'width:100vw',\u001b[39m\n",
      "\u001b[90m  newValue: 'width: 100vw'\u001b[39m\n",
      "\u001b[90m}\u001b[39m\n",
      "\u001b[90mHTML Sanitizer\u001b[39m \u001b[90mdiv.style changed\u001b[39m \u001b[90m{\u001b[39m\n",
      "\u001b[90m  change: 'changed',\u001b[39m\n",
      "\u001b[90m  tagName: 'div',\u001b[39m\n",
      "\u001b[90m  attribName: 'style',\u001b[39m\n",
      "\u001b[90m  oldValue: 'height:80vh;',\u001b[39m\n",
      "\u001b[90m  newValue: 'height: 80vh'\u001b[39m\n",
      "\u001b[90m}\u001b[39m\n",
      "\u001b[90mHTML Sanitizer\u001b[39m \u001b[90mimg.style changed\u001b[39m \u001b[90m{\u001b[39m\n",
      "\u001b[90m  change: 'changed',\u001b[39m\n",
      "\u001b[90m  tagName: 'img',\u001b[39m\n",
      "\u001b[90m  attribName: 'style',\u001b[39m\n",
      "\u001b[90m  oldValue: 'height:80vh',\u001b[39m\n",
      "\u001b[90m  newValue: 'height: 80vh'\u001b[39m\n",
      "\u001b[90m}\u001b[39m\n",
      "\u001b[90mHTML Sanitizer\u001b[39m \u001b[90mdiv.style changed\u001b[39m \u001b[90m{\u001b[39m\n",
      "\u001b[90m  change: 'changed',\u001b[39m\n",
      "\u001b[90m  tagName: 'div',\u001b[39m\n",
      "\u001b[90m  attribName: 'style',\u001b[39m\n",
      "\u001b[90m  oldValue: 'height:80vh;',\u001b[39m\n",
      "\u001b[90m  newValue: 'height: 80vh'\u001b[39m\n",
      "\u001b[90m}\u001b[39m\n",
      "\u001b[90mHTML Sanitizer\u001b[39m \u001b[90mimg.style changed\u001b[39m \u001b[90m{\u001b[39m\n",
      "\u001b[90m  change: 'changed',\u001b[39m\n",
      "\u001b[90m  tagName: 'img',\u001b[39m\n",
      "\u001b[90m  attribName: 'style',\u001b[39m\n",
      "\u001b[90m  oldValue: 'height:80vh',\u001b[39m\n",
      "\u001b[90m  newValue: 'height: 80vh'\u001b[39m\n",
      "\u001b[90m}\u001b[39m\n",
      "\u001b[90mHTML Sanitizer\u001b[39m \u001b[90mdiv.style changed\u001b[39m \u001b[90m{\u001b[39m\n",
      "\u001b[90m  change: 'changed',\u001b[39m\n",
      "\u001b[90m  tagName: 'div',\u001b[39m\n",
      "\u001b[90m  attribName: 'style',\u001b[39m\n",
      "\u001b[90m  oldValue: 'height:80vh;',\u001b[39m\n",
      "\u001b[90m  newValue: 'height: 80vh'\u001b[39m\n",
      "\u001b[90m}\u001b[39m\n",
      "\u001b[90mHTML Sanitizer\u001b[39m \u001b[90mimg.style changed\u001b[39m \u001b[90m{\u001b[39m\n",
      "\u001b[90m  change: 'changed',\u001b[39m\n",
      "\u001b[90m  tagName: 'img',\u001b[39m\n",
      "\u001b[90m  attribName: 'style',\u001b[39m\n",
      "\u001b[90m  oldValue: 'height:80vh',\u001b[39m\n",
      "\u001b[90m  newValue: 'height: 80vh'\u001b[39m\n",
      "\u001b[90m}\u001b[39m\n",
      "\u001b[90mHTML Sanitizer\u001b[39m \u001b[90mdiv.style changed\u001b[39m \u001b[90m{\u001b[39m\n",
      "\u001b[90m  change: 'changed',\u001b[39m\n",
      "\u001b[90m  tagName: 'div',\u001b[39m\n",
      "\u001b[90m  attribName: 'style',\u001b[39m\n",
      "\u001b[90m  oldValue: 'height:80vh;',\u001b[39m\n",
      "\u001b[90m  newValue: 'height: 80vh'\u001b[39m\n",
      "\u001b[90m}\u001b[39m\n",
      "\u001b[90mHTML Sanitizer\u001b[39m \u001b[90mimg.style changed\u001b[39m \u001b[90m{\u001b[39m\n",
      "\u001b[90m  change: 'changed',\u001b[39m\n",
      "\u001b[90m  tagName: 'img',\u001b[39m\n",
      "\u001b[90m  attribName: 'style',\u001b[39m\n",
      "\u001b[90m  oldValue: 'height:80vh',\u001b[39m\n",
      "\u001b[90m  newValue: 'height: 80vh'\u001b[39m\n",
      "\u001b[90m}\u001b[39m\n",
      "\u001b[90mHTML Sanitizer\u001b[39m \u001b[90mdiv.style changed\u001b[39m \u001b[90m{\u001b[39m\n",
      "\u001b[90m  change: 'changed',\u001b[39m\n",
      "\u001b[90m  tagName: 'div',\u001b[39m\n",
      "\u001b[90m  attribName: 'style',\u001b[39m\n",
      "\u001b[90m  oldValue: 'height:80vh;',\u001b[39m\n",
      "\u001b[90m  newValue: 'height: 80vh'\u001b[39m\n",
      "\u001b[90m}\u001b[39m\n",
      "\u001b[90mHTML Sanitizer\u001b[39m \u001b[90mimg.style changed\u001b[39m \u001b[90m{\u001b[39m\n",
      "\u001b[90m  change: 'changed',\u001b[39m\n",
      "\u001b[90m  tagName: 'img',\u001b[39m\n",
      "\u001b[90m  attribName: 'style',\u001b[39m\n",
      "\u001b[90m  oldValue: 'width:100vw',\u001b[39m\n",
      "\u001b[90m  newValue: 'width: 100vw'\u001b[39m\n",
      "\u001b[90m}\u001b[39m\n",
      "\u001b[90mHTML Sanitizer\u001b[39m \u001b[90mdiv.style changed\u001b[39m \u001b[90m{\u001b[39m\n",
      "\u001b[90m  change: 'changed',\u001b[39m\n",
      "\u001b[90m  tagName: 'div',\u001b[39m\n",
      "\u001b[90m  attribName: 'style',\u001b[39m\n",
      "\u001b[90m  oldValue: 'height:80vh;',\u001b[39m\n",
      "\u001b[90m  newValue: 'height: 80vh'\u001b[39m\n",
      "\u001b[90m}\u001b[39m\n",
      "\u001b[90mHTML Sanitizer\u001b[39m \u001b[90mimg.style changed\u001b[39m \u001b[90m{\u001b[39m\n",
      "\u001b[90m  change: 'changed',\u001b[39m\n",
      "\u001b[90m  tagName: 'img',\u001b[39m\n",
      "\u001b[90m  attribName: 'style',\u001b[39m\n",
      "\u001b[90m  oldValue: 'height:80vh',\u001b[39m\n",
      "\u001b[90m  newValue: 'height: 80vh'\u001b[39m\n",
      "\u001b[90m}\u001b[39m\n",
      "\u001b[90mHTML Sanitizer\u001b[39m \u001b[90mdiv.style changed\u001b[39m \u001b[90m{\u001b[39m\n",
      "\u001b[90m  change: 'changed',\u001b[39m\n",
      "\u001b[90m  tagName: 'div',\u001b[39m\n",
      "\u001b[90m  attribName: 'style',\u001b[39m\n",
      "\u001b[90m  oldValue: 'height:60vh;',\u001b[39m\n",
      "\u001b[90m  newValue: 'height: 60vh'\u001b[39m\n",
      "\u001b[90m}\u001b[39m\n",
      "\u001b[90mHTML Sanitizer\u001b[39m \u001b[90mimg.style changed\u001b[39m \u001b[90m{\u001b[39m\n",
      "\u001b[90m  change: 'changed',\u001b[39m\n",
      "\u001b[90m  tagName: 'img',\u001b[39m\n",
      "\u001b[90m  attribName: 'style',\u001b[39m\n",
      "\u001b[90m  oldValue: 'height:60vh',\u001b[39m\n",
      "\u001b[90m  newValue: 'height: 60vh'\u001b[39m\n",
      "\u001b[90m}\u001b[39m\n",
      "\u001b[90mHTML Sanitizer\u001b[39m \u001b[90mdiv.style changed\u001b[39m \u001b[90m{\u001b[39m\n",
      "\u001b[90m  change: 'changed',\u001b[39m\n",
      "\u001b[90m  tagName: 'div',\u001b[39m\n",
      "\u001b[90m  attribName: 'style',\u001b[39m\n",
      "\u001b[90m  oldValue: 'height:60vh;',\u001b[39m\n",
      "\u001b[90m  newValue: 'height: 60vh'\u001b[39m\n",
      "\u001b[90m}\u001b[39m\n",
      "\u001b[90mHTML Sanitizer\u001b[39m \u001b[90mimg.style changed\u001b[39m \u001b[90m{\u001b[39m\n",
      "\u001b[90m  change: 'changed',\u001b[39m\n",
      "\u001b[90m  tagName: 'img',\u001b[39m\n",
      "\u001b[90m  attribName: 'style',\u001b[39m\n",
      "\u001b[90m  oldValue: 'height:60vh',\u001b[39m\n",
      "\u001b[90m  newValue: 'height: 60vh'\u001b[39m\n",
      "\u001b[90m}\u001b[39m\n",
      "\u001b[90mHTML Sanitizer\u001b[39m \u001b[90mdiv.style changed\u001b[39m \u001b[90m{\u001b[39m\n",
      "\u001b[90m  change: 'changed',\u001b[39m\n",
      "\u001b[90m  tagName: 'div',\u001b[39m\n",
      "\u001b[90m  attribName: 'style',\u001b[39m\n",
      "\u001b[90m  oldValue: 'height:80vh;',\u001b[39m\n",
      "\u001b[90m  newValue: 'height: 80vh'\u001b[39m\n",
      "\u001b[90m}\u001b[39m\n",
      "\u001b[90mHTML Sanitizer\u001b[39m \u001b[90mimg.style changed\u001b[39m \u001b[90m{\u001b[39m\n",
      "\u001b[90m  change: 'changed',\u001b[39m\n",
      "\u001b[90m  tagName: 'img',\u001b[39m\n",
      "\u001b[90m  attribName: 'style',\u001b[39m\n",
      "\u001b[90m  oldValue: 'height:80vh',\u001b[39m\n",
      "\u001b[90m  newValue: 'height: 80vh'\u001b[39m\n",
      "\u001b[90m}\u001b[39m\n",
      "\u001b[90mHTML Sanitizer\u001b[39m \u001b[90mdiv.style changed\u001b[39m \u001b[90m{\u001b[39m\n",
      "\u001b[90m  change: 'changed',\u001b[39m\n",
      "\u001b[90m  tagName: 'div',\u001b[39m\n",
      "\u001b[90m  attribName: 'style',\u001b[39m\n",
      "\u001b[90m  oldValue: 'height:80vh;',\u001b[39m\n",
      "\u001b[90m  newValue: 'height: 80vh'\u001b[39m\n",
      "\u001b[90m}\u001b[39m\n",
      "\u001b[90mHTML Sanitizer\u001b[39m \u001b[90mimg.style changed\u001b[39m \u001b[90m{\u001b[39m\n",
      "\u001b[90m  change: 'changed',\u001b[39m\n",
      "\u001b[90m  tagName: 'img',\u001b[39m\n",
      "\u001b[90m  attribName: 'style',\u001b[39m\n",
      "\u001b[90m  oldValue: 'height:80vh',\u001b[39m\n",
      "\u001b[90m  newValue: 'height: 80vh'\u001b[39m\n",
      "\u001b[90m}\u001b[39m\n",
      "\u001b[90mHTML Sanitizer\u001b[39m \u001b[90mdiv.style changed\u001b[39m \u001b[90m{\u001b[39m\n",
      "\u001b[90m  change: 'changed',\u001b[39m\n",
      "\u001b[90m  tagName: 'div',\u001b[39m\n",
      "\u001b[90m  attribName: 'style',\u001b[39m\n",
      "\u001b[90m  oldValue: 'height:80vh;',\u001b[39m\n",
      "\u001b[90m  newValue: 'height: 80vh'\u001b[39m\n",
      "\u001b[90m}\u001b[39m\n",
      "\u001b[90mHTML Sanitizer\u001b[39m \u001b[90mimg.style changed\u001b[39m \u001b[90m{\u001b[39m\n",
      "\u001b[90m  change: 'changed',\u001b[39m\n",
      "\u001b[90m  tagName: 'img',\u001b[39m\n",
      "\u001b[90m  attribName: 'style',\u001b[39m\n",
      "\u001b[90m  oldValue: 'height:80vh',\u001b[39m\n",
      "\u001b[90m  newValue: 'height: 80vh'\u001b[39m\n",
      "\u001b[90m}\u001b[39m\n",
      "\u001b[90mHTML Sanitizer\u001b[39m \u001b[90mdiv.style changed\u001b[39m \u001b[90m{\u001b[39m\n",
      "\u001b[90m  change: 'changed',\u001b[39m\n",
      "\u001b[90m  tagName: 'div',\u001b[39m\n",
      "\u001b[90m  attribName: 'style',\u001b[39m\n",
      "\u001b[90m  oldValue: 'height:80vh;',\u001b[39m\n",
      "\u001b[90m  newValue: 'height: 80vh'\u001b[39m\n",
      "\u001b[90m}\u001b[39m\n",
      "\u001b[90mHTML Sanitizer\u001b[39m \u001b[90mimg.style changed\u001b[39m \u001b[90m{\u001b[39m\n",
      "\u001b[90m  change: 'changed',\u001b[39m\n",
      "\u001b[90m  tagName: 'img',\u001b[39m\n",
      "\u001b[90m  attribName: 'style',\u001b[39m\n",
      "\u001b[90m  oldValue: 'height:80vh',\u001b[39m\n",
      "\u001b[90m  newValue: 'height: 80vh'\u001b[39m\n",
      "\u001b[90m}\u001b[39m\n",
      "\u001b[90mHTML Sanitizer\u001b[39m \u001b[90mdiv.style changed\u001b[39m \u001b[90m{\u001b[39m\n",
      "\u001b[90m  change: 'changed',\u001b[39m\n",
      "\u001b[90m  tagName: 'div',\u001b[39m\n",
      "\u001b[90m  attribName: 'style',\u001b[39m\n",
      "\u001b[90m  oldValue: 'height:80vh;',\u001b[39m\n",
      "\u001b[90m  newValue: 'height: 80vh'\u001b[39m\n",
      "\u001b[90m}\u001b[39m\n",
      "\u001b[90mHTML Sanitizer\u001b[39m \u001b[90mimg.style changed\u001b[39m \u001b[90m{\u001b[39m\n",
      "\u001b[90m  change: 'changed',\u001b[39m\n",
      "\u001b[90m  tagName: 'img',\u001b[39m\n",
      "\u001b[90m  attribName: 'style',\u001b[39m\n",
      "\u001b[90m  oldValue: 'height:80vh',\u001b[39m\n",
      "\u001b[90m  newValue: 'height: 80vh'\u001b[39m\n",
      "\u001b[90m}\u001b[39m\n"
     ]
    },
    {
     "name": "stdout",
     "output_type": "stream",
     "text": [
      "\u001b[90mSession: kernel_created (761c8528-0700-4206-bb59-ce200c687789)\u001b[39m\n",
      "\u001b[90mStarting WebSockets:\u001b[39m \u001b[90mws://localhost:8889/api/kernels/c56db251-2dd7-4b35-9334-71880f152f1e\u001b[39m\n",
      "\u001b[31mFailed to load extension:\u001b[39m \u001b[31m[ 'nbextensions/hide_code/hide_code' ]\u001b[39m \u001b[31m{\u001b[39m\n",
      "\u001b[31m  requireType: 'scripterror',\u001b[39m\n",
      "\u001b[31m  requireModules: [ 'nbextensions/hide_code/hide_code' ],\u001b[39m\n",
      "\u001b[31m  originalError: { isTrusted: true }\u001b[39m\n",
      "\u001b[31m}\u001b[39m\n",
      "\u001b[90mLoading extension: rise/main\u001b[39m\n",
      "\u001b[90mLoading extension: nbextensions_configurator/config_menu/main\u001b[39m\n",
      "\u001b[90mLoading extension: contrib_nbextensions_help_item/main\u001b[39m\n",
      "\u001b[90mLoading extension: hide_input/main\u001b[39m\n",
      "\u001b[90mLoading extension: splitcell/splitcell\u001b[39m\n",
      "\u001b[90mKernel: kernel_connected (c56db251-2dd7-4b35-9334-71880f152f1e)\u001b[39m\n",
      "\u001b[90mLoading extension: jupyter-js-widgets/extension\u001b[39m\n",
      "\u001b[90mLoading extension: jupyter-black-master/jupyter-black\u001b[39m\n",
      "\u001b[31mFailed to load resource: the server responded with a status of 404 (Not Found)\u001b[39m\n",
      "\u001b[90mLoading extension: toc2/main\u001b[39m\n",
      "\u001b[90m[toc2] Notebook fully loaded -- toc2 initialized \u001b[39m\n",
      "\u001b[38;2;255;165;0mWidgets are not available.  Please install widgetsnbextension or ipywidgets 4.0\u001b[39m\n",
      "\u001b[90mLoading extension: codefolding/main\u001b[39m\n",
      "Loading page finished with status: \u001b[33m200\u001b[39m\n",
      "\u001b[36m\u001b[1mRISE\u001b[22m\u001b[39m\u001b[36m plugin activated\u001b[39m\n",
      "\u001b[31mRefused to apply style from 'http://localhost:8889/notebooks/rise.css' because its MIME type ('text/html') is not a supported stylesheet MIME type, and strict MIME checking is enabled.\u001b[39m\n",
      "\u001b[31mRefused to apply style from 'http://localhost:8889/notebooks/Lectures18-19_Carbonates.css' because its MIME type ('text/html') is not a supported stylesheet MIME type, and strict MIME checking is enabled.\u001b[39m\n",
      "\u001b[90mCodefolding: Wait for\u001b[39m \u001b[90m1000\u001b[39m \u001b[90mms\u001b[39m\n",
      "\u001b[31mFailed to load resource: the server responded with a status of 404 (Not Found)\u001b[39m\n",
      "\u001b[38;2;255;165;0mFailed to get file carbonates.json. ReadyState: 4, Status: 404\u001b[39m\n",
      "Printing slide #/slide-25-7 (33/33) ...\u001b[32m\u001b[39m\n",
      "\u001b[32mPrinted \u001b[39m\u001b[32m\u001b[1m33\u001b[22m\u001b[39m\u001b[32m slides\u001b[39m\n"
     ]
    }
   ],
   "source": [
    "nb_list = !jupyter notebook list\n",
    "server = [l for l in nb_list if 'EOS423' in l][0].split(' :: ')[0]\n",
    "prefix = server.split('?')[0]\n",
    "token = server.split('?')[1]\n",
    "notebook = 'Lectures18-19_Carbonates.ipynb'\n",
    "url = prefix+'notebooks/'+notebook+'?'+token\n",
    "!decktape -s '1920x1080' rise $url PDF_Slides/2023/Lectures18-19_Carbonates.pdf"
   ]
  },
  {
   "cell_type": "code",
   "execution_count": 83,
   "metadata": {
    "slideshow": {
     "slide_type": "skip"
    }
   },
   "outputs": [],
   "source": [
    "from scipy.linalg import solve_banded\n",
    "from scipy.interpolate import interp1d\n",
    "import numpy as np\n",
    "from tqdm.notebook import tqdm\n",
    "import matplotlib\n",
    "from matplotlib import pyplot as plt\n",
    "from IPython.display import clear_output\n",
    "import seaborn as sns\n",
    "import matplotlib.cm as cm\n",
    "import time\n",
    "\n",
    "from scipy.linalg import solve_banded\n",
    "from scipy.interpolate import interp1d\n",
    "import numpy as np\n",
    "from tqdm.notebook import tqdm #if you dont have tqdm type in your terminal: conda install -c conda-forge tqdm\n",
    "import matplotlib\n",
    "from matplotlib import pyplot as plt\n",
    "import seaborn as sns\n",
    "import matplotlib.cm as cm\n",
    "import time\n",
    "from scipy import signal\n",
    "from scipy.special import comb\n",
    "\n",
    "%matplotlib inline\n"
   ]
  },
  {
   "cell_type": "markdown",
   "metadata": {
    "hide_input": false,
    "slideshow": {
     "slide_type": "slide"
    }
   },
   "source": [
    "<center><div style=\"background: url(images/coral.jpg) 50% 60% no-repeat;\n",
    "  width: 75vw;\n",
    "  height: 30vh; background-size: 100%;\">\n",
    "</div></center>"
   ]
  },
  {
   "cell_type": "markdown",
   "metadata": {
    "slideshow": {
     "slide_type": "-"
    }
   },
   "source": [
    "# Lectures 18-19: Carbonates\n",
    "\n",
    "<div style='font-size:25px'>  \n",
    "   \n",
    "1. Carbon cycle\n",
    "    1. Carbonate Factories\n",
    "        1. T vs C vs M\n",
    "        1. Examples of each\n",
    "        1. Sedimentation rates and growth potential of each\n",
    "    1. Geometry of Carbonate Accumulations\n",
    "    1. Modeling Carbonate Stratigraphy\n",
    "\n",
    "</div>"
   ]
  },
  {
   "cell_type": "markdown",
   "metadata": {
    "slideshow": {
     "slide_type": "slide"
    }
   },
   "source": [
    "Introduction to final assignment concept.\n",
    "<center>\n",
    "    <div style='height:40vh;'>\n",
    "\t    <p> (drawing on board)\n",
    "    </div>\n",
    "</center>\n",
    "\n"
   ]
  },
  {
   "cell_type": "markdown",
   "metadata": {
    "slideshow": {
     "slide_type": "slide"
    }
   },
   "source": [
    "Carbonates, the big picture:\n",
    "<center>\n",
    "    <div style='height:40vh;'>\n",
    "\t    <p> (drawing on board)\n",
    "    </div>\n",
    "</center>\n",
    "\n"
   ]
  },
  {
   "cell_type": "markdown",
   "metadata": {
    "slideshow": {
     "slide_type": "slide"
    }
   },
   "source": [
    "<center>\n",
    "    <div style='height:80vh;'>\n",
    "\t    <img src=\"images/temp_map.jpg\" style='height:80vh'>\n",
    "    </div>\n",
    "</center>"
   ]
  },
  {
   "cell_type": "markdown",
   "metadata": {
    "slideshow": {
     "slide_type": "slide"
    }
   },
   "source": [
    "<center>\n",
    "    <div style='height:80vh;'>\n",
    "\t    <img src=\"images/factories.jpg\" style='height:80vh'>\n",
    "    </div>\n",
    "</center>"
   ]
  },
  {
   "cell_type": "markdown",
   "metadata": {
    "slideshow": {
     "slide_type": "slide"
    }
   },
   "source": [
    "<center>\n",
    "    <div style='height:80vh;'>\n",
    "\t    <img src=\"images/water_depth_factory.jpg\" style='height:80vh'>\n",
    "    </div>\n",
    "</center>"
   ]
  },
  {
   "cell_type": "markdown",
   "metadata": {
    "slideshow": {
     "slide_type": "slide"
    }
   },
   "source": [
    "<center>\n",
    "    <div style='height:80vh;'>\n",
    "\t    <img src=\"images/minerals_factory.jpg\" style='height:80vh'>\n",
    "    </div>\n",
    "</center>"
   ]
  },
  {
   "cell_type": "markdown",
   "metadata": {
    "slideshow": {
     "slide_type": "slide"
    }
   },
   "source": [
    "<center>\n",
    "    <div style='height:80vh;'>\n",
    "\t    <img src=\"images/geometry.jpg\" style='height:80vh'>\n",
    "    </div>\n",
    "</center>"
   ]
  },
  {
   "cell_type": "markdown",
   "metadata": {
    "slideshow": {
     "slide_type": "slide"
    }
   },
   "source": [
    "<center>\n",
    "    <div style='height:80vh;'>\n",
    "\t    <img src=\"images/borabora.jpg\" style='height:80vh'>\n",
    "    </div>\n",
    "</center>"
   ]
  },
  {
   "cell_type": "markdown",
   "metadata": {
    "slideshow": {
     "slide_type": "slide"
    }
   },
   "source": [
    "<center>\n",
    "    <div style='height:80vh;'>\n",
    "\t    <img src=\"images/coral.jpg\" style='height:80vh'>\n",
    "    </div>\n",
    "</center>"
   ]
  },
  {
   "cell_type": "markdown",
   "metadata": {
    "slideshow": {
     "slide_type": "slide"
    }
   },
   "source": [
    "<center>\n",
    "    <div style='height:60vh;'>\n",
    "\t    <img src=\"images/green_algae.jpg\" style='width:100vw'>\n",
    "    </div>\n",
    "</center>"
   ]
  },
  {
   "cell_type": "markdown",
   "metadata": {
    "slideshow": {
     "slide_type": "slide"
    }
   },
   "source": [
    "<center>\n",
    "    <div style='height:80vh;'>\n",
    "\t    <img src=\"images/penicillus.jpg\" style='height:80vh'>\n",
    "    </div>\n",
    "</center>"
   ]
  },
  {
   "cell_type": "markdown",
   "metadata": {
    "slideshow": {
     "slide_type": "slide"
    }
   },
   "source": [
    "<center>\n",
    "    <div style='height:80vh;'>\n",
    "\t    <img src=\"images/red_algae.jpg\" style='height:80vh'>\n",
    "    </div>\n",
    "</center>"
   ]
  },
  {
   "cell_type": "markdown",
   "metadata": {
    "slideshow": {
     "slide_type": "slide"
    }
   },
   "source": [
    "<center>\n",
    "    <div style='height:80vh;'>\n",
    "\t    <img src=\"images/constructional.jpg\" style='height:80vh'>\n",
    "    </div>\n",
    "</center>"
   ]
  },
  {
   "cell_type": "markdown",
   "metadata": {
    "slideshow": {
     "slide_type": "slide"
    }
   },
   "source": [
    "<center>\n",
    "    <div style='height:80vh;'>\n",
    "\t    <img src=\"images/vermetids.jpg\" style='height:80vh'>\n",
    "    </div>\n",
    "</center>"
   ]
  },
  {
   "cell_type": "markdown",
   "metadata": {
    "slideshow": {
     "slide_type": "slide"
    }
   },
   "source": [
    "<center>\n",
    "    <div style='height:80vh;'>\n",
    "\t    <img src=\"images/x_section_reef.jpg\" style='width:100vw'>\n",
    "    </div>\n",
    "</center>"
   ]
  },
  {
   "cell_type": "markdown",
   "metadata": {
    "slideshow": {
     "slide_type": "slide"
    }
   },
   "source": [
    "World Reef Map https://maps.lof.org/lof"
   ]
  },
  {
   "cell_type": "markdown",
   "metadata": {
    "slideshow": {
     "slide_type": "slide"
    }
   },
   "source": [
    "<center>\n",
    "    <div style='height:80vh;'>\n",
    "\t    <img src=\"images/factories.jpg\" style='height:80vh'>\n",
    "    </div>\n",
    "</center>"
   ]
  },
  {
   "cell_type": "markdown",
   "metadata": {
    "slideshow": {
     "slide_type": "slide"
    }
   },
   "source": [
    "<center>\n",
    "    <div style='height:60vh;'>\n",
    "\t    <img src=\"images/bryo1.jpg\" style='height:60vh'>\n",
    "    </div>\n",
    "</center>"
   ]
  },
  {
   "cell_type": "markdown",
   "metadata": {
    "slideshow": {
     "slide_type": "slide"
    }
   },
   "source": [
    "<center>\n",
    "    <div style='height:60vh;'>\n",
    "\t    <img src=\"images/bryo2.jpg\" style='height:60vh'>\n",
    "    </div>\n",
    "</center>"
   ]
  },
  {
   "cell_type": "markdown",
   "metadata": {
    "slideshow": {
     "slide_type": "slide"
    }
   },
   "source": [
    "<center>\n",
    "    <div style='height:80vh;'>\n",
    "\t    <img src=\"images/cool_water.jpg\" style='height:80vh'>\n",
    "    </div>\n",
    "</center>"
   ]
  },
  {
   "cell_type": "markdown",
   "metadata": {
    "slideshow": {
     "slide_type": "slide"
    }
   },
   "source": [
    "<center>\n",
    "    <div style='height:80vh;'>\n",
    "\t    <img src=\"images/mudmounds.jpg\" style='height:80vh'>\n",
    "    </div>\n",
    "</center>"
   ]
  },
  {
   "cell_type": "markdown",
   "metadata": {
    "slideshow": {
     "slide_type": "slide"
    }
   },
   "source": [
    "<center>\n",
    "    <div style='height:80vh;'>\n",
    "\t    <img src=\"images/growth_curve.jpg\" style='height:80vh'>\n",
    "    </div>\n",
    "</center>"
   ]
  },
  {
   "cell_type": "markdown",
   "metadata": {
    "slideshow": {
     "slide_type": "slide"
    }
   },
   "source": [
    "<center>\n",
    "    <div style='height:80vh;'>\n",
    "\t    <img src=\"images/production_depth.jpg\" style='height:80vh'>\n",
    "    </div>\n",
    "</center>"
   ]
  },
  {
   "cell_type": "markdown",
   "metadata": {
    "slideshow": {
     "slide_type": "slide"
    }
   },
   "source": [
    "<center>\n",
    "    <div style='height:80vh;'>\n",
    "\t    <img src=\"images/production.jpg\" style='height:80vh'>\n",
    "    </div>\n",
    "</center>"
   ]
  },
  {
   "cell_type": "code",
   "execution_count": 245,
   "metadata": {
    "slideshow": {
     "slide_type": "slide"
    }
   },
   "outputs": [
    {
     "data": {
      "text/plain": [
       "Text(0, 0.5, 'depth (m)')"
      ]
     },
     "execution_count": 245,
     "metadata": {},
     "output_type": "execute_result"
    },
    {
     "data": {
      "image/png": "[encoded data removed]",
      "text/plain": [
       "<Figure size 432x288 with 1 Axes>"
      ]
     },
     "metadata": {
      "needs_background": "light"
     },
     "output_type": "display_data"
    }
   ],
   "source": [
    "import numpy as np\n",
    "from matplotlib import pyplot as plt\n",
    "%matplotlib inline\n",
    "dz = np.linspace(0,100,1000)\n",
    "extinction_coeff = 0.2\n",
    "light_z = np.exp(-extinction_coeff*dz)\n",
    "plt.plot(light_z,-dz,label='light')\n",
    "light_base=.1\n",
    "production_capacity = 1 \n",
    "production_z = production_capacity * np.tanh(light_z/light_base)\n",
    "plt.plot(production_z,-dz,label='carbonate production')\n",
    "plt.gca().set_ylim([-40,0]); plt.legend(loc='best'); plt.gca().set_ylabel('depth (m)')"
   ]
  },
  {
   "cell_type": "code",
   "execution_count": 246,
   "metadata": {
    "slideshow": {
     "slide_type": "subslide"
    }
   },
   "outputs": [
    {
     "data": {
      "text/plain": [
       "array(0.17302358)"
      ]
     },
     "execution_count": 246,
     "metadata": {},
     "output_type": "execute_result"
    }
   ],
   "source": [
    "from scipy.interpolate import interp1d\n",
    "prod_func = interp1d(dz,production_z,bounds_error=False,fill_value=0)\n",
    "prod_func(20.23412)"
   ]
  },
  {
   "cell_type": "code",
   "execution_count": 247,
   "metadata": {
    "slideshow": {
     "slide_type": "subslide"
    }
   },
   "outputs": [
    {
     "data": {
      "text/plain": [
       "<matplotlib.legend.Legend at 0x7f28c2d73510>"
      ]
     },
     "execution_count": 247,
     "metadata": {},
     "output_type": "execute_result"
    },
    {
     "data": {
      "image/png": "[encoded data removed]",
      "text/plain": [
       "<Figure size 432x288 with 1 Axes>"
      ]
     },
     "metadata": {
      "needs_background": "light"
     },
     "output_type": "display_data"
    }
   ],
   "source": [
    "plt.plot([0,1000],[0,0],label='sea level')\n",
    "dx = np.linspace(0,1000,1000)\n",
    "topography = np.zeros(1000)-200\n",
    "topography[dx>300]=-10\n",
    "topography[dx>700]=-200\n",
    "plt.plot(dx,topography,label='topography')\n",
    "plt.gca().set_ylabel('depth (m)');plt.legend(loc='best',fontsize=10)"
   ]
  },
  {
   "cell_type": "code",
   "execution_count": 248,
   "metadata": {
    "slideshow": {
     "slide_type": "subslide"
    }
   },
   "outputs": [
    {
     "data": {
      "text/plain": [
       "<matplotlib.legend.Legend at 0x7f28c19abc10>"
      ]
     },
     "execution_count": 248,
     "metadata": {},
     "output_type": "execute_result"
    },
    {
     "data": {
      "image/png": "[encoded data removed]",
      "text/plain": [
       "<Figure size 432x288 with 1 Axes>"
      ]
     },
     "metadata": {
      "needs_background": "light"
     },
     "output_type": "display_data"
    }
   ],
   "source": [
    "plt.plot(dx,prod_func(-topography),label='production\\ncapacity')\n",
    "plt.legend(loc='best',fontsize=10)"
   ]
  },
  {
   "cell_type": "code",
   "execution_count": 249,
   "metadata": {
    "slideshow": {
     "slide_type": "subslide"
    }
   },
   "outputs": [
    {
     "data": {
      "text/plain": [
       "[<matplotlib.lines.Line2D at 0x7f28c2db5510>]"
      ]
     },
     "execution_count": 249,
     "metadata": {},
     "output_type": "execute_result"
    },
    {
     "data": {
      "image/png": "[encoded data removed]",
      "text/plain": [
       "<Figure size 432x288 with 1 Axes>"
      ]
     },
     "metadata": {
      "needs_background": "light"
     },
     "output_type": "display_data"
    }
   ],
   "source": [
    "from scipy.signal import gaussian\n",
    "window_size = 50\n",
    "standard_deviation = 10\n",
    "plt.plot(gaussian(1+2*window_size,standard_deviation))"
   ]
  },
  {
   "cell_type": "code",
   "execution_count": 252,
   "metadata": {
    "slideshow": {
     "slide_type": "subslide"
    }
   },
   "outputs": [
    {
     "data": {
      "text/plain": [
       "Text(0, 0.5, 'carbonate\\nproduction')"
      ]
     },
     "execution_count": 252,
     "metadata": {},
     "output_type": "execute_result"
    },
    {
     "data": {
      "image/png": "[encoded data removed]",
      "text/plain": [
       "<Figure size 432x288 with 1 Axes>"
      ]
     },
     "metadata": {
      "needs_background": "light"
     },
     "output_type": "display_data"
    }
   ],
   "source": [
    "restriction = np.convolve(topography,gaussian(1+2*window_size,standard_deviation),mode='valid')\n",
    "restriction -= np.min(restriction)\n",
    "restriction /= 7000 #multiply to scale shelf production\n",
    "productivity = prod_func(-topography)\n",
    "plt.plot(dx,productivity,label='production\\ncapacity')\n",
    "productivity[window_size:-window_size]=productivity[window_size:-window_size]*(1-restriction)\n",
    "plt.plot(dx,productivity,label='production\\ncapacity\\nrestriction')\n",
    "plt.legend(loc='best',fontsize=10); plt.gca().set_ylabel('carbonate\\nproduction')"
   ]
  },
  {
   "cell_type": "code",
   "execution_count": 253,
   "metadata": {
    "slideshow": {
     "slide_type": "skip"
    }
   },
   "outputs": [],
   "source": [
    "r = 1\n",
    "capacity=2\n",
    "N=.5\n",
    "growth_rate = r*N*(1-N/capacity)"
   ]
  },
  {
   "cell_type": "code",
   "execution_count": 269,
   "metadata": {},
   "outputs": [],
   "source": [
    "class Diffuse1D:\n",
    "    def __init__(self, length, spacing, tstep, left, right, K, sed_Q, no_flux_boundary=False):\n",
    "        self.x = np.arange(0, length, spacing)\n",
    "        self.u = (\n",
    "            left - self.x * (left - right) / length\n",
    "        )  # sets initial to steady state solution\n",
    "        N = self.x.size\n",
    "        self.K = K\n",
    "        self.dt = tstep\n",
    "        self.dx = spacing\n",
    "        self.time = 0\n",
    "        self.base_level_fun = interp1d([0, 1], [0, 0], bounds_error=False, fill_value=0)\n",
    "        self.base_level = self.base_level_fun(self.time)\n",
    "        self.sed_Q = sed_Q / spacing  # not sure if spacing is correct here\n",
    "        self.left = left\n",
    "        self.right = right\n",
    "        self.r = self.K * (self.dt / (2 * self.dx ** 2))\n",
    "        self.no_flux_boundary = no_flux_boundary\n",
    "        \n",
    "        # initialize matrices A, B and b array\n",
    "        self.b = np.zeros((N))\n",
    "        self.b[0] = self.left * 2 * self.r\n",
    "        self.b[-1] = self.right * 2 * self.r\n",
    "        self.A = np.zeros((N, N))\n",
    "        self.B = np.zeros((N, N))\n",
    "\n",
    "        self.make_B(self.B, self.r)\n",
    "        self.A, self.A_inv = self.make_A(self.A, self.r)\n",
    "\n",
    "        self.coastline = 0\n",
    "        self.Q = np.zeros((N))\n",
    "        self.update_coastline()\n",
    "        \n",
    "        self.window_size = 50\n",
    "        self.standard_deviation = 10\n",
    "        self.restriction_window=gaussian(1+2*self.window_size,self.standard_deviation)\n",
    "        water_depth = self.base_level-self.u\n",
    "        restriction = np.convolve(-water_depth,self.restriction_window,mode='valid')\n",
    "        self.restriction_minscale = np.min(restriction)\n",
    "        \n",
    "        dz = np.linspace(0,100,1000)\n",
    "        extinction_coeff = 0.2\n",
    "        light_z = np.exp(-extinction_coeff*dz)\n",
    "        light_base=.1\n",
    "        production_capacity = 1\n",
    "        production_z = production_capacity * np.tanh(light_z/light_base)\n",
    "        self.prod_z_fun=interp1d(dz,production_z,bounds_error=False,fill_value=0)\n",
    "        self.carb_rate = .01\n",
    "\n",
    "\n",
    "    def make_A(self, A, r):\n",
    "        l = [-r for i in range(1, A.shape[0] - 2)]\n",
    "        c = [1 + 2 * r for i in range(A.shape[0] - 2)]\n",
    "        u = [-r for i in range(A.shape[0] - 3)]\n",
    "        np.fill_diagonal(A[1:], u)\n",
    "        np.fill_diagonal(A[:, 1:], l)\n",
    "        np.fill_diagonal(A, c)\n",
    "        A_inv = np.linalg.inv(A)\n",
    "        return A, A_inv\n",
    "\n",
    "    def make_B(self, B, r):\n",
    "        l = [r for i in range(1, B.shape[0] - 2)]\n",
    "        c = [1 - 2 * r for i in range(B.shape[0] - 2)]\n",
    "        u = [r for i in range(B.shape[0] - 3)]\n",
    "        np.fill_diagonal(B[1:], u)\n",
    "        np.fill_diagonal(B[:, 1:], l)\n",
    "        np.fill_diagonal(B, c)\n",
    "        return B\n",
    "\n",
    "    def set_baselevel(self, time, rsl):\n",
    "        # can pass a set of paired time/rsl and model will interpolate for each dt\n",
    "        self.base_level_fun = interp1d(time, rsl)\n",
    "        \n",
    "    def produce_carb(self):\n",
    "        water_depth = self.base_level-self.u\n",
    "        restriction = np.convolve(-water_depth,self.restriction_window,mode='valid')\n",
    "        restriction -= np.min(restriction)\n",
    "        restriction /= 6000 #multiply to scale shelf production\n",
    "        productivity = prod_func(water_depth)\n",
    "        productivity[window_size:-window_size]=productivity[window_size:-window_size]*(1-restriction)\n",
    "        productivity[self.u>self.base_level]=0\n",
    "        self.Q+=self.carb_rate*productivity\n",
    "\n",
    "    def run_step(self):\n",
    "        if self.no_flux_boundary:\n",
    "            self.b[0] = self.u[0] * 2 * self.r\n",
    "            self.b[-1] = self.u[-1] * 2 * self.r\n",
    "        #         self.update_K()  # can disable if K is not changing with each t_step (ie as a function of elevation)\n",
    "        self.Q *= 0  # clearing any old sed flux terms\n",
    "        self.base_level = self.base_level_fun(self.time)  # update base level\n",
    "        self.produce_carb()\n",
    "#         if self.base_level>np.min(self.u):\n",
    "#             self.update_coastline()  # select coastline point for sed flux\n",
    "#             self.Q[self.coastline] += self.sed_Q  # add sediment to the coastline\n",
    "        self.bb = (\n",
    "            self.B.dot(self.u) + self.b + self.dt * self.Q\n",
    "        )  # matrix addition\n",
    "        self.u = self.A_inv.dot(self.bb)\n",
    "        self.time += self.dt  # increment timestep        \n",
    "\n",
    "    def update_coastline(self):\n",
    "        # finds the first grid point below base level starting on the left hand side\n",
    "        try:\n",
    "            self.coastline = np.where(self.u < (self.base_level))[0][0]\n",
    "        except:\n",
    "            self.coastline = 1\n",
    "\n",
    "\n",
    "def sawtooth_wave(n, x):\n",
    "    y = np.zeros_like(x)\n",
    "    for k in range(1, n + 1):\n",
    "        y += (comb(2*n, n-k) / comb(2*n, n)) * ( np.sin(k*x) / k )\n",
    "    return y\n",
    "\n",
    "\n",
    "def get_strat_column(beds, age, rsl, loc, skip=1):\n",
    "    facies_limits = [0.5, -0.05, -.5, -1, -2, -2000]\n",
    "    facies_w = [a for a in [0.8, 0.6, 0.5, 0.4, 0.3, 0.2]]\n",
    "    facies_c = [\n",
    "        \"#ffb142\",  # \n",
    "        \"#33d9b2\",  # \n",
    "        \"#34ace0\",  # \n",
    "        \"#706fd3\",  # \n",
    "        \"#2c2c54\",  # \n",
    "        \"#84817a\",  #\n",
    "    ]   \n",
    "\n",
    "    strat = np.array(beds.copy())[::skip][:, loc]\n",
    "    time_strat = np.array(age.copy())[::skip]\n",
    "    rsl_strat = np.array(rsl.copy())[::skip]\n",
    "\n",
    "    for i in range(0, strat.size):\n",
    "        older = strat[:-i]\n",
    "        older_rsl = rsl_strat[:-i]\n",
    "        older[older > strat[-i]] = strat[-i]\n",
    "        older_rsl[older > strat[-i]] = strat[-i]\n",
    "        strat[:-i] = older\n",
    "        rsl_strat[:-i] = older_rsl\n",
    "        rsl_strat = np.array(rsl.copy())[::skip]\n",
    "\n",
    "    thicknesses = np.zeros(strat.shape[0])\n",
    "    heights = np.zeros(strat.shape[0])\n",
    "    \n",
    "    water_depths = rsl_strat-strat\n",
    "    facies = np.zeros(water_depths.size)\n",
    "    colors = np.zeros(water_depths.size).astype(str)\n",
    "    water_depths = -1 * water_depths\n",
    "\n",
    "    for j in range(len(facies_limits) - 1, -1, -1):\n",
    "        facies[water_depths > facies_limits[j]] = facies_w[j]\n",
    "        colors[water_depths > facies_limits[j]] = facies_c[j]\n",
    "\n",
    "        bed_facies = []\n",
    "        bed_top = []\n",
    "        bed_colors = []\n",
    "\n",
    "        changes = np.where(np.diff(facies) != 0)[0]\n",
    "        for c in [*changes, len(facies) - 1]:\n",
    "            bed_facies += [facies[c]]\n",
    "            bed_top += [strat[c]]\n",
    "            bed_colors += [colors[c]]\n",
    "\n",
    "        h = np.diff([np.min(strat), *bed_top])\n",
    "        bed_bottom=bed_top-h\n",
    "        \n",
    "    return (np.array(bed_facies).ravel(), \n",
    "            np.array(bed_bottom).ravel(), \n",
    "            np.array(h).ravel(), \n",
    "            np.array(bed_colors).ravel())\n",
    "\n",
    "def plot_column(bed_facies,bed_bottom,h,bed_colors,left=0):\n",
    "    plt.figure(figsize=(3,12))\n",
    "    plt.barh(\n",
    "        bed_bottom,\n",
    "        bed_facies,\n",
    "        height=h,\n",
    "        left=left,\n",
    "        color=bed_colors,\n",
    "        align=\"edge\",\n",
    "        lw=1,\n",
    "        edgecolor=(0.2, 0.2, 0.2),zorder=4\n",
    "    )"
   ]
  },
  {
   "cell_type": "code",
   "execution_count": 270,
   "metadata": {},
   "outputs": [],
   "source": [
    "dt = 1  # timestep\n",
    "base_level_rise = 100  # long term subsidence in meters\n",
    "dx = 10  # x grid spacing\n",
    "total_time = 3e6  # duration of simulation in years\n",
    "initial_baselevel = 1  # in meters\n",
    "sed_Q = 0.0  # sedimentation flux\n",
    "\n",
    "#create an instance of Diffuse1D (defined above)\n",
    "model = Diffuse1D(\n",
    "    length=10000,\n",
    "    spacing=dx,\n",
    "    tstep=dt,\n",
    "    left=0,\n",
    "    right=0,\n",
    "    K=2e-2,\n",
    "    sed_Q=sed_Q,\n",
    "    no_flux_boundary=True,\n",
    ")\n",
    "\n",
    "xt = np.linspace(0, total_time, 10000)  # creating uniform timegrid\n",
    "RSL1 = -1.5 * np.sin(xt * 2 * np.pi * (1 / 20000))  # cyclic sea level component 1\n",
    "RSL2 = 1 * sawtooth_wave(5, xt * 2 * np.pi * (1 / 100000))  # cyclic sea level component 2\n",
    "RSL = (base_level_rise / (total_time) * xt + initial_baselevel)  # cyclic sea level + subsidence\n",
    "# creates a function in the Diffuse1D model mapping your sea level boundary condition to time\n",
    "model.set_baselevel(xt, RSL)"
   ]
  },
  {
   "cell_type": "code",
   "execution_count": 271,
   "metadata": {},
   "outputs": [
    {
     "data": {
      "text/plain": [
       "Text(0, 0.5, 'Base level')"
      ]
     },
     "execution_count": 271,
     "metadata": {},
     "output_type": "execute_result"
    },
    {
     "data": {
      "image/png": "[encoded data removed]",
      "text/plain": [
       "<Figure size 432x288 with 1 Axes>"
      ]
     },
     "metadata": {
      "needs_background": "light"
     },
     "output_type": "display_data"
    }
   ],
   "source": [
    "#to plot your model sea level boundary condition\n",
    "plt.plot(xt/1000,model.base_level_fun(xt))\n",
    "plt.gca().set_xlabel('Time (kilo-years)')\n",
    "plt.gca().set_ylabel('Base level')"
   ]
  },
  {
   "cell_type": "code",
   "execution_count": 272,
   "metadata": {},
   "outputs": [
    {
     "data": {
      "application/vnd.jupyter.widget-view+json": {
       "model_id": "0562cbd156aa4b6780746f0647866f21",
       "version_major": 2,
       "version_minor": 0
      },
      "text/plain": [
       "HBox(children=(FloatProgress(value=0.0, max=1000.0), HTML(value='')))"
      ]
     },
     "metadata": {},
     "output_type": "display_data"
    },
    {
     "name": "stdout",
     "output_type": "stream",
     "text": [
      "\n"
     ]
    },
    {
     "data": {
      "application/vnd.jupyter.widget-view+json": {
       "model_id": "164686da727b4ff09121ca5a2e3ea6dd",
       "version_major": 2,
       "version_minor": 0
      },
      "text/plain": [
       "HBox(children=(FloatProgress(value=0.0, max=2000.0), HTML(value='')))"
      ]
     },
     "metadata": {},
     "output_type": "display_data"
    },
    {
     "name": "stdout",
     "output_type": "stream",
     "text": [
      "\n"
     ]
    },
    {
     "data": {
      "text/plain": [
       "(-50, 0)"
      ]
     },
     "execution_count": 272,
     "metadata": {},
     "output_type": "execute_result"
    },
    {
     "data": {
      "image/png": "[encoded data removed]",
      "text/plain": [
       "<Figure size 432x288 with 1 Axes>"
      ]
     },
     "metadata": {
      "needs_background": "light"
     },
     "output_type": "display_data"
    }
   ],
   "source": [
    "plt.plot(model.u)\n",
    "model.u=topography\n",
    "plt.plot(model.u)\n",
    "for i in tqdm(range(1000)):\n",
    "    model.run_step()\n",
    "plt.plot(model.u)\n",
    "\n",
    "for i in tqdm(range(2000)):\n",
    "    model.run_step()\n",
    "plt.plot(model.u)\n",
    "plt.gca().set_ylim([-50,0])"
   ]
  },
  {
   "cell_type": "code",
   "execution_count": 302,
   "metadata": {},
   "outputs": [],
   "source": [
    "dt = 10  # timestep\n",
    "base_level_rise = 60  # long term subsidence in meters\n",
    "dx = 10  # x grid spacing\n",
    "total_time = 1e6  # duration of simulation in years\n",
    "initial_baselevel = 1  # in meters\n",
    "sed_Q = 0.0  # sedimentation flux\n",
    "\n",
    "#create an instance of Diffuse1D (defined above)\n",
    "model = Diffuse1D(\n",
    "    length=10000,\n",
    "    spacing=dx,\n",
    "    tstep=dt,\n",
    "    left=0,\n",
    "    right=0,\n",
    "    K=2e-2,\n",
    "    sed_Q=sed_Q,\n",
    "    no_flux_boundary=True,\n",
    ")\n",
    "\n",
    "xt = np.linspace(0, total_time, 10000)  # creating uniform timegrid\n",
    "RSL1 = 2 * np.sin(xt * 2 * np.pi * (1 / 1e5))  # cyclic sea level component 1\n",
    "RSL = (base_level_rise / (total_time) * xt + initial_baselevel +RSL1)  # cyclic sea level + subsidence\n",
    "# creates a function in the Diffuse1D model mapping your sea level boundary condition to time\n",
    "model.set_baselevel(xt, RSL)\n",
    "model.u=topography\n",
    "model.carb_rate = .0015"
   ]
  },
  {
   "cell_type": "code",
   "execution_count": 303,
   "metadata": {},
   "outputs": [
    {
     "data": {
      "text/plain": [
       "Text(0, 0.5, 'Base level')"
      ]
     },
     "execution_count": 303,
     "metadata": {},
     "output_type": "execute_result"
    },
    {
     "data": {
      "image/png": "[encoded data removed]",
      "text/plain": [
       "<Figure size 432x288 with 1 Axes>"
      ]
     },
     "metadata": {
      "needs_background": "light"
     },
     "output_type": "display_data"
    }
   ],
   "source": [
    "#to plot your model sea level boundary condition\n",
    "plt.plot(xt/1000,model.base_level_fun(xt))\n",
    "plt.gca().set_xlabel('Time (kilo-years)')\n",
    "plt.gca().set_ylabel('Base level')"
   ]
  },
  {
   "cell_type": "code",
   "execution_count": 304,
   "metadata": {},
   "outputs": [
    {
     "data": {
      "application/vnd.jupyter.widget-view+json": {
       "model_id": "41cba372ec884be383c33e7521c8ec8a",
       "version_major": 2,
       "version_minor": 0
      },
      "text/plain": [
       "HBox(children=(FloatProgress(value=0.0, max=100000.0), HTML(value='')))"
      ]
     },
     "metadata": {},
     "output_type": "display_data"
    },
    {
     "name": "stdout",
     "output_type": "stream",
     "text": [
      "\n"
     ]
    }
   ],
   "source": [
    "# initial lists to store model outputs throughout the simulation\n",
    "beds = [] #model topography\n",
    "age = [] #model time\n",
    "rsl = [] #relative (local) sea level\n",
    "sed_on = True\n",
    "progress_bar = tqdm(range(int(total_time / dt / 1))) #run the model for the full duration, the tqdm wrapper provides a progress bar\n",
    "for i in progress_bar:\n",
    "    model.run_step() #run 1 timestep dt\n",
    "    if i%50==0: #save every 50 steps to our lists\n",
    "        beds.append(model.u)\n",
    "        age.append(model.time)\n",
    "        rsl.append(model.base_level)"
   ]
  },
  {
   "cell_type": "code",
   "execution_count": 321,
   "metadata": {},
   "outputs": [
    {
     "data": {
      "image/png": "[encoded data removed]",
      "text/plain": [
       "<Figure size 1296x864 with 1 Axes>"
      ]
     },
     "metadata": {
      "needs_background": "light"
     },
     "output_type": "display_data"
    }
   ],
   "source": [
    "skip=25\n",
    "animate_beds(beds=beds[::skip],otime=age[::skip],rsl=rsl[::skip],aspect=2, ymin=-50, ymax=75, color=False)"
   ]
  },
  {
   "cell_type": "code",
   "execution_count": 319,
   "metadata": {
    "slideshow": {
     "slide_type": "subslide"
    }
   },
   "outputs": [
    {
     "data": {
      "image/png": "[encoded data removed]",
      "text/plain": [
       "<Figure size 216x864 with 1 Axes>"
      ]
     },
     "metadata": {
      "needs_background": "light"
     },
     "output_type": "display_data"
    }
   ],
   "source": [
    "column_number = 325\n",
    "bed_facies, bed_bottom, bed_thickness, bed_colors = get_strat_column(beds, age, rsl, column_number, skip=10)\n",
    "plot_column(bed_facies, bed_bottom, bed_thickness, bed_colors, left=column_number)\n",
    "plt.gca().set_aspect(.05)"
   ]
  },
  {
   "cell_type": "code",
   "execution_count": 320,
   "metadata": {
    "slideshow": {
     "slide_type": "subslide"
    }
   },
   "outputs": [
    {
     "data": {
      "image/png": "[encoded data removed]",
      "text/plain": [
       "<Figure size 216x864 with 1 Axes>"
      ]
     },
     "metadata": {
      "needs_background": "light"
     },
     "output_type": "display_data"
    }
   ],
   "source": [
    "column_number = 500\n",
    "bed_facies, bed_bottom, bed_thickness, bed_colors = get_strat_column(beds, age, rsl, column_number, skip=10)\n",
    "plot_column(bed_facies, bed_bottom, bed_thickness, bed_colors, left=column_number)\n",
    "plt.gca().set_aspect(.05)"
   ]
  },
  {
   "cell_type": "code",
   "execution_count": 203,
   "metadata": {},
   "outputs": [],
   "source": [
    "def animate_beds(beds,otime,rsl, color=True, aspect=10, ymin=-55, ymax=0):\n",
    "    N = int(len(beds) / 2) + 1\n",
    "    cs_reg = sns.color_palette(\"viridis\", n_colors=np.sum(np.gradient(rsl) <= 0))\n",
    "    cs_trans = sns.color_palette(\"Greys\", n_colors=np.sum(np.gradient(rsl) > 0))\n",
    "    rsl_down = np.gradient(rsl) <= 0\n",
    "    if color==False:\n",
    "        cs_reg = sns.color_palette(\"Greys\", n_colors=100*np.sum(np.gradient(rsl) <= 0))\n",
    "        cs_trans = sns.color_palette(\"Greys\", n_colors=100*np.sum(np.gradient(rsl) > 0))\n",
    "\n",
    "    sns.set_palette(\"tab20\", n_colors=40)\n",
    "    \n",
    "    minima = min(np.gradient(rsl))\n",
    "    maxima = max(np.gradient(rsl))\n",
    "    max_max = max([minima,maxima])\n",
    "\n",
    "    norm = matplotlib.colors.Normalize(vmin=-1*max_max, vmax=max_max, clip=True)\n",
    "    mapper = cm.ScalarMappable(norm=norm, cmap=cm.seismic)\n",
    "\n",
    "    # for k in range(len(beds)):\n",
    "    #         beds[k]-=otime[k]*model.subsidence_r\n",
    "\n",
    "    beds = np.array(beds)\n",
    "    for i, bed in enumerate(beds):\n",
    "\n",
    "        beds_eroded = []\n",
    "\n",
    "        for k, layer in enumerate(beds[:i]):\n",
    "            future_min = np.min(beds[k : i + 1], axis=0)\n",
    "            beds_eroded.append(future_min)\n",
    "        #         beds_eroded.append(layer)\n",
    "\n",
    "        beds_eroded.append(beds[i])\n",
    "        beds_eroded = np.array(beds_eroded)\n",
    "\n",
    "        fig = plt.figure(figsize=(18, 12))\n",
    "        clear_output(wait=True)\n",
    "        c = [0, 0]\n",
    "        z = N + 1\n",
    "        last_layer = beds_eroded[0]\n",
    "        for layer, down in zip(beds_eroded[: i + 1], np.gradient(rsl)):\n",
    "            if down:\n",
    "                plt.fill_between(\n",
    "                    np.arange(layer.size),\n",
    "                    last_layer,\n",
    "                    layer,\n",
    "                    facecolor=mapper.to_rgba(down),\n",
    "                    lw=0.5,\n",
    "                    edgecolor=(0, 0, 0),\n",
    "                )\n",
    "                c[0] += 1\n",
    "            else:\n",
    "                plt.fill_between(\n",
    "                    np.arange(layer.size),\n",
    "                    last_layer,\n",
    "                    layer,\n",
    "                    facecolor=cs_trans[c[1]],\n",
    "                    lw=0.1,\n",
    "                    edgecolor=(0, 0, 0),\n",
    "                )\n",
    "                c[1] += 1\n",
    "            z -= 1\n",
    "            last_layer = np.copy(layer)\n",
    "\n",
    "        plt.plot(bed, color=\"r\", zorder=N * 2 + 1)\n",
    "        plt.plot([0, 1000], [rsl[i], rsl[i]], \"--\", color=\"k\")\n",
    "\n",
    "        plt.gca().set_xlim([0, layer.size])\n",
    "        plt.gca().set_ylim([ymin, ymax])\n",
    "        plt.gca().set_aspect(aspect)\n",
    "        #     plt.gca().set_title('Regression (color) and Transgression (greyscale)\\n with Constant Sed Flux (vertical exaggeration: 100)')\n",
    "        plt.gca().set_title(\"time=\" + str(np.round(otime[i], 2)) + \" years\")\n",
    "        plt.gca().set_ylabel(\"height (m)\")\n",
    "        plt.gca().set_xlabel(\"distance (10^1 meters)\")\n",
    "        plt.show()\n",
    "        time.sleep(0.01)\n",
    "        \n",
    "def plot_beds(beds,otime,rsl, color=True, aspect=10, ymin=-55, d13c_fun=None,ax=None):\n",
    "    if ax==None:\n",
    "        fig = plt.figure(figsize=(18, 12))\n",
    "        plt.plot([],[])\n",
    "        ax=plt.gca()\n",
    "    N = int(len(beds) / 2) + 1\n",
    "    cs_reg = sns.color_palette(\"viridis\", n_colors=np.sum(np.gradient(rsl) <= 0))\n",
    "    cs_trans = sns.color_palette(\"Greys\", n_colors=np.sum(np.gradient(rsl) > 0))\n",
    "    rsl_down = np.gradient(rsl) <= 0\n",
    "    if color==False:\n",
    "        cs_reg = sns.color_palette(\"Greys\", n_colors=100*np.sum(np.gradient(rsl) <= 0))\n",
    "        cs_trans = sns.color_palette(\"Greys\", n_colors=100*np.sum(np.gradient(rsl) > 0))\n",
    "\n",
    "    sns.set_palette(\"tab20\", n_colors=40)\n",
    "    \n",
    "    minima = min(np.gradient(rsl))\n",
    "    maxima = max(np.gradient(rsl))\n",
    "    max_max = max([minima,maxima])\n",
    "    \n",
    "    if type(d13c_fun)!=type(None):\n",
    "        norm = matplotlib.colors.Normalize(vmin=np.min(d13c_fun(otime)), vmax=np.max(d13c_fun(otime)), clip=True)\n",
    "        mapper = cm.ScalarMappable(norm=norm, cmap=cm.viridis)\n",
    "    else:\n",
    "        norm = matplotlib.colors.Normalize(vmin=0, vmax=np.max(otime), clip=True)\n",
    "        mapper = cm.ScalarMappable(norm=norm, cmap=cm.cividis)\n",
    "    \n",
    "    if color==False:\n",
    "        norm = matplotlib.colors.Normalize(vmin=0, vmax=1e10, clip=False)\n",
    "        mapper = cm.ScalarMappable(norm=norm, cmap=cm.Greys)\n",
    "\n",
    "    # for k in range(len(beds)):\n",
    "    #         beds[k]-=otime[k]*model.subsidence_r\n",
    "\n",
    "    beds = np.array(beds)\n",
    "\n",
    "\n",
    "    beds_eroded = []\n",
    "\n",
    "    for k, layer in enumerate(beds):\n",
    "        future_min = np.min(beds[k :], axis=0)\n",
    "        beds_eroded.append(future_min)\n",
    "    #         beds_eroded.append(layer)\n",
    "\n",
    "    beds_eroded.append(beds[-1])\n",
    "    beds_eroded = np.array(beds_eroded)\n",
    "\n",
    "    \n",
    "    clear_output(wait=True)\n",
    "    c = [0, 0]\n",
    "    z = N + 1\n",
    "    last_layer = beds_eroded[0]\n",
    "    for layer, time in zip(beds_eroded, otime):\n",
    "        if type(d13c_fun)!=type(None):\n",
    "            ax.fill_between(\n",
    "                np.arange(layer.size),\n",
    "                last_layer,\n",
    "                layer,\n",
    "                facecolor=mapper.to_rgba(d13c_fun(time)),\n",
    "                lw=0.25,\n",
    "                edgecolor=(0, 0, 0),\n",
    "            )\n",
    "        else:\n",
    "            ax.fill_between(\n",
    "                np.arange(layer.size),\n",
    "                last_layer,\n",
    "                layer,\n",
    "                facecolor=mapper.to_rgba(time),\n",
    "                lw=0.25,\n",
    "                edgecolor=(0, 0, 0),\n",
    "            )\n",
    "        c[0] += 1\n",
    "        \n",
    "        z -= 1\n",
    "        last_layer = np.copy(layer)\n",
    "\n",
    "    ax.plot(beds[-1], color=\"r\", zorder=N * 2 + 1)\n",
    "#     plt.plot([0, 1000], [rsl[-1], rsl[i]], \"--\", color=\"k\")\n",
    "\n",
    "    ax.set_xlim([0, 400])\n",
    "    ax.set_ylim([ymin, 0])\n",
    "    ax.set_aspect(aspect)\n",
    "    #     plt.gca().set_title('Regression (color) and Transgression (greyscale)\\n with Constant Sed Flux (vertical exaggeration: 100)')\n",
    "    ax.set_title(\"time=\" + str(np.round(otime[-1], 2)) + \" years\")\n",
    "    ax.set_ylabel(\"height (m)\")\n",
    "    ax.set_xlabel(\"distance (10^1 meters)\")\n",
    "    return ax"
   ]
  },
  {
   "cell_type": "code",
   "execution_count": null,
   "metadata": {},
   "outputs": [],
   "source": []
  }
 ],
 "metadata": {
  "celltoolbar": "Slideshow",
  "kernelspec": {
   "display_name": "Python 3",
   "language": "python",
   "name": "python3"
  },
  "language_info": {
   "codemirror_mode": {
    "name": "ipython",
    "version": 3
   },
   "file_extension": ".py",
   "mimetype": "text/x-python",
   "name": "python",
   "nbconvert_exporter": "python",
   "pygments_lexer": "ipython3",
   "version": "3.9.1"
  },
  "rise": {
   "chalkboard": {
    "chalkEffect": 1,
    "chalkWidth": 7,
    "color": [
     "rgb(200,47,62)",
     "rgb(200,47,62)"
    ],
    "readOnly": false,
    "src": "carbonates.json",
    "theme": "whiteboard"
   },
   "enable_chalkboard": true
  },
  "toc": {
   "base_numbering": 1,
   "nav_menu": {
    "height": "229px",
    "width": "213px"
   },
   "number_sections": false,
   "sideBar": true,
   "skip_h1_title": false,
   "title_cell": "Table of Contents",
   "title_sidebar": "Contents",
   "toc_cell": false,
   "toc_position": {
    "height": "calc(100% - 180px)",
    "left": "10px",
    "top": "150px",
    "width": "426.667px"
   },
   "toc_section_display": true,
   "toc_window_display": false
  },
  "toc-autonumbering": true,
  "toc-showcode": false,
  "toc-showmarkdowntxt": false,
  "toc-showtags": false
 },
 "nbformat": 4,
 "nbformat_minor": 4
}
