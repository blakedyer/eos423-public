{
 "cells": [
  {
   "cell_type": "markdown",
   "metadata": {
    "slideshow": {
     "slide_type": "skip"
    }
   },
   "source": [
    "Lecture 13: Discussion of Hinnov and Goldhammer (1991)"
   ]
  },
  {
   "cell_type": "markdown",
   "metadata": {
    "slideshow": {
     "slide_type": "slide"
    }
   },
   "source": [
    "<center><div style=\"background: url(../correlation/images/cycles_intro/Elatina_big.jpg) 50% 50% no-repeat;\n",
    "  width: 100vw;\n",
    "  height: 30vh; background-size: 100%;\">\n",
    "</div></center>"
   ]
  },
  {
   "cell_type": "markdown",
   "metadata": {
    "slideshow": {
     "slide_type": "-"
    }
   },
   "source": [
    "# Lecture 12: Discussion of Hinnov and Goldhammer (1991)\n",
    "\n",
    "1. <span style=\"color:red\">Geological setting</span>\n",
    "2. <span style=\"color:blue\">Cycles in the Latemar Limestone (**space**)</span>\n",
    "3. <span style=\"color:blue\">Potential origin of the Latemar cycles (**time**)</span>\n",
    "4. <span style=\"color:blue\">Testing the hypothesis: the data</span>\n",
    "5. <span style=\"color:red\">Testing the hypothesis: the analysis</span>\n"
   ]
  },
  {
   "cell_type": "code",
   "execution_count": 60,
   "metadata": {
    "slideshow": {
     "slide_type": "slide"
    }
   },
   "outputs": [],
   "source": [
    "import random\n",
    "def pick_group(class_list):\n",
    "    if len(class_list)>0:\n",
    "        picked=random.sample(class_list,2)\n",
    "        [class_list.remove(p) for p in picked]\n",
    "        print(' and '.join(picked))\n",
    "    else:\n",
    "        picked=[]\n",
    "    return class_list,picked"
   ]
  },
  {
   "cell_type": "markdown",
   "metadata": {
    "slideshow": {
     "slide_type": "slide"
    }
   },
   "source": [
    "# <span style=\"color:blue\">Geological setting</span>\n",
    "- why would a platformal setting be especially senstive to sea level changes?\n",
    "\n",
    "<center>\n",
    "    <div style='width:70wh;'>\n",
    "\t    <img src=\"images/latemar_geom.png\" style='width:100wh'>\n",
    "    </div>\n",
    "</center>\n",
    "<center>\n",
    "    <div style='height:15vh;'>\n",
    "\t    <p>\n",
    "    </div>\n",
    "</center>"
   ]
  },
  {
   "cell_type": "code",
   "execution_count": 61,
   "metadata": {
    "slideshow": {
     "slide_type": "-"
    }
   },
   "outputs": [
    {
     "name": "stdout",
     "output_type": "stream",
     "text": [
      "Andrea and Kai\n"
     ]
    }
   ],
   "source": [
    "class_list = ['Kai','Stacey','Grace','Liam','Matteo','Matthew','Noa','Izzy','Felix','Rhys','Andrea','Kristyn']\n",
    "class_list,picked=pick_group(class_list)"
   ]
  },
  {
   "cell_type": "markdown",
   "metadata": {
    "slideshow": {
     "slide_type": "slide"
    }
   },
   "source": [
    "# <span style=\"color:red\">Geological setting</span>\n",
    "\n",
    "<center>\n",
    "    <div style='width:100wh;'>\n",
    "\t    <img src=\"images/latemar_map.png\" style='width:100wh'>\n",
    "    </div>\n",
    "</center>\n",
    "<center>\n",
    "    <div style='height:20vh;'>\n",
    "\t    <p>\n",
    "    </div>\n",
    "</center>"
   ]
  },
  {
   "cell_type": "code",
   "execution_count": 62,
   "metadata": {
    "slideshow": {
     "slide_type": "slide"
    }
   },
   "outputs": [
    {
     "name": "stdout",
     "output_type": "stream",
     "text": [
      "Grace and Rhys\n"
     ]
    }
   ],
   "source": [
    "class_list = ['Kai','Stacey','Grace','Liam','Matteo','Matthew','Noa','Izzy','Felix','Rhys','Andrea','Kristyn']\n",
    "class_list,picked=pick_group(class_list)"
   ]
  },
  {
   "cell_type": "markdown",
   "metadata": {
    "slideshow": {
     "slide_type": "slide"
    }
   },
   "source": [
    "# <span style=\"color:blue\">An ideal cycles in the Latemar Limestone</span>\n",
    "- what do the authors think is happening to sea level during deposition?\n",
    "- \"*The absence of features indicating peritidal deposition between the subtidal member and vadose cap is conspicuous throughout the formation.*\"\n",
    "\n",
    "<center>\n",
    "    <div style='width:100wh;'>\n",
    "\t    <img src=\"images/latemar_ideal_cycle.png\" style='width:100wh'>\n",
    "    </div>\n",
    "</center>"
   ]
  },
  {
   "cell_type": "code",
   "execution_count": 64,
   "metadata": {
    "slideshow": {
     "slide_type": "slide"
    }
   },
   "outputs": [
    {
     "name": "stdout",
     "output_type": "stream",
     "text": [
      "Izzy and Noa\n"
     ]
    }
   ],
   "source": [
    "class_list = ['Stacey','Liam','Matteo','Matthew','Noa','Izzy','Felix','Kristyn']\n",
    "class_list,picked=pick_group(class_list)"
   ]
  },
  {
   "cell_type": "markdown",
   "metadata": {
    "slideshow": {
     "slide_type": "slide"
    }
   },
   "source": [
    "# <span style=\"color:blue\">Nested cycles in the Latemar Limestone</span>\n",
    "- where is the *ideal Latemar cycle* on this plot?\n",
    "- what is happening to **cycle thickness** up section?\n",
    "- what do the authors think is happening to sea level?\n",
    "\n",
    "<center>\n",
    "    <div style='width:100wh;'>\n",
    "\t    <img src=\"images/latemar_cycles.png\" style='width:100wh'>\n",
    "    </div>\n",
    "</center>"
   ]
  },
  {
   "cell_type": "markdown",
   "metadata": {
    "slideshow": {
     "slide_type": "slide"
    }
   },
   "source": [
    "# <span style=\"color:blue\">What is the propesed driver of cyclicity?</span>\n",
    "- what is driving an *ideal cycle*?\n",
    "- what is driving the *bundling of cycles* into groups of five?\n",
    "\n",
    "<center>\n",
    "    <div style='width:100wh;'>\n",
    "\t    <img src=\"images/EOP.png\" style='width:100wh'>\n",
    "    </div>\n",
    "</center>"
   ]
  },
  {
   "cell_type": "code",
   "execution_count": 65,
   "metadata": {
    "slideshow": {
     "slide_type": "-"
    }
   },
   "outputs": [
    {
     "name": "stdout",
     "output_type": "stream",
     "text": [
      "Matthew and Matteo\n"
     ]
    }
   ],
   "source": [
    "class_list = ['Stacey','Liam','Matteo','Matthew','Felix','Kristyn']\n",
    "class_list,picked=pick_group(class_list)"
   ]
  },
  {
   "cell_type": "markdown",
   "metadata": {
    "slideshow": {
     "slide_type": "slide"
    }
   },
   "source": [
    "<center>\n",
    "    <div style='width:10wh;'>\n",
    "\t    <img src=\"images/imbrie.png\" style='width:100wh'>\n",
    "    </div>\n",
    "</center>\n"
   ]
  },
  {
   "cell_type": "markdown",
   "metadata": {
    "slideshow": {
     "slide_type": "skip"
    }
   },
   "source": [
    "<center>\n",
    "    <div style='height:20vh;'>\n",
    "\t    <p>\n",
    "    </div>\n",
    "</center>"
   ]
  },
  {
   "cell_type": "markdown",
   "metadata": {
    "slideshow": {
     "slide_type": "slide"
    }
   },
   "source": [
    "# <span style=\"color:blue\">But then why are the bundles asymmetric (according to the authors)?</span>\n",
    "\n",
    "<center>\n",
    "    <div style='width:100wh;'>\n",
    "\t    <img src=\"images/ESL.png\" style='width:100wh'>\n",
    "    </div>\n",
    "</center>"
   ]
  },
  {
   "cell_type": "code",
   "execution_count": null,
   "metadata": {
    "slideshow": {
     "slide_type": "-"
    }
   },
   "outputs": [],
   "source": [
    "class_list = ['Kai','Stacey','Grace','Liam','Matteo','Matthew','Noa','Izzy','Felix','Rhys','Andrea','Kristyn']\n",
    "class_list,picked=pick_group(class_list)"
   ]
  },
  {
   "cell_type": "markdown",
   "metadata": {
    "slideshow": {
     "slide_type": "skip"
    }
   },
   "source": [
    "<center>\n",
    "    <div style='height:20vh;'>\n",
    "\t    <p>\n",
    "    </div>\n",
    "</center>"
   ]
  },
  {
   "cell_type": "code",
   "execution_count": null,
   "metadata": {
    "slideshow": {
     "slide_type": "slide"
    }
   },
   "outputs": [],
   "source": [
    "class_list = ['Kai','Stacey','Grace','Liam','Matteo','Matthew','Noa','Izzy','Felix','Rhys','Andrea','Kristyn']\n",
    "class_list,picked=pick_group(class_list)"
   ]
  },
  {
   "cell_type": "markdown",
   "metadata": {
    "slideshow": {
     "slide_type": "slide"
    }
   },
   "source": [
    "# <span style=\"color:blue\">How then is time distributed in the Latemar succession?</span>\n",
    "- How long does one cycle last? How about 5 cycles?\n",
    "\n",
    "<center>\n",
    "    <div style='width:100wh;'>\n",
    "\t    <img src=\"images/latemar_cycles_time.png\" style='width:100wh'>\n",
    "    </div>\n",
    "</center>"
   ]
  },
  {
   "cell_type": "markdown",
   "metadata": {
    "slideshow": {
     "slide_type": "slide"
    }
   },
   "source": [
    "# <span style=\"color:blue\">Testing the hypothesis: how are they going to do it?</span>\n",
    "<center>\n",
    "    <div style='width:100wh;'>\n",
    "\t    <img src=\"images/latemar_timeseries.png\" style='width:100wh'>\n",
    "    </div>\n",
    "</center>"
   ]
  },
  {
   "cell_type": "code",
   "execution_count": 66,
   "metadata": {
    "slideshow": {
     "slide_type": "-"
    }
   },
   "outputs": [
    {
     "name": "stdout",
     "output_type": "stream",
     "text": [
      "Felix and Stacey\n"
     ]
    }
   ],
   "source": [
    "class_list = ['Stacey','Liam','Felix','Kristyn']\n",
    "class_list,picked=pick_group(class_list)"
   ]
  },
  {
   "cell_type": "markdown",
   "metadata": {
    "slideshow": {
     "slide_type": "slide"
    }
   },
   "source": [
    "# <span style=\"color:red\">Testing the hypothesis: the analysis</span>\n",
    "#### Authors need to accomplish two things:\n",
    "- show that a 5:1 bundling of cycles is a signicant feature of the data **(easier)**\n",
    "    - in other words, are there cycles in space?\n",
    "- make the case that 1 bundle = precession and 5 bundles = eccentricity **(way, way harder)**\n",
    "    - do the cycles require a **cyclic (in time)** forcing?\n",
    "\n",
    "<center>\n",
    "    <div style='width:100wh;'>\n",
    "\t    <img src=\"images/latemar_fft.png\" style='width:100wh'>\n",
    "    </div>\n",
    "</center>"
   ]
  },
  {
   "cell_type": "markdown",
   "metadata": {
    "slideshow": {
     "slide_type": "slide"
    }
   },
   "source": [
    "# <span style=\"color:red\">Testing the hypothesis: the analysis</span>\n",
    "\n",
    "<center>\n",
    "    <div style='width:100wh;'>\n",
    "\t    <img src=\"images/latemar_smoothed_fft.png\" style='width:100wh'>\n",
    "    </div>\n",
    "</center>\n",
    "<center>\n",
    "    <div style='height:20vh;'>\n",
    "\t    <p>\n",
    "    </div>\n",
    "</center>"
   ]
  },
  {
   "cell_type": "markdown",
   "metadata": {
    "slideshow": {
     "slide_type": "slide"
    }
   },
   "source": [
    "# <span style=\"color:red\">Overtones</span>\n"
   ]
  },
  {
   "cell_type": "code",
   "execution_count": 67,
   "metadata": {
    "slideshow": {
     "slide_type": "subslide"
    }
   },
   "outputs": [
    {
     "data": {
      "image/png": "[encoded data removed]",
      "text/plain": [
       "<Figure size 1944x432 with 2 Axes>"
      ]
     },
     "metadata": {
      "needs_background": "light"
     },
     "output_type": "display_data"
    }
   ],
   "source": [
    "#make some white noise\n",
    "N=500\n",
    "t = np.arange(0.0, 500, 1)\n",
    "meas=scipy.signal.sawtooth((2*np.pi*t)/50)\n",
    "mf=fft(meas - np.mean(meas))\n",
    "tf,power,results=fft_axes(mf,N,N,1)\n",
    "#plot\n",
    "fig1=plt.figure(1,figsize=(27,6))\n",
    "ax1=fig1.add_subplot(121)\n",
    "ax1.set_xlabel('time')\n",
    "ax1.set_ylabel('signal')\n",
    "ax1.plot(meas,'-',lw=1,color='#6495ED')\n",
    "ax1=fig1.add_subplot(122)\n",
    "ax1.plot(tf,power,'-',lw=1,color='#6495ED')\n",
    "ax1.set_xlabel('frequency (cycles per unit time)')\n",
    "_=ax1.set_ylabel('power')"
   ]
  },
  {
   "cell_type": "markdown",
   "metadata": {
    "slideshow": {
     "slide_type": "subslide"
    }
   },
   "source": [
    "# <span style=\"color:black\">Noise: red or white?</span>"
   ]
  },
  {
   "cell_type": "code",
   "execution_count": null,
   "metadata": {
    "slideshow": {
     "slide_type": "-"
    }
   },
   "outputs": [],
   "source": [
    "from scipy.fftpack import fft\n",
    "import matplotlib.pyplot as plt\n",
    "import numpy as np\n",
    "from scipy import signal\n",
    "import pandas as pd\n",
    "import seaborn as sns\n",
    "sns.set_context('talk')\n",
    "%matplotlib inline\n",
    "\n",
    "def fft_axes(yf,T,N,dt):\n",
    "    \n",
    "    if N % 2==0:\n",
    "        xf=np.hstack((np.arange(0,1/(2*dt),1/T),(N//2)/T))\n",
    "        power=2.0/N *np.abs(yf[0:len(xf)])\n",
    "    else:\n",
    "        xf=np.arange(0,1/(2*dt),1/T)\n",
    "        power=2.0/N *np.abs(yf[0:len(xf)])\n",
    "        \n",
    "    results=pd.DataFrame(zip(xf,power),columns=['freq','power'])\n",
    "    results=results.sort_values(by=['power'],ascending=False)\n",
    "\n",
    "    return xf,power,results"
   ]
  },
  {
   "cell_type": "code",
   "execution_count": null,
   "metadata": {
    "slideshow": {
     "slide_type": "slide"
    }
   },
   "outputs": [],
   "source": [
    "#make some white noise\n",
    "N=500\n",
    "t = np.arange(0.0, 500, 1)\n",
    "meas=np.random.uniform(size=500)\n",
    "#periodic signal\n",
    "amp=0.0 #amp=0.065 #amp=0.13\n",
    "ang_freq=0.02\n",
    "meas=meas + amp*np.sin(ang_freq* 2*np.pi*t)\n",
    "#fft\n",
    "mf=fft(meas - np.mean(meas))\n",
    "tf,power,results=fft_axes(mf,N,N,1)\n",
    "#plot\n",
    "fig1=plt.figure(1,figsize=(27,6))\n",
    "ax1=fig1.add_subplot(121)\n",
    "ax1.set_xlabel('time')\n",
    "ax1.set_ylabel('signal')\n",
    "ax1.plot(meas,'-',lw=1,color='#6495ED')\n",
    "ax1=fig1.add_subplot(122)\n",
    "ax1.plot(tf,power,'-',lw=1,color='#6495ED')\n",
    "# ax1.annotate('our signal',(ang_freq,power[tf==ang_freq][0]),xytext=(50, 0), textcoords='offset points',fontsize=16,arrowprops=dict(arrowstyle=\"->\"))\n",
    "ax1.set_xlabel('frequency (cycles per unit time)')\n",
    "_=ax1.set_ylabel('power')"
   ]
  },
  {
   "cell_type": "code",
   "execution_count": null,
   "metadata": {
    "slideshow": {
     "slide_type": "slide"
    }
   },
   "outputs": [],
   "source": [
    "#make some red noise\n",
    "t = np.arange(0.0, 500, 1)\n",
    "meas=np.random.randint(-1,2,500)\n",
    "meas=np.cumsum(meas)\n",
    "#periodic signal\n",
    "amp=2 #amp=2\n",
    "ang_freq=0.02\n",
    "meas=meas + amp*np.sin(ang_freq * 2*np.pi*t)\n",
    "#fft\n",
    "mf=fft(meas - np.mean(meas))\n",
    "tf,power,results=fft_axes(mf,N,N,1)\n",
    "#plot\n",
    "fig1=plt.figure(1,figsize=(27,6))\n",
    "ax1=fig1.add_subplot(121)\n",
    "ax1.set_xlabel('time')\n",
    "ax1.plot(meas,'-',lw=1,color='#6495ED')\n",
    "ax1=fig1.add_subplot(122)\n",
    "# ax1.plot(tf,power,'-',lw=1,color='#6495ED')\n",
    "ax1.plot(np.log10(tf[1:]),np.log10(power[1:]),'-',lw=1,color='#6495ED')\n",
    "# ax1.annotate('our signal',(np.log10(ang_freq),np.log10(power[tf==ang_freq][0])),xytext=(50, 0), textcoords='offset points',fontsize=16,arrowprops=dict(arrowstyle=\"->\"))\n",
    "ax1.set_xlabel('frequency (cycles per unit time)')\n",
    "_=ax1.set_ylabel('power')"
   ]
  },
  {
   "cell_type": "code",
   "execution_count": null,
   "metadata": {},
   "outputs": [],
   "source": [
    "#make some white noise\n",
    "N=100\n",
    "t = np.linspace(0.0, N, 100000)\n",
    "meas=2*np.sin((2*np.pi*t)/50)+np.cos(2*np.pi*t/10)\n",
    "\n",
    "#plot\n",
    "fig1=plt.figure(1,figsize=(27,6))\n",
    "plt.plot(t,meas+t/5)"
   ]
  },
  {
   "cell_type": "code",
   "execution_count": null,
   "metadata": {},
   "outputs": [],
   "source": []
  }
 ],
 "metadata": {
  "celltoolbar": "Slideshow",
  "kernelspec": {
   "display_name": "Python 3",
   "language": "python",
   "name": "python3"
  },
  "language_info": {
   "codemirror_mode": {
    "name": "ipython",
    "version": 3
   },
   "file_extension": ".py",
   "mimetype": "text/x-python",
   "name": "python",
   "nbconvert_exporter": "python",
   "pygments_lexer": "ipython3",
   "version": "3.9.1"
  },
  "rise": {
   "chalkboard": {
    "chalkEffect": 1,
    "chalkWidth": 7,
    "color": [
     "rgb(200,47,62)",
     "rgb(200,47,62)"
    ],
    "readOnly": false,
    "src": "HinGold_disc.json",
    "theme": "whiteboard"
   },
   "enable_chalkboard": true,
   "transition": "fade"
  },
  "toc": {
   "base_numbering": 1,
   "nav_menu": {
    "height": "229px",
    "width": "213px"
   },
   "number_sections": false,
   "sideBar": true,
   "skip_h1_title": false,
   "title_cell": "Table of Contents",
   "title_sidebar": "Contents",
   "toc_cell": false,
   "toc_position": {
    "height": "calc(100% - 180px)",
    "left": "10px",
    "top": "150px",
    "width": "426.667px"
   },
   "toc_section_display": true,
   "toc_window_display": false
  }
 },
 "nbformat": 4,
 "nbformat_minor": 2
}
